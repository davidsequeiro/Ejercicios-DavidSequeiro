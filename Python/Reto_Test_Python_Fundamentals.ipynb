{
 "cells": [
  {
   "cell_type": "markdown",
   "metadata": {},
   "source": [
    "# Ejercicio 1. Función contar_caracteres :\n",
    "\n",
    "### Descripción del ejercicio:\n",
    "\n",
    "Crea una función que cuente el número de caracteres en una cadena de texto dada.\n"
   ]
  },
  {
   "cell_type": "markdown",
   "metadata": {},
   "source": [
    "**Caso de uso:**\n",
    "\n",
    "cadena1 = \"¡Hola alumnos! Bienvenidos a clase\"\n",
    "\n",
    "cadena2 = 3 #(tiene que ser un integer)\n"
   ]
  },
  {
   "cell_type": "markdown",
   "metadata": {},
   "source": [
    "- **RESOLUCION**\n"
   ]
  },
  {
   "cell_type": "code",
   "execution_count": 12,
   "metadata": {},
   "outputs": [
    {
     "name": "stdout",
     "output_type": "stream",
     "text": [
      "{'¡': 1, 'H': 1, 'o': 3, 'l': 3, 'a': 4, ' ': 4, 'u': 1, 'm': 1, 'n': 3, 's': 3, '!': 1, 'B': 1, 'i': 2, 'e': 3, 'v': 1, 'd': 1, 'c': 1}\n",
      "34\n"
     ]
    },
    {
     "ename": "TypeError",
     "evalue": "'int' object is not iterable",
     "output_type": "error",
     "traceback": [
      "\u001b[1;31m---------------------------------------------------------------------------\u001b[0m",
      "\u001b[1;31mTypeError\u001b[0m                                 Traceback (most recent call last)",
      "Cell \u001b[1;32mIn[12], line 24\u001b[0m\n\u001b[0;32m     22\u001b[0m \u001b[38;5;66;03m#output 34\u001b[39;00m\n\u001b[0;32m     23\u001b[0m cadena2 \u001b[38;5;241m=\u001b[39m \u001b[38;5;241m3\u001b[39m \u001b[38;5;66;03m#(tiene que ser un integer)\u001b[39;00m\n\u001b[1;32m---> 24\u001b[0m \u001b[38;5;28mprint\u001b[39m(\u001b[43mcontar_caracteres\u001b[49m\u001b[43m(\u001b[49m\u001b[43mcadena2\u001b[49m\u001b[43m)\u001b[49m)\n\u001b[0;32m     25\u001b[0m \u001b[38;5;66;03m#output error => TypeError: 'int' object is not iterable\u001b[39;00m\n",
      "Cell \u001b[1;32mIn[12], line 8\u001b[0m, in \u001b[0;36mcontar_caracteres\u001b[1;34m(cadena_texto)\u001b[0m\n\u001b[0;32m      6\u001b[0m caracteres \u001b[38;5;241m=\u001b[39m {}\n\u001b[0;32m      7\u001b[0m \u001b[38;5;66;03m#establezco condicion:\u001b[39;00m\n\u001b[1;32m----> 8\u001b[0m \u001b[43m\u001b[49m\u001b[38;5;28;43;01mfor\u001b[39;49;00m\u001b[43m \u001b[49m\u001b[43mletra\u001b[49m\u001b[43m \u001b[49m\u001b[38;5;129;43;01min\u001b[39;49;00m\u001b[43m \u001b[49m\u001b[43mcadena_texto\u001b[49m\u001b[43m:\u001b[49m\n\u001b[0;32m      9\u001b[0m \u001b[43m  \u001b[49m\u001b[38;5;66;43;03m#para cada letra de la frase, si no es un espacio,\u001b[39;49;00m\n\u001b[0;32m     10\u001b[0m \u001b[43m  \u001b[49m\u001b[38;5;66;43;03m#if letra != \" \":\u001b[39;49;00m\n\u001b[0;32m     11\u001b[0m \u001b[43m    \u001b[49m\u001b[38;5;66;43;03m#añade al dicionario la letra y suma 1 al valor\u001b[39;49;00m\n\u001b[0;32m     12\u001b[0m \u001b[43m    \u001b[49m\u001b[43mcaracteres\u001b[49m\u001b[43m[\u001b[49m\u001b[43mletra\u001b[49m\u001b[43m]\u001b[49m\u001b[43m \u001b[49m\u001b[38;5;241;43m=\u001b[39;49m\u001b[43m \u001b[49m\u001b[43mcaracteres\u001b[49m\u001b[38;5;241;43m.\u001b[39;49m\u001b[43mget\u001b[49m\u001b[43m(\u001b[49m\u001b[43mletra\u001b[49m\u001b[43m,\u001b[49m\u001b[38;5;241;43m0\u001b[39;49m\u001b[43m)\u001b[49m\u001b[43m \u001b[49m\u001b[38;5;241;43m+\u001b[39;49m\u001b[43m \u001b[49m\u001b[38;5;241;43m1\u001b[39;49m\n\u001b[0;32m     13\u001b[0m \u001b[38;5;28mprint\u001b[39m(caracteres)\n",
      "\u001b[1;31mTypeError\u001b[0m: 'int' object is not iterable"
     ]
    }
   ],
   "source": [
    "#solicito al usuario que introduzca una frase\n",
    "cadena_texto = input(f'Introduzca una frase:\\n')\n",
    "#definimos la funcion\n",
    "def contar_caracteres(cadena_texto):\n",
    "  #creamos un diccionario vacio para almacenar los pares {letra: numero de veces repetida}\n",
    "  caracteres = {}\n",
    "  #establezco condicion:\n",
    "  for letra in cadena_texto:\n",
    "    #para cada letra de la frase, si no es un espacio,\n",
    "    #if letra != \" \":\n",
    "      #añade al dicionario la letra y suma 1 al valor\n",
    "      caracteres[letra] = caracteres.get(letra,0) + 1\n",
    "  print(caracteres)\n",
    "  return sum(caracteres.values())  \n",
    "  \n",
    "#llamo a la funcion    \n",
    "print(contar_caracteres(cadena_texto))\n",
    "\n",
    "#pregunta de test\n",
    "cadena1 = \"¡Hola alumnos! Bienvenidos a clase\"\n",
    "print(contar_caracteres(cadena1))\n",
    "#output 34\n",
    "cadena2 = 3 #(tiene que ser un integer)\n",
    "print(contar_caracteres(cadena2))\n",
    "#output error => TypeError: 'int' object is not iterable"
   ]
  },
  {
   "cell_type": "markdown",
   "metadata": {},
   "source": [
    "---\n"
   ]
  },
  {
   "cell_type": "markdown",
   "metadata": {},
   "source": [
    "- **SOLUCION CORREGIDA**\n"
   ]
  },
  {
   "cell_type": "code",
   "execution_count": null,
   "metadata": {},
   "outputs": [
    {
     "name": "stdout",
     "output_type": "stream",
     "text": [
      "34\n",
      "34\n"
     ]
    },
    {
     "ename": "TypeError",
     "evalue": "'int' object is not iterable",
     "output_type": "error",
     "traceback": [
      "\u001b[1;31m---------------------------------------------------------------------------\u001b[0m",
      "\u001b[1;31mTypeError\u001b[0m                                 Traceback (most recent call last)",
      "Cell \u001b[1;32mIn[1], line 52\u001b[0m\n\u001b[0;32m     49\u001b[0m cadena2 \u001b[38;5;241m=\u001b[39m \u001b[38;5;241m3\u001b[39m\n\u001b[0;32m     51\u001b[0m \u001b[38;5;66;03m# Llamada a la función contar_caracteres_1 con la cadena1 como argumento\u001b[39;00m\n\u001b[1;32m---> 52\u001b[0m \u001b[38;5;28mprint\u001b[39m(\u001b[43mcontar_caracteres_1\u001b[49m\u001b[43m(\u001b[49m\u001b[43mcadena2\u001b[49m\u001b[43m)\u001b[49m)  \u001b[38;5;66;03m# Output esperado: TypeError\u001b[39;00m\n\u001b[0;32m     54\u001b[0m \u001b[38;5;66;03m# Llamada a la función contar_caracteres_2 con la cadena1 como argumento\u001b[39;00m\n\u001b[0;32m     55\u001b[0m \u001b[38;5;28mprint\u001b[39m(contar_caracteres_2(cadena2))  \u001b[38;5;66;03m# Output esperado: TypeError\u001b[39;00m\n",
      "Cell \u001b[1;32mIn[1], line 18\u001b[0m, in \u001b[0;36mcontar_caracteres_1\u001b[1;34m(cadena)\u001b[0m\n\u001b[0;32m     16\u001b[0m contador \u001b[38;5;241m=\u001b[39m \u001b[38;5;241m0\u001b[39m\n\u001b[0;32m     17\u001b[0m \u001b[38;5;66;03m# Itera sobre cada caracter en la cadena\u001b[39;00m\n\u001b[1;32m---> 18\u001b[0m \u001b[43m\u001b[49m\u001b[38;5;28;43;01mfor\u001b[39;49;00m\u001b[43m \u001b[49m\u001b[43mcaracter\u001b[49m\u001b[43m \u001b[49m\u001b[38;5;129;43;01min\u001b[39;49;00m\u001b[43m \u001b[49m\u001b[43mcadena\u001b[49m\u001b[43m:\u001b[49m\n\u001b[0;32m     19\u001b[0m \u001b[43m    \u001b[49m\u001b[38;5;66;43;03m# Por cada iteración, incrementa el contador en 1\u001b[39;49;00m\n\u001b[0;32m     20\u001b[0m \u001b[43m    \u001b[49m\u001b[43mcontador\u001b[49m\u001b[43m \u001b[49m\u001b[38;5;241;43m+\u001b[39;49m\u001b[38;5;241;43m=\u001b[39;49m\u001b[43m \u001b[49m\u001b[38;5;241;43m1\u001b[39;49m\n\u001b[0;32m     21\u001b[0m \u001b[38;5;66;03m# Retorna el total de caracteres contados\u001b[39;00m\n",
      "\u001b[1;31mTypeError\u001b[0m: 'int' object is not iterable"
     ]
    }
   ],
   "source": [
    "# EJECICIO 1:\n",
    "\n",
    "# Tenemos dos opciones:\n",
    "# Opción 1:\n",
    "def contar_caracteres_1(cadena):\n",
    "    \"\"\"\n",
    "    Función para contar el número de caracteres en una cadena dada.\n",
    "\n",
    "    Parámetros:\n",
    "    - cadena (str): La cadena de texto cuyos caracteres se contarán.\n",
    "\n",
    "    Retorna:\n",
    "    - int: El número total de caracteres en la cadena.\n",
    "    \"\"\"\n",
    "    # Inicializa un contador en 0 para contar los caracteres\n",
    "    contador = 0\n",
    "    # Itera sobre cada caracter en la cadena\n",
    "    for caracter in cadena:\n",
    "        # Por cada iteración, incrementa el contador en 1\n",
    "        contador += 1\n",
    "    # Retorna el total de caracteres contados\n",
    "    return contador\n",
    "# Opción 2:\n",
    "def contar_caracteres_2(cadena):\n",
    "    \"\"\"\n",
    "    Función para contar el número de caracteres en una cadena dada.\n",
    "\n",
    "    Parámetros:\n",
    "    - cadena (str): La cadena de texto cuyos caracteres se contarán.\n",
    "\n",
    "    Retorna:\n",
    "    - int: El número total de caracteres en la cadena.\n",
    "    \"\"\"\n",
    "\n",
    "    # Usar la función len para obtener la longitud de la cadena\n",
    "    return len(cadena)\n",
    "\n",
    "# Ejemplo de uso\n",
    "# Definición de la cadena:\n",
    "cadena1 = \"¡Hola alumnos! Bienvenidos a clase\"\n",
    "\n",
    "# Llamada a la función contar_caracteres_1 con la cadena1 como argumento\n",
    "print(contar_caracteres_1(cadena1))  # Output esperado: 34\n",
    "\n",
    "# Llamada a la función contar_caracteres_2 con la cadena1 como argumento\n",
    "print(contar_caracteres_2(cadena1))  # Output esperado: 34\n",
    "\n",
    "# Definición de la cadena:\n",
    "cadena2 = 3\n",
    "\n",
    "# Llamada a la función contar_caracteres_1 con la cadena1 como argumento\n",
    "print(contar_caracteres_1(cadena2))  # Output esperado: TypeError\n",
    "\n",
    "# Llamada a la función contar_caracteres_2 con la cadena1 como argumento\n",
    "print(contar_caracteres_2(cadena2))  # Output esperado: TypeError\n"
   ]
  },
  {
   "cell_type": "markdown",
   "metadata": {},
   "source": [
    "---\n",
    "\n",
    "---\n"
   ]
  },
  {
   "cell_type": "markdown",
   "metadata": {},
   "source": [
    "# EJERCICIO 2. Función calcular_promedio :\n",
    "\n",
    "### Descripción del ejercicio:\n",
    "\n",
    "Crea una función que calcule el promedio de una lista de números.\n"
   ]
  },
  {
   "cell_type": "markdown",
   "metadata": {},
   "source": [
    "**Caso de uso**\n",
    "\n",
    "numeros1 = [1, 2, 3, 4, 5]\n",
    "\n",
    "numeros2 = []\n"
   ]
  },
  {
   "cell_type": "markdown",
   "metadata": {},
   "source": [
    "- **RESOLUCION**\n"
   ]
  },
  {
   "cell_type": "code",
   "execution_count": null,
   "metadata": {},
   "outputs": [
    {
     "name": "stdout",
     "output_type": "stream",
     "text": [
      "3.0\n",
      "el promedio de [1, 2, 3, 4, 5] es: 3.00\n",
      "No se puede dividir entre 0\n",
      "None\n"
     ]
    },
    {
     "data": {
      "text/plain": [
       "\"--> 27 print(f'el promedio de {numeros2} es: {calcular_promedio(numeros2):.2f}')\\n\\nTypeError: unsupported format string passed to NoneType.__format__\""
      ]
     },
     "execution_count": 22,
     "metadata": {},
     "output_type": "execute_result"
    }
   ],
   "source": [
    "# #solicito al usuario que introudzca unos numeros separados por comas\n",
    "# entrada = input('introduzca numeros separados por comas:\\n')\n",
    "#transformo las entradas del usuario a formato integer y lo almaceno en una lista \n",
    "# lista_numeros = [int(num) for num in entrada.split(\",\")]\n",
    "#defino la funcion\n",
    "def calcular_promedio(lista_numeros):\n",
    "  #calculo el numero de elmentos de la lista y la suma de todos los elementos\n",
    "  numeros = len(lista_numeros)\n",
    "  total = sum(lista_numeros)\n",
    "  #calculo el promedio\n",
    "  if total > 0:\n",
    "  #calculo el promedio\n",
    "    promedio = float(total/numeros)\n",
    "    return promedio\n",
    "  else:\n",
    "    print('No se puede dividir entre 0')\n",
    "\n",
    "numeros1 = [1, 2, 3, 4, 5]\n",
    "\n",
    "numeros2 = []\n",
    "#llamo a la funcion\n",
    "#calcular_promedio(numeros1)\n",
    "print(calcular_promedio(numeros1))\n",
    "print(f'el promedio de {numeros1} es: {calcular_promedio(numeros1):.2f}')\n",
    "\n",
    "print(calcular_promedio(numeros2))\n",
    "#print(f'el promedio de {numeros2} es: {calcular_promedio(numeros2):.2f}') #lanza error\n",
    "'''--> 27 print(f'el promedio de {numeros2} es: {calcular_promedio(numeros2):.2f}')\n",
    "\n",
    "TypeError: unsupported format string passed to NoneType.__format__'''"
   ]
  },
  {
   "cell_type": "markdown",
   "metadata": {},
   "source": [
    "---\n"
   ]
  },
  {
   "cell_type": "markdown",
   "metadata": {},
   "source": [
    "- **SOLUCION CORREGIDA**\n"
   ]
  },
  {
   "cell_type": "code",
   "execution_count": null,
   "metadata": {},
   "outputs": [
    {
     "name": "stdout",
     "output_type": "stream",
     "text": [
      "3.0\n",
      "ZeroDivisionError: No se puede dividir entre 0\n"
     ]
    }
   ],
   "source": [
    "# EJERCICIO 2:\n",
    "\n",
    "def calcular_promedio(lista):\n",
    "    \"\"\"\n",
    "    Función para calcular el promedio de una lista de números.\n",
    "\n",
    "    Parámetros:\n",
    "    - lista (list): Una lista de números de la cual se calculará el promedio.\n",
    "\n",
    "    Retorna:\n",
    "    - float: El promedio de los elementos en la lista. Si la lista está vacía, devuelve 0.\n",
    "    \"\"\"\n",
    "    # Intentamos calcular el promedio:\n",
    "    try:\n",
    "        # Calcula la suma de todos los elementos en la lista\n",
    "        suma_total = sum(lista)\n",
    "        # Calcula el promedio dividiendo la suma total entre la cantidad de elementos en la lista\n",
    "        promedio = suma_total / len(lista)\n",
    "        # Retorna el promedio calculado\n",
    "        return promedio\n",
    "\n",
    "    # Manejamos el posible error de dividir entre 0\n",
    "    except: ZeroDivisionError\n",
    "    return f'ZeroDivisionError: No se puede dividir entre 0'\n",
    "\n",
    "# Ejemplo de uso\n",
    "# Definición de la lista de números:\n",
    "numeros1 = [1, 2, 3, 4, 5]\n",
    "\n",
    "# Llamada a la función calcular_promedio con la lista de números como argumento\n",
    "print(calcular_promedio(numeros1))  # Output esperado: 3.0\n",
    "\n",
    "# Definición de otra lista de números:\n",
    "numeros2 = []\n",
    "\n",
    "# Llamada a la función calcular_promedio con la lista de números como argumento\n",
    "print(calcular_promedio(numeros2))  # Output esperado: No se puede dividir entre 0"
   ]
  },
  {
   "cell_type": "markdown",
   "metadata": {},
   "source": [
    "---\n",
    "\n",
    "---\n"
   ]
  },
  {
   "cell_type": "markdown",
   "metadata": {},
   "source": [
    "# EJERCICIO 3. Función encontrar_duplicado :\n",
    "\n",
    "### Descripción del ejercicio:\n",
    "\n",
    "Crea una función que busque y devuelva el primer elemento duplicado en una lista dada.\n"
   ]
  },
  {
   "cell_type": "markdown",
   "metadata": {},
   "source": [
    "**Caso de uso**\n",
    "\n",
    "numeros1 = [1, 2, 3, 4, 5, 6, 7, 8, 9, 3]\n",
    "\n",
    "numeros2 = [1, 2, 3, 4, 5, 6, 7, 8, 9]\n",
    "\n",
    "\\*_Ejemplo de uso con dos numeros repetidos:_\n",
    "\n",
    "1,2,3,4,5,6,7,8,9,5,4,6\n",
    "\n",
    "**outpt opcion 1 =** El elemento que se repite primero es 5 y se repite 2 veces.\n",
    "\n",
    "**outpt opcion 2 =** El primer elemento repetido es 4 y se repite 2 veces.\n",
    "\n",
    "(El 5 es el valor que se repite antes, sin embargo en el dicc el primer valor en repetirse seria el 4.)\n"
   ]
  },
  {
   "cell_type": "markdown",
   "metadata": {},
   "source": [
    "- **RESOLUCION**\n"
   ]
  },
  {
   "cell_type": "markdown",
   "metadata": {},
   "source": [
    "_DOS SOLUCIONES DISTINTAS (DESCOMENTAR AMBAS EJECUCION SIMULTANEA)_\n"
   ]
  },
  {
   "cell_type": "code",
   "execution_count": 9,
   "metadata": {},
   "outputs": [
    {
     "name": "stdout",
     "output_type": "stream",
     "text": [
      "El elemento que se repite primero es 3 y se repite 2 veces.\n",
      "El elemento que se repite primero es 5 y se repite 2 veces.\n",
      "El elemento que se repite primero es 4 y se repite 2 veces.\n",
      "El elemento que se repite primero es 6 y se repite 2 veces.\n"
     ]
    }
   ],
   "source": [
    "# OPCION 1\n",
    "#buscar el valor que se repite primero segun el orden de los datos introducidos\n",
    "\n",
    "# defino la funcion\n",
    "def encontrar_primer_duplicado(lista):\n",
    "\n",
    "  '''\n",
    "  #(OMITIDO) paso input\n",
    "  #solicito al usuario que introudzca unos numeros separados por comas\n",
    "  entrada = input('introduzca numeros separados por comas:\\n')\n",
    "  for e in entrada:\n",
    "    lista = entrada.split(',')\n",
    "  '''\n",
    "  \n",
    "  #creo un dicc vacio\n",
    "  repetir = {}\n",
    "  #añadir los elementos de la entrada al dicc y sumo +1 cuando se repite\n",
    "  for e in lista:\n",
    "      if e != ',':    \n",
    "        repetir[e] = repetir.get(e,0) + 1\n",
    "        #condicion para encontrar el primer elemento que se repite segun la entrada del usuario\n",
    "        if repetir[e] > 1:\n",
    "          #print(repetir)\n",
    "          print(f'El elemento que se repite primero es {e} y se repite {repetir[e]} veces.')\n",
    "  return #pass para obtener todos los elementos duplicados\n",
    "        \n",
    "#llamo a la funcion\n",
    "# #solicito al usuario que introudzca unos numeros separados por comas\n",
    "# entrada = [] #opcion2= input('introduzca numeros separados por comas:\\n')\n",
    "# encontrar_primer_duplicado(entrada)\n",
    "\n",
    "#pregunta de test\n",
    "lista1 = [1, 2, 3, 4, 5, 6, 7, 8, 9, 3]\n",
    "encontrar_primer_duplicado(lista1)\n",
    "\n",
    "lista2 = [1, 2, 3, 4, 5, 6, 7, 8, 9]     \n",
    "encontrar_primer_duplicado(lista2)\n",
    "\n",
    "#Ejemplo de uso con dos numeros repetidos:\n",
    "lista3 = [1,2,3,4,5,6,7,8,9,5,4,6]\n",
    "encontrar_primer_duplicado(lista3)\n",
    "\n"
   ]
  },
  {
   "cell_type": "code",
   "execution_count": 10,
   "metadata": {},
   "outputs": [
    {
     "name": "stdout",
     "output_type": "stream",
     "text": [
      "El primer elemento repetido es 3 y se repite 2 veces.\n",
      "El elemento que se repite primero es 5 y se repite 2 veces.\n",
      "El elemento que se repite primero es 4 y se repite 2 veces.\n",
      "El elemento que se repite primero es 6 y se repite 2 veces.\n"
     ]
    }
   ],
   "source": [
    "# OPCION 2\n",
    "#buscar el valor repetido con el indice mas bajo\n",
    "\n",
    "# defino la funcion\n",
    "def encontrar_primer_elemento_duplicado(lista): \n",
    "  '''\n",
    "  #(OMITIDO) paso input\n",
    "  #solicito al usuario que introudzca unos numeros separados por comas\n",
    "  entrada = input('introduzca numeros separados por comas:\\n')\n",
    "  for e in entrada:\n",
    "    lista = entrada.split(',')\n",
    "  '''\n",
    "  \n",
    "  #creo un dicc vacio\n",
    "  repetir = {}\n",
    "  #añadir los elementos de la entrada al dicc y sumo +1 cuando se repite        \n",
    "  for e in lista:\n",
    "      if e != ',':    \n",
    "        repetir[e] = repetir.get(e,0) + 1 \n",
    "        #print(repetir)         \n",
    "  #condicion para encontrar el primer duplicado en el dicc\n",
    "  for r in repetir:  \n",
    "    if repetir[r] > 1:\n",
    "      #print(repetir[e]) #devuelve value\n",
    "      #print(e)          #devuelve key \n",
    "      #print(e,repetir[e])  #devuelve key , value\n",
    "      print(f'El primer elemento repetido es {r} y se repite {repetir[r]} veces.')\n",
    "  return \n",
    "\n",
    "#llamo a la funcion\n",
    "# #solicito al usuario que introudzca unos numeros separados por comas\n",
    "# entrada = [] #opcion2= input('introduzca numeros separados por comas:\\n')\n",
    "# encontrar_primer_elemento_duplicado(entrada)\n",
    "\n",
    "#pregunta de test\n",
    "entrada1 = [1, 2, 3, 4, 5, 6, 7, 8, 9, 3]\n",
    "encontrar_primer_elemento_duplicado(entrada1)\n",
    "\n",
    "entrada2 = [1, 2, 3, 4, 5, 6, 7, 8, 9]     \n",
    "encontrar_primer_elemento_duplicado(entrada2)\n",
    "\n",
    "#Ejemplo de uso con dos numeros repetidos:\n",
    "lista3 = [1,2,3,4,5,6,7,8,9,5,4,6]\n",
    "encontrar_primer_duplicado(lista3)"
   ]
  },
  {
   "cell_type": "markdown",
   "metadata": {},
   "source": [
    "---\n"
   ]
  },
  {
   "cell_type": "markdown",
   "metadata": {},
   "source": [
    "- **SOLUCION CORREGIDA**\n"
   ]
  },
  {
   "cell_type": "code",
   "execution_count": 10,
   "metadata": {},
   "outputs": [
    {
     "name": "stdout",
     "output_type": "stream",
     "text": [
      "3\n",
      "None\n"
     ]
    }
   ],
   "source": [
    "# EJERCICIO 3:\n",
    "def encontrar_duplicado(lista):\n",
    "    \"\"\"\n",
    "    Función para encontrar el primer elemento duplicado en una lista dada.\n",
    "\n",
    "    Parámetros:\n",
    "    - lista (list): Una lista de elementos donde se buscará un duplicado.\n",
    "\n",
    "    Retorna:\n",
    "    - El primer elemento duplicado encontrado en la lista, o None si no se encuentra ninguno.\n",
    "    \"\"\"\n",
    "    # Crea un conjunto vacío para almacenar los elementos únicos\n",
    "    elementos_unicos = set()\n",
    "\n",
    "    # Itera sobre cada elemento en la lista\n",
    "    for elemento in lista:\n",
    "        # Verifica si el elemento ya está en el conjunto de elementos únicos\n",
    "        if elemento in elementos_unicos:\n",
    "            # Si el elemento ya está en el conjunto, significa que es un duplicado\n",
    "            return elemento\n",
    "        else:\n",
    "            # Si el elemento no está en el conjunto, agrégalo\n",
    "            elementos_unicos.add(elemento)\n",
    "\n",
    "    # Si no se encuentra ningún duplicado, retorna None\n",
    "    return None\n",
    "\n",
    "# Ejemplo de uso\n",
    "# Definición de la lista de números:\n",
    "numeros1 = [1, 2, 3, 4, 5, 6, 7, 8, 9, 3]\n",
    "\n",
    "# Llamada a la función encontrar_duplicado con la lista de números como argumento\n",
    "print(encontrar_duplicado(numeros1))  # Output esperado: 3\n",
    "\n",
    "# Definición de otra lista de números:\n",
    "numeros2 = [1, 2, 3, 4, 5, 6, 7, 8, 9]\n",
    "\n",
    "# Llamada a la función encontrar_duplicado con la lista de números como argumento\n",
    "print(encontrar_duplicado(numeros2))  # Output esperado: None\n"
   ]
  },
  {
   "cell_type": "markdown",
   "metadata": {},
   "source": [
    "---\n",
    "---\n"
   ]
  },
  {
   "cell_type": "markdown",
   "metadata": {},
   "source": [
    "# EJERCICIO 4. Función enmascarado_datos :\n",
    "\n",
    "### Descripción del ejercicio:\n",
    "\n",
    "Crea una función que convierta una variable en una cadena de texto y\n",
    "enmascare todos los caracteres con el carácter '#', excepto los últimos cuatro.\n"
   ]
  },
  {
   "cell_type": "markdown",
   "metadata": {},
   "source": [
    "**Caso de uso**\n",
    "\n",
    "contraseña1 = \"Micontraseña1234\"\n",
    "\n",
    "_Output esperado: 1234_\n",
    "\n",
    "contraseña2 = 123456789\n",
    "\n",
    "_Output esperado: 6789_\n"
   ]
  },
  {
   "cell_type": "markdown",
   "metadata": {},
   "source": [
    "- **RESOLUCION**\n"
   ]
  },
  {
   "cell_type": "code",
   "execution_count": 66,
   "metadata": {},
   "outputs": [
    {
     "name": "stdout",
     "output_type": "stream",
     "text": [
      "la cadena introducida es:\n",
      "Micontraseña1234\n",
      "la cadena enmascarada es:\n",
      "############1234\n",
      "la cadena introducida es:\n",
      "123456789\n",
      "la cadena enmascarada es:\n",
      "#####6789\n"
     ]
    }
   ],
   "source": [
    "# defino la funcion\n",
    "def enmascarado_datos(cadena):\n",
    "  #establezco el rango de caracteres visibles como variable \"n\" para facil modifcacion\n",
    "  n = 4\n",
    "  #convierto en string la cadena introducida\n",
    "  cadena = str(cadena)\n",
    "  # establezco el rango de caracteres a ocultar\n",
    "  longitud_rango = len(cadena) - n\n",
    "  # establezco el rango de caracteres visibles contando desde el final [-n:]\n",
    "  rango_visibles = cadena[-n:]\n",
    "  #establezco la formula de ocultacion\n",
    "  ocultar = '#' * longitud_rango\n",
    "  #establezco la nueva cadena con caracteres ocultos y visibles\n",
    "  cadena_oculta = ocultar + rango_visibles\n",
    "  #retorno\n",
    "  print(f'la cadena introducida es:\\n{cadena}')\n",
    "  print(f'la cadena enmascarada es:\\n{cadena_oculta}')\n",
    "  return\n",
    "\n",
    "# #solicito al usuario que introduzca unos caracteres que almaceno en una variable \"cadena\"\n",
    "# cadena = (input('Introduca una serie de caracteres:\\n'))\n",
    "# #llamo a la funcion\n",
    "# enmascarado_datos(cadena)\n",
    "\n",
    "#pregunta de test\n",
    "cadena1 = \"Micontraseña1234\"\n",
    "enmascarado_datos(cadena1)\n",
    "\n",
    "cadena2 = 123456789\n",
    "enmascarado_datos(cadena2)"
   ]
  },
  {
   "cell_type": "markdown",
   "metadata": {},
   "source": [
    "---\n"
   ]
  },
  {
   "cell_type": "markdown",
   "metadata": {},
   "source": [
    "- **SOLUCION CORREGIDA**\n"
   ]
  },
  {
   "cell_type": "code",
   "execution_count": 9,
   "metadata": {},
   "outputs": [
    {
     "name": "stdout",
     "output_type": "stream",
     "text": [
      "############1234\n",
      "#####6789\n"
     ]
    }
   ],
   "source": [
    "# EJERCICIO 4:\n",
    "\n",
    "def enmascarado_datos(cadena):\n",
    "    \"\"\"\n",
    "    Convierte una variable en string. Luego convierte todos los caracteres en '#' menos los 4 últimos.\n",
    "\n",
    "    Parámetros:\n",
    "    - cadena: La variable que se convertirá en una cadena de texto y cuyos caracteres se enmascararán.\n",
    "\n",
    "    Retorna:\n",
    "    - str: La cadena enmascarada, donde todos los caracteres, excepto los últimos cuatro, están enmascarados con el carácter '#'.\n",
    "    \"\"\"\n",
    "    # Convierte la variable cadena en un string para asegurar que se pueda indexar\n",
    "    cadena = str(cadena)\n",
    "\n",
    "    # Crea una nueva cadena con '#' repetido la cantidad de veces que sea necesario,\n",
    "    # excepto para los últimos cuatro caracteres, que se mantienen sin cambios\n",
    "    return \"#\" * (len(cadena) - 4) + cadena[-4:]\n",
    "\n",
    "# Ejemplo de uso\n",
    "# Definición de la primera contraseña:\n",
    "contraseña1 = \"Micontraseña1234\"\n",
    "\n",
    "# Llamada a la función enmascarado_datos con la contraseña  como argumento\n",
    "print(enmascarado_datos(contraseña1))  # Output esperado: 1234\n",
    "\n",
    "# Definición de la segunda contraseña:\n",
    "contraseña2 = 123456789\n",
    "\n",
    "# Llamada a la función enmascarado_datos con la contraseña  como argumento\n",
    "print(enmascarado_datos(contraseña2))  # Output esperado: 6789"
   ]
  },
  {
   "cell_type": "markdown",
   "metadata": {},
   "source": [
    "---\n",
    "---\n"
   ]
  },
  {
   "cell_type": "markdown",
   "metadata": {},
   "source": [
    "# Ejercicio 5. Función es_anagrama :\n",
    "\n",
    "### Descripción del ejercicio:\n",
    "\n",
    "Crea una función que determine si dos palabras son anagramas, es decir,\n",
    "si están formadas por las mismas letras pero en diferente orden.\n"
   ]
  },
  {
   "cell_type": "markdown",
   "metadata": {},
   "source": [
    "**Ejemplo de uso**\n",
    "\n",
    "palabra1 = \"Roma\"\n",
    "\n",
    "palabra2 = \"lana\"\n",
    "\n",
    "palabra3 = \" hola\"\n",
    "\n",
    "palabra4 = \"amor \"\n"
   ]
  },
  {
   "cell_type": "markdown",
   "metadata": {},
   "source": [
    "- **RESOLUCION**\n"
   ]
  },
  {
   "cell_type": "code",
   "execution_count": 1,
   "metadata": {},
   "outputs": [
    {
     "ename": "UnboundLocalError",
     "evalue": "cannot access local variable 'anagrama' where it is not associated with a value",
     "output_type": "error",
     "traceback": [
      "\u001b[1;31m---------------------------------------------------------------------------\u001b[0m",
      "\u001b[1;31mUnboundLocalError\u001b[0m                         Traceback (most recent call last)",
      "Cell \u001b[1;32mIn[1], line 22\u001b[0m\n\u001b[0;32m     20\u001b[0m     \u001b[38;5;28;01mreturn\u001b[39;00m anagrama\n\u001b[0;32m     21\u001b[0m \u001b[38;5;66;03m#solucion\u001b[39;00m\n\u001b[1;32m---> 22\u001b[0m \u001b[38;5;28;01mif\u001b[39;00m \u001b[43mes_anagrama\u001b[49m\u001b[43m(\u001b[49m\u001b[43ma\u001b[49m\u001b[43m,\u001b[49m\u001b[43mb\u001b[49m\u001b[43m)\u001b[49m \u001b[38;5;241m==\u001b[39m \u001b[38;5;28;01mTrue\u001b[39;00m:\n\u001b[0;32m     23\u001b[0m   \u001b[38;5;28mprint\u001b[39m(\u001b[38;5;124mf\u001b[39m\u001b[38;5;124m'\u001b[39m\u001b[38;5;124mLas palabras \u001b[39m\u001b[38;5;132;01m{\u001b[39;00ma\u001b[38;5;132;01m}\u001b[39;00m\u001b[38;5;124m y \u001b[39m\u001b[38;5;132;01m{\u001b[39;00mb\u001b[38;5;132;01m}\u001b[39;00m\u001b[38;5;124m son anagrama\u001b[39m\u001b[38;5;124m'\u001b[39m)\n\u001b[0;32m     24\u001b[0m \u001b[38;5;28;01melse\u001b[39;00m:\n",
      "Cell \u001b[1;32mIn[1], line 20\u001b[0m, in \u001b[0;36mes_anagrama\u001b[1;34m(a, b)\u001b[0m\n\u001b[0;32m     18\u001b[0m   \u001b[38;5;28;01mif\u001b[39;00m letra \u001b[38;5;129;01min\u001b[39;00m b:\n\u001b[0;32m     19\u001b[0m     anagrama \u001b[38;5;241m=\u001b[39m \u001b[38;5;28;01mTrue\u001b[39;00m\n\u001b[1;32m---> 20\u001b[0m \u001b[38;5;28;01mreturn\u001b[39;00m \u001b[43managrama\u001b[49m\n",
      "\u001b[1;31mUnboundLocalError\u001b[0m: cannot access local variable 'anagrama' where it is not associated with a value"
     ]
    }
   ],
   "source": [
    "####REVISAR POR ERRORES EN EXAMEN#####\n",
    "\n",
    "#solicito al usuario que introduzca dos palabras\n",
    "a = input('ingresa la primera palabra:\\n')\n",
    "b = input('ingresa la segunda palabra:\\n')\n",
    "\n",
    "# defino la funcion\n",
    "def es_anagrama(a,b):\n",
    "  \n",
    "  #Hay que eliminar espacio en blanco\n",
    "  a = a.replace(' ','')\n",
    "  b = b.replace(' ','')\n",
    "  \n",
    "  #compruebo que la longitud es igual\n",
    "  if len(a) == len(b):\n",
    "    #comparo si las letras de la primera palabra estan en la segunda palabra\n",
    "    for letra in a:\n",
    "      if letra in b:\n",
    "        anagrama = True\n",
    "    return anagrama\n",
    "#solucion\n",
    "if es_anagrama(a,b) == True:\n",
    "  print(f'Las palabras {a} y {b} son anagrama')\n",
    "else:\n",
    "  print(f'Las palabras {a} y {b} no son anagrama')\n",
    "\n",
    "\n",
    "\n",
    "#pregunta de test\n",
    "palabra1 = \"Roma\"\n",
    "palabra2 = \"lana\"\n",
    "palabra3 = \" hola\"\n",
    "palabra4 = \"amor\"\n",
    "\n",
    "print(es_anagrama(palabra2,palabra3))\n",
    "print(es_anagrama(palabra4,palabra2))\n",
    "\n",
    "print(es_anagrama(palabra4,palabra2))\n",
    "print(es_anagrama(palabra1,palabra3))\n",
    "\n",
    "print(es_anagrama(palabra1,palabra2))\n",
    "print(es_anagrama(palabra2,palabra4))\n",
    "\n",
    "print(es_anagrama(palabra1,palabra2))\n",
    "print(es_anagrama(palabra1,palabra4))"
   ]
  },
  {
   "cell_type": "markdown",
   "metadata": {},
   "source": [
    "**SOLUCION A MI CODIGO DE CHATGPT**\n",
    "\n",
    "El código que proporcionaste verifica si dos palabras son anagramas.\n",
    "\n",
    "Sin embargo, hay un problema en la lógica que podría causar resultados incorrectos.\n",
    "\n",
    "Permíteme explicarte:\n",
    "\n",
    "**El problema:**\n",
    "\n",
    "El bucle for letra in a recorre cada letra de la primera palabra (a).\n",
    "\n",
    "Dentro del bucle, se verifica si esa letra está presente en la segunda palabra (b).\n",
    "\n",
    "Si la letra está en b, se establece anagrama como True, pero si no está en b, se establece como False.\n",
    "\n",
    "_El problema es que este enfoque solo considera la última letra verificada y no tiene en cuenta todas las letras._\n",
    "\n",
    "**Solución:**\n",
    "\n",
    "En lugar de usar un bucle para verificar letra por letra, podemos contar la frecuencia de cada letra en ambas palabras y comparar los conteos. Si los conteos son iguales, las palabras son anagramas.\n"
   ]
  },
  {
   "cell_type": "code",
   "execution_count": 73,
   "metadata": {},
   "outputs": [
    {
     "name": "stdout",
     "output_type": "stream",
     "text": [
      "False\n",
      "False\n",
      "False\n",
      "False\n",
      "False\n",
      "False\n",
      "False\n",
      "True\n"
     ]
    }
   ],
   "source": [
    "#opcion corregida\n",
    "def es_anagrama(a, b):\n",
    "    a = a.lower().replace(' ', '')\n",
    "    b = b.lower().replace(' ', '')\n",
    "\n",
    "    if len(a) != len(b):\n",
    "        return False\n",
    "\n",
    "    count_a = {}\n",
    "    count_b = {}\n",
    "\n",
    "    for char in a:\n",
    "        count_a[char] = count_a.get(char, 0) + 1\n",
    "\n",
    "    for char in b:\n",
    "        count_b[char] = count_b.get(char, 0) + 1\n",
    "\n",
    "    return count_a == count_b\n",
    "\n",
    "#pregunta de test\n",
    "palabra1 = \"Roma\"\n",
    "palabra2 = \"lana\"\n",
    "palabra3 = \" hola\"\n",
    "palabra4 = \"amor\"\n",
    "\n",
    "print(es_anagrama(palabra2,palabra3))\n",
    "print(es_anagrama(palabra4,palabra2))\n",
    "\n",
    "print(es_anagrama(palabra4,palabra2))\n",
    "print(es_anagrama(palabra1,palabra3))\n",
    "\n",
    "print(es_anagrama(palabra1,palabra2))\n",
    "print(es_anagrama(palabra2,palabra4))\n",
    "\n",
    "print(es_anagrama(palabra1,palabra2))\n",
    "print(es_anagrama(palabra1,palabra4))\n",
    "\n",
    "\n",
    "# #opcion corregida 2\n",
    "# def es_anagrama(a, b):\n",
    "#     a = a.replace(' ', '')\n",
    "#     b = b.replace(' ', '')\n",
    "\n",
    "#     if len(a) != len(b):\n",
    "#         return False\n",
    "\n",
    "#     count_a = [0] * 256\n",
    "#     count_b = [0] * 256\n",
    "\n",
    "#     for char in a:\n",
    "#         count_a[ord(char)] += 1\n",
    "\n",
    "#     for char in b:\n",
    "#         count_b[ord(char)] += 1\n",
    "\n",
    "#     return count_a == count_b"
   ]
  },
  {
   "cell_type": "code",
   "execution_count": null,
   "metadata": {},
   "outputs": [],
   "source": [
    "####SOLUCION CHATGPT####\n",
    "def es_anagrama(a,b):\n",
    "    a = a.replace(' ','').lower()\n",
    "    b = b.replace(' ','').lower()\n",
    "    return sorted(a) == sorted(b)"
   ]
  },
  {
   "cell_type": "markdown",
   "metadata": {},
   "source": [
    "---\n"
   ]
  },
  {
   "cell_type": "markdown",
   "metadata": {},
   "source": [
    "- **SOLUCION CORREGIDA**\n"
   ]
  },
  {
   "cell_type": "code",
   "execution_count": 71,
   "metadata": {},
   "outputs": [
    {
     "name": "stdout",
     "output_type": "stream",
     "text": [
      "False\n",
      "False\n",
      "True\n",
      "False\n",
      "False\n",
      "False\n"
     ]
    }
   ],
   "source": [
    "# EJERCICIO 5:\n",
    "\n",
    "def es_anagrama(palabra1, palabra2):\n",
    "    \"\"\"\n",
    "    Determina si dos palabras son anagramas, es decir, si están formadas por las mismas letras pero en diferente orden.\n",
    "\n",
    "    Parámetros:\n",
    "    - palabra1 (str): La primera palabra a comparar.\n",
    "    - palabra2 (str): La segunda palabra a comparar.\n",
    "\n",
    "    Retorna:\n",
    "    - bool: True si las palabras son anagramas, False en caso contrario.\n",
    "    \"\"\"\n",
    "    # Elimina los espacios en blanco y convierte las palabras a minúsculas para ignorar mayúsculas y minúsculas\n",
    "    palabra1 = palabra1.replace(\" \", \"\").lower()\n",
    "    palabra2 = palabra2.replace(\" \", \"\").lower()\n",
    "\n",
    "    # Verifica si la longitud de las palabras es la misma\n",
    "    if len(palabra1) != len(palabra2):\n",
    "        return False\n",
    "\n",
    "    # Ordena las letras de ambas palabras\n",
    "    palabra1_sorted = sorted(palabra1)\n",
    "    palabra2_sorted = sorted(palabra2)\n",
    "\n",
    "    # Compara si las palabras ordenadas son iguales\n",
    "    if palabra1_sorted == palabra2_sorted:\n",
    "        return True\n",
    "    else:\n",
    "        return False\n",
    "\n",
    "# Ejemplo de uso\n",
    "palabra1 = \"Roma\"\n",
    "palabra2 = \"lana\"\n",
    "palabra3 = \" hola\"\n",
    "palabra4 = \"amor \"\n",
    "\n",
    "print(es_anagrama(palabra1, palabra2))  # Output esperado: False\n",
    "print(es_anagrama(palabra1, palabra3))  # Output esperado: False\n",
    "print(es_anagrama(palabra1, palabra4))  # Output esperado: True\n",
    "print(es_anagrama(palabra2, palabra3))  # Output esperado: False\n",
    "print(es_anagrama(palabra2, palabra4))  # Output esperado: False\n",
    "print(es_anagrama(palabra3, palabra4))  # Output esperado: False"
   ]
  },
  {
   "cell_type": "markdown",
   "metadata": {},
   "source": [
    "---\n",
    "---\n"
   ]
  },
  {
   "cell_type": "markdown",
   "metadata": {},
   "source": [
    "# Ejercicio 6. Función buscar_nombre :\n",
    "\n",
    "### Descripción del ejercicio:\n",
    "\n",
    "Crea una función que solicite al usuario ingresar una lista de nombres y luego\n",
    "solicite un nombre para buscar en esa lista. Si el nombre está en la lista, se\n",
    "imprime un mensaje indicando que fue encontrado, de lo contrario, se lanza una excepción.\n",
    "Caso de uso:\n",
    "Incorpora los siguientes nombres a la lista y comprueba que la función\n",
    "funciona correctamente: \"Jaime\", \"Silvia\" y \"Ana\"\n"
   ]
  },
  {
   "cell_type": "markdown",
   "metadata": {},
   "source": [
    "**Ejemplo de uso**\n",
    "\n",
    "buscar_nombre()\n",
    "\n",
    "_pregunta de test_\n",
    "\n",
    "lista = ['Jaime','Silvia','Ana']\n",
    "\n",
    "nombre = 'Jaime'\n"
   ]
  },
  {
   "cell_type": "markdown",
   "metadata": {},
   "source": [
    "- **RESOLUCION**\n"
   ]
  },
  {
   "cell_type": "code",
   "execution_count": 75,
   "metadata": {},
   "outputs": [
    {
     "name": "stdout",
     "output_type": "stream",
     "text": [
      "El nombre Jaime esta en la lista\n"
     ]
    }
   ],
   "source": [
    "# defino la funcion\n",
    "def buscar_nombre():\n",
    "  #solicito al usuario que introduzca nombres separados por comas\n",
    "  entrada = input(f'Ingresa nombres separados por comas:\\n')\n",
    "  #almaceno los nombres en una lista\n",
    "  lista = entrada.split(\",\")\n",
    "  #solicito al usuario que ingrese un nombre para comparar con los nombres de la lista\n",
    "  nombre = input(f'Ingresa un nombre para comparar:\\n')\n",
    "\n",
    "  #solucion\n",
    "  if nombre in lista:\n",
    "    print(f'El nombre {nombre} esta en la lista')\n",
    "  else:\n",
    "    print(f'El nombre {nombre} no esta en la lista')\n",
    " \n",
    "buscar_nombre()\n",
    "#Jaime,Silvia,Ana\n",
    "#Jaime\n",
    "#pregunta de test \n",
    "# lista = ['Jaime','Silvia','Ana']\n",
    "# nombre = 'Jaime' "
   ]
  },
  {
   "cell_type": "markdown",
   "metadata": {},
   "source": [
    "---\n"
   ]
  },
  {
   "cell_type": "markdown",
   "metadata": {},
   "source": [
    "- **SOLUCION CORREGIDA**\n"
   ]
  },
  {
   "cell_type": "code",
   "execution_count": 76,
   "metadata": {},
   "outputs": [
    {
     "name": "stdout",
     "output_type": "stream",
     "text": [
      "El nombre 'jaime' fue encontrado en la lista.\n"
     ]
    }
   ],
   "source": [
    "# EJERCICIO 6:\n",
    "\n",
    "def buscar_nombre():\n",
    "    \"\"\"\n",
    "    Solicita al usuario ingresar una lista de nombres y luego solicita un nombre para buscar en esa lista.\n",
    "    Si el nombre está en la lista, se imprime un mensaje indicando que fue encontrado, de lo contrario,\n",
    "    se lanza una excepción.\n",
    "\n",
    "    Parámetros:\n",
    "    - No recibe parámetros.\n",
    "\n",
    "    Retorna:\n",
    "    - No retorna ningún valor.\n",
    "    \"\"\"\n",
    "    try:\n",
    "        # Inicializar una lista vacía para almacenar los nombres\n",
    "        lista_nombres = []\n",
    "\n",
    "        while True:\n",
    "            # Convertir a minúsculas y eliminar espacios alrededor\n",
    "            nombre = input(\"Ingrese un nombre o escriba 'fin' para finalizar: \").strip().lower()\n",
    "            # Salir del bucle si el usuario ingresa 'fin'\n",
    "            if nombre == 'fin':\n",
    "                break\n",
    "\n",
    "            lista_nombres.append(nombre)  # Agregar el nombre a la lista\n",
    "\n",
    "        # Solicitar al usuario un nombre para buscar, convertirlo a minúsculas y eliminar espacios alrededor\n",
    "        nombre_buscar = input(\"Ingrese un nombre para buscar en la lista: \").strip().lower()\n",
    "\n",
    "        # Intentar encontrar el nombre en la lista\n",
    "        if nombre_buscar in lista_nombres:  # Verifica si el nombre buscado está en la lista de nombres\n",
    "            # Si el nombre está en la lista, imprime un mensaje indicando que fue encontrado\n",
    "            print(f\"El nombre '{nombre_buscar}' fue encontrado en la lista.\")\n",
    "        else:\n",
    "            # Si el nombre no está en la lista, lanza una excepción ValueError\n",
    "            raise ValueError(f\"El nombre '{nombre_buscar}' no fue encontrado en la lista.\")\n",
    "\n",
    "    except ValueError as error:\n",
    "        # Captura la excepción ValueError e imprime un mensaje con el tipo de error.\n",
    "        print(error)\n",
    "\n",
    "# Ejemplo de uso\n",
    "buscar_nombre()"
   ]
  },
  {
   "cell_type": "markdown",
   "metadata": {},
   "source": [
    "---\n",
    "---\n"
   ]
  },
  {
   "cell_type": "markdown",
   "metadata": {},
   "source": [
    "# Ejercicio 7. Función fibonacci :\n",
    "\n",
    "### Descripción del ejercicio:\n",
    "\n",
    "Crea una función que calcule el término n de la serie de Fibonacci utilizando\n",
    "recursión.\n",
    "Definición de la secuencia de Fibonacci:\n",
    "La secuencia de Fibonacci es una serie de números en la que cada número es\n",
    "la suma de los dos números anteriores, comenzando con 0 y 1. La posición 0\n",
    "es la primera.\n"
   ]
  },
  {
   "cell_type": "markdown",
   "metadata": {},
   "source": [
    "**Ejemplo de uso:**\n",
    "\n",
    "print(fibonacci(10))\n",
    "\n",
    "_Output esperado: 55_\n"
   ]
  },
  {
   "cell_type": "markdown",
   "metadata": {},
   "source": [
    "- **RESOLUCION**\n"
   ]
  },
  {
   "cell_type": "code",
   "execution_count": 77,
   "metadata": {},
   "outputs": [
    {
     "name": "stdout",
     "output_type": "stream",
     "text": [
      "El resultado de la serie fibonacci para el numero 10 es:\n",
      "55\n"
     ]
    }
   ],
   "source": [
    "# definimos elemento de la serie fibonacci que queremos calcular\n",
    "n = int(input('introduzca un numero entero:\\n'))\n",
    "#lista = list(range(0,n))\n",
    "#print(lista) #[0, 1, 2,........, n]\n",
    "\n",
    "#definimos la funcion\n",
    "def fibonacci(n):\n",
    "    # para n = 1 o 2 devuelve 1\n",
    "    if n == 1 or n == 2:\n",
    "      return 1\n",
    "    #para n>2 devuelve: (recursividad)\n",
    "    # resultado de funcion fibonacci de n-1 \n",
    "    # + \n",
    "    # resultado de funcion fibonacci de n-1 \n",
    "    else:  \n",
    "      return fibonacci(n-1) + fibonacci(n-2)\n",
    "#resultado \n",
    "print(f'El resultado de la serie fibonacci para el numero {n} es:\\n{fibonacci(n)}')  \n",
    "\n",
    "# #alternativa funcion lambda\n",
    "# fibonacci_lambda = lambda n: 1 if n == 1 or n == 2 else fibonacci(n-1) + fibonacci(n-2) \n",
    "# print(f'El resultado de la serie fibonacci para el numero {n} es:\\n{fibonacci(n)}') "
   ]
  },
  {
   "cell_type": "markdown",
   "metadata": {},
   "source": [
    "---\n"
   ]
  },
  {
   "cell_type": "markdown",
   "metadata": {},
   "source": [
    "- **SOLUCION CORREGIDA**\n"
   ]
  },
  {
   "cell_type": "code",
   "execution_count": 78,
   "metadata": {},
   "outputs": [
    {
     "name": "stdout",
     "output_type": "stream",
     "text": [
      "55\n"
     ]
    }
   ],
   "source": [
    "# EJERCICIO 7:\n",
    "\n",
    "def fibonacci(n):\n",
    "    \"\"\"\n",
    "    Calcula el término n de la serie de Fibonacci utilizando recursión.\n",
    "\n",
    "    Parámetros:\n",
    "    - n (int): El término de la serie de Fibonacci que se desea calcular.\n",
    "\n",
    "    Retorna:\n",
    "    - int: El término n de la serie de Fibonacci.\n",
    "    \"\"\"\n",
    "    # Caso base: si n es 0 o 1, retorna n\n",
    "    if n <= 1:\n",
    "        return n\n",
    "    # Caso recursivo: calcula la suma de los términos n-1 y n-2\n",
    "    else:\n",
    "        return fibonacci(n-1) + fibonacci(n-2)\n",
    "\n",
    "# Ejemplo de uso:\n",
    "print(fibonacci(10))  # Output esperado: 55"
   ]
  },
  {
   "cell_type": "markdown",
   "metadata": {},
   "source": [
    "---\n",
    "---\n"
   ]
  },
  {
   "cell_type": "markdown",
   "metadata": {},
   "source": [
    "# Ejercicio 8. Función encontrar_puesto_empleado :\n",
    "\n",
    "### Descripción del ejercicio:\n",
    "\n",
    "Crea una función que tome un nombre completo y una lista de empleados,\n",
    "busque el nombre completo en la lista y devuelve el puesto del empleado si\n",
    "está en la lista, de lo contrario, devuelve un mensaje indicando que la persona\n",
    "no trabaja aquí.\n"
   ]
  },
  {
   "cell_type": "markdown",
   "metadata": {},
   "source": [
    "**pregunta test**\n",
    "\n",
    "Juan García\n",
    "\n",
    "Alejandro\n"
   ]
  },
  {
   "cell_type": "markdown",
   "metadata": {},
   "source": [
    "- **RESOLUCION**\n"
   ]
  },
  {
   "cell_type": "code",
   "execution_count": 83,
   "metadata": {},
   "outputs": [
    {
     "name": "stdout",
     "output_type": "stream",
     "text": [
      "El puesto de la persona Juan García es: Secretario\n",
      "None\n",
      "La persona Mabel García no trabaja aqui.\n",
      "None\n",
      "La persona Isabel Martín no trabaja aqui.\n",
      "None\n",
      "La persona Alejandro  no trabaja aqui.\n",
      "None\n"
     ]
    }
   ],
   "source": [
    "#### REVISAR ERROR APELLIDO VACIO #####\n",
    "\n",
    "#Caso de uso:\n",
    "#Lista de empleados dada en el ejercicio\n",
    "empleados  = [{'nombre': \"Juan\", 'apellido': \"García\", 'puesto': \"Secretario\"},\n",
    "              {'nombre': \"Mabel\", 'apellido': \"García\", 'puesto': \"Product Manager\"},\n",
    "              {'nombre': \"Isabel\", 'apellido': \"Martín\", 'puesto': \"CEO\"}]\n",
    "\n",
    "#solicitamos la entrada del nombre completo al usuario\n",
    "entrada = input('Introuduzca el nombre y el apellido separados por un espacio en blanco:\\n')\n",
    "#almacenamos en una lista el nombre y el apellido separadondolos por el espacio en blanco\n",
    "nombre_completo = entrada.split()\n",
    "#print(nombre_completo)\n",
    "#definmos el nombre como la posicion 0 de la lista nombre_completo\n",
    "nombre = nombre_completo[0]\n",
    "#print(nombre)\n",
    "#definmos el apellido como la posicion 1 de la lista nombre_completo\n",
    "apellido = nombre_completo[1]\n",
    "#print(apellido)\n",
    "\n",
    "#definimos la funcion\n",
    "def encontrar_puesto_empleado(nombre,apellido):\n",
    "  #itera por los elementos (dicc0, dicc1, dicc2) en la lista empleados\n",
    "  for empleado in empleados:\n",
    "    #si coinciden el value nombre Y apellido con las key 'nombre' Y 'apellido')\n",
    "    if nombre == empleado['nombre'] and apellido == empleado['apellido']:\n",
    "      #devuelve el puesto\n",
    "      puesto = empleado['puesto']\n",
    "      print (f'El puesto de la persona {nombre} {apellido} es: {puesto}')\n",
    "    #En otro caso devuelve 'no trabaja aqui'\n",
    "    else:\n",
    "      print(f'La persona {nombre} {apellido} no trabaja aqui.')\n",
    "      \n",
    "    return\n",
    "#llamo a la funcion\n",
    "encontrar_puesto_empleado(nombre,apellido)\n",
    "print(f'El puesto de la persona {nombre} {apellido} es: {encontrar_puesto_empleado(nombre,apellido)}') \n",
    "\n",
    "\n",
    "print(encontrar_puesto_empleado(\"Juan\",\"García\"))  # Output: Secretario\n",
    "print(encontrar_puesto_empleado(\"Mabel\",\"García\"))   # Output: Product Manager\n",
    "print(encontrar_puesto_empleado(\"Isabel\",\"Martín\"))    # Output: CEO\n",
    "print(encontrar_puesto_empleado(\"Alejandro\",\"\")) \n",
    "#pregunta test\n",
    "# Juan García\n",
    "# Alejandro"
   ]
  },
  {
   "cell_type": "markdown",
   "metadata": {},
   "source": [
    "---\n"
   ]
  },
  {
   "cell_type": "markdown",
   "metadata": {},
   "source": [
    "- **SOLUCION CORREGIDA**\n"
   ]
  },
  {
   "cell_type": "code",
   "execution_count": 80,
   "metadata": {},
   "outputs": [
    {
     "name": "stdout",
     "output_type": "stream",
     "text": [
      "Secretario\n",
      "Product Manager\n",
      "CEO\n",
      "Alejandro no trabaja aquí\n"
     ]
    }
   ],
   "source": [
    "# EJERCICIO 8:\n",
    "\n",
    "def encontrar_puesto_empleado(nombre_completo, lista):\n",
    "    \"\"\"\n",
    "    Función para encontrar el puesto de un empleado dado su nombre completo.\n",
    "\n",
    "    Parámetros:\n",
    "    - nombre_completo (str): El nombre completo del empleado.\n",
    "    - lista (list): Una lista de diccionarios que contiene información sobre los empleados,\n",
    "                    donde cada diccionario tiene claves \"nombre\", \"apellido\" y \"puesto\".\n",
    "\n",
    "    Retorna:\n",
    "    - str: El puesto del empleado si está en la lista, de lo contrario, devuelve un mensaje indicando\n",
    "           que la persona no trabaja aquí.\n",
    "    \"\"\"\n",
    "    try:\n",
    "        nombre, apellido = nombre_completo.split()\n",
    "\n",
    "    except:\n",
    "        return f\"{nombre_completo} no trabaja aquí\"\n",
    "\n",
    "    for elemento in lista:\n",
    "        if nombre == elemento[\"nombre\"] and apellido == elemento[\"apellido\"]:\n",
    "            return elemento[\"puesto\"]\n",
    "\n",
    "    return f\"{nombre_completo} no trabaja aquí\"\n",
    "\n",
    "# Caso de uso\n",
    "empleados = [\n",
    "    {'nombre': \"Juan\", 'apellido': \"García\", 'puesto': \"Secretario\"},\n",
    "    {'nombre': \"Mabel\", 'apellido': \"García\", 'puesto': \"Product Manager\"},\n",
    "    {'nombre': \"Isabel\", 'apellido': \"Martín\", 'puesto': \"CEO\"}\n",
    "]\n",
    "\n",
    "print(encontrar_puesto_empleado(\"Juan García\", empleados))  # Output: Secretario\n",
    "print(encontrar_puesto_empleado(\"Mabel García\", empleados))   # Output: Product Manager\n",
    "print(encontrar_puesto_empleado(\"Isabel Martín\", empleados))    # Output: CEO\n",
    "print(encontrar_puesto_empleado(\"Alejandro\", empleados))    # Output: Alejandro no trabaja aquí"
   ]
  },
  {
   "cell_type": "markdown",
   "metadata": {},
   "source": [
    "---\n",
    "---\n"
   ]
  },
  {
   "cell_type": "markdown",
   "metadata": {},
   "source": [
    "# Ejercicio 9. Función cubo_numero usando lambdas:\n",
    "\n",
    "### Descripción del ejercicio:\n",
    "\n",
    "Crea una función que calcule el cubo de un número dado mediante una\n",
    "función lambda\n"
   ]
  },
  {
   "cell_type": "markdown",
   "metadata": {},
   "source": [
    "- **RESOLUCION**\n"
   ]
  },
  {
   "cell_type": "code",
   "execution_count": 13,
   "metadata": {},
   "outputs": [
    {
     "name": "stdout",
     "output_type": "stream",
     "text": [
      "El cubo del número 3 es:\n",
      "27\n"
     ]
    }
   ],
   "source": [
    "#definimos el numero que queremos elevar al cubo:\n",
    "n = int(input('Introduzca un numero entero:\\n'))\n",
    "cubonumero = lambda n: n ** 3\n",
    "print(f'El cubo del número {n} es:\\n{cubonumero(n)}')\n",
    "\n",
    "#funcion sin lambda:\n",
    "# def cubo(n):\n",
    "#   return n ** 3\n",
    "# print(cubo(n))"
   ]
  },
  {
   "cell_type": "markdown",
   "metadata": {},
   "source": [
    "---\n"
   ]
  },
  {
   "cell_type": "markdown",
   "metadata": {},
   "source": [
    "- **SOLUCION CORREGIDA**\n"
   ]
  },
  {
   "cell_type": "code",
   "execution_count": 14,
   "metadata": {},
   "outputs": [
    {
     "name": "stdout",
     "output_type": "stream",
     "text": [
      "3731087151\n"
     ]
    }
   ],
   "source": [
    "# EJERCICIO 9:\n",
    "\n",
    "# Definición de la función lambda cubo_numero que calcula el cubo de un número\n",
    "cubo_numero = lambda numero: numero ** 3\n",
    "\n",
    "# Ejemplo de uso\n",
    "# Imprime el resultado de aplicar la función cubo_numero al número 1551\n",
    "print(cubo_numero(1551))  # Output: 3731087151\n",
    "\n"
   ]
  },
  {
   "cell_type": "markdown",
   "metadata": {},
   "source": [
    "---\n",
    "---\n"
   ]
  },
  {
   "cell_type": "markdown",
   "metadata": {},
   "source": [
    "# Ejercicio 10. Función resto_division usando lambdas:\n",
    "\n",
    "### Descripción del ejercicio:\n",
    "\n",
    "Crea una función lambda que calcule el resto de la división entre dos números dados.\n"
   ]
  },
  {
   "cell_type": "markdown",
   "metadata": {},
   "source": [
    "- **RESOLUCION**\n"
   ]
  },
  {
   "cell_type": "code",
   "execution_count": 16,
   "metadata": {},
   "outputs": [
    {
     "name": "stdout",
     "output_type": "stream",
     "text": [
      "2.0\n",
      "2.0\n"
     ]
    }
   ],
   "source": [
    "# #definimos el numero que queremos de dividendo y el divisor:\n",
    "a = float(input('Introduzca un numero para dividendo:\\n'))\n",
    "b = float(input('Introduzca el numero para divisor:\\n'))\n",
    "\n",
    "#definimos funcion lambda\n",
    "resto_division = lambda a,b: a % b    # = a - (b * (a / b))\n",
    "#resultado\n",
    "print(round(resto_division(a,b),2))\n",
    "\n",
    "# #funcion sin lambda:\n",
    "# def resto(n,m):\n",
    "#   r= a % b # = a - (b*(a / b))\n",
    "#   return r\n",
    "# print(round(resto(a,b),2))"
   ]
  },
  {
   "cell_type": "markdown",
   "metadata": {},
   "source": [
    "---"
   ]
  },
  {
   "cell_type": "markdown",
   "metadata": {},
   "source": [
    "- **SOLUCION CORREGIDA**\n"
   ]
  },
  {
   "cell_type": "code",
   "execution_count": 15,
   "metadata": {},
   "outputs": [
    {
     "name": "stdout",
     "output_type": "stream",
     "text": [
      "2\n"
     ]
    }
   ],
   "source": [
    "# EJERCICIO 10:\n",
    "\n",
    "# Definición de la función lambda resto_division que calcula el resto de la división entre dos números\n",
    "resto_division = lambda x, y : x % y\n",
    "\n",
    "# Ejemplo de uso\n",
    "# Imprime el resultado de aplicar la función resto_division a los números 50 y 3\n",
    "print(resto_division(50, 3))  # Output: 2"
   ]
  },
  {
   "cell_type": "markdown",
   "metadata": {},
   "source": [
    "---\n",
    "---\n"
   ]
  },
  {
   "cell_type": "markdown",
   "metadata": {},
   "source": [
    "### Ejercicio 11. Función numeros_pares usando lambdas y filter :\n",
    "\n",
    "### Descripción del ejercicio:\n",
    "\n",
    "Crea una función lambda que filtre los números pares de una lista dada.\n"
   ]
  },
  {
   "cell_type": "markdown",
   "metadata": {},
   "source": [
    "- **RESOLUCION**\n"
   ]
  },
  {
   "cell_type": "markdown",
   "metadata": {},
   "source": [
    "**Caso de uso:**\n",
    "\n",
    "lista_numeros = [24, 56, 2.3, 19, -1, 0]\n"
   ]
  },
  {
   "cell_type": "code",
   "execution_count": 17,
   "metadata": {},
   "outputs": [
    {
     "name": "stdout",
     "output_type": "stream",
     "text": [
      "[24, 56, 0]\n"
     ]
    }
   ],
   "source": [
    "#Definimos caso de uso: \n",
    "lista_numeros = [24, 56, 2.3, 19, -1, 0]\n",
    "#iteramos por todos los num de la lista_numeros\n",
    "for num in lista_numeros:\n",
    "  #funcion lambda para buscar los num pares en la lista_numeros \n",
    "  pares = list(filter(lambda num: num % 2 == 0,lista_numeros))\n",
    "#solucion\n",
    "print(pares)\n",
    "\n",
    "#explicacion funcion lambda\n",
    "# for num in lista_numeros:\n",
    "#   if num % 2 == 0:\n",
    "#     print(num)\n",
    "# print(pares)"
   ]
  },
  {
   "cell_type": "markdown",
   "metadata": {},
   "source": [
    "---\n"
   ]
  },
  {
   "cell_type": "markdown",
   "metadata": {},
   "source": [
    "- **SOLUCION CORREGIDA**\n"
   ]
  },
  {
   "cell_type": "code",
   "execution_count": 18,
   "metadata": {},
   "outputs": [
    {
     "name": "stdout",
     "output_type": "stream",
     "text": [
      "[24, 56, 0]\n"
     ]
    }
   ],
   "source": [
    "# EJERCICIO 11:\n",
    "\n",
    "# Definición de la lista de números\n",
    "lista_numeros = [24, 56, 2.3, 19, -1, 0]\n",
    "\n",
    "# Definición de la función lambda numeros_pares que filtra los números pares de una lista\n",
    "numeros_pares = list(filter(lambda x : x % 2 == 0, lista_numeros))\n",
    "\n",
    "# Ejemplo de uso\n",
    "# Imprime la lista de números pares\n",
    "print(numeros_pares)  # Output: [24, 56, 0]"
   ]
  },
  {
   "cell_type": "markdown",
   "metadata": {},
   "source": [
    "---\n",
    "---\n"
   ]
  },
  {
   "cell_type": "markdown",
   "metadata": {},
   "source": [
    "# Ejercicio 12. Función numeros_suma usando lambdas y map :\n",
    "\n",
    "### Descripción del ejercicio:\n",
    "\n",
    "Crea una función lambda que sume 3 a cada número de una lista dada\n"
   ]
  },
  {
   "cell_type": "markdown",
   "metadata": {},
   "source": [
    "**Caso de uso:**\n",
    "\n",
    "lista_numeros = [24, 56, 2.3, 19, -1, 0]\n"
   ]
  },
  {
   "cell_type": "markdown",
   "metadata": {},
   "source": [
    "- **RESOLUCION**\n"
   ]
  },
  {
   "cell_type": "code",
   "execution_count": 19,
   "metadata": {},
   "outputs": [
    {
     "name": "stdout",
     "output_type": "stream",
     "text": [
      "[27, 59, 5.3, 22, 2, 3]\n"
     ]
    }
   ],
   "source": [
    "#Definimos caso de uso: \n",
    "lista_numeros = [24, 56, 2.3, 19, -1, 0]\n",
    "\n",
    "#funcion lambda que devuelve lista_suma despues de sumar 3 a cada num de lista_numeros\n",
    "lista_suma = list(map(lambda num: num + 3,lista_numeros))\n",
    "print(lista_suma)\n",
    "\n",
    "# lista_suma =[]\n",
    "# for num in lista_numeros:\n",
    "#   num += 3\n",
    "#   lista_suma.append(num) \n",
    "# print(lista_numeros)\n",
    "# print(lista_suma)"
   ]
  },
  {
   "cell_type": "markdown",
   "metadata": {},
   "source": [
    "---\n"
   ]
  },
  {
   "cell_type": "markdown",
   "metadata": {},
   "source": [
    "- **SOLUCION CORREGIDA**\n"
   ]
  },
  {
   "cell_type": "code",
   "execution_count": 20,
   "metadata": {},
   "outputs": [
    {
     "name": "stdout",
     "output_type": "stream",
     "text": [
      "[27, 59, 5.3, 22, 2, 3]\n"
     ]
    }
   ],
   "source": [
    "# EJERCICIO 12:\n",
    "\n",
    "# Definición de la lista de números\n",
    "lista_numeros = [24, 56, 2.3, 19, -1, 0]\n",
    "\n",
    "# Definición de la función lambda numeros_suma que suma 3 a cada número de una lista\n",
    "numeros_suma = list(map(lambda x: x + 3, lista_numeros))\n",
    "\n",
    "# Ejemplo de uso\n",
    "# Imprime la lista de números con 3 sumado a cada uno\n",
    "print(numeros_suma)  # Output: [27, 59, 5.3, 22, 2, 3]"
   ]
  },
  {
   "cell_type": "markdown",
   "metadata": {},
   "source": [
    "---\n",
    "---\n"
   ]
  },
  {
   "cell_type": "markdown",
   "metadata": {},
   "source": [
    "# Ejercicio 13. Función sumar_listas usando lambdas:\n",
    "\n",
    "### Descripción del ejercicio:\n",
    "\n",
    "Crea una función lambda que sume elementos correspondientes de dos listas dadas.\n"
   ]
  },
  {
   "cell_type": "markdown",
   "metadata": {},
   "source": [
    "**Caso de uso:**\n",
    "\n",
    "lista_numeros_1 = [1, 4, 5, 6 , 7 , 7]\n",
    "\n",
    "lista_numeros_2 = [3, 11, 34, 56]\n"
   ]
  },
  {
   "cell_type": "markdown",
   "metadata": {},
   "source": [
    "- **RESOLUCION**\n"
   ]
  },
  {
   "cell_type": "code",
   "execution_count": 22,
   "metadata": {},
   "outputs": [
    {
     "name": "stdout",
     "output_type": "stream",
     "text": [
      "[4, 15, 39, 62]\n"
     ]
    }
   ],
   "source": [
    "#NO RESUELTO##\n",
    "\n",
    "# Definición de las listas de números\n",
    "lista_numeros_1 = [1, 4, 5, 6 , 7 , 7]\n",
    "lista_numeros_2 = [3, 11, 34, 56]\n",
    "\n",
    "sumar_listas = lambda n,m: n + m \n",
    "\n",
    "\n",
    "lista_combinada = list(map(sumar_listas,lista_numeros_1,lista_numeros_2))\n",
    "print(lista_combinada)\n",
    "\n",
    "#prueba funcion\n",
    "# lista_combinada = [n + m for n,m in zip(lista_numeros_1,lista_numeros_2)]\n",
    "# print(lista_combinada)"
   ]
  },
  {
   "cell_type": "markdown",
   "metadata": {},
   "source": [
    "---\n"
   ]
  },
  {
   "cell_type": "markdown",
   "metadata": {},
   "source": [
    "- **SOLUCION CORREGIDA**\n"
   ]
  },
  {
   "cell_type": "code",
   "execution_count": 21,
   "metadata": {},
   "outputs": [
    {
     "name": "stdout",
     "output_type": "stream",
     "text": [
      "[4, 15, 39, 62]\n"
     ]
    }
   ],
   "source": [
    "# EJERCICIO 13:\n",
    "\n",
    "# Definición de las listas de números\n",
    "lista_numeros_1 = [1, 4, 5, 6 , 7 , 7]\n",
    "lista_numeros_2 = [3, 11, 34, 56]\n",
    "\n",
    "# Definición de la función lambda sumar_listas que suma elementos correspondientes de dos listas\n",
    "sumar_listas = lambda lista1, lista2: [x + y for x,y in zip(lista1, lista2)]\n",
    "\n",
    "# Ejemplo de uso\n",
    "# Imprime la lista resultante de sumar elementos correspondientes de lista_numeros_1 y lista_numeros_2\n",
    "print(sumar_listas(lista_numeros_1, lista_numeros_2))  # Output: [4, 15, 39, 62]"
   ]
  },
  {
   "cell_type": "markdown",
   "metadata": {},
   "source": [
    "---\n",
    "---\n"
   ]
  },
  {
   "cell_type": "markdown",
   "metadata": {},
   "source": [
    "# Ejercicio 14. No te vayas por las ramas :\n",
    "\n",
    "### Explicación del ejercicio:\n",
    "\n",
    "Crea la clase Arbol\n",
    "define un árbol genérico con un tronco y ramas como atributos.\n",
    "Los métodos disponibles son:\n",
    "crecer_tronco , nueva_rama , crecer_ramas , quitar_rama e info_arbol.\n",
    "\n",
    "El objetivo es implementar estos métodos para manipular la estructura del árbol.\n",
    "Código a seguir:\n",
    "\n",
    "- 1.-Inicializar un árbol con un tronco de longitud 1 y una lista vacía de ramas.2.\n",
    "- 2-Implementar el método crecer_tronco para aumentar la longitud del tronco en una unidad.\n",
    "- 3.-Implementar el método nueva_rama para agregar una nueva rama de longitud 1 a la lista de ramas.\n",
    "- 4.-Implementar el método crecer_ramas para aumentar en una unidad la longitud de todas las ramas existentes.\n",
    "- 5.-Implementar el método quitar_rama para eliminar una rama en una posición específica.\n",
    "- 6.-Implementar el método info_arbol para devolver información sobre la longitud del tronco, el número de ramas y las longitudes de las mismas.\n"
   ]
  },
  {
   "cell_type": "markdown",
   "metadata": {},
   "source": [
    "**Caso de uso:**\n",
    "\n",
    "Crear un árbol.\n",
    "\n",
    "Hacer crecer el tronco del árbol una unidad.\n",
    "\n",
    "Añadir una nueva rama al árbol.\n",
    "\n",
    "Hacer crecer todas las ramas del árbol una unidad.\n",
    "\n",
    "Añadir dos nuevas ramas al árbol.\n",
    "\n",
    "Retirar la rama situada en la posición 2.Obtener información sobre el árbol\n"
   ]
  },
  {
   "cell_type": "markdown",
   "metadata": {},
   "source": [
    "- **RESOLUCION**\n"
   ]
  },
  {
   "cell_type": "code",
   "execution_count": 23,
   "metadata": {},
   "outputs": [
    {
     "name": "stdout",
     "output_type": "stream",
     "text": [
      "tronco arbol1:  1\n",
      "ramas arbol1:  []\n",
      "info arbol1:\n",
      "Longitud del tronco: 1\n",
      "Numero de ramas: 0\n",
      "Longitud de las ramas: []\n",
      "\n",
      "crecer tronco arbol1: \n",
      "info arbol1:\n",
      "Longitud del tronco: 2\n",
      "Numero de ramas: 0\n",
      "Longitud de las ramas: []\n",
      "\n",
      "nueva rama arbol1: \n",
      "info arbol1:\n",
      "Longitud del tronco: 2\n",
      "Numero de ramas: 1\n",
      "Longitud de las ramas: [1]\n",
      "\n",
      "crecer ramas arbol1: \n",
      "info arbol1:\n",
      "Longitud del tronco: 2\n",
      "Numero de ramas: 1\n",
      "Longitud de las ramas: [2]\n",
      "\n",
      "2 nuevas rama arbol1: \n",
      "info arbol1:\n",
      "Longitud del tronco: 2\n",
      "Numero de ramas: 3\n",
      "Longitud de las ramas: [2, 1, 1]\n",
      "\n",
      "quitar ramas arbol1:\n",
      "info arbol1:\n",
      "Longitud del tronco: 2\n",
      "Numero de ramas: 2\n",
      "Longitud de las ramas: [2, 1]\n",
      "\n"
     ]
    }
   ],
   "source": [
    "#definimos la clase arbol\n",
    "class Arbol:\n",
    "  #constructor de clase con argumentos tronco y ramas\n",
    "  def __init__(self,tronco,ramas):\n",
    "    self.tronco = tronco\n",
    "    self.ramas = [] #ramas NO => #self.ramas = [] #definimos como lista vacia\n",
    "  #definimos metodo crecer tronco para sumar +1     \n",
    "  def crecer_tronco(self):\n",
    "    self.tronco += 1\n",
    "    return self.tronco\n",
    "  #definimos metodo nueva rama para añadir nueva rama a la lista  \n",
    "  def nueva_rama(self):    \n",
    "    self.ramas.append(1)\n",
    "    return self.ramas\n",
    "  #definimos metodo crecer rama para incremtar en 1 cada rama de la lista    \n",
    "  def crecer_rama(self):\n",
    "    self.ramas = list(map(lambda r: r + 1, self.ramas))\n",
    "    return self.ramas\n",
    "  #definimos metodo quitar rama para eliminar una rama de la lista segun la posicion indicada \n",
    "  def quitar_rama(self,indice):\n",
    "    self.rama = self.ramas.pop(indice)\n",
    "    return self.ramas\n",
    "  #definimos metodo info para devolver informacion \n",
    "  def info_arbol(self):\n",
    "    info = \"\"\n",
    "    info += \"Longitud del tronco: \" + str(self.tronco) + \"\\n\"\n",
    "    info += \"Numero de ramas: \" + str(len(self.ramas)) + \"\\n\"\n",
    "    info += \"Longitud de las ramas: \" + str(self.ramas) + \"\\n\"\n",
    "    return info\n",
    "    \n",
    "#instanciamos el objeto arbol1 con los valores\n",
    "#tronco = 1\n",
    "#ramas = [] #lista vacia  \n",
    "arbol1 = Arbol(1,[0])\n",
    "\n",
    "print(\"tronco arbol1: \",arbol1.tronco)\n",
    "print(\"ramas arbol1: \",arbol1.ramas) \n",
    "print(f'info arbol1:\\n{arbol1.info_arbol()}')\n",
    "\n",
    "#metodo crecer tronco para objeto arbol1\n",
    "arbol1.crecer_tronco()\n",
    "print(\"crecer tronco arbol1: \")\n",
    "print(f'info arbol1:\\n{arbol1.info_arbol()}')\n",
    "\n",
    "#metodo nueva rama para objeto arbol1\n",
    "arbol1.nueva_rama()\n",
    "print(\"nueva rama arbol1: \")\n",
    "print(f'info arbol1:\\n{arbol1.info_arbol()}')\n",
    "\n",
    "#metodo crecer rama para objeto arbol1\n",
    "arbol1.crecer_rama()\n",
    "print(\"crecer ramas arbol1: \")\n",
    "print(f'info arbol1:\\n{arbol1.info_arbol()}')\n",
    "\n",
    "#metodo nueva rama para objeto arbol1 \n",
    "#llamamos dos veces para crear 2 nuevas ramas\n",
    "arbol1.nueva_rama()\n",
    "arbol1.nueva_rama()\n",
    "print(\"2 nuevas rama arbol1: \")\n",
    "print(f'info arbol1:\\n{arbol1.info_arbol()}')\n",
    "\n",
    "#metodo quitar rama para objeto arbol1\n",
    "arbol1.quitar_rama(1)\n",
    "print(\"quitar ramas arbol1:\")\n",
    "print(f'info arbol1:\\n{arbol1.info_arbol()}')"
   ]
  },
  {
   "cell_type": "markdown",
   "metadata": {},
   "source": [
    "---\n"
   ]
  },
  {
   "cell_type": "markdown",
   "metadata": {},
   "source": [
    "- **SOLUCION CORREGIDA**\n"
   ]
  },
  {
   "cell_type": "code",
   "execution_count": 24,
   "metadata": {},
   "outputs": [
    {
     "data": {
      "text/plain": [
       "'El árbol tiene una longitud de 2, tiene 2 ramas, con las siguientes longitudes: rama_1: 2, rama_2: 1'"
      ]
     },
     "execution_count": 24,
     "metadata": {},
     "output_type": "execute_result"
    }
   ],
   "source": [
    "# EJERCICIO 14:\n",
    "\n",
    "class Arbol:\n",
    "    \"\"\"\n",
    "    La clase Arbol modela un árbol genérico con tronco y ramas.\n",
    "    \"\"\"\n",
    "\n",
    "    def __init__(self):\n",
    "        \"\"\"\n",
    "        Inicializa un árbol con un tronco de longitud 1 y sin ramas.\n",
    "\n",
    "        Parámetros:\n",
    "        - Ninguno\n",
    "\n",
    "        Retorna:\n",
    "        - None\n",
    "        \"\"\"\n",
    "        # Longitud inicial del tronco\n",
    "        self.altura_tronco = 1\n",
    "        # Lista de ramas del árbol\n",
    "        self.ramas = []\n",
    "\n",
    "    def crecer_tronco(self):\n",
    "        \"\"\"\n",
    "        Método para hacer crecer el tronco del árbol.\n",
    "\n",
    "        Parámetros:\n",
    "        - Ninguno\n",
    "\n",
    "        Retorna:\n",
    "        - None\n",
    "        \"\"\"\n",
    "        # Incrementa la longitud del tronco en 1\n",
    "        self.altura_tronco += 1\n",
    "\n",
    "    def nueva_rama(self):\n",
    "        \"\"\"\n",
    "        Método para añadir una nueva rama al árbol.\n",
    "\n",
    "        Parámetros:\n",
    "        - Ninguno\n",
    "\n",
    "        Retorna:\n",
    "        - None\n",
    "        \"\"\"\n",
    "        # Agrega una nueva rama de longitud 1\n",
    "        self.ramas.append(1)\n",
    "\n",
    "    def crecer_ramas(self):\n",
    "        \"\"\"\n",
    "        Método para hacer crecer todas las ramas del árbol.\n",
    "\n",
    "        Parámetros:\n",
    "        - Ninguno\n",
    "\n",
    "        Retorna:\n",
    "        - None\n",
    "        \"\"\"\n",
    "        # Incrementa en 1 la longitud de todas las ramas\n",
    "        self.ramas = [rama + 1 for rama in self.ramas]\n",
    "\n",
    "    def quitar_rama(self, n):\n",
    "        \"\"\"\n",
    "        Método para quitar una rama del árbol en la posición especificada.\n",
    "\n",
    "        Parámetros:\n",
    "        - n (int): Índice de la rama a quitar\n",
    "\n",
    "        Retorna:\n",
    "        - str: Mensaje indicando si se quitó la rama o no\n",
    "        \"\"\"\n",
    "        # No se realiza ninguna acción si el índice es inválido\n",
    "        if n <= 0 or n > len(self.ramas):\n",
    "            return f\"No se ha caído ninguna rama\"\n",
    "        # Elimina la rama en la posición n\n",
    "        else:\n",
    "            del self.ramas[n]\n",
    "\n",
    "    def info_arbol(self):\n",
    "        \"\"\"\n",
    "        Método para obtener información sobre el árbol.\n",
    "\n",
    "        Parámetros:\n",
    "        - Ninguno\n",
    "\n",
    "        Retorna:\n",
    "        - str: Descripción del árbol incluyendo longitud del tronco, número de ramas y longitudes de las ramas\n",
    "        \"\"\"\n",
    "        if len(self.ramas) == 0:\n",
    "            return f\"El árbol tiene una longitud de {self.altura_tronco} y no tiene ninguna rama\"\n",
    "        else:\n",
    "            info_ramas = [f\"rama_{i + 1}: {longitud}\" for i, longitud in enumerate(self.ramas)]\n",
    "            return f\"El árbol tiene una longitud de {self.altura_tronco}, tiene {len(self.ramas)} ramas, con las siguientes longitudes: {', '.join(info_ramas)}\"\n",
    "\n",
    "# Caso de uso:\n",
    "\n",
    "arbol1 = Arbol()\n",
    "# Hacemos crecer el arbol1 una unidad.\n",
    "arbol1.crecer_tronco()\n",
    "\n",
    "# Añadimos una nueva rama.\n",
    "arbol1.nueva_rama()\n",
    "\n",
    "# Hacemos crecer las ramas una unidad.\n",
    "arbol1.crecer_ramas()\n",
    "\n",
    "# Añadimos una nueva rama.\n",
    "arbol1.nueva_rama()\n",
    "\n",
    "# Añadimos una nueva rama.\n",
    "arbol1.nueva_rama()\n",
    "\n",
    "# Retiramos una rama en una posición concreta.\n",
    "arbol1.quitar_rama(2)\n",
    "\n",
    "# Llamamos al método que nos devuelve la descripción del árbol:\n",
    "arbol1.info_arbol() # Output esperado: 'El árbol tiene una longitud de 2, tiene 2 ramas, con las siguientes longitudes: rama_1: 2, rama_2: 1'"
   ]
  },
  {
   "cell_type": "markdown",
   "metadata": {},
   "source": [
    "---\n",
    "---\n"
   ]
  },
  {
   "cell_type": "markdown",
   "metadata": {},
   "source": [
    "# Ejercicio 15. Clase UsuarioBanco :\n",
    "\n",
    "### Explicación del ejercicio:\n",
    "\n",
    "Crea la clase UsuarioBanco ,representa a un usuario de un banco con su nombre, saldo y si tiene o no cuenta corriente.\n",
    "\n",
    "Proporciona métodos para realizar operaciones como retirar dinero, transferir dinero desde otro usuario y agregar dinero al saldo.\n",
    "\n",
    "Código a seguir:\n",
    "\n",
    "- Inicializar un usuario con su nombre, saldo y si tiene o no cuenta corriente\n",
    "  mediante True y False .\n",
    "\n",
    "- Implementar el método retirar_dinero para retirar dinero del saldo del\n",
    "  usuario. Lanzará un error en caso de no poder hacerse.\n",
    "\n",
    "- Implementar el método transferir_dinero para realizar una transferencia desde otro usuario al usuario actual. Lanzará un error en caso de no poder hacerse.\n",
    "\n",
    "- Implementar el método agregar_dinero para agregar dinero al saldo del usuario.\n"
   ]
  },
  {
   "cell_type": "markdown",
   "metadata": {},
   "source": [
    "**Caso de uso:**\n",
    "\n",
    "Crear dos usuarios: \"Alicia\" con saldo inicial de 100 y \"Bob\" con saldo inicial de50, ambos con cuenta corriente.\n",
    "\n",
    "Agregar 20 unidades de saldo de \"Alicia\".\n",
    "\n",
    "Hacer una transferencia de 80 unidades desde \"Bob\" a \"Alicia\".\n",
    "\n",
    "_(En el test es al reves transfiere de Alicia a Bob_\n",
    "\n",
    "Retirar 50 unidades de saldo a \"Alicia\".\n"
   ]
  },
  {
   "cell_type": "markdown",
   "metadata": {},
   "source": [
    "- **RESOLUCION**\n"
   ]
  },
  {
   "cell_type": "code",
   "execution_count": 27,
   "metadata": {},
   "outputs": [
    {
     "name": "stdout",
     "output_type": "stream",
     "text": [
      "100.0\n",
      "50.0\n",
      "120.0\n",
      "50.0\n",
      "No se puede realizar la operacion\n",
      "Importe superior al saldo\n",
      "120.0\n",
      "50.0\n",
      "saldo final Alicia: 70.0\n",
      "saldo final Bob: 50.0\n"
     ]
    }
   ],
   "source": [
    "#creamos la clase usuario banco\n",
    "class UsuarioBanco: \n",
    "  #constructor de clase con argumentos nombre (str), cuenta (boolean) y saldo (float = 0)\n",
    "    def __init__(self,nombre,cuenta,saldo : float = 0):\n",
    "        self.nombre = nombre\n",
    "        self.saldo = saldo\n",
    "        self.cuenta = True\n",
    "\n",
    "    #metodo retirar dinero si el saldo lo permite    \n",
    "    def retirar_dinero(self):\n",
    "        cantidad = float(input(f'Indique cantidad a retirar:\\n'))\n",
    "        if cantidad < self.saldo:\n",
    "            self.saldo -= cantidad\n",
    "        else:\n",
    "            print('No se puede realizar la operacion\\nImporte superior al saldo')\n",
    "        \n",
    "        return self.saldo\n",
    "\n",
    "    #metodo agregar dinero si el importe es correcto     \n",
    "    def agregar_dinero(self):\n",
    "        cantidad = float(input(f'Indique cantidad a ingresar:\\n'))\n",
    "        if cantidad > 0:\n",
    "            self.saldo += cantidad\n",
    "        else:\n",
    "            print('No se puede realizar la operacion\\nImporte erroneo')\n",
    "\n",
    "        return self.saldo\n",
    "        \n",
    "    #metodo transferir dinero si el saldo lo permite y el importe es correcto\n",
    "    def transferir_dinero(self,usu2):\n",
    "        cantidad = float(input(f'Indique cantidad a transferir:\\n'))\n",
    "        if self.saldo > cantidad and cantidad > 0:\n",
    "            self.saldo -= cantidad\n",
    "            usu2.saldo += cantidad\n",
    "            return \"transferencia realizada\"    \n",
    "        else:\n",
    "          print('No se puede realizar la operacion\\nImporte superior al saldo')  \n",
    "\n",
    "#instanciamos dos objetos \n",
    "#Alicia con los valores (\"Alicia\",True,100.00)\n",
    "#Bob con los valores (\"Bob\",True,50.00)\n",
    "\n",
    "Alicia = UsuarioBanco(\"Alicia\",True,100.00)\n",
    "Bob = UsuarioBanco(\"Bob\",True,50.00)\n",
    "print(Alicia.saldo)\n",
    "print(Bob.saldo)\n",
    "\n",
    "#metodo agregar dinero para alicia\n",
    "Alicia.agregar_dinero()\n",
    "print(Alicia.saldo)\n",
    "print(Bob.saldo)\n",
    "\n",
    "#pregunta del enunciado\n",
    "#metodo transferir dinero de Bob para Alicia\n",
    "Bob.transferir_dinero(Alicia)\n",
    "print(Alicia.saldo)\n",
    "print(Bob.saldo)\n",
    "\n",
    "# #pregunta del test\n",
    "# #metodo transferir dinero de Alicia para Bob\n",
    "# Alicia.transferir_dinero(Bob)\n",
    "# print(Alicia.saldo)\n",
    "# print(Bob.saldo)\n",
    "\n",
    "#metodo retirar dinero para alicia\n",
    "Alicia.retirar_dinero()\n",
    "print(f'saldo final Alicia: {Alicia.saldo}')\n",
    "print(f'saldo final Bob: {Bob.saldo}')"
   ]
  },
  {
   "cell_type": "markdown",
   "metadata": {},
   "source": [
    "---\n"
   ]
  },
  {
   "cell_type": "markdown",
   "metadata": {},
   "source": [
    "- **SOLUCION CORREGIDA**\n"
   ]
  },
  {
   "cell_type": "code",
   "execution_count": 25,
   "metadata": {},
   "outputs": [
    {
     "name": "stdout",
     "output_type": "stream",
     "text": [
      "Alicia tiene 120.\n",
      "Bob tiene 130. Alicia tiene 40.\n"
     ]
    },
    {
     "ename": "ValueError",
     "evalue": "No hay suficiente saldo para retirar.",
     "output_type": "error",
     "traceback": [
      "\u001b[1;31m---------------------------------------------------------------------------\u001b[0m",
      "\u001b[1;31mValueError\u001b[0m                                Traceback (most recent call last)",
      "Cell \u001b[1;32mIn[25], line 77\u001b[0m\n\u001b[0;32m     75\u001b[0m \u001b[38;5;28mprint\u001b[39m(usuario1\u001b[38;5;241m.\u001b[39magregar_dinero(\u001b[38;5;241m20\u001b[39m))  \u001b[38;5;66;03m# Output esperado: Alicia tiene 80.\u001b[39;00m\n\u001b[0;32m     76\u001b[0m \u001b[38;5;28mprint\u001b[39m(usuario2\u001b[38;5;241m.\u001b[39mtransferir_dinero(usuario1, \u001b[38;5;241m80\u001b[39m))  \u001b[38;5;66;03m# Output esperado: Bob tiene 130. Alicia tiene 40.\u001b[39;00m\n\u001b[1;32m---> 77\u001b[0m \u001b[38;5;28mprint\u001b[39m(\u001b[43musuario1\u001b[49m\u001b[38;5;241;43m.\u001b[39;49m\u001b[43mretirar_dinero\u001b[49m\u001b[43m(\u001b[49m\u001b[38;5;241;43m50\u001b[39;49m\u001b[43m)\u001b[49m)  \u001b[38;5;66;03m# Output esperado: Alicia tiene 120.\u001b[39;00m\n\u001b[0;32m     78\u001b[0m \u001b[38;5;66;03m# Output esperado: ValueError\u001b[39;00m\n",
      "Cell \u001b[1;32mIn[25], line 32\u001b[0m, in \u001b[0;36mUsuarioBanco.retirar_dinero\u001b[1;34m(self, dinero)\u001b[0m\n\u001b[0;32m     19\u001b[0m \u001b[38;5;250m\u001b[39m\u001b[38;5;124;03m\"\"\"\u001b[39;00m\n\u001b[0;32m     20\u001b[0m \u001b[38;5;124;03mMétodo para retirar dinero del saldo del usuario.\u001b[39;00m\n\u001b[0;32m     21\u001b[0m \n\u001b[1;32m   (...)\u001b[0m\n\u001b[0;32m     29\u001b[0m \u001b[38;5;124;03m- ValueError: Si el saldo no es suficiente para retirar la cantidad deseada.\u001b[39;00m\n\u001b[0;32m     30\u001b[0m \u001b[38;5;124;03m\"\"\"\u001b[39;00m\n\u001b[0;32m     31\u001b[0m \u001b[38;5;28;01mif\u001b[39;00m dinero \u001b[38;5;241m>\u001b[39m \u001b[38;5;28mself\u001b[39m\u001b[38;5;241m.\u001b[39msaldo:\n\u001b[1;32m---> 32\u001b[0m     \u001b[38;5;28;01mraise\u001b[39;00m \u001b[38;5;167;01mValueError\u001b[39;00m(\u001b[38;5;124m\"\u001b[39m\u001b[38;5;124mNo hay suficiente saldo para retirar.\u001b[39m\u001b[38;5;124m\"\u001b[39m)\n\u001b[0;32m     33\u001b[0m \u001b[38;5;28mself\u001b[39m\u001b[38;5;241m.\u001b[39msaldo \u001b[38;5;241m-\u001b[39m\u001b[38;5;241m=\u001b[39m dinero\n\u001b[0;32m     34\u001b[0m \u001b[38;5;28;01mreturn\u001b[39;00m \u001b[38;5;124mf\u001b[39m\u001b[38;5;124m\"\u001b[39m\u001b[38;5;132;01m{\u001b[39;00m\u001b[38;5;28mself\u001b[39m\u001b[38;5;241m.\u001b[39mnombre\u001b[38;5;132;01m}\u001b[39;00m\u001b[38;5;124m tiene \u001b[39m\u001b[38;5;132;01m{\u001b[39;00m\u001b[38;5;28mself\u001b[39m\u001b[38;5;241m.\u001b[39msaldo\u001b[38;5;132;01m}\u001b[39;00m\u001b[38;5;124m.\u001b[39m\u001b[38;5;124m\"\u001b[39m\n",
      "\u001b[1;31mValueError\u001b[0m: No hay suficiente saldo para retirar."
     ]
    }
   ],
   "source": [
    "# EJERCICIO 15:\n",
    "\n",
    "class UsuarioBanco:\n",
    "    def __init__(self, nombre, saldo, cuenta_corriente=False):\n",
    "        \"\"\"\n",
    "        Inicializa un usuario con su nombre, saldo y si tiene o no cuenta corriente.\n",
    "\n",
    "        Parámetros:\n",
    "        - nombre (str): El nombre del usuario.\n",
    "        - saldo (float): El saldo inicial del usuario.\n",
    "        - cuenta_corriente (bool, opcional): Indica si el usuario tiene cuenta corriente o no.\n",
    "                                              Por defecto es False.\n",
    "        \"\"\"\n",
    "        self.nombre = nombre\n",
    "        self.saldo = saldo\n",
    "        self.cuenta_corriente = cuenta_corriente\n",
    "\n",
    "    def retirar_dinero(self, dinero):\n",
    "        \"\"\"\n",
    "        Método para retirar dinero del saldo del usuario.\n",
    "\n",
    "        Parámetros:\n",
    "        - dinero (float): La cantidad de dinero a retirar del saldo.\n",
    "\n",
    "        Retorna:\n",
    "        - str: Un mensaje indicando el nuevo saldo del usuario.\n",
    "\n",
    "        Lanza:\n",
    "        - ValueError: Si el saldo no es suficiente para retirar la cantidad deseada.\n",
    "        \"\"\"\n",
    "        if dinero > self.saldo:\n",
    "            raise ValueError(\"No hay suficiente saldo para retirar.\")\n",
    "        self.saldo -= dinero\n",
    "        return f\"{self.nombre} tiene {self.saldo}.\"\n",
    "\n",
    "    def transferir_dinero(self, otro_usuario, dinero):\n",
    "        \"\"\"\n",
    "        Método para realizar una transferencia desde otro usuario al usuario actual.\n",
    "\n",
    "        Parámetros:\n",
    "        - otro_usuario (UsuarioBanco): El usuario desde el cual se realizará la transferencia.\n",
    "        - dinero (float): La cantidad de dinero a transferir desde otro_usuario a self.\n",
    "\n",
    "        Retorna:\n",
    "        - str: Un mensaje indicando los nuevos saldos de ambos usuarios después de la transferencia.\n",
    "\n",
    "        Lanza:\n",
    "        - ValueError: Si otro_usuario no tiene cuenta corriente o no tiene suficiente saldo para la transferencia.\n",
    "        \"\"\"\n",
    "        if not otro_usuario.cuenta_corriente:\n",
    "            raise ValueError(f\"{otro_usuario.nombre} no tiene cuenta corriente.\")\n",
    "        if dinero > otro_usuario.saldo:\n",
    "            raise ValueError(f\"{otro_usuario.nombre} no tiene suficiente saldo para transferir.\")\n",
    "        self.saldo += dinero\n",
    "        otro_usuario.saldo -= dinero\n",
    "        return f\"{self.nombre} tiene {self.saldo}. {otro_usuario.nombre} tiene {otro_usuario.saldo}.\"\n",
    "\n",
    "    def agregar_dinero(self, dinero):\n",
    "        \"\"\"\n",
    "        Método para agregar dinero al saldo del usuario.\n",
    "\n",
    "        Parámetros:\n",
    "        - dinero (float): La cantidad de dinero a agregar al saldo.\n",
    "\n",
    "        Retorna:\n",
    "        - str: Un mensaje indicando el nuevo saldo del usuario.\n",
    "        \"\"\"\n",
    "        self.saldo += dinero\n",
    "        return f\"{self.nombre} tiene {self.saldo}.\"\n",
    "\n",
    "# Ejemplo de uso:\n",
    "usuario1 = UsuarioBanco(\"Alicia\", 100, cuenta_corriente=True)\n",
    "usuario2 = UsuarioBanco(\"Bob\", 50, cuenta_corriente=False)\n",
    "\n",
    "print(usuario1.agregar_dinero(20))  # Output esperado: Alicia tiene 80.\n",
    "print(usuario2.transferir_dinero(usuario1, 80))  # Output esperado: Bob tiene 130. Alicia tiene 40.\n",
    "print(usuario1.retirar_dinero(50))  # Output esperado: Alicia tiene 120.\n",
    "# Output esperado: ValueError"
   ]
  },
  {
   "cell_type": "markdown",
   "metadata": {},
   "source": [
    "---\n",
    "---\n"
   ]
  },
  {
   "cell_type": "markdown",
   "metadata": {},
   "source": [
    "# Ejercicio 16. Función procesar_texto :\n",
    "\n",
    "### Explicación del ejercicio:\n",
    "\n",
    "Crea una función llamada procesar_texto que procesa un texto según la opción especificada:\n",
    "\n",
    "contar_palabras ,\n",
    "reemplazar_palabras ,\n",
    "eliminar_palabra .\n",
    "\n",
    "Estas opciones son otras funciones que tenemos que definir primero y llamar dentro de la función procesar_texto .\n",
    "\n",
    "Código a seguir:\n",
    "\n",
    "- Crear una función contar_palabras para contar el número de veces que aparece cada palabra en el texto. Tiene que devolver un diccionario.\n",
    "\n",
    "- Crear una función reemplazar_palabras para remplazar una palabra_original del texto por una palabra_nueva . Tiene que devolver el texto con el remplazo de palabras.\n",
    "\n",
    "- Crear una función eliminar_palabra para eliminar una palabra del texto. Tiene que devolver el texto con la palabra eliminada.\n",
    "\n",
    "- Crear la función procesar_texto que tome un texto, una opción(entre \"contar\", \"reemplazar\", \"eliminar\") y un número de argumentos variable según la opción indicada.\n"
   ]
  },
  {
   "cell_type": "markdown",
   "metadata": {},
   "source": [
    "**Caso de uso:**\n",
    "\n",
    "_texto = \"Este es un ejemplo de texto. Este texto contiene palabras repetidas.\"_\n",
    "\n",
    "Dado el texto de ejemplo, llama a la función procesar_texto para probar sus funcionalidades:\n",
    "\n",
    "- 1 Cuenta el número de veces que aparece cada palabra.\n",
    "- 2 Reemplaza la palabra texto por relato.\n",
    "- 3 Elimina la palabra ejemplo.\n"
   ]
  },
  {
   "cell_type": "markdown",
   "metadata": {},
   "source": [
    "- **RESOLUCION**\n"
   ]
  },
  {
   "cell_type": "code",
   "execution_count": 2,
   "metadata": {},
   "outputs": [
    {
     "name": "stdout",
     "output_type": "stream",
     "text": [
      "operacion incorrecta\n"
     ]
    }
   ],
   "source": [
    "#texto de ejemplo:\n",
    "texto = \"Este es un ejemplo de texto. Este texto contiene palabras repetidas.\"\n",
    "#solicitamos introducion de cadena de texto\n",
    "#texto = input('introduzca una cadena de texto:\\n')\n",
    "\n",
    "#definimos funcion para contar las palabras de un texto\n",
    "def contar_palabra(texto):\n",
    "  #definimos lista de caracteres especiales para no duplicar palabras (texto. y texto)\n",
    "  caracteres = [',' , '.' , ':' , '/' , '&' , '%' , '%' , '$' , '¿' , '?' , '!' , '¡']\n",
    "  #iteramos por lista caracteres \n",
    "  for caracter in caracteres:\n",
    "    #buscamos en texto\n",
    "    if caracter in texto:\n",
    "      #eliminamos caracteres especiales en el texto\n",
    "      texto_limpio = texto.replace(caracter,'')\n",
    "  \n",
    "  #creamos una lista con cada palabra como elemento\n",
    "  lista = texto_limpio.split()\n",
    "  #print(lista)\n",
    "  #longitud = len(lista)\n",
    "  #print(longitud)\n",
    "  \n",
    "  #creamos dicc vacio para almacenar pares {palabra : valor} \n",
    "  #cada palabra como clave y recuento como valor\n",
    "  cuenta = {}\n",
    "  #iteramos por lista  \n",
    "  for palabra in lista:\n",
    "      #si palabra esta en dicc sumamos 1 al valor  \n",
    "      if palabra in cuenta:\n",
    "          cuenta[palabra] += 1\n",
    "      #si palabra no esta en dicc asignamos valor 1\n",
    "      else:\n",
    "          cuenta[palabra] = 1\n",
    "  \n",
    "  print(f'El numero de palabras en el texto es:\\n{len(lista)} palabras,\\nLas palabras son:')\n",
    "  \n",
    "  for clave,valor in cuenta.items():#devolvemos el par clave valor de dicc cuenta en renglones separados\n",
    "    print(f'{clave}:{valor}')\n",
    "\n",
    "  #devuelve dicc cuenta con los pares palabra:recuento\n",
    "  return (cuenta)\n",
    "#llamo a la funcion contar_palabra para el argumento texto\n",
    "#print(contar_palabra(texto))\n",
    "\n",
    "#definimos funcion para reemplazar las palabras de un texto\n",
    "def reemplazar_texto(texto, palabra_seleccion,palabra_nueva):\n",
    "  #definimos la palabra a reemplazar y la palabra nueva a introducir\n",
    "  palabra_seleccion = \"texto\" #input('introduzca una palabra del texto para reemplazar:\\n')\n",
    "  palabra_nueva = \"relato\" #input('introduzca la palabra de reemplazo:\\n')\n",
    "  \n",
    "  #buscamos la palabra_seleccion en texto\n",
    "  if palabra_seleccion in texto:\n",
    "    #si la encuentra reemplazamos por palabra_nueva \n",
    "    nuevo_texto = texto.replace(palabra_seleccion, palabra_nueva)\n",
    "  #si no la encuentra devuelve mensaje de error \n",
    "  else: \n",
    "    print(f'La palabra {palabra_seleccion} no esta en el texto.')\n",
    "  \n",
    "  print(f'El nuevo texto despues de reemplazar \"{palabra_seleccion}\" por \"{palabra_nueva}\" es:')\n",
    "  #devuelve nueva cadena de texto con la palabra reemplazada\n",
    "  return(nuevo_texto)\n",
    "#llamo a la funcion reemplazar_texto para el argumento texto\n",
    "#print(reemplazar_texto())\n",
    "\n",
    "#definimos funcion para reemplazar las palabras de un texto\n",
    "def eliminar_palabra(texto, palabra_eliminar):\n",
    "  #definimos la palabra a eliminar\n",
    "  palabra_eliminar = \"ejemplo\" #input('introduzca una palabra del texto para eliminar:\\n')\n",
    "  #buscamos la palabra_eliminar en texto\n",
    "  if palabra_eliminar in texto:\n",
    "    #si la encuentra reemplazamos por nada\n",
    "    nuevo_texto = texto.replace(palabra_eliminar, \"\")\n",
    "  #si no la encuentra devuelve mensaje de error \n",
    "  else: \n",
    "    print(f'La palabra {palabra_eliminar} no esta en el texto.')\n",
    "  print(f'El nuevo texto despues de eliminar {palabra_eliminar} es:')\n",
    "  #devuelve nueva cadena de texto con la palabra eliminada\n",
    "  return(nuevo_texto)\n",
    "#llamo a la funcion eliminar_palabra para el argumento texto\n",
    "#print(elimninar_palabra())\n",
    "\n",
    "def procesar_texto(texto):  # ERROR => def procesar_texto(texto, opcion, *args): (esto es lo que pide el enunciado)\n",
    "  \n",
    "  #solicitamos al usu que introduzaca la opreacion elegida segun criterio dado\n",
    "  opcion = input(f'introduzca la operacion a realizar:\\n( 1=contar, 2=reemplazar, 3=eliminar)\\n')\n",
    "  if opcion == \"1\":\n",
    "    print(contar_palabra(texto))\n",
    "  elif opcion == \"2\":\n",
    "    print(reemplazar_texto(texto,\"texto\",\"relato\"))\n",
    "  elif opcion == \"3\":\n",
    "    print(eliminar_palabra(texto, \"ejemplo\"))\n",
    "  else:\n",
    "    print('operacion incorrecta')\n",
    "#llamo a la funcion procesar_texto para el argumento texto  \n",
    "procesar_texto(texto)"
   ]
  },
  {
   "cell_type": "markdown",
   "metadata": {},
   "source": [
    "---\n"
   ]
  },
  {
   "cell_type": "markdown",
   "metadata": {},
   "source": [
    "- **SOLUCION CORREGIDA**\n"
   ]
  },
  {
   "cell_type": "code",
   "execution_count": 1,
   "metadata": {},
   "outputs": [
    {
     "name": "stdout",
     "output_type": "stream",
     "text": [
      "Conteo de palabras en el texto:\n",
      "{'este': 2, 'es': 1, 'un': 1, 'ejemplo': 1, 'de': 1, 'texto': 2, '.': 1, 'contiene': 1, 'palabras': 1, 'repetidas.': 1}\n",
      "\n",
      "Texto con la palabra 'texto' reemplazada por 'relato':\n",
      "este es un ejemplo de relato . este relato contiene palabras repetidas.\n",
      "\n",
      "Texto con la palabra 'ejemplo' eliminada:\n",
      "este es un de texto . este texto contiene palabras repetidas.\n"
     ]
    }
   ],
   "source": [
    "# EJERCICIO 16:\n",
    "\n",
    "def contar_palabras(texto):\n",
    "    \"\"\"\n",
    "    Función que cuenta la frecuencia de cada palabra en un texto dado.\n",
    "\n",
    "    Parámetros:\n",
    "    - texto (str): El texto del cual se contarán las palabras.\n",
    "\n",
    "    Retorna:\n",
    "    - dict: Un diccionario donde las claves son las palabras y los valores son las frecuencias de cada palabra.\n",
    "    \"\"\"\n",
    "    # Inicializa un diccionario para almacenar el conteo de palabras\n",
    "    conteo = {}\n",
    "    # Divide el texto en palabras y las convierte a minúsculas\n",
    "    palabras = texto.lower().split()\n",
    "    for palabra in palabras:\n",
    "        # Establecemos la clave-valor con palabra, 0 mediante el get. Después incrementamos en 1:\n",
    "        conteo[palabra] = conteo.get(palabra, 0) + 1\n",
    "    return conteo\n",
    "\n",
    "def reemplazar_palabra(texto, palabra_original, palabra_nueva):\n",
    "    \"\"\"\n",
    "    Función que reemplaza una palabra original por una nueva en un texto dado.\n",
    "\n",
    "    Parámetros:\n",
    "    - texto (str): El texto en el cual se realizará el reemplazo.\n",
    "    - palabra_original (str): La palabra que se desea reemplazar.\n",
    "    - palabra_nueva (str): La palabra nueva que se utilizará para el reemplazo.\n",
    "\n",
    "    Retorna:\n",
    "    - str: El texto con la palabra original reemplazada por la nueva.\n",
    "    \"\"\"\n",
    "    # Divide el texto en palabras y las convierte a minúsculas\n",
    "    resultado = []\n",
    "    palabras = texto.lower().split()\n",
    "    for palabra in palabras:\n",
    "        if palabra == palabra_original:\n",
    "            # Agrega la palabra nueva si coincide con la palabra original\n",
    "            resultado.append(palabra_nueva)\n",
    "        else:\n",
    "            # Conserva la palabra original si no coincide con la palabra original\n",
    "            resultado.append(palabra)\n",
    "\n",
    "    # Une las palabras en un solo texto\n",
    "    return ' '.join(resultado)\n",
    "\n",
    "def eliminar_palabra(texto, palabra_eliminar):\n",
    "    \"\"\"\n",
    "    Función que elimina una palabra específica de un texto dado.\n",
    "\n",
    "    Parámetros:\n",
    "    - texto (str): El texto del cual se eliminará la palabra.\n",
    "    - palabra_eliminar (str): La palabra que se desea eliminar del texto.\n",
    "\n",
    "    Retorna:\n",
    "    - str: El texto con la palabra especificada eliminada.\n",
    "    \"\"\"\n",
    "    # Divide el texto en palabras\n",
    "    palabras = texto.lower().split()\n",
    "    resultado = []\n",
    "    for palabra in palabras:\n",
    "        if palabra != palabra_eliminar:\n",
    "            # Conserva la palabra si no coincide con la palabra a eliminar\n",
    "            resultado.append(palabra)\n",
    "    # Une las palabras en un solo texto\n",
    "    return ' '.join(resultado)\n",
    "\n",
    "def procesar_texto(texto, opcion, *args):\n",
    "    \"\"\"\n",
    "    Función que procesa un texto según la opción especificada.\n",
    "\n",
    "    Parámetros:\n",
    "    - texto (str): El texto que se va a procesar.\n",
    "    - opcion (str): La opción de procesamiento (\"contar\", \"remplazar\" o \"eliminar\").\n",
    "    - *args: Argumentos adicionales dependiendo de la opción.\n",
    "\n",
    "    Retorna:\n",
    "    - Dependiendo de la opción:\n",
    "        - Si la opción es \"contar\", retorna un diccionario con el conteo de palabras.\n",
    "        - Si la opción es \"remplazar\", retorna el texto con la palabra original reemplazada por la nueva.\n",
    "        - Si la opción es \"eliminar\", retorna el texto con la palabra especificada eliminada.\n",
    "\n",
    "    Levanta:\n",
    "    - ValueError: Si la opción proporcionada no es válida o si el número de argumentos es incorrecto.\n",
    "    \"\"\"\n",
    "    if opcion == \"contar\":\n",
    "    # Si la opción es \"contar\", llama a la función contar_palabras\n",
    "        return contar_palabras(texto)\n",
    "    elif opcion == \"remplazar\":\n",
    "        # Si la opción es \"remplazar\", verifica si se proporcionaron dos argumentos\n",
    "        if len(args) != 2:\n",
    "            # Si no se proporcionaron dos argumentos, levanta un ValueError\n",
    "            raise ValueError(f\"Se esperan dos argumentos para reemplazar. Argumentos pasados: {len(args)}\")\n",
    "        # Si se proporcionaron dos argumentos, llama a la función reemplazar_palabra\n",
    "        return reemplazar_palabra(texto, args[0], args[1])\n",
    "    elif opcion == \"eliminar\":\n",
    "        # Si la opción es \"eliminar\", verifica si se proporcionó un argumento\n",
    "        if len(args) != 1:\n",
    "            # Si no se proporcionó un argumento, levanta un ValueError\n",
    "            raise ValueError(f\"Se espera un argumento para eliminar. Argumentos pasados: {len(args)}\")\n",
    "        # Si se proporcionó un argumento, llama a la función eliminar_palabra\n",
    "        return eliminar_palabra(texto, args[0])\n",
    "    else:\n",
    "        # Si la opción no es válida, levanta un ValueError\n",
    "        raise ValueError(f\"Opción no válida\")\n",
    "\n",
    "# Texto de ejemplo\n",
    "texto = \"Este es un ejemplo de texto . Este texto contiene palabras repetidas.\"\n",
    "\n",
    "# Caso de uso para contar palabras en el texto\n",
    "conteo_palabras = procesar_texto(texto, \"contar\")\n",
    "print(\"Conteo de palabras en el texto:\")\n",
    "print(conteo_palabras)\n",
    "# Output esperado:\n",
    "# Conteo de palabras en el texto:\n",
    "# {'este': 2, 'es': 1, 'un': 1, 'ejemplo': 1, 'de': 1, 'texto': 2, '.': 1, 'contiene': 1, 'palabras': 1, 'repetidas.': 1}\n",
    "\n",
    "# Caso de uso para reemplazar una palabra en el texto\n",
    "texto_reemplazado = procesar_texto(texto, \"remplazar\", \"texto\", \"relato\")\n",
    "print(\"\\nTexto con la palabra 'texto' reemplazada por 'relato':\")\n",
    "print(texto_reemplazado)\n",
    "# Output esperado:\n",
    "# Texto con la palabra 'texto' reemplazada por 'relato':\n",
    "# este es un ejemplo de relato . este relato contiene palabras repetidas.\n",
    "\n",
    "# Caso de uso para eliminar una palabra del texto\n",
    "texto_sin_palabra = procesar_texto(texto, \"eliminar\", \"ejemplo\")\n",
    "print(\"\\nTexto con la palabra 'ejemplo' eliminada:\")\n",
    "print(texto_sin_palabra)\n",
    "# Output esperado:\n",
    "#Texto con la palabra 'ejemplo' eliminada:\n",
    "#este es un de texto . este texto contiene palabras repetidas."
   ]
  },
  {
   "cell_type": "markdown",
   "metadata": {},
   "source": [
    "---\n",
    "---\n"
   ]
  }
 ],
 "metadata": {
  "kernelspec": {
   "display_name": "Python 3",
   "language": "python",
   "name": "python3"
  },
  "language_info": {
   "codemirror_mode": {
    "name": "ipython",
    "version": 3
   },
   "file_extension": ".py",
   "mimetype": "text/x-python",
   "name": "python",
   "nbconvert_exporter": "python",
   "pygments_lexer": "ipython3",
   "version": "3.12.2"
  }
 },
 "nbformat": 4,
 "nbformat_minor": 2
}
