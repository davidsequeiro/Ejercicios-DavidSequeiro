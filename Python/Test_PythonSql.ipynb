{
 "cells": [
  {
   "cell_type": "markdown",
   "metadata": {},
   "source": [
    "La empresa ficticia \"Global Importaciones\" ha decidido implementar un sistema de gestión de pedidos utilizando la base de datos Northwind como referencia. \n",
    "La empresa se dedica a la importación y distribución de productos a nivel internacional. \n",
    "Como analista de datos para la empresa internacional \"Global \n",
    "Importaciones\", te enfrentas al desafío de extraer información clave de la base de datos Northwind para optimizar la gestión de pedidos. La dirección ha solicitado insights específicos para tomar decisiones informadas.\n",
    "Para poder resolver este ejercicio primero, es necesario que instales la BBDD de 'Northwind' en Postgres/DBeaver, a continuación deberás generar una conexión entre Python y Postgres/DBeaver para poder realizar los siguientes ejercicios."
   ]
  },
  {
   "cell_type": "code",
   "execution_count": 1,
   "metadata": {},
   "outputs": [],
   "source": [
    "#libreria conex SQL\n",
    "import psycopg2\n",
    "#librerias dataframes\n",
    "import pandas as pd\n",
    "import numpy as np\n",
    "# Librerías de visualización\n",
    "import seaborn as sns\n",
    "import plotly.express as px\n",
    "import matplotlib.pyplot as plt\n",
    "import plotly.graph_objects as go"
   ]
  },
  {
   "cell_type": "code",
   "execution_count": 2,
   "metadata": {},
   "outputs": [],
   "source": [
    "#conexion SQL BBDD\n",
    "conn = psycopg2.connect(host = \"localhost\", \n",
    "                        database = \"Northwind\" ,\n",
    "                        user = \"postgres\", \n",
    "                        password = \"@Davids9677\")"
   ]
  },
  {
   "cell_type": "markdown",
   "metadata": {},
   "source": [
    "Ejercicio 1. Familiarizarse con la Base de Datos:\n",
    "Descripción del ejercicio:\n",
    "El primer paso como analista de datos es conocer la estructura y la información básica de nuestra BBDD, Crea el esquema de northwind y observa con atención las tablas que tiene y cómo están relacionadas entre sí."
   ]
  },
  {
   "cell_type": "markdown",
   "metadata": {},
   "source": [
    "![alt text](<Northwind - public.png>)"
   ]
  },
  {
   "cell_type": "markdown",
   "metadata": {},
   "source": [
    "Ejercicio 2. \n",
    "Descripción del ejercicio:\n",
    "Ahora vamos a sacar información básica de nuestra BBDD, para ello tienes que generar las Queries necesarias para responder a las siguientes preguntas:\n"
   ]
  },
  {
   "cell_type": "markdown",
   "metadata": {},
   "source": [
    "¿Cuántos empleados tenemos contratados en 'Global Importaciones'? Indica \n",
    "su id, nombre, apellido, ciudad y país."
   ]
  },
  {
   "cell_type": "code",
   "execution_count": 7,
   "metadata": {},
   "outputs": [
    {
     "data": {
      "text/html": [
       "<div>\n",
       "<style scoped>\n",
       "    .dataframe tbody tr th:only-of-type {\n",
       "        vertical-align: middle;\n",
       "    }\n",
       "\n",
       "    .dataframe tbody tr th {\n",
       "        vertical-align: top;\n",
       "    }\n",
       "\n",
       "    .dataframe thead th {\n",
       "        text-align: right;\n",
       "    }\n",
       "</style>\n",
       "<table border=\"1\" class=\"dataframe\">\n",
       "  <thead>\n",
       "    <tr style=\"text-align: right;\">\n",
       "      <th></th>\n",
       "      <th>Id</th>\n",
       "      <th>Nombre</th>\n",
       "      <th>Apellido</th>\n",
       "      <th>Ciudad</th>\n",
       "      <th>pais</th>\n",
       "    </tr>\n",
       "  </thead>\n",
       "  <tbody>\n",
       "    <tr>\n",
       "      <th>0</th>\n",
       "      <td>1</td>\n",
       "      <td>Nancy</td>\n",
       "      <td>Davolio</td>\n",
       "      <td>Seattle</td>\n",
       "      <td>USA</td>\n",
       "    </tr>\n",
       "    <tr>\n",
       "      <th>1</th>\n",
       "      <td>2</td>\n",
       "      <td>Andrew</td>\n",
       "      <td>Fuller</td>\n",
       "      <td>Tacoma</td>\n",
       "      <td>USA</td>\n",
       "    </tr>\n",
       "    <tr>\n",
       "      <th>2</th>\n",
       "      <td>3</td>\n",
       "      <td>Janet</td>\n",
       "      <td>Leverling</td>\n",
       "      <td>Kirkland</td>\n",
       "      <td>USA</td>\n",
       "    </tr>\n",
       "    <tr>\n",
       "      <th>3</th>\n",
       "      <td>4</td>\n",
       "      <td>Margaret</td>\n",
       "      <td>Peacock</td>\n",
       "      <td>Redmond</td>\n",
       "      <td>USA</td>\n",
       "    </tr>\n",
       "    <tr>\n",
       "      <th>4</th>\n",
       "      <td>5</td>\n",
       "      <td>Steven</td>\n",
       "      <td>Buchanan</td>\n",
       "      <td>London</td>\n",
       "      <td>UK</td>\n",
       "    </tr>\n",
       "    <tr>\n",
       "      <th>5</th>\n",
       "      <td>6</td>\n",
       "      <td>Michael</td>\n",
       "      <td>Suyama</td>\n",
       "      <td>London</td>\n",
       "      <td>UK</td>\n",
       "    </tr>\n",
       "    <tr>\n",
       "      <th>6</th>\n",
       "      <td>7</td>\n",
       "      <td>Robert</td>\n",
       "      <td>King</td>\n",
       "      <td>London</td>\n",
       "      <td>UK</td>\n",
       "    </tr>\n",
       "    <tr>\n",
       "      <th>7</th>\n",
       "      <td>8</td>\n",
       "      <td>Laura</td>\n",
       "      <td>Callahan</td>\n",
       "      <td>Seattle</td>\n",
       "      <td>USA</td>\n",
       "    </tr>\n",
       "    <tr>\n",
       "      <th>8</th>\n",
       "      <td>9</td>\n",
       "      <td>Anne</td>\n",
       "      <td>Dodsworth</td>\n",
       "      <td>London</td>\n",
       "      <td>UK</td>\n",
       "    </tr>\n",
       "  </tbody>\n",
       "</table>\n",
       "</div>"
      ],
      "text/plain": [
       "   Id    Nombre   Apellido    Ciudad pais\n",
       "0   1     Nancy    Davolio   Seattle  USA\n",
       "1   2    Andrew     Fuller    Tacoma  USA\n",
       "2   3     Janet  Leverling  Kirkland  USA\n",
       "3   4  Margaret    Peacock   Redmond  USA\n",
       "4   5    Steven   Buchanan    London   UK\n",
       "5   6   Michael     Suyama    London   UK\n",
       "6   7    Robert       King    London   UK\n",
       "7   8     Laura   Callahan   Seattle  USA\n",
       "8   9      Anne  Dodsworth    London   UK"
      ]
     },
     "metadata": {},
     "output_type": "display_data"
    }
   ],
   "source": [
    "sql_query = '''SELECT \"employee_id\" as \"Id\",\n",
    "\t\t\"first_name\" as \"Nombre\",\n",
    "\t\t\"last_name\" as \"Apellido\",\n",
    "\t\t\"city\" as \"Ciudad\",\n",
    "\t\t\"country\" as \"Pais\"\n",
    "FROM employees'''\n",
    "cursor = conn.cursor() \n",
    "cursor.execute(sql_query) \n",
    "rows = cursor.fetchall() \n",
    "tabla = pd.DataFrame(rows)\n",
    "colnames = [desc[0] for desc in cursor.description]\n",
    "tabla = tabla.set_axis(colnames, axis = 1)\n",
    "display(tabla)"
   ]
  },
  {
   "cell_type": "markdown",
   "metadata": {},
   "source": [
    "¿Qué productos tenemos? Indica el id del producto, id del proveedor, nombre\n",
    "del producto, precio por unidad, unidades en stock, unidades pedidas al proveedor y productos descontinuados."
   ]
  },
  {
   "cell_type": "code",
   "execution_count": 33,
   "metadata": {},
   "outputs": [
    {
     "data": {
      "text/html": [
       "<div>\n",
       "<style scoped>\n",
       "    .dataframe tbody tr th:only-of-type {\n",
       "        vertical-align: middle;\n",
       "    }\n",
       "\n",
       "    .dataframe tbody tr th {\n",
       "        vertical-align: top;\n",
       "    }\n",
       "\n",
       "    .dataframe thead th {\n",
       "        text-align: right;\n",
       "    }\n",
       "</style>\n",
       "<table border=\"1\" class=\"dataframe\">\n",
       "  <thead>\n",
       "    <tr style=\"text-align: right;\">\n",
       "      <th></th>\n",
       "      <th>Id_Producto</th>\n",
       "      <th>Id_Proveedor</th>\n",
       "      <th>Nombre</th>\n",
       "      <th>precio_unidad</th>\n",
       "      <th>Unidades_stock</th>\n",
       "      <th>Unidades_pedidas</th>\n",
       "    </tr>\n",
       "  </thead>\n",
       "  <tbody>\n",
       "    <tr>\n",
       "      <th>0</th>\n",
       "      <td>1</td>\n",
       "      <td>8</td>\n",
       "      <td>Chai</td>\n",
       "      <td>18.00</td>\n",
       "      <td>39</td>\n",
       "      <td>0</td>\n",
       "    </tr>\n",
       "    <tr>\n",
       "      <th>1</th>\n",
       "      <td>2</td>\n",
       "      <td>1</td>\n",
       "      <td>Chang</td>\n",
       "      <td>19.00</td>\n",
       "      <td>17</td>\n",
       "      <td>40</td>\n",
       "    </tr>\n",
       "    <tr>\n",
       "      <th>2</th>\n",
       "      <td>3</td>\n",
       "      <td>1</td>\n",
       "      <td>Aniseed Syrup</td>\n",
       "      <td>10.00</td>\n",
       "      <td>13</td>\n",
       "      <td>70</td>\n",
       "    </tr>\n",
       "    <tr>\n",
       "      <th>3</th>\n",
       "      <td>4</td>\n",
       "      <td>2</td>\n",
       "      <td>Chef Anton's Cajun Seasoning</td>\n",
       "      <td>22.00</td>\n",
       "      <td>53</td>\n",
       "      <td>0</td>\n",
       "    </tr>\n",
       "    <tr>\n",
       "      <th>4</th>\n",
       "      <td>5</td>\n",
       "      <td>2</td>\n",
       "      <td>Chef Anton's Gumbo Mix</td>\n",
       "      <td>21.35</td>\n",
       "      <td>0</td>\n",
       "      <td>0</td>\n",
       "    </tr>\n",
       "    <tr>\n",
       "      <th>...</th>\n",
       "      <td>...</td>\n",
       "      <td>...</td>\n",
       "      <td>...</td>\n",
       "      <td>...</td>\n",
       "      <td>...</td>\n",
       "      <td>...</td>\n",
       "    </tr>\n",
       "    <tr>\n",
       "      <th>72</th>\n",
       "      <td>73</td>\n",
       "      <td>17</td>\n",
       "      <td>Röd Kaviar</td>\n",
       "      <td>15.00</td>\n",
       "      <td>101</td>\n",
       "      <td>0</td>\n",
       "    </tr>\n",
       "    <tr>\n",
       "      <th>73</th>\n",
       "      <td>74</td>\n",
       "      <td>4</td>\n",
       "      <td>Longlife Tofu</td>\n",
       "      <td>10.00</td>\n",
       "      <td>4</td>\n",
       "      <td>20</td>\n",
       "    </tr>\n",
       "    <tr>\n",
       "      <th>74</th>\n",
       "      <td>75</td>\n",
       "      <td>12</td>\n",
       "      <td>Rhönbräu Klosterbier</td>\n",
       "      <td>7.75</td>\n",
       "      <td>125</td>\n",
       "      <td>0</td>\n",
       "    </tr>\n",
       "    <tr>\n",
       "      <th>75</th>\n",
       "      <td>76</td>\n",
       "      <td>23</td>\n",
       "      <td>Lakkalikööri</td>\n",
       "      <td>18.00</td>\n",
       "      <td>57</td>\n",
       "      <td>0</td>\n",
       "    </tr>\n",
       "    <tr>\n",
       "      <th>76</th>\n",
       "      <td>77</td>\n",
       "      <td>12</td>\n",
       "      <td>Original Frankfurter grüne Soße</td>\n",
       "      <td>13.00</td>\n",
       "      <td>32</td>\n",
       "      <td>0</td>\n",
       "    </tr>\n",
       "  </tbody>\n",
       "</table>\n",
       "<p>77 rows × 6 columns</p>\n",
       "</div>"
      ],
      "text/plain": [
       "    Id_Producto  Id_Proveedor                           Nombre  precio_unidad  \\\n",
       "0             1             8                             Chai          18.00   \n",
       "1             2             1                            Chang          19.00   \n",
       "2             3             1                    Aniseed Syrup          10.00   \n",
       "3             4             2     Chef Anton's Cajun Seasoning          22.00   \n",
       "4             5             2           Chef Anton's Gumbo Mix          21.35   \n",
       "..          ...           ...                              ...            ...   \n",
       "72           73            17                       Röd Kaviar          15.00   \n",
       "73           74             4                    Longlife Tofu          10.00   \n",
       "74           75            12             Rhönbräu Klosterbier           7.75   \n",
       "75           76            23                     Lakkalikööri          18.00   \n",
       "76           77            12  Original Frankfurter grüne Soße          13.00   \n",
       "\n",
       "    Unidades_stock  Unidades_pedidas  \n",
       "0               39                 0  \n",
       "1               17                40  \n",
       "2               13                70  \n",
       "3               53                 0  \n",
       "4                0                 0  \n",
       "..             ...               ...  \n",
       "72             101                 0  \n",
       "73               4                20  \n",
       "74             125                 0  \n",
       "75              57                 0  \n",
       "76              32                 0  \n",
       "\n",
       "[77 rows x 6 columns]"
      ]
     },
     "metadata": {},
     "output_type": "display_data"
    }
   ],
   "source": [
    "sql_query = '''\n",
    "SELECT \"product_id\" as \"Id_Producto\",\n",
    "\t\t\"supplier_id\" as \"Id_Proveedor\",\n",
    "\t\t\"product_name\" as \"Nombre\",\n",
    "\t\t\"unit_price\" as \"precio_unidad\",\n",
    "\t\t\"units_in_stock\" as \"Unidades_stock\",\n",
    "\t\t\"units_on_order\" as \"Unidades_pedidas\"\n",
    "FROM products\n",
    "'''\n",
    "cursor = conn.cursor() \n",
    "cursor.execute(sql_query) \n",
    "rows = cursor.fetchall() \n",
    "tabla = pd.DataFrame(rows)\n",
    "colnames = [desc[0] for desc in cursor.description]\n",
    "tabla = tabla.set_axis(colnames, axis = 1)\n",
    "display(tabla)"
   ]
  },
  {
   "cell_type": "markdown",
   "metadata": {},
   "source": [
    "Tenemos productos descontinuados?. Indica el nombre del producto, y\n",
    "cantidad que nos queda en stock. (El atributo Discontinued es un booleano: si\n",
    "es igual a 1 el producto ha sido descontinuado.)"
   ]
  },
  {
   "cell_type": "code",
   "execution_count": 34,
   "metadata": {},
   "outputs": [
    {
     "data": {
      "text/html": [
       "<div>\n",
       "<style scoped>\n",
       "    .dataframe tbody tr th:only-of-type {\n",
       "        vertical-align: middle;\n",
       "    }\n",
       "\n",
       "    .dataframe tbody tr th {\n",
       "        vertical-align: top;\n",
       "    }\n",
       "\n",
       "    .dataframe thead th {\n",
       "        text-align: right;\n",
       "    }\n",
       "</style>\n",
       "<table border=\"1\" class=\"dataframe\">\n",
       "  <thead>\n",
       "    <tr style=\"text-align: right;\">\n",
       "      <th></th>\n",
       "      <th>Nombre</th>\n",
       "      <th>Unidades_stock</th>\n",
       "    </tr>\n",
       "  </thead>\n",
       "  <tbody>\n",
       "    <tr>\n",
       "      <th>0</th>\n",
       "      <td>Chai</td>\n",
       "      <td>39</td>\n",
       "    </tr>\n",
       "    <tr>\n",
       "      <th>1</th>\n",
       "      <td>Chang</td>\n",
       "      <td>17</td>\n",
       "    </tr>\n",
       "    <tr>\n",
       "      <th>2</th>\n",
       "      <td>Chef Anton's Gumbo Mix</td>\n",
       "      <td>0</td>\n",
       "    </tr>\n",
       "    <tr>\n",
       "      <th>3</th>\n",
       "      <td>Mishi Kobe Niku</td>\n",
       "      <td>29</td>\n",
       "    </tr>\n",
       "    <tr>\n",
       "      <th>4</th>\n",
       "      <td>Alice Mutton</td>\n",
       "      <td>0</td>\n",
       "    </tr>\n",
       "    <tr>\n",
       "      <th>5</th>\n",
       "      <td>Guaraná Fantástica</td>\n",
       "      <td>20</td>\n",
       "    </tr>\n",
       "    <tr>\n",
       "      <th>6</th>\n",
       "      <td>Rössle Sauerkraut</td>\n",
       "      <td>26</td>\n",
       "    </tr>\n",
       "    <tr>\n",
       "      <th>7</th>\n",
       "      <td>Thüringer Rostbratwurst</td>\n",
       "      <td>0</td>\n",
       "    </tr>\n",
       "    <tr>\n",
       "      <th>8</th>\n",
       "      <td>Singaporean Hokkien Fried Mee</td>\n",
       "      <td>26</td>\n",
       "    </tr>\n",
       "    <tr>\n",
       "      <th>9</th>\n",
       "      <td>Perth Pasties</td>\n",
       "      <td>0</td>\n",
       "    </tr>\n",
       "  </tbody>\n",
       "</table>\n",
       "</div>"
      ],
      "text/plain": [
       "                          Nombre  Unidades_stock\n",
       "0                           Chai              39\n",
       "1                          Chang              17\n",
       "2         Chef Anton's Gumbo Mix               0\n",
       "3                Mishi Kobe Niku              29\n",
       "4                   Alice Mutton               0\n",
       "5             Guaraná Fantástica              20\n",
       "6              Rössle Sauerkraut              26\n",
       "7        Thüringer Rostbratwurst               0\n",
       "8  Singaporean Hokkien Fried Mee              26\n",
       "9                  Perth Pasties               0"
      ]
     },
     "metadata": {},
     "output_type": "display_data"
    }
   ],
   "source": [
    "sql_query = '''\n",
    "SELECT \"product_name\" as \"Nombre\",\n",
    "\t\t\"units_in_stock\" as \"Unidades_stock\"\n",
    "FROM products\n",
    "where \"discontinued\" = 1\n",
    "'''\n",
    "cursor = conn.cursor() \n",
    "cursor.execute(sql_query) \n",
    "rows = cursor.fetchall() \n",
    "tabla = pd.DataFrame(rows)\n",
    "colnames = [desc[0] for desc in cursor.description]\n",
    "tabla = tabla.set_axis(colnames, axis = 1)\n",
    "display(tabla)"
   ]
  },
  {
   "cell_type": "markdown",
   "metadata": {},
   "source": [
    "¿Qué proveedores tenemos? Indica el id de la compañía, nombre de la\n",
    "compañía, ciudad y país."
   ]
  },
  {
   "cell_type": "code",
   "execution_count": 35,
   "metadata": {},
   "outputs": [
    {
     "data": {
      "text/html": [
       "<div>\n",
       "<style scoped>\n",
       "    .dataframe tbody tr th:only-of-type {\n",
       "        vertical-align: middle;\n",
       "    }\n",
       "\n",
       "    .dataframe tbody tr th {\n",
       "        vertical-align: top;\n",
       "    }\n",
       "\n",
       "    .dataframe thead th {\n",
       "        text-align: right;\n",
       "    }\n",
       "</style>\n",
       "<table border=\"1\" class=\"dataframe\">\n",
       "  <thead>\n",
       "    <tr style=\"text-align: right;\">\n",
       "      <th></th>\n",
       "      <th>Id_proveedor</th>\n",
       "      <th>Nombre</th>\n",
       "      <th>Ciudad</th>\n",
       "      <th>Pais</th>\n",
       "    </tr>\n",
       "  </thead>\n",
       "  <tbody>\n",
       "    <tr>\n",
       "      <th>0</th>\n",
       "      <td>1</td>\n",
       "      <td>Exotic Liquids</td>\n",
       "      <td>London</td>\n",
       "      <td>UK</td>\n",
       "    </tr>\n",
       "    <tr>\n",
       "      <th>1</th>\n",
       "      <td>2</td>\n",
       "      <td>New Orleans Cajun Delights</td>\n",
       "      <td>New Orleans</td>\n",
       "      <td>USA</td>\n",
       "    </tr>\n",
       "    <tr>\n",
       "      <th>2</th>\n",
       "      <td>3</td>\n",
       "      <td>Grandma Kelly's Homestead</td>\n",
       "      <td>Ann Arbor</td>\n",
       "      <td>USA</td>\n",
       "    </tr>\n",
       "    <tr>\n",
       "      <th>3</th>\n",
       "      <td>4</td>\n",
       "      <td>Tokyo Traders</td>\n",
       "      <td>Tokyo</td>\n",
       "      <td>Japan</td>\n",
       "    </tr>\n",
       "    <tr>\n",
       "      <th>4</th>\n",
       "      <td>5</td>\n",
       "      <td>Cooperativa de Quesos 'Las Cabras'</td>\n",
       "      <td>Oviedo</td>\n",
       "      <td>Spain</td>\n",
       "    </tr>\n",
       "    <tr>\n",
       "      <th>5</th>\n",
       "      <td>6</td>\n",
       "      <td>Mayumi's</td>\n",
       "      <td>Osaka</td>\n",
       "      <td>Japan</td>\n",
       "    </tr>\n",
       "    <tr>\n",
       "      <th>6</th>\n",
       "      <td>7</td>\n",
       "      <td>Pavlova, Ltd.</td>\n",
       "      <td>Melbourne</td>\n",
       "      <td>Australia</td>\n",
       "    </tr>\n",
       "    <tr>\n",
       "      <th>7</th>\n",
       "      <td>8</td>\n",
       "      <td>Specialty Biscuits, Ltd.</td>\n",
       "      <td>Manchester</td>\n",
       "      <td>UK</td>\n",
       "    </tr>\n",
       "    <tr>\n",
       "      <th>8</th>\n",
       "      <td>9</td>\n",
       "      <td>PB Knäckebröd AB</td>\n",
       "      <td>Göteborg</td>\n",
       "      <td>Sweden</td>\n",
       "    </tr>\n",
       "    <tr>\n",
       "      <th>9</th>\n",
       "      <td>10</td>\n",
       "      <td>Refrescos Americanas LTDA</td>\n",
       "      <td>Sao Paulo</td>\n",
       "      <td>Brazil</td>\n",
       "    </tr>\n",
       "    <tr>\n",
       "      <th>10</th>\n",
       "      <td>11</td>\n",
       "      <td>Heli Süßwaren GmbH &amp; Co. KG</td>\n",
       "      <td>Berlin</td>\n",
       "      <td>Germany</td>\n",
       "    </tr>\n",
       "    <tr>\n",
       "      <th>11</th>\n",
       "      <td>12</td>\n",
       "      <td>Plutzer Lebensmittelgroßmärkte AG</td>\n",
       "      <td>Frankfurt</td>\n",
       "      <td>Germany</td>\n",
       "    </tr>\n",
       "    <tr>\n",
       "      <th>12</th>\n",
       "      <td>13</td>\n",
       "      <td>Nord-Ost-Fisch Handelsgesellschaft mbH</td>\n",
       "      <td>Cuxhaven</td>\n",
       "      <td>Germany</td>\n",
       "    </tr>\n",
       "    <tr>\n",
       "      <th>13</th>\n",
       "      <td>14</td>\n",
       "      <td>Formaggi Fortini s.r.l.</td>\n",
       "      <td>Ravenna</td>\n",
       "      <td>Italy</td>\n",
       "    </tr>\n",
       "    <tr>\n",
       "      <th>14</th>\n",
       "      <td>15</td>\n",
       "      <td>Norske Meierier</td>\n",
       "      <td>Sandvika</td>\n",
       "      <td>Norway</td>\n",
       "    </tr>\n",
       "    <tr>\n",
       "      <th>15</th>\n",
       "      <td>16</td>\n",
       "      <td>Bigfoot Breweries</td>\n",
       "      <td>Bend</td>\n",
       "      <td>USA</td>\n",
       "    </tr>\n",
       "    <tr>\n",
       "      <th>16</th>\n",
       "      <td>17</td>\n",
       "      <td>Svensk Sjöföda AB</td>\n",
       "      <td>Stockholm</td>\n",
       "      <td>Sweden</td>\n",
       "    </tr>\n",
       "    <tr>\n",
       "      <th>17</th>\n",
       "      <td>18</td>\n",
       "      <td>Aux joyeux ecclésiastiques</td>\n",
       "      <td>Paris</td>\n",
       "      <td>France</td>\n",
       "    </tr>\n",
       "    <tr>\n",
       "      <th>18</th>\n",
       "      <td>19</td>\n",
       "      <td>New England Seafood Cannery</td>\n",
       "      <td>Boston</td>\n",
       "      <td>USA</td>\n",
       "    </tr>\n",
       "    <tr>\n",
       "      <th>19</th>\n",
       "      <td>20</td>\n",
       "      <td>Leka Trading</td>\n",
       "      <td>Singapore</td>\n",
       "      <td>Singapore</td>\n",
       "    </tr>\n",
       "    <tr>\n",
       "      <th>20</th>\n",
       "      <td>21</td>\n",
       "      <td>Lyngbysild</td>\n",
       "      <td>Lyngby</td>\n",
       "      <td>Denmark</td>\n",
       "    </tr>\n",
       "    <tr>\n",
       "      <th>21</th>\n",
       "      <td>22</td>\n",
       "      <td>Zaanse Snoepfabriek</td>\n",
       "      <td>Zaandam</td>\n",
       "      <td>Netherlands</td>\n",
       "    </tr>\n",
       "    <tr>\n",
       "      <th>22</th>\n",
       "      <td>23</td>\n",
       "      <td>Karkki Oy</td>\n",
       "      <td>Lappeenranta</td>\n",
       "      <td>Finland</td>\n",
       "    </tr>\n",
       "    <tr>\n",
       "      <th>23</th>\n",
       "      <td>24</td>\n",
       "      <td>G'day, Mate</td>\n",
       "      <td>Sydney</td>\n",
       "      <td>Australia</td>\n",
       "    </tr>\n",
       "    <tr>\n",
       "      <th>24</th>\n",
       "      <td>25</td>\n",
       "      <td>Ma Maison</td>\n",
       "      <td>Montréal</td>\n",
       "      <td>Canada</td>\n",
       "    </tr>\n",
       "    <tr>\n",
       "      <th>25</th>\n",
       "      <td>26</td>\n",
       "      <td>Pasta Buttini s.r.l.</td>\n",
       "      <td>Salerno</td>\n",
       "      <td>Italy</td>\n",
       "    </tr>\n",
       "    <tr>\n",
       "      <th>26</th>\n",
       "      <td>27</td>\n",
       "      <td>Escargots Nouveaux</td>\n",
       "      <td>Montceau</td>\n",
       "      <td>France</td>\n",
       "    </tr>\n",
       "    <tr>\n",
       "      <th>27</th>\n",
       "      <td>28</td>\n",
       "      <td>Gai pâturage</td>\n",
       "      <td>Annecy</td>\n",
       "      <td>France</td>\n",
       "    </tr>\n",
       "    <tr>\n",
       "      <th>28</th>\n",
       "      <td>29</td>\n",
       "      <td>Forêts d'érables</td>\n",
       "      <td>Ste-Hyacinthe</td>\n",
       "      <td>Canada</td>\n",
       "    </tr>\n",
       "  </tbody>\n",
       "</table>\n",
       "</div>"
      ],
      "text/plain": [
       "    Id_proveedor                                  Nombre         Ciudad  \\\n",
       "0              1                          Exotic Liquids         London   \n",
       "1              2              New Orleans Cajun Delights    New Orleans   \n",
       "2              3               Grandma Kelly's Homestead      Ann Arbor   \n",
       "3              4                           Tokyo Traders          Tokyo   \n",
       "4              5      Cooperativa de Quesos 'Las Cabras'         Oviedo   \n",
       "5              6                                Mayumi's          Osaka   \n",
       "6              7                           Pavlova, Ltd.      Melbourne   \n",
       "7              8                Specialty Biscuits, Ltd.     Manchester   \n",
       "8              9                        PB Knäckebröd AB       Göteborg   \n",
       "9             10               Refrescos Americanas LTDA      Sao Paulo   \n",
       "10            11             Heli Süßwaren GmbH & Co. KG         Berlin   \n",
       "11            12       Plutzer Lebensmittelgroßmärkte AG      Frankfurt   \n",
       "12            13  Nord-Ost-Fisch Handelsgesellschaft mbH       Cuxhaven   \n",
       "13            14                 Formaggi Fortini s.r.l.        Ravenna   \n",
       "14            15                         Norske Meierier       Sandvika   \n",
       "15            16                       Bigfoot Breweries           Bend   \n",
       "16            17                       Svensk Sjöföda AB      Stockholm   \n",
       "17            18              Aux joyeux ecclésiastiques          Paris   \n",
       "18            19             New England Seafood Cannery         Boston   \n",
       "19            20                            Leka Trading      Singapore   \n",
       "20            21                              Lyngbysild         Lyngby   \n",
       "21            22                     Zaanse Snoepfabriek        Zaandam   \n",
       "22            23                               Karkki Oy   Lappeenranta   \n",
       "23            24                             G'day, Mate         Sydney   \n",
       "24            25                               Ma Maison       Montréal   \n",
       "25            26                    Pasta Buttini s.r.l.        Salerno   \n",
       "26            27                      Escargots Nouveaux       Montceau   \n",
       "27            28                            Gai pâturage         Annecy   \n",
       "28            29                        Forêts d'érables  Ste-Hyacinthe   \n",
       "\n",
       "           Pais  \n",
       "0            UK  \n",
       "1           USA  \n",
       "2           USA  \n",
       "3         Japan  \n",
       "4         Spain  \n",
       "5         Japan  \n",
       "6     Australia  \n",
       "7            UK  \n",
       "8        Sweden  \n",
       "9        Brazil  \n",
       "10      Germany  \n",
       "11      Germany  \n",
       "12      Germany  \n",
       "13        Italy  \n",
       "14       Norway  \n",
       "15          USA  \n",
       "16       Sweden  \n",
       "17       France  \n",
       "18          USA  \n",
       "19    Singapore  \n",
       "20      Denmark  \n",
       "21  Netherlands  \n",
       "22      Finland  \n",
       "23    Australia  \n",
       "24       Canada  \n",
       "25        Italy  \n",
       "26       France  \n",
       "27       France  \n",
       "28       Canada  "
      ]
     },
     "metadata": {},
     "output_type": "display_data"
    }
   ],
   "source": [
    "sql_query = '''\n",
    "SELECT \"supplier_id\" as \"Id_proveedor\",\n",
    "\t\t\"company_name\" as \"Nombre\",\n",
    "\t\t\"city\" as \"Ciudad\",\n",
    "\t\t\"country\" as \"Pais\"\n",
    "FROM suppliers\n",
    "'''\n",
    "cursor = conn.cursor() \n",
    "cursor.execute(sql_query) \n",
    "rows = cursor.fetchall() \n",
    "tabla = pd.DataFrame(rows)\n",
    "colnames = [desc[0] for desc in cursor.description]\n",
    "tabla = tabla.set_axis(colnames, axis = 1)\n",
    "display(tabla)"
   ]
  },
  {
   "cell_type": "markdown",
   "metadata": {},
   "source": [
    "¿Qué pedidos hemos tenido? Indica el número de pedido, id del cliente,id del\n",
    "transportista, dia del pedido, día requerido de llegada y día de llegada real."
   ]
  },
  {
   "cell_type": "code",
   "execution_count": 3,
   "metadata": {},
   "outputs": [
    {
     "data": {
      "text/html": [
       "<div>\n",
       "<style scoped>\n",
       "    .dataframe tbody tr th:only-of-type {\n",
       "        vertical-align: middle;\n",
       "    }\n",
       "\n",
       "    .dataframe tbody tr th {\n",
       "        vertical-align: top;\n",
       "    }\n",
       "\n",
       "    .dataframe thead th {\n",
       "        text-align: right;\n",
       "    }\n",
       "</style>\n",
       "<table border=\"1\" class=\"dataframe\">\n",
       "  <thead>\n",
       "    <tr style=\"text-align: right;\">\n",
       "      <th></th>\n",
       "      <th>Num_Pedido</th>\n",
       "      <th>Clte_Id</th>\n",
       "      <th>Transportista_Id</th>\n",
       "      <th>Dia_Pedido</th>\n",
       "      <th>Dia_requerido</th>\n",
       "      <th>Dia_entrega</th>\n",
       "    </tr>\n",
       "  </thead>\n",
       "  <tbody>\n",
       "    <tr>\n",
       "      <th>0</th>\n",
       "      <td>10248</td>\n",
       "      <td>VINET</td>\n",
       "      <td>3</td>\n",
       "      <td>1996-07-04</td>\n",
       "      <td>1996-08-01</td>\n",
       "      <td>1996-07-16</td>\n",
       "    </tr>\n",
       "    <tr>\n",
       "      <th>1</th>\n",
       "      <td>10249</td>\n",
       "      <td>TOMSP</td>\n",
       "      <td>1</td>\n",
       "      <td>1996-07-05</td>\n",
       "      <td>1996-08-16</td>\n",
       "      <td>1996-07-10</td>\n",
       "    </tr>\n",
       "    <tr>\n",
       "      <th>2</th>\n",
       "      <td>10250</td>\n",
       "      <td>HANAR</td>\n",
       "      <td>2</td>\n",
       "      <td>1996-07-08</td>\n",
       "      <td>1996-08-05</td>\n",
       "      <td>1996-07-12</td>\n",
       "    </tr>\n",
       "    <tr>\n",
       "      <th>3</th>\n",
       "      <td>10251</td>\n",
       "      <td>VICTE</td>\n",
       "      <td>1</td>\n",
       "      <td>1996-07-08</td>\n",
       "      <td>1996-08-05</td>\n",
       "      <td>1996-07-15</td>\n",
       "    </tr>\n",
       "    <tr>\n",
       "      <th>4</th>\n",
       "      <td>10252</td>\n",
       "      <td>SUPRD</td>\n",
       "      <td>2</td>\n",
       "      <td>1996-07-09</td>\n",
       "      <td>1996-08-06</td>\n",
       "      <td>1996-07-11</td>\n",
       "    </tr>\n",
       "    <tr>\n",
       "      <th>...</th>\n",
       "      <td>...</td>\n",
       "      <td>...</td>\n",
       "      <td>...</td>\n",
       "      <td>...</td>\n",
       "      <td>...</td>\n",
       "      <td>...</td>\n",
       "    </tr>\n",
       "    <tr>\n",
       "      <th>825</th>\n",
       "      <td>11073</td>\n",
       "      <td>PERIC</td>\n",
       "      <td>2</td>\n",
       "      <td>1998-05-05</td>\n",
       "      <td>1998-06-02</td>\n",
       "      <td>None</td>\n",
       "    </tr>\n",
       "    <tr>\n",
       "      <th>826</th>\n",
       "      <td>11074</td>\n",
       "      <td>SIMOB</td>\n",
       "      <td>2</td>\n",
       "      <td>1998-05-06</td>\n",
       "      <td>1998-06-03</td>\n",
       "      <td>None</td>\n",
       "    </tr>\n",
       "    <tr>\n",
       "      <th>827</th>\n",
       "      <td>11075</td>\n",
       "      <td>RICSU</td>\n",
       "      <td>2</td>\n",
       "      <td>1998-05-06</td>\n",
       "      <td>1998-06-03</td>\n",
       "      <td>None</td>\n",
       "    </tr>\n",
       "    <tr>\n",
       "      <th>828</th>\n",
       "      <td>11076</td>\n",
       "      <td>BONAP</td>\n",
       "      <td>2</td>\n",
       "      <td>1998-05-06</td>\n",
       "      <td>1998-06-03</td>\n",
       "      <td>None</td>\n",
       "    </tr>\n",
       "    <tr>\n",
       "      <th>829</th>\n",
       "      <td>11077</td>\n",
       "      <td>RATTC</td>\n",
       "      <td>2</td>\n",
       "      <td>1998-05-06</td>\n",
       "      <td>1998-06-03</td>\n",
       "      <td>None</td>\n",
       "    </tr>\n",
       "  </tbody>\n",
       "</table>\n",
       "<p>830 rows × 6 columns</p>\n",
       "</div>"
      ],
      "text/plain": [
       "     Num_Pedido Clte_Id  Transportista_Id  Dia_Pedido Dia_requerido  \\\n",
       "0         10248   VINET                 3  1996-07-04    1996-08-01   \n",
       "1         10249   TOMSP                 1  1996-07-05    1996-08-16   \n",
       "2         10250   HANAR                 2  1996-07-08    1996-08-05   \n",
       "3         10251   VICTE                 1  1996-07-08    1996-08-05   \n",
       "4         10252   SUPRD                 2  1996-07-09    1996-08-06   \n",
       "..          ...     ...               ...         ...           ...   \n",
       "825       11073   PERIC                 2  1998-05-05    1998-06-02   \n",
       "826       11074   SIMOB                 2  1998-05-06    1998-06-03   \n",
       "827       11075   RICSU                 2  1998-05-06    1998-06-03   \n",
       "828       11076   BONAP                 2  1998-05-06    1998-06-03   \n",
       "829       11077   RATTC                 2  1998-05-06    1998-06-03   \n",
       "\n",
       "    Dia_entrega  \n",
       "0    1996-07-16  \n",
       "1    1996-07-10  \n",
       "2    1996-07-12  \n",
       "3    1996-07-15  \n",
       "4    1996-07-11  \n",
       "..          ...  \n",
       "825        None  \n",
       "826        None  \n",
       "827        None  \n",
       "828        None  \n",
       "829        None  \n",
       "\n",
       "[830 rows x 6 columns]"
      ]
     },
     "metadata": {},
     "output_type": "display_data"
    }
   ],
   "source": [
    "sql_query = '''\n",
    "SELECT \"order_id\" as \"Num_Pedido\",\n",
    "\t\t\"customer_id\" as \"Clte_Id\",\n",
    "\t\t\"ship_via\" as \"Transportista_Id\",\n",
    "\t\t\"order_date\" as \"Dia_Pedido\",\n",
    "    \"required_date\" as \"Dia_requerido\",\n",
    "    \"shipped_date\" as \"Dia_entrega\"\n",
    "FROM Orders\n",
    "'''\n",
    "cursor = conn.cursor() \n",
    "cursor.execute(sql_query) \n",
    "rows = cursor.fetchall() \n",
    "tabla = pd.DataFrame(rows)\n",
    "colnames = [desc[0] for desc in cursor.description]\n",
    "tabla = tabla.set_axis(colnames, axis = 1)\n",
    "display(tabla)"
   ]
  },
  {
   "cell_type": "markdown",
   "metadata": {},
   "source": [
    "¿Cuántos pedidos hemos tenido?"
   ]
  },
  {
   "cell_type": "code",
   "execution_count": 8,
   "metadata": {},
   "outputs": [
    {
     "data": {
      "text/html": [
       "<div>\n",
       "<style scoped>\n",
       "    .dataframe tbody tr th:only-of-type {\n",
       "        vertical-align: middle;\n",
       "    }\n",
       "\n",
       "    .dataframe tbody tr th {\n",
       "        vertical-align: top;\n",
       "    }\n",
       "\n",
       "    .dataframe thead th {\n",
       "        text-align: right;\n",
       "    }\n",
       "</style>\n",
       "<table border=\"1\" class=\"dataframe\">\n",
       "  <thead>\n",
       "    <tr style=\"text-align: right;\">\n",
       "      <th></th>\n",
       "      <th>Num_Pedido</th>\n",
       "    </tr>\n",
       "  </thead>\n",
       "  <tbody>\n",
       "    <tr>\n",
       "      <th>0</th>\n",
       "      <td>830</td>\n",
       "    </tr>\n",
       "  </tbody>\n",
       "</table>\n",
       "</div>"
      ],
      "text/plain": [
       "   Num_Pedido\n",
       "0         830"
      ]
     },
     "metadata": {},
     "output_type": "display_data"
    }
   ],
   "source": [
    "sql_query = '''\n",
    "SELECT COUNT (\"order_id\") as \"Num_Pedido\"\n",
    "\t\t\n",
    "FROM Orders\n",
    "'''\n",
    "cursor = conn.cursor() \n",
    "cursor.execute(sql_query) \n",
    "rows = cursor.fetchall() \n",
    "tabla = pd.DataFrame(rows)\n",
    "colnames = [desc[0] for desc in cursor.description]\n",
    "tabla = tabla.set_axis(colnames, axis = 1)\n",
    "display(tabla)"
   ]
  },
  {
   "cell_type": "markdown",
   "metadata": {},
   "source": [
    "¿Cuántos clientes tenemos? Indica el id del cliente, nombre de la compañía,\n",
    "ciudad y país."
   ]
  },
  {
   "cell_type": "code",
   "execution_count": 12,
   "metadata": {},
   "outputs": [
    {
     "data": {
      "text/html": [
       "<div>\n",
       "<style scoped>\n",
       "    .dataframe tbody tr th:only-of-type {\n",
       "        vertical-align: middle;\n",
       "    }\n",
       "\n",
       "    .dataframe tbody tr th {\n",
       "        vertical-align: top;\n",
       "    }\n",
       "\n",
       "    .dataframe thead th {\n",
       "        text-align: right;\n",
       "    }\n",
       "</style>\n",
       "<table border=\"1\" class=\"dataframe\">\n",
       "  <thead>\n",
       "    <tr style=\"text-align: right;\">\n",
       "      <th></th>\n",
       "      <th>Id_clte</th>\n",
       "      <th>Nombre</th>\n",
       "      <th>Ciudad</th>\n",
       "      <th>Pais</th>\n",
       "    </tr>\n",
       "  </thead>\n",
       "  <tbody>\n",
       "    <tr>\n",
       "      <th>0</th>\n",
       "      <td>ALFKI</td>\n",
       "      <td>Alfreds Futterkiste</td>\n",
       "      <td>Berlin</td>\n",
       "      <td>Germany</td>\n",
       "    </tr>\n",
       "    <tr>\n",
       "      <th>1</th>\n",
       "      <td>ANATR</td>\n",
       "      <td>Ana Trujillo Emparedados y helados</td>\n",
       "      <td>México D.F.</td>\n",
       "      <td>Mexico</td>\n",
       "    </tr>\n",
       "    <tr>\n",
       "      <th>2</th>\n",
       "      <td>ANTON</td>\n",
       "      <td>Antonio Moreno Taquería</td>\n",
       "      <td>México D.F.</td>\n",
       "      <td>Mexico</td>\n",
       "    </tr>\n",
       "    <tr>\n",
       "      <th>3</th>\n",
       "      <td>AROUT</td>\n",
       "      <td>Around the Horn</td>\n",
       "      <td>London</td>\n",
       "      <td>UK</td>\n",
       "    </tr>\n",
       "    <tr>\n",
       "      <th>4</th>\n",
       "      <td>BERGS</td>\n",
       "      <td>Berglunds snabbköp</td>\n",
       "      <td>Luleå</td>\n",
       "      <td>Sweden</td>\n",
       "    </tr>\n",
       "    <tr>\n",
       "      <th>...</th>\n",
       "      <td>...</td>\n",
       "      <td>...</td>\n",
       "      <td>...</td>\n",
       "      <td>...</td>\n",
       "    </tr>\n",
       "    <tr>\n",
       "      <th>86</th>\n",
       "      <td>WARTH</td>\n",
       "      <td>Wartian Herkku</td>\n",
       "      <td>Oulu</td>\n",
       "      <td>Finland</td>\n",
       "    </tr>\n",
       "    <tr>\n",
       "      <th>87</th>\n",
       "      <td>WELLI</td>\n",
       "      <td>Wellington Importadora</td>\n",
       "      <td>Resende</td>\n",
       "      <td>Brazil</td>\n",
       "    </tr>\n",
       "    <tr>\n",
       "      <th>88</th>\n",
       "      <td>WHITC</td>\n",
       "      <td>White Clover Markets</td>\n",
       "      <td>Seattle</td>\n",
       "      <td>USA</td>\n",
       "    </tr>\n",
       "    <tr>\n",
       "      <th>89</th>\n",
       "      <td>WILMK</td>\n",
       "      <td>Wilman Kala</td>\n",
       "      <td>Helsinki</td>\n",
       "      <td>Finland</td>\n",
       "    </tr>\n",
       "    <tr>\n",
       "      <th>90</th>\n",
       "      <td>WOLZA</td>\n",
       "      <td>Wolski  Zajazd</td>\n",
       "      <td>Warszawa</td>\n",
       "      <td>Poland</td>\n",
       "    </tr>\n",
       "  </tbody>\n",
       "</table>\n",
       "<p>91 rows × 4 columns</p>\n",
       "</div>"
      ],
      "text/plain": [
       "   Id_clte                              Nombre       Ciudad     Pais\n",
       "0    ALFKI                 Alfreds Futterkiste       Berlin  Germany\n",
       "1    ANATR  Ana Trujillo Emparedados y helados  México D.F.   Mexico\n",
       "2    ANTON             Antonio Moreno Taquería  México D.F.   Mexico\n",
       "3    AROUT                     Around the Horn       London       UK\n",
       "4    BERGS                  Berglunds snabbköp        Luleå   Sweden\n",
       "..     ...                                 ...          ...      ...\n",
       "86   WARTH                      Wartian Herkku         Oulu  Finland\n",
       "87   WELLI              Wellington Importadora      Resende   Brazil\n",
       "88   WHITC                White Clover Markets      Seattle      USA\n",
       "89   WILMK                         Wilman Kala     Helsinki  Finland\n",
       "90   WOLZA                      Wolski  Zajazd     Warszawa   Poland\n",
       "\n",
       "[91 rows x 4 columns]"
      ]
     },
     "metadata": {},
     "output_type": "display_data"
    }
   ],
   "source": [
    "sql_query = '''\n",
    "SELECT \"customer_id\" as \"Id_clte\",\n",
    "\t\t\"company_name\" as \"Nombre\",\n",
    "\t\t\"city\" as \"Ciudad\",\n",
    "\t\t\"country\" as \"Pais\"\n",
    "FROM customers\n",
    "'''\n",
    "cursor = conn.cursor() \n",
    "cursor.execute(sql_query) \n",
    "rows = cursor.fetchall() \n",
    "tabla = pd.DataFrame(rows)\n",
    "colnames = [desc[0] for desc in cursor.description]\n",
    "tabla = tabla.set_axis(colnames, axis = 1)\n",
    "display(tabla)"
   ]
  },
  {
   "cell_type": "code",
   "execution_count": 13,
   "metadata": {},
   "outputs": [
    {
     "data": {
      "text/html": [
       "<div>\n",
       "<style scoped>\n",
       "    .dataframe tbody tr th:only-of-type {\n",
       "        vertical-align: middle;\n",
       "    }\n",
       "\n",
       "    .dataframe tbody tr th {\n",
       "        vertical-align: top;\n",
       "    }\n",
       "\n",
       "    .dataframe thead th {\n",
       "        text-align: right;\n",
       "    }\n",
       "</style>\n",
       "<table border=\"1\" class=\"dataframe\">\n",
       "  <thead>\n",
       "    <tr style=\"text-align: right;\">\n",
       "      <th></th>\n",
       "      <th>Num_Clte</th>\n",
       "    </tr>\n",
       "  </thead>\n",
       "  <tbody>\n",
       "    <tr>\n",
       "      <th>0</th>\n",
       "      <td>91</td>\n",
       "    </tr>\n",
       "  </tbody>\n",
       "</table>\n",
       "</div>"
      ],
      "text/plain": [
       "   Num_Clte\n",
       "0        91"
      ]
     },
     "metadata": {},
     "output_type": "display_data"
    }
   ],
   "source": [
    "sql_query = '''\n",
    "SELECT COUNT (\"customer_id\") as \"Num_Clte\"\n",
    "\t\t\n",
    "FROM customers\n",
    "'''\n",
    "cursor = conn.cursor() \n",
    "cursor.execute(sql_query) \n",
    "rows = cursor.fetchall() \n",
    "tabla = pd.DataFrame(rows)\n",
    "colnames = [desc[0] for desc in cursor.description]\n",
    "tabla = tabla.set_axis(colnames, axis = 1)\n",
    "display(tabla)"
   ]
  },
  {
   "cell_type": "markdown",
   "metadata": {},
   "source": [
    "¿Con qué empresas de transporte trabajamos? Indica su id del transportista y\n",
    "el nombre de la compañía."
   ]
  },
  {
   "cell_type": "code",
   "execution_count": 26,
   "metadata": {},
   "outputs": [
    {
     "data": {
      "text/html": [
       "<div>\n",
       "<style scoped>\n",
       "    .dataframe tbody tr th:only-of-type {\n",
       "        vertical-align: middle;\n",
       "    }\n",
       "\n",
       "    .dataframe tbody tr th {\n",
       "        vertical-align: top;\n",
       "    }\n",
       "\n",
       "    .dataframe thead th {\n",
       "        text-align: right;\n",
       "    }\n",
       "</style>\n",
       "<table border=\"1\" class=\"dataframe\">\n",
       "  <thead>\n",
       "    <tr style=\"text-align: right;\">\n",
       "      <th></th>\n",
       "      <th>Id_transportista</th>\n",
       "      <th>Nombre</th>\n",
       "    </tr>\n",
       "  </thead>\n",
       "  <tbody>\n",
       "    <tr>\n",
       "      <th>0</th>\n",
       "      <td>1</td>\n",
       "      <td>Speedy Express</td>\n",
       "    </tr>\n",
       "    <tr>\n",
       "      <th>1</th>\n",
       "      <td>2</td>\n",
       "      <td>United Package</td>\n",
       "    </tr>\n",
       "    <tr>\n",
       "      <th>2</th>\n",
       "      <td>3</td>\n",
       "      <td>Federal Shipping</td>\n",
       "    </tr>\n",
       "    <tr>\n",
       "      <th>3</th>\n",
       "      <td>4</td>\n",
       "      <td>Alliance Shippers</td>\n",
       "    </tr>\n",
       "    <tr>\n",
       "      <th>4</th>\n",
       "      <td>5</td>\n",
       "      <td>UPS</td>\n",
       "    </tr>\n",
       "    <tr>\n",
       "      <th>5</th>\n",
       "      <td>6</td>\n",
       "      <td>DHL</td>\n",
       "    </tr>\n",
       "  </tbody>\n",
       "</table>\n",
       "</div>"
      ],
      "text/plain": [
       "   Id_transportista             Nombre\n",
       "0                 1     Speedy Express\n",
       "1                 2     United Package\n",
       "2                 3   Federal Shipping\n",
       "3                 4  Alliance Shippers\n",
       "4                 5                UPS\n",
       "5                 6                DHL"
      ]
     },
     "metadata": {},
     "output_type": "display_data"
    }
   ],
   "source": [
    "sql_query = '''\n",
    "SELECT \"shipper_id\" as \"Id_transportista\",\n",
    "\t\t\"company_name\" as \"Nombre\"\n",
    "FROM shippers\n",
    "'''\n",
    "cursor = conn.cursor() \n",
    "cursor.execute(sql_query) \n",
    "rows = cursor.fetchall() \n",
    "tabla = pd.DataFrame(rows)\n",
    "colnames = [desc[0] for desc in cursor.description]\n",
    "tabla = tabla.set_axis(colnames, axis = 1)\n",
    "display(tabla)"
   ]
  },
  {
   "cell_type": "markdown",
   "metadata": {},
   "source": [
    "### EXTRA:\n",
    "**Compañias con las que se han realizado trasnportes**"
   ]
  },
  {
   "cell_type": "code",
   "execution_count": 18,
   "metadata": {},
   "outputs": [
    {
     "name": "stderr",
     "output_type": "stream",
     "text": [
      "C:\\Users\\david\\AppData\\Local\\Temp\\ipykernel_9088\\2844796598.py:8: UserWarning: pandas only supports SQLAlchemy connectable (engine/connection) or database string URI or sqlite3 DBAPI2 connection. Other DBAPI2 objects are not tested. Please consider using SQLAlchemy.\n",
      "  df=pd.read_sql_query(sql,conn,index_col='shipper_id')\n"
     ]
    },
    {
     "data": {
      "text/html": [
       "<div>\n",
       "<style scoped>\n",
       "    .dataframe tbody tr th:only-of-type {\n",
       "        vertical-align: middle;\n",
       "    }\n",
       "\n",
       "    .dataframe tbody tr th {\n",
       "        vertical-align: top;\n",
       "    }\n",
       "\n",
       "    .dataframe thead th {\n",
       "        text-align: right;\n",
       "    }\n",
       "</style>\n",
       "<table border=\"1\" class=\"dataframe\">\n",
       "  <thead>\n",
       "    <tr style=\"text-align: right;\">\n",
       "      <th></th>\n",
       "      <th>company_name</th>\n",
       "    </tr>\n",
       "    <tr>\n",
       "      <th>shipper_id</th>\n",
       "      <th></th>\n",
       "    </tr>\n",
       "  </thead>\n",
       "  <tbody>\n",
       "    <tr>\n",
       "      <th>1</th>\n",
       "      <td>Speedy Express</td>\n",
       "    </tr>\n",
       "    <tr>\n",
       "      <th>2</th>\n",
       "      <td>United Package</td>\n",
       "    </tr>\n",
       "    <tr>\n",
       "      <th>3</th>\n",
       "      <td>Federal Shipping</td>\n",
       "    </tr>\n",
       "  </tbody>\n",
       "</table>\n",
       "</div>"
      ],
      "text/plain": [
       "                company_name\n",
       "shipper_id                  \n",
       "1             Speedy Express\n",
       "2             United Package\n",
       "3           Federal Shipping"
      ]
     },
     "execution_count": 18,
     "metadata": {},
     "output_type": "execute_result"
    }
   ],
   "source": [
    "sql = '''\n",
    "SELECT DISTINCT(\"o\".\"ship_via\") AS \"shipper_id\",\n",
    "\t\"s\".\"company_name\"\n",
    "FROM \"orders\" AS o\n",
    "LEFT JOIN \"shippers\" AS s ON ship_via = shipper_id\n",
    "ORDER BY \"shipper_id\"\n",
    "'''\n",
    "df=pd.read_sql_query(sql,conn,index_col='shipper_id')\n",
    "df"
   ]
  },
  {
   "cell_type": "markdown",
   "metadata": {},
   "source": [
    "¿Cómo son las relaciones de reporte de resultados entre los empleados?"
   ]
  },
  {
   "cell_type": "code",
   "execution_count": 3,
   "metadata": {},
   "outputs": [
    {
     "data": {
      "text/html": [
       "<div>\n",
       "<style scoped>\n",
       "    .dataframe tbody tr th:only-of-type {\n",
       "        vertical-align: middle;\n",
       "    }\n",
       "\n",
       "    .dataframe tbody tr th {\n",
       "        vertical-align: top;\n",
       "    }\n",
       "\n",
       "    .dataframe thead th {\n",
       "        text-align: right;\n",
       "    }\n",
       "</style>\n",
       "<table border=\"1\" class=\"dataframe\">\n",
       "  <thead>\n",
       "    <tr style=\"text-align: right;\">\n",
       "      <th></th>\n",
       "      <th>Empleado</th>\n",
       "      <th>Jefe</th>\n",
       "    </tr>\n",
       "  </thead>\n",
       "  <tbody>\n",
       "    <tr>\n",
       "      <th>0</th>\n",
       "      <td>Margaret Peacock</td>\n",
       "      <td>Andrew Fuller</td>\n",
       "    </tr>\n",
       "    <tr>\n",
       "      <th>1</th>\n",
       "      <td>Laura Callahan</td>\n",
       "      <td>Andrew Fuller</td>\n",
       "    </tr>\n",
       "    <tr>\n",
       "      <th>2</th>\n",
       "      <td>Nancy Davolio</td>\n",
       "      <td>Andrew Fuller</td>\n",
       "    </tr>\n",
       "    <tr>\n",
       "      <th>3</th>\n",
       "      <td>Steven Buchanan</td>\n",
       "      <td>Andrew Fuller</td>\n",
       "    </tr>\n",
       "    <tr>\n",
       "      <th>4</th>\n",
       "      <td>Janet Leverling</td>\n",
       "      <td>Andrew Fuller</td>\n",
       "    </tr>\n",
       "    <tr>\n",
       "      <th>5</th>\n",
       "      <td>Anne Dodsworth</td>\n",
       "      <td>Steven Buchanan</td>\n",
       "    </tr>\n",
       "    <tr>\n",
       "      <th>6</th>\n",
       "      <td>Michael Suyama</td>\n",
       "      <td>Steven Buchanan</td>\n",
       "    </tr>\n",
       "    <tr>\n",
       "      <th>7</th>\n",
       "      <td>Robert King</td>\n",
       "      <td>Steven Buchanan</td>\n",
       "    </tr>\n",
       "  </tbody>\n",
       "</table>\n",
       "</div>"
      ],
      "text/plain": [
       "           Empleado             Jefe\n",
       "0  Margaret Peacock    Andrew Fuller\n",
       "1    Laura Callahan    Andrew Fuller\n",
       "2     Nancy Davolio    Andrew Fuller\n",
       "3   Steven Buchanan    Andrew Fuller\n",
       "4   Janet Leverling    Andrew Fuller\n",
       "5    Anne Dodsworth  Steven Buchanan\n",
       "6    Michael Suyama  Steven Buchanan\n",
       "7       Robert King  Steven Buchanan"
      ]
     },
     "metadata": {},
     "output_type": "display_data"
    }
   ],
   "source": [
    "sql_query = '''\n",
    "SELECT CONCAT(\"e\".\"first_name\" ,' ', \"e\".\"last_name\") as \"Empleado\",\n",
    "\t\tCONCAT(\"j\".\"first_name\" ,' ', \"j\".\"last_name\") as \"Jefe\"\n",
    "      \n",
    "FROM employees AS \"e\"\n",
    "INNER JOIN employees as \"j\" ON \"e\".\"reports_to\" = \"j\".\"employee_id\"\n",
    "ORDER BY \"Jefe\"\n",
    "'''\n",
    "cursor = conn.cursor() \n",
    "cursor.execute(sql_query) \n",
    "rows = cursor.fetchall() \n",
    "tabla = pd.DataFrame(rows)\n",
    "colnames = [desc[0] for desc in cursor.description]\n",
    "tabla = tabla.set_axis(colnames, axis = 1)\n",
    "display(tabla)"
   ]
  },
  {
   "cell_type": "markdown",
   "metadata": {},
   "source": [
    "Ejercicio 3. Análisis de la empresa\n",
    "Vamos a crear un par de DataFrames uno con la información de las tablas de\n",
    "pedidos y clientes y otro con la información de productos, proveedores y detalles\n",
    "de los pedidos para poder hacer un estudio de la evolución de nuestra empresa y\n",
    "qué cosas podemos mejorar de esta."
   ]
  },
  {
   "cell_type": "code",
   "execution_count": 5,
   "metadata": {},
   "outputs": [
    {
     "data": {
      "text/html": [
       "<div>\n",
       "<style scoped>\n",
       "    .dataframe tbody tr th:only-of-type {\n",
       "        vertical-align: middle;\n",
       "    }\n",
       "\n",
       "    .dataframe tbody tr th {\n",
       "        vertical-align: top;\n",
       "    }\n",
       "\n",
       "    .dataframe thead th {\n",
       "        text-align: right;\n",
       "    }\n",
       "</style>\n",
       "<table border=\"1\" class=\"dataframe\">\n",
       "  <thead>\n",
       "    <tr style=\"text-align: right;\">\n",
       "      <th></th>\n",
       "      <th>customer_id</th>\n",
       "      <th>company_name</th>\n",
       "      <th>contact_name</th>\n",
       "      <th>contact_title</th>\n",
       "      <th>address</th>\n",
       "      <th>city</th>\n",
       "      <th>region</th>\n",
       "      <th>postal_code</th>\n",
       "      <th>country</th>\n",
       "      <th>phone</th>\n",
       "      <th>...</th>\n",
       "      <th>required_date</th>\n",
       "      <th>shipped_date</th>\n",
       "      <th>ship_via</th>\n",
       "      <th>freight</th>\n",
       "      <th>ship_name</th>\n",
       "      <th>ship_address</th>\n",
       "      <th>ship_city</th>\n",
       "      <th>ship_region</th>\n",
       "      <th>ship_postal_code</th>\n",
       "      <th>ship_country</th>\n",
       "    </tr>\n",
       "  </thead>\n",
       "  <tbody>\n",
       "    <tr>\n",
       "      <th>0</th>\n",
       "      <td>VINET</td>\n",
       "      <td>Vins et alcools Chevalier</td>\n",
       "      <td>Paul Henriot</td>\n",
       "      <td>Accounting Manager</td>\n",
       "      <td>59 rue de l'Abbaye</td>\n",
       "      <td>Reims</td>\n",
       "      <td>None</td>\n",
       "      <td>51100</td>\n",
       "      <td>France</td>\n",
       "      <td>26.47.15.10</td>\n",
       "      <td>...</td>\n",
       "      <td>1996-08-01</td>\n",
       "      <td>1996-07-16</td>\n",
       "      <td>3.0</td>\n",
       "      <td>32.38</td>\n",
       "      <td>Vins et alcools Chevalier</td>\n",
       "      <td>59 rue de l'Abbaye</td>\n",
       "      <td>Reims</td>\n",
       "      <td>None</td>\n",
       "      <td>51100</td>\n",
       "      <td>France</td>\n",
       "    </tr>\n",
       "    <tr>\n",
       "      <th>1</th>\n",
       "      <td>TOMSP</td>\n",
       "      <td>Toms Spezialitäten</td>\n",
       "      <td>Karin Josephs</td>\n",
       "      <td>Marketing Manager</td>\n",
       "      <td>Luisenstr. 48</td>\n",
       "      <td>Münster</td>\n",
       "      <td>None</td>\n",
       "      <td>44087</td>\n",
       "      <td>Germany</td>\n",
       "      <td>0251-031259</td>\n",
       "      <td>...</td>\n",
       "      <td>1996-08-16</td>\n",
       "      <td>1996-07-10</td>\n",
       "      <td>1.0</td>\n",
       "      <td>11.61</td>\n",
       "      <td>Toms Spezialitäten</td>\n",
       "      <td>Luisenstr. 48</td>\n",
       "      <td>Münster</td>\n",
       "      <td>None</td>\n",
       "      <td>44087</td>\n",
       "      <td>Germany</td>\n",
       "    </tr>\n",
       "    <tr>\n",
       "      <th>2</th>\n",
       "      <td>HANAR</td>\n",
       "      <td>Hanari Carnes</td>\n",
       "      <td>Mario Pontes</td>\n",
       "      <td>Accounting Manager</td>\n",
       "      <td>Rua do Paço, 67</td>\n",
       "      <td>Rio de Janeiro</td>\n",
       "      <td>RJ</td>\n",
       "      <td>05454-876</td>\n",
       "      <td>Brazil</td>\n",
       "      <td>(21) 555-0091</td>\n",
       "      <td>...</td>\n",
       "      <td>1996-08-05</td>\n",
       "      <td>1996-07-12</td>\n",
       "      <td>2.0</td>\n",
       "      <td>65.83</td>\n",
       "      <td>Hanari Carnes</td>\n",
       "      <td>Rua do Paço, 67</td>\n",
       "      <td>Rio de Janeiro</td>\n",
       "      <td>RJ</td>\n",
       "      <td>05454-876</td>\n",
       "      <td>Brazil</td>\n",
       "    </tr>\n",
       "    <tr>\n",
       "      <th>3</th>\n",
       "      <td>VICTE</td>\n",
       "      <td>Victuailles en stock</td>\n",
       "      <td>Mary Saveley</td>\n",
       "      <td>Sales Agent</td>\n",
       "      <td>2, rue du Commerce</td>\n",
       "      <td>Lyon</td>\n",
       "      <td>None</td>\n",
       "      <td>69004</td>\n",
       "      <td>France</td>\n",
       "      <td>78.32.54.86</td>\n",
       "      <td>...</td>\n",
       "      <td>1996-08-05</td>\n",
       "      <td>1996-07-15</td>\n",
       "      <td>1.0</td>\n",
       "      <td>41.34</td>\n",
       "      <td>Victuailles en stock</td>\n",
       "      <td>2, rue du Commerce</td>\n",
       "      <td>Lyon</td>\n",
       "      <td>None</td>\n",
       "      <td>69004</td>\n",
       "      <td>France</td>\n",
       "    </tr>\n",
       "    <tr>\n",
       "      <th>4</th>\n",
       "      <td>SUPRD</td>\n",
       "      <td>Suprêmes délices</td>\n",
       "      <td>Pascale Cartrain</td>\n",
       "      <td>Accounting Manager</td>\n",
       "      <td>Boulevard Tirou, 255</td>\n",
       "      <td>Charleroi</td>\n",
       "      <td>None</td>\n",
       "      <td>B-6000</td>\n",
       "      <td>Belgium</td>\n",
       "      <td>(071) 23 67 22 20</td>\n",
       "      <td>...</td>\n",
       "      <td>1996-08-06</td>\n",
       "      <td>1996-07-11</td>\n",
       "      <td>2.0</td>\n",
       "      <td>51.30</td>\n",
       "      <td>Suprêmes délices</td>\n",
       "      <td>Boulevard Tirou, 255</td>\n",
       "      <td>Charleroi</td>\n",
       "      <td>None</td>\n",
       "      <td>B-6000</td>\n",
       "      <td>Belgium</td>\n",
       "    </tr>\n",
       "    <tr>\n",
       "      <th>...</th>\n",
       "      <td>...</td>\n",
       "      <td>...</td>\n",
       "      <td>...</td>\n",
       "      <td>...</td>\n",
       "      <td>...</td>\n",
       "      <td>...</td>\n",
       "      <td>...</td>\n",
       "      <td>...</td>\n",
       "      <td>...</td>\n",
       "      <td>...</td>\n",
       "      <td>...</td>\n",
       "      <td>...</td>\n",
       "      <td>...</td>\n",
       "      <td>...</td>\n",
       "      <td>...</td>\n",
       "      <td>...</td>\n",
       "      <td>...</td>\n",
       "      <td>...</td>\n",
       "      <td>...</td>\n",
       "      <td>...</td>\n",
       "      <td>...</td>\n",
       "    </tr>\n",
       "    <tr>\n",
       "      <th>827</th>\n",
       "      <td>RICSU</td>\n",
       "      <td>Richter Supermarkt</td>\n",
       "      <td>Michael Holz</td>\n",
       "      <td>Sales Manager</td>\n",
       "      <td>Grenzacherweg 237</td>\n",
       "      <td>Genève</td>\n",
       "      <td>None</td>\n",
       "      <td>1203</td>\n",
       "      <td>Switzerland</td>\n",
       "      <td>0897-034214</td>\n",
       "      <td>...</td>\n",
       "      <td>1998-06-03</td>\n",
       "      <td>None</td>\n",
       "      <td>2.0</td>\n",
       "      <td>6.19</td>\n",
       "      <td>Richter Supermarkt</td>\n",
       "      <td>Starenweg 5</td>\n",
       "      <td>Genève</td>\n",
       "      <td>None</td>\n",
       "      <td>1204</td>\n",
       "      <td>Switzerland</td>\n",
       "    </tr>\n",
       "    <tr>\n",
       "      <th>828</th>\n",
       "      <td>BONAP</td>\n",
       "      <td>Bon app'</td>\n",
       "      <td>Laurence Lebihan</td>\n",
       "      <td>Owner</td>\n",
       "      <td>12, rue des Bouchers</td>\n",
       "      <td>Marseille</td>\n",
       "      <td>None</td>\n",
       "      <td>13008</td>\n",
       "      <td>France</td>\n",
       "      <td>91.24.45.40</td>\n",
       "      <td>...</td>\n",
       "      <td>1998-06-03</td>\n",
       "      <td>None</td>\n",
       "      <td>2.0</td>\n",
       "      <td>38.28</td>\n",
       "      <td>Bon app'</td>\n",
       "      <td>12, rue des Bouchers</td>\n",
       "      <td>Marseille</td>\n",
       "      <td>None</td>\n",
       "      <td>13008</td>\n",
       "      <td>France</td>\n",
       "    </tr>\n",
       "    <tr>\n",
       "      <th>829</th>\n",
       "      <td>RATTC</td>\n",
       "      <td>Rattlesnake Canyon Grocery</td>\n",
       "      <td>Paula Wilson</td>\n",
       "      <td>Assistant Sales Representative</td>\n",
       "      <td>2817 Milton Dr.</td>\n",
       "      <td>Albuquerque</td>\n",
       "      <td>NM</td>\n",
       "      <td>87110</td>\n",
       "      <td>USA</td>\n",
       "      <td>(505) 555-5939</td>\n",
       "      <td>...</td>\n",
       "      <td>1998-06-03</td>\n",
       "      <td>None</td>\n",
       "      <td>2.0</td>\n",
       "      <td>8.53</td>\n",
       "      <td>Rattlesnake Canyon Grocery</td>\n",
       "      <td>2817 Milton Dr.</td>\n",
       "      <td>Albuquerque</td>\n",
       "      <td>NM</td>\n",
       "      <td>87110</td>\n",
       "      <td>USA</td>\n",
       "    </tr>\n",
       "    <tr>\n",
       "      <th>830</th>\n",
       "      <td>PARIS</td>\n",
       "      <td>Paris spécialités</td>\n",
       "      <td>Marie Bertrand</td>\n",
       "      <td>Owner</td>\n",
       "      <td>265, boulevard Charonne</td>\n",
       "      <td>Paris</td>\n",
       "      <td>None</td>\n",
       "      <td>75012</td>\n",
       "      <td>France</td>\n",
       "      <td>(1) 42.34.22.66</td>\n",
       "      <td>...</td>\n",
       "      <td>None</td>\n",
       "      <td>None</td>\n",
       "      <td>NaN</td>\n",
       "      <td>NaN</td>\n",
       "      <td>None</td>\n",
       "      <td>None</td>\n",
       "      <td>None</td>\n",
       "      <td>None</td>\n",
       "      <td>None</td>\n",
       "      <td>None</td>\n",
       "    </tr>\n",
       "    <tr>\n",
       "      <th>831</th>\n",
       "      <td>FISSA</td>\n",
       "      <td>FISSA Fabrica Inter. Salchichas S.A.</td>\n",
       "      <td>Diego Roel</td>\n",
       "      <td>Accounting Manager</td>\n",
       "      <td>C/ Moralzarzal, 86</td>\n",
       "      <td>Madrid</td>\n",
       "      <td>None</td>\n",
       "      <td>28034</td>\n",
       "      <td>Spain</td>\n",
       "      <td>(91) 555 94 44</td>\n",
       "      <td>...</td>\n",
       "      <td>None</td>\n",
       "      <td>None</td>\n",
       "      <td>NaN</td>\n",
       "      <td>NaN</td>\n",
       "      <td>None</td>\n",
       "      <td>None</td>\n",
       "      <td>None</td>\n",
       "      <td>None</td>\n",
       "      <td>None</td>\n",
       "      <td>None</td>\n",
       "    </tr>\n",
       "  </tbody>\n",
       "</table>\n",
       "<p>832 rows × 25 columns</p>\n",
       "</div>"
      ],
      "text/plain": [
       "    customer_id                          company_name      contact_name  \\\n",
       "0         VINET             Vins et alcools Chevalier      Paul Henriot   \n",
       "1         TOMSP                    Toms Spezialitäten     Karin Josephs   \n",
       "2         HANAR                         Hanari Carnes      Mario Pontes   \n",
       "3         VICTE                  Victuailles en stock      Mary Saveley   \n",
       "4         SUPRD                      Suprêmes délices  Pascale Cartrain   \n",
       "..          ...                                   ...               ...   \n",
       "827       RICSU                    Richter Supermarkt      Michael Holz   \n",
       "828       BONAP                              Bon app'  Laurence Lebihan   \n",
       "829       RATTC            Rattlesnake Canyon Grocery      Paula Wilson   \n",
       "830       PARIS                     Paris spécialités    Marie Bertrand   \n",
       "831       FISSA  FISSA Fabrica Inter. Salchichas S.A.        Diego Roel   \n",
       "\n",
       "                      contact_title                  address            city  \\\n",
       "0                Accounting Manager       59 rue de l'Abbaye           Reims   \n",
       "1                 Marketing Manager            Luisenstr. 48         Münster   \n",
       "2                Accounting Manager          Rua do Paço, 67  Rio de Janeiro   \n",
       "3                       Sales Agent       2, rue du Commerce            Lyon   \n",
       "4                Accounting Manager     Boulevard Tirou, 255       Charleroi   \n",
       "..                              ...                      ...             ...   \n",
       "827                   Sales Manager        Grenzacherweg 237          Genève   \n",
       "828                           Owner     12, rue des Bouchers       Marseille   \n",
       "829  Assistant Sales Representative          2817 Milton Dr.     Albuquerque   \n",
       "830                           Owner  265, boulevard Charonne           Paris   \n",
       "831              Accounting Manager       C/ Moralzarzal, 86          Madrid   \n",
       "\n",
       "    region postal_code      country              phone  ... required_date  \\\n",
       "0     None       51100       France        26.47.15.10  ...    1996-08-01   \n",
       "1     None       44087      Germany        0251-031259  ...    1996-08-16   \n",
       "2       RJ   05454-876       Brazil      (21) 555-0091  ...    1996-08-05   \n",
       "3     None       69004       France        78.32.54.86  ...    1996-08-05   \n",
       "4     None      B-6000      Belgium  (071) 23 67 22 20  ...    1996-08-06   \n",
       "..     ...         ...          ...                ...  ...           ...   \n",
       "827   None        1203  Switzerland        0897-034214  ...    1998-06-03   \n",
       "828   None       13008       France        91.24.45.40  ...    1998-06-03   \n",
       "829     NM       87110          USA     (505) 555-5939  ...    1998-06-03   \n",
       "830   None       75012       France    (1) 42.34.22.66  ...          None   \n",
       "831   None       28034        Spain     (91) 555 94 44  ...          None   \n",
       "\n",
       "     shipped_date ship_via  freight                   ship_name  \\\n",
       "0      1996-07-16      3.0    32.38   Vins et alcools Chevalier   \n",
       "1      1996-07-10      1.0    11.61          Toms Spezialitäten   \n",
       "2      1996-07-12      2.0    65.83               Hanari Carnes   \n",
       "3      1996-07-15      1.0    41.34        Victuailles en stock   \n",
       "4      1996-07-11      2.0    51.30            Suprêmes délices   \n",
       "..            ...      ...      ...                         ...   \n",
       "827          None      2.0     6.19          Richter Supermarkt   \n",
       "828          None      2.0    38.28                    Bon app'   \n",
       "829          None      2.0     8.53  Rattlesnake Canyon Grocery   \n",
       "830          None      NaN      NaN                        None   \n",
       "831          None      NaN      NaN                        None   \n",
       "\n",
       "             ship_address       ship_city  ship_region  ship_postal_code  \\\n",
       "0      59 rue de l'Abbaye           Reims         None             51100   \n",
       "1           Luisenstr. 48         Münster         None             44087   \n",
       "2         Rua do Paço, 67  Rio de Janeiro           RJ         05454-876   \n",
       "3      2, rue du Commerce            Lyon         None             69004   \n",
       "4    Boulevard Tirou, 255       Charleroi         None            B-6000   \n",
       "..                    ...             ...          ...               ...   \n",
       "827           Starenweg 5          Genève         None              1204   \n",
       "828  12, rue des Bouchers       Marseille         None             13008   \n",
       "829       2817 Milton Dr.     Albuquerque           NM             87110   \n",
       "830                  None            None         None              None   \n",
       "831                  None            None         None              None   \n",
       "\n",
       "    ship_country  \n",
       "0         France  \n",
       "1        Germany  \n",
       "2         Brazil  \n",
       "3         France  \n",
       "4        Belgium  \n",
       "..           ...  \n",
       "827  Switzerland  \n",
       "828       France  \n",
       "829          USA  \n",
       "830         None  \n",
       "831         None  \n",
       "\n",
       "[832 rows x 25 columns]"
      ]
     },
     "metadata": {},
     "output_type": "display_data"
    }
   ],
   "source": [
    "#tabla pedidos+clientes\n",
    "sql_query = '''\n",
    "SELECT * \n",
    "FROM customers c\n",
    "LEFT JOIN orders o \n",
    "ON c.customer_id = o.customer_id\n",
    "'''\n",
    "cursor = conn.cursor() \n",
    "cursor.execute(sql_query) \n",
    "rows = cursor.fetchall() \n",
    "colnames = [desc[0] for desc in cursor.description] \n",
    "cursor.close()\n",
    "tabla1 = pd.DataFrame(data = rows, columns = colnames)\n",
    "display(tabla1)"
   ]
  },
  {
   "cell_type": "code",
   "execution_count": 13,
   "metadata": {},
   "outputs": [
    {
     "data": {
      "text/html": [
       "<div>\n",
       "<style scoped>\n",
       "    .dataframe tbody tr th:only-of-type {\n",
       "        vertical-align: middle;\n",
       "    }\n",
       "\n",
       "    .dataframe tbody tr th {\n",
       "        vertical-align: top;\n",
       "    }\n",
       "\n",
       "    .dataframe thead th {\n",
       "        text-align: right;\n",
       "    }\n",
       "</style>\n",
       "<table border=\"1\" class=\"dataframe\">\n",
       "  <thead>\n",
       "    <tr style=\"text-align: right;\">\n",
       "      <th></th>\n",
       "      <th>product_id</th>\n",
       "      <th>product_name</th>\n",
       "      <th>supplier_id</th>\n",
       "      <th>category_id</th>\n",
       "      <th>quantity_per_unit</th>\n",
       "      <th>unit_price</th>\n",
       "      <th>units_in_stock</th>\n",
       "      <th>units_on_order</th>\n",
       "      <th>reorder_level</th>\n",
       "      <th>discontinued</th>\n",
       "      <th>...</th>\n",
       "      <th>contact_name</th>\n",
       "      <th>contact_title</th>\n",
       "      <th>address</th>\n",
       "      <th>city</th>\n",
       "      <th>region</th>\n",
       "      <th>postal_code</th>\n",
       "      <th>country</th>\n",
       "      <th>phone</th>\n",
       "      <th>fax</th>\n",
       "      <th>homepage</th>\n",
       "    </tr>\n",
       "  </thead>\n",
       "  <tbody>\n",
       "    <tr>\n",
       "      <th>0</th>\n",
       "      <td>11</td>\n",
       "      <td>Queso Cabrales</td>\n",
       "      <td>5</td>\n",
       "      <td>4</td>\n",
       "      <td>1 kg pkg.</td>\n",
       "      <td>21.00</td>\n",
       "      <td>22</td>\n",
       "      <td>30</td>\n",
       "      <td>30</td>\n",
       "      <td>0</td>\n",
       "      <td>...</td>\n",
       "      <td>Antonio del Valle Saavedra</td>\n",
       "      <td>Export Administrator</td>\n",
       "      <td>Calle del Rosal 4</td>\n",
       "      <td>Oviedo</td>\n",
       "      <td>Asturias</td>\n",
       "      <td>33007</td>\n",
       "      <td>Spain</td>\n",
       "      <td>(98) 598 76 54</td>\n",
       "      <td>None</td>\n",
       "      <td>None</td>\n",
       "    </tr>\n",
       "    <tr>\n",
       "      <th>1</th>\n",
       "      <td>42</td>\n",
       "      <td>Singaporean Hokkien Fried Mee</td>\n",
       "      <td>20</td>\n",
       "      <td>5</td>\n",
       "      <td>32 - 1 kg pkgs.</td>\n",
       "      <td>14.00</td>\n",
       "      <td>26</td>\n",
       "      <td>0</td>\n",
       "      <td>0</td>\n",
       "      <td>1</td>\n",
       "      <td>...</td>\n",
       "      <td>Chandra Leka</td>\n",
       "      <td>Owner</td>\n",
       "      <td>471 Serangoon Loop, Suite #402</td>\n",
       "      <td>Singapore</td>\n",
       "      <td>None</td>\n",
       "      <td>0512</td>\n",
       "      <td>Singapore</td>\n",
       "      <td>555-8787</td>\n",
       "      <td>None</td>\n",
       "      <td>None</td>\n",
       "    </tr>\n",
       "    <tr>\n",
       "      <th>2</th>\n",
       "      <td>72</td>\n",
       "      <td>Mozzarella di Giovanni</td>\n",
       "      <td>14</td>\n",
       "      <td>4</td>\n",
       "      <td>24 - 200 g pkgs.</td>\n",
       "      <td>34.80</td>\n",
       "      <td>14</td>\n",
       "      <td>0</td>\n",
       "      <td>0</td>\n",
       "      <td>0</td>\n",
       "      <td>...</td>\n",
       "      <td>Elio Rossi</td>\n",
       "      <td>Sales Representative</td>\n",
       "      <td>Viale Dante, 75</td>\n",
       "      <td>Ravenna</td>\n",
       "      <td>None</td>\n",
       "      <td>48100</td>\n",
       "      <td>Italy</td>\n",
       "      <td>(0544) 60323</td>\n",
       "      <td>(0544) 60603</td>\n",
       "      <td>#FORMAGGI.HTM#</td>\n",
       "    </tr>\n",
       "    <tr>\n",
       "      <th>3</th>\n",
       "      <td>14</td>\n",
       "      <td>Tofu</td>\n",
       "      <td>6</td>\n",
       "      <td>7</td>\n",
       "      <td>40 - 100 g pkgs.</td>\n",
       "      <td>23.25</td>\n",
       "      <td>35</td>\n",
       "      <td>0</td>\n",
       "      <td>0</td>\n",
       "      <td>0</td>\n",
       "      <td>...</td>\n",
       "      <td>Mayumi Ohno</td>\n",
       "      <td>Marketing Representative</td>\n",
       "      <td>92 Setsuko Chuo-ku</td>\n",
       "      <td>Osaka</td>\n",
       "      <td>None</td>\n",
       "      <td>545</td>\n",
       "      <td>Japan</td>\n",
       "      <td>(06) 431-7877</td>\n",
       "      <td>None</td>\n",
       "      <td>Mayumi's (on the World Wide Web)#http://www.mi...</td>\n",
       "    </tr>\n",
       "    <tr>\n",
       "      <th>4</th>\n",
       "      <td>51</td>\n",
       "      <td>Manjimup Dried Apples</td>\n",
       "      <td>24</td>\n",
       "      <td>7</td>\n",
       "      <td>50 - 300 g pkgs.</td>\n",
       "      <td>53.00</td>\n",
       "      <td>20</td>\n",
       "      <td>0</td>\n",
       "      <td>10</td>\n",
       "      <td>0</td>\n",
       "      <td>...</td>\n",
       "      <td>Wendy Mackenzie</td>\n",
       "      <td>Sales Representative</td>\n",
       "      <td>170 Prince Edward Parade Hunter's Hill</td>\n",
       "      <td>Sydney</td>\n",
       "      <td>NSW</td>\n",
       "      <td>2042</td>\n",
       "      <td>Australia</td>\n",
       "      <td>(02) 555-5914</td>\n",
       "      <td>(02) 555-4873</td>\n",
       "      <td>G'day Mate (on the World Wide Web)#http://www....</td>\n",
       "    </tr>\n",
       "    <tr>\n",
       "      <th>...</th>\n",
       "      <td>...</td>\n",
       "      <td>...</td>\n",
       "      <td>...</td>\n",
       "      <td>...</td>\n",
       "      <td>...</td>\n",
       "      <td>...</td>\n",
       "      <td>...</td>\n",
       "      <td>...</td>\n",
       "      <td>...</td>\n",
       "      <td>...</td>\n",
       "      <td>...</td>\n",
       "      <td>...</td>\n",
       "      <td>...</td>\n",
       "      <td>...</td>\n",
       "      <td>...</td>\n",
       "      <td>...</td>\n",
       "      <td>...</td>\n",
       "      <td>...</td>\n",
       "      <td>...</td>\n",
       "      <td>...</td>\n",
       "      <td>...</td>\n",
       "    </tr>\n",
       "    <tr>\n",
       "      <th>2150</th>\n",
       "      <td>64</td>\n",
       "      <td>Wimmers gute Semmelknödel</td>\n",
       "      <td>12</td>\n",
       "      <td>5</td>\n",
       "      <td>20 bags x 4 pieces</td>\n",
       "      <td>33.25</td>\n",
       "      <td>22</td>\n",
       "      <td>80</td>\n",
       "      <td>30</td>\n",
       "      <td>0</td>\n",
       "      <td>...</td>\n",
       "      <td>Martin Bein</td>\n",
       "      <td>International Marketing Mgr.</td>\n",
       "      <td>Bogenallee 51</td>\n",
       "      <td>Frankfurt</td>\n",
       "      <td>None</td>\n",
       "      <td>60439</td>\n",
       "      <td>Germany</td>\n",
       "      <td>(069) 992755</td>\n",
       "      <td>None</td>\n",
       "      <td>Plutzer (on the World Wide Web)#http://www.mic...</td>\n",
       "    </tr>\n",
       "    <tr>\n",
       "      <th>2151</th>\n",
       "      <td>66</td>\n",
       "      <td>Louisiana Hot Spiced Okra</td>\n",
       "      <td>2</td>\n",
       "      <td>2</td>\n",
       "      <td>24 - 8 oz jars</td>\n",
       "      <td>17.00</td>\n",
       "      <td>4</td>\n",
       "      <td>100</td>\n",
       "      <td>20</td>\n",
       "      <td>0</td>\n",
       "      <td>...</td>\n",
       "      <td>Shelley Burke</td>\n",
       "      <td>Order Administrator</td>\n",
       "      <td>P.O. Box 78934</td>\n",
       "      <td>New Orleans</td>\n",
       "      <td>LA</td>\n",
       "      <td>70117</td>\n",
       "      <td>USA</td>\n",
       "      <td>(100) 555-4822</td>\n",
       "      <td>None</td>\n",
       "      <td>#CAJUN.HTM#</td>\n",
       "    </tr>\n",
       "    <tr>\n",
       "      <th>2152</th>\n",
       "      <td>73</td>\n",
       "      <td>Röd Kaviar</td>\n",
       "      <td>17</td>\n",
       "      <td>8</td>\n",
       "      <td>24 - 150 g jars</td>\n",
       "      <td>15.00</td>\n",
       "      <td>101</td>\n",
       "      <td>0</td>\n",
       "      <td>5</td>\n",
       "      <td>0</td>\n",
       "      <td>...</td>\n",
       "      <td>Michael Björn</td>\n",
       "      <td>Sales Representative</td>\n",
       "      <td>Brovallavägen 231</td>\n",
       "      <td>Stockholm</td>\n",
       "      <td>None</td>\n",
       "      <td>S-123 45</td>\n",
       "      <td>Sweden</td>\n",
       "      <td>08-123 45 67</td>\n",
       "      <td>None</td>\n",
       "      <td>None</td>\n",
       "    </tr>\n",
       "    <tr>\n",
       "      <th>2153</th>\n",
       "      <td>75</td>\n",
       "      <td>Rhönbräu Klosterbier</td>\n",
       "      <td>12</td>\n",
       "      <td>1</td>\n",
       "      <td>24 - 0.5 l bottles</td>\n",
       "      <td>7.75</td>\n",
       "      <td>125</td>\n",
       "      <td>0</td>\n",
       "      <td>25</td>\n",
       "      <td>0</td>\n",
       "      <td>...</td>\n",
       "      <td>Martin Bein</td>\n",
       "      <td>International Marketing Mgr.</td>\n",
       "      <td>Bogenallee 51</td>\n",
       "      <td>Frankfurt</td>\n",
       "      <td>None</td>\n",
       "      <td>60439</td>\n",
       "      <td>Germany</td>\n",
       "      <td>(069) 992755</td>\n",
       "      <td>None</td>\n",
       "      <td>Plutzer (on the World Wide Web)#http://www.mic...</td>\n",
       "    </tr>\n",
       "    <tr>\n",
       "      <th>2154</th>\n",
       "      <td>77</td>\n",
       "      <td>Original Frankfurter grüne Soße</td>\n",
       "      <td>12</td>\n",
       "      <td>2</td>\n",
       "      <td>12 boxes</td>\n",
       "      <td>13.00</td>\n",
       "      <td>32</td>\n",
       "      <td>0</td>\n",
       "      <td>15</td>\n",
       "      <td>0</td>\n",
       "      <td>...</td>\n",
       "      <td>Martin Bein</td>\n",
       "      <td>International Marketing Mgr.</td>\n",
       "      <td>Bogenallee 51</td>\n",
       "      <td>Frankfurt</td>\n",
       "      <td>None</td>\n",
       "      <td>60439</td>\n",
       "      <td>Germany</td>\n",
       "      <td>(069) 992755</td>\n",
       "      <td>None</td>\n",
       "      <td>Plutzer (on the World Wide Web)#http://www.mic...</td>\n",
       "    </tr>\n",
       "  </tbody>\n",
       "</table>\n",
       "<p>2155 rows × 27 columns</p>\n",
       "</div>"
      ],
      "text/plain": [
       "      product_id                     product_name  supplier_id  category_id  \\\n",
       "0             11                   Queso Cabrales            5            4   \n",
       "1             42    Singaporean Hokkien Fried Mee           20            5   \n",
       "2             72           Mozzarella di Giovanni           14            4   \n",
       "3             14                             Tofu            6            7   \n",
       "4             51            Manjimup Dried Apples           24            7   \n",
       "...          ...                              ...          ...          ...   \n",
       "2150          64        Wimmers gute Semmelknödel           12            5   \n",
       "2151          66        Louisiana Hot Spiced Okra            2            2   \n",
       "2152          73                       Röd Kaviar           17            8   \n",
       "2153          75             Rhönbräu Klosterbier           12            1   \n",
       "2154          77  Original Frankfurter grüne Soße           12            2   \n",
       "\n",
       "       quantity_per_unit  unit_price  units_in_stock  units_on_order  \\\n",
       "0              1 kg pkg.       21.00              22              30   \n",
       "1        32 - 1 kg pkgs.       14.00              26               0   \n",
       "2       24 - 200 g pkgs.       34.80              14               0   \n",
       "3       40 - 100 g pkgs.       23.25              35               0   \n",
       "4       50 - 300 g pkgs.       53.00              20               0   \n",
       "...                  ...         ...             ...             ...   \n",
       "2150  20 bags x 4 pieces       33.25              22              80   \n",
       "2151      24 - 8 oz jars       17.00               4             100   \n",
       "2152     24 - 150 g jars       15.00             101               0   \n",
       "2153  24 - 0.5 l bottles        7.75             125               0   \n",
       "2154            12 boxes       13.00              32               0   \n",
       "\n",
       "      reorder_level  discontinued  ...                contact_name  \\\n",
       "0                30             0  ...  Antonio del Valle Saavedra   \n",
       "1                 0             1  ...                Chandra Leka   \n",
       "2                 0             0  ...                  Elio Rossi   \n",
       "3                 0             0  ...                 Mayumi Ohno   \n",
       "4                10             0  ...             Wendy Mackenzie   \n",
       "...             ...           ...  ...                         ...   \n",
       "2150             30             0  ...                 Martin Bein   \n",
       "2151             20             0  ...               Shelley Burke   \n",
       "2152              5             0  ...               Michael Björn   \n",
       "2153             25             0  ...                 Martin Bein   \n",
       "2154             15             0  ...                 Martin Bein   \n",
       "\n",
       "                     contact_title                                 address  \\\n",
       "0             Export Administrator                       Calle del Rosal 4   \n",
       "1                            Owner          471 Serangoon Loop, Suite #402   \n",
       "2             Sales Representative                         Viale Dante, 75   \n",
       "3         Marketing Representative                      92 Setsuko Chuo-ku   \n",
       "4             Sales Representative  170 Prince Edward Parade Hunter's Hill   \n",
       "...                            ...                                     ...   \n",
       "2150  International Marketing Mgr.                           Bogenallee 51   \n",
       "2151           Order Administrator                          P.O. Box 78934   \n",
       "2152          Sales Representative                       Brovallavägen 231   \n",
       "2153  International Marketing Mgr.                           Bogenallee 51   \n",
       "2154  International Marketing Mgr.                           Bogenallee 51   \n",
       "\n",
       "             city    region  postal_code    country           phone  \\\n",
       "0          Oviedo  Asturias        33007      Spain  (98) 598 76 54   \n",
       "1       Singapore      None         0512  Singapore        555-8787   \n",
       "2         Ravenna      None        48100      Italy    (0544) 60323   \n",
       "3           Osaka      None          545      Japan   (06) 431-7877   \n",
       "4          Sydney       NSW         2042  Australia   (02) 555-5914   \n",
       "...           ...       ...          ...        ...             ...   \n",
       "2150    Frankfurt      None        60439    Germany    (069) 992755   \n",
       "2151  New Orleans        LA        70117        USA  (100) 555-4822   \n",
       "2152    Stockholm      None     S-123 45     Sweden    08-123 45 67   \n",
       "2153    Frankfurt      None        60439    Germany    (069) 992755   \n",
       "2154    Frankfurt      None        60439    Germany    (069) 992755   \n",
       "\n",
       "                fax                                           homepage  \n",
       "0              None                                               None  \n",
       "1              None                                               None  \n",
       "2      (0544) 60603                                     #FORMAGGI.HTM#  \n",
       "3              None  Mayumi's (on the World Wide Web)#http://www.mi...  \n",
       "4     (02) 555-4873  G'day Mate (on the World Wide Web)#http://www....  \n",
       "...             ...                                                ...  \n",
       "2150           None  Plutzer (on the World Wide Web)#http://www.mic...  \n",
       "2151           None                                        #CAJUN.HTM#  \n",
       "2152           None                                               None  \n",
       "2153           None  Plutzer (on the World Wide Web)#http://www.mic...  \n",
       "2154           None  Plutzer (on the World Wide Web)#http://www.mic...  \n",
       "\n",
       "[2155 rows x 27 columns]"
      ]
     },
     "metadata": {},
     "output_type": "display_data"
    }
   ],
   "source": [
    "#tabla productos+detalle_ventas+proovedores\n",
    "sql_query = '''\n",
    "SELECT * \n",
    "FROM products AS p\n",
    "LEFT JOIN order_details AS od \n",
    "ON p.product_id = od.product_id\n",
    "LEFT JOIN suppliers AS s\n",
    "ON p.supplier_id = s.supplier_id\n",
    "'''\n",
    "cursor = conn.cursor() \n",
    "cursor.execute(sql_query) \n",
    "rows = cursor.fetchall() \n",
    "colnames = [desc[0] for desc in cursor.description] \n",
    "cursor.close()\n",
    "tabla2 = pd.DataFrame(data = rows, columns = colnames)\n",
    "display(tabla2)"
   ]
  },
  {
   "cell_type": "markdown",
   "metadata": {},
   "source": [
    "Haz un estudio de la evolución de los pedidos realizados a lo largo del tiempo.\n",
    "Para ello primero realiza la query necesaria para obtener los meses, años y\n",
    "pedidos durante cada mes. A continuación crea una línea temporal para ver\n",
    "dicha evolución"
   ]
  },
  {
   "cell_type": "code",
   "execution_count": 4,
   "metadata": {},
   "outputs": [
    {
     "data": {
      "text/html": [
       "<div>\n",
       "<style scoped>\n",
       "    .dataframe tbody tr th:only-of-type {\n",
       "        vertical-align: middle;\n",
       "    }\n",
       "\n",
       "    .dataframe tbody tr th {\n",
       "        vertical-align: top;\n",
       "    }\n",
       "\n",
       "    .dataframe thead th {\n",
       "        text-align: right;\n",
       "    }\n",
       "</style>\n",
       "<table border=\"1\" class=\"dataframe\">\n",
       "  <thead>\n",
       "    <tr style=\"text-align: right;\">\n",
       "      <th></th>\n",
       "      <th>year</th>\n",
       "      <th>month</th>\n",
       "      <th>Pedidos</th>\n",
       "    </tr>\n",
       "  </thead>\n",
       "  <tbody>\n",
       "    <tr>\n",
       "      <th>0</th>\n",
       "      <td>1996</td>\n",
       "      <td>7</td>\n",
       "      <td>22</td>\n",
       "    </tr>\n",
       "    <tr>\n",
       "      <th>1</th>\n",
       "      <td>1996</td>\n",
       "      <td>8</td>\n",
       "      <td>25</td>\n",
       "    </tr>\n",
       "    <tr>\n",
       "      <th>2</th>\n",
       "      <td>1996</td>\n",
       "      <td>9</td>\n",
       "      <td>23</td>\n",
       "    </tr>\n",
       "    <tr>\n",
       "      <th>3</th>\n",
       "      <td>1996</td>\n",
       "      <td>10</td>\n",
       "      <td>26</td>\n",
       "    </tr>\n",
       "    <tr>\n",
       "      <th>4</th>\n",
       "      <td>1996</td>\n",
       "      <td>11</td>\n",
       "      <td>25</td>\n",
       "    </tr>\n",
       "    <tr>\n",
       "      <th>5</th>\n",
       "      <td>1996</td>\n",
       "      <td>12</td>\n",
       "      <td>31</td>\n",
       "    </tr>\n",
       "    <tr>\n",
       "      <th>6</th>\n",
       "      <td>1997</td>\n",
       "      <td>1</td>\n",
       "      <td>33</td>\n",
       "    </tr>\n",
       "    <tr>\n",
       "      <th>7</th>\n",
       "      <td>1997</td>\n",
       "      <td>2</td>\n",
       "      <td>29</td>\n",
       "    </tr>\n",
       "    <tr>\n",
       "      <th>8</th>\n",
       "      <td>1997</td>\n",
       "      <td>3</td>\n",
       "      <td>30</td>\n",
       "    </tr>\n",
       "    <tr>\n",
       "      <th>9</th>\n",
       "      <td>1997</td>\n",
       "      <td>4</td>\n",
       "      <td>31</td>\n",
       "    </tr>\n",
       "    <tr>\n",
       "      <th>10</th>\n",
       "      <td>1997</td>\n",
       "      <td>5</td>\n",
       "      <td>32</td>\n",
       "    </tr>\n",
       "    <tr>\n",
       "      <th>11</th>\n",
       "      <td>1997</td>\n",
       "      <td>6</td>\n",
       "      <td>30</td>\n",
       "    </tr>\n",
       "    <tr>\n",
       "      <th>12</th>\n",
       "      <td>1997</td>\n",
       "      <td>7</td>\n",
       "      <td>33</td>\n",
       "    </tr>\n",
       "    <tr>\n",
       "      <th>13</th>\n",
       "      <td>1997</td>\n",
       "      <td>8</td>\n",
       "      <td>33</td>\n",
       "    </tr>\n",
       "    <tr>\n",
       "      <th>14</th>\n",
       "      <td>1997</td>\n",
       "      <td>9</td>\n",
       "      <td>37</td>\n",
       "    </tr>\n",
       "    <tr>\n",
       "      <th>15</th>\n",
       "      <td>1997</td>\n",
       "      <td>10</td>\n",
       "      <td>38</td>\n",
       "    </tr>\n",
       "    <tr>\n",
       "      <th>16</th>\n",
       "      <td>1997</td>\n",
       "      <td>11</td>\n",
       "      <td>34</td>\n",
       "    </tr>\n",
       "    <tr>\n",
       "      <th>17</th>\n",
       "      <td>1997</td>\n",
       "      <td>12</td>\n",
       "      <td>48</td>\n",
       "    </tr>\n",
       "    <tr>\n",
       "      <th>18</th>\n",
       "      <td>1998</td>\n",
       "      <td>1</td>\n",
       "      <td>55</td>\n",
       "    </tr>\n",
       "    <tr>\n",
       "      <th>19</th>\n",
       "      <td>1998</td>\n",
       "      <td>2</td>\n",
       "      <td>54</td>\n",
       "    </tr>\n",
       "    <tr>\n",
       "      <th>20</th>\n",
       "      <td>1998</td>\n",
       "      <td>3</td>\n",
       "      <td>73</td>\n",
       "    </tr>\n",
       "    <tr>\n",
       "      <th>21</th>\n",
       "      <td>1998</td>\n",
       "      <td>4</td>\n",
       "      <td>74</td>\n",
       "    </tr>\n",
       "    <tr>\n",
       "      <th>22</th>\n",
       "      <td>1998</td>\n",
       "      <td>5</td>\n",
       "      <td>14</td>\n",
       "    </tr>\n",
       "  </tbody>\n",
       "</table>\n",
       "</div>"
      ],
      "text/plain": [
       "    year month  Pedidos\n",
       "0   1996     7       22\n",
       "1   1996     8       25\n",
       "2   1996     9       23\n",
       "3   1996    10       26\n",
       "4   1996    11       25\n",
       "5   1996    12       31\n",
       "6   1997     1       33\n",
       "7   1997     2       29\n",
       "8   1997     3       30\n",
       "9   1997     4       31\n",
       "10  1997     5       32\n",
       "11  1997     6       30\n",
       "12  1997     7       33\n",
       "13  1997     8       33\n",
       "14  1997     9       37\n",
       "15  1997    10       38\n",
       "16  1997    11       34\n",
       "17  1997    12       48\n",
       "18  1998     1       55\n",
       "19  1998     2       54\n",
       "20  1998     3       73\n",
       "21  1998     4       74\n",
       "22  1998     5       14"
      ]
     },
     "metadata": {},
     "output_type": "display_data"
    }
   ],
   "source": [
    "#ventas por mes y año\n",
    "sql_query = '''\n",
    "SELECT \n",
    "  EXTRACT(YEAR FROM \"order_date\") AS \"year\",\n",
    "  EXTRACT(MONTH FROM \"order_date\") AS \"month\",\n",
    "  COUNT (\"order_id\") AS \"Pedidos\"\n",
    "FROM \"orders\"\n",
    "GROUP BY \n",
    " year,month\n",
    "ORDER BY\n",
    "  year,month\n",
    "'''\n",
    "cursor = conn.cursor() \n",
    "cursor.execute(sql_query) \n",
    "rows = cursor.fetchall() \n",
    "tabla = pd.DataFrame(rows)\n",
    "colnames = [desc[0] for desc in cursor.description]\n",
    "tabla = tabla.set_axis(colnames, axis = 1)\n",
    "display(tabla)\n",
    "\n"
   ]
  },
  {
   "cell_type": "code",
   "execution_count": 5,
   "metadata": {},
   "outputs": [
    {
     "data": {
      "application/vnd.plotly.v1+json": {
       "config": {
        "plotlyServerURL": "https://plot.ly"
       },
       "data": [
        {
         "alignmentgroup": "True",
         "hovertemplate": "year=1996<br>month=%{x}<br>Pedidos=%{y}<extra></extra>",
         "legendgroup": "1996",
         "marker": {
          "color": "#636efa",
          "pattern": {
           "shape": ""
          }
         },
         "name": "1996",
         "offsetgroup": "1996",
         "orientation": "v",
         "showlegend": true,
         "textposition": "auto",
         "type": "bar",
         "x": [
          7,
          8,
          9,
          10,
          11,
          12
         ],
         "xaxis": "x",
         "y": [
          22,
          25,
          23,
          26,
          25,
          31
         ],
         "yaxis": "y"
        },
        {
         "alignmentgroup": "True",
         "hovertemplate": "year=1997<br>month=%{x}<br>Pedidos=%{y}<extra></extra>",
         "legendgroup": "1997",
         "marker": {
          "color": "#EF553B",
          "pattern": {
           "shape": ""
          }
         },
         "name": "1997",
         "offsetgroup": "1997",
         "orientation": "v",
         "showlegend": true,
         "textposition": "auto",
         "type": "bar",
         "x": [
          1,
          2,
          3,
          4,
          5,
          6,
          7,
          8,
          9,
          10,
          11,
          12
         ],
         "xaxis": "x",
         "y": [
          33,
          29,
          30,
          31,
          32,
          30,
          33,
          33,
          37,
          38,
          34,
          48
         ],
         "yaxis": "y"
        },
        {
         "alignmentgroup": "True",
         "hovertemplate": "year=1998<br>month=%{x}<br>Pedidos=%{y}<extra></extra>",
         "legendgroup": "1998",
         "marker": {
          "color": "#00cc96",
          "pattern": {
           "shape": ""
          }
         },
         "name": "1998",
         "offsetgroup": "1998",
         "orientation": "v",
         "showlegend": true,
         "textposition": "auto",
         "type": "bar",
         "x": [
          1,
          2,
          3,
          4,
          5
         ],
         "xaxis": "x",
         "y": [
          55,
          54,
          73,
          74,
          14
         ],
         "yaxis": "y"
        }
       ],
       "layout": {
        "barmode": "group",
        "legend": {
         "title": {
          "text": "year"
         },
         "tracegroupgap": 0
        },
        "margin": {
         "t": 60
        },
        "template": {
         "data": {
          "bar": [
           {
            "error_x": {
             "color": "#2a3f5f"
            },
            "error_y": {
             "color": "#2a3f5f"
            },
            "marker": {
             "line": {
              "color": "#E5ECF6",
              "width": 0.5
             },
             "pattern": {
              "fillmode": "overlay",
              "size": 10,
              "solidity": 0.2
             }
            },
            "type": "bar"
           }
          ],
          "barpolar": [
           {
            "marker": {
             "line": {
              "color": "#E5ECF6",
              "width": 0.5
             },
             "pattern": {
              "fillmode": "overlay",
              "size": 10,
              "solidity": 0.2
             }
            },
            "type": "barpolar"
           }
          ],
          "carpet": [
           {
            "aaxis": {
             "endlinecolor": "#2a3f5f",
             "gridcolor": "white",
             "linecolor": "white",
             "minorgridcolor": "white",
             "startlinecolor": "#2a3f5f"
            },
            "baxis": {
             "endlinecolor": "#2a3f5f",
             "gridcolor": "white",
             "linecolor": "white",
             "minorgridcolor": "white",
             "startlinecolor": "#2a3f5f"
            },
            "type": "carpet"
           }
          ],
          "choropleth": [
           {
            "colorbar": {
             "outlinewidth": 0,
             "ticks": ""
            },
            "type": "choropleth"
           }
          ],
          "contour": [
           {
            "colorbar": {
             "outlinewidth": 0,
             "ticks": ""
            },
            "colorscale": [
             [
              0,
              "#0d0887"
             ],
             [
              0.1111111111111111,
              "#46039f"
             ],
             [
              0.2222222222222222,
              "#7201a8"
             ],
             [
              0.3333333333333333,
              "#9c179e"
             ],
             [
              0.4444444444444444,
              "#bd3786"
             ],
             [
              0.5555555555555556,
              "#d8576b"
             ],
             [
              0.6666666666666666,
              "#ed7953"
             ],
             [
              0.7777777777777778,
              "#fb9f3a"
             ],
             [
              0.8888888888888888,
              "#fdca26"
             ],
             [
              1,
              "#f0f921"
             ]
            ],
            "type": "contour"
           }
          ],
          "contourcarpet": [
           {
            "colorbar": {
             "outlinewidth": 0,
             "ticks": ""
            },
            "type": "contourcarpet"
           }
          ],
          "heatmap": [
           {
            "colorbar": {
             "outlinewidth": 0,
             "ticks": ""
            },
            "colorscale": [
             [
              0,
              "#0d0887"
             ],
             [
              0.1111111111111111,
              "#46039f"
             ],
             [
              0.2222222222222222,
              "#7201a8"
             ],
             [
              0.3333333333333333,
              "#9c179e"
             ],
             [
              0.4444444444444444,
              "#bd3786"
             ],
             [
              0.5555555555555556,
              "#d8576b"
             ],
             [
              0.6666666666666666,
              "#ed7953"
             ],
             [
              0.7777777777777778,
              "#fb9f3a"
             ],
             [
              0.8888888888888888,
              "#fdca26"
             ],
             [
              1,
              "#f0f921"
             ]
            ],
            "type": "heatmap"
           }
          ],
          "heatmapgl": [
           {
            "colorbar": {
             "outlinewidth": 0,
             "ticks": ""
            },
            "colorscale": [
             [
              0,
              "#0d0887"
             ],
             [
              0.1111111111111111,
              "#46039f"
             ],
             [
              0.2222222222222222,
              "#7201a8"
             ],
             [
              0.3333333333333333,
              "#9c179e"
             ],
             [
              0.4444444444444444,
              "#bd3786"
             ],
             [
              0.5555555555555556,
              "#d8576b"
             ],
             [
              0.6666666666666666,
              "#ed7953"
             ],
             [
              0.7777777777777778,
              "#fb9f3a"
             ],
             [
              0.8888888888888888,
              "#fdca26"
             ],
             [
              1,
              "#f0f921"
             ]
            ],
            "type": "heatmapgl"
           }
          ],
          "histogram": [
           {
            "marker": {
             "pattern": {
              "fillmode": "overlay",
              "size": 10,
              "solidity": 0.2
             }
            },
            "type": "histogram"
           }
          ],
          "histogram2d": [
           {
            "colorbar": {
             "outlinewidth": 0,
             "ticks": ""
            },
            "colorscale": [
             [
              0,
              "#0d0887"
             ],
             [
              0.1111111111111111,
              "#46039f"
             ],
             [
              0.2222222222222222,
              "#7201a8"
             ],
             [
              0.3333333333333333,
              "#9c179e"
             ],
             [
              0.4444444444444444,
              "#bd3786"
             ],
             [
              0.5555555555555556,
              "#d8576b"
             ],
             [
              0.6666666666666666,
              "#ed7953"
             ],
             [
              0.7777777777777778,
              "#fb9f3a"
             ],
             [
              0.8888888888888888,
              "#fdca26"
             ],
             [
              1,
              "#f0f921"
             ]
            ],
            "type": "histogram2d"
           }
          ],
          "histogram2dcontour": [
           {
            "colorbar": {
             "outlinewidth": 0,
             "ticks": ""
            },
            "colorscale": [
             [
              0,
              "#0d0887"
             ],
             [
              0.1111111111111111,
              "#46039f"
             ],
             [
              0.2222222222222222,
              "#7201a8"
             ],
             [
              0.3333333333333333,
              "#9c179e"
             ],
             [
              0.4444444444444444,
              "#bd3786"
             ],
             [
              0.5555555555555556,
              "#d8576b"
             ],
             [
              0.6666666666666666,
              "#ed7953"
             ],
             [
              0.7777777777777778,
              "#fb9f3a"
             ],
             [
              0.8888888888888888,
              "#fdca26"
             ],
             [
              1,
              "#f0f921"
             ]
            ],
            "type": "histogram2dcontour"
           }
          ],
          "mesh3d": [
           {
            "colorbar": {
             "outlinewidth": 0,
             "ticks": ""
            },
            "type": "mesh3d"
           }
          ],
          "parcoords": [
           {
            "line": {
             "colorbar": {
              "outlinewidth": 0,
              "ticks": ""
             }
            },
            "type": "parcoords"
           }
          ],
          "pie": [
           {
            "automargin": true,
            "type": "pie"
           }
          ],
          "scatter": [
           {
            "fillpattern": {
             "fillmode": "overlay",
             "size": 10,
             "solidity": 0.2
            },
            "type": "scatter"
           }
          ],
          "scatter3d": [
           {
            "line": {
             "colorbar": {
              "outlinewidth": 0,
              "ticks": ""
             }
            },
            "marker": {
             "colorbar": {
              "outlinewidth": 0,
              "ticks": ""
             }
            },
            "type": "scatter3d"
           }
          ],
          "scattercarpet": [
           {
            "marker": {
             "colorbar": {
              "outlinewidth": 0,
              "ticks": ""
             }
            },
            "type": "scattercarpet"
           }
          ],
          "scattergeo": [
           {
            "marker": {
             "colorbar": {
              "outlinewidth": 0,
              "ticks": ""
             }
            },
            "type": "scattergeo"
           }
          ],
          "scattergl": [
           {
            "marker": {
             "colorbar": {
              "outlinewidth": 0,
              "ticks": ""
             }
            },
            "type": "scattergl"
           }
          ],
          "scattermapbox": [
           {
            "marker": {
             "colorbar": {
              "outlinewidth": 0,
              "ticks": ""
             }
            },
            "type": "scattermapbox"
           }
          ],
          "scatterpolar": [
           {
            "marker": {
             "colorbar": {
              "outlinewidth": 0,
              "ticks": ""
             }
            },
            "type": "scatterpolar"
           }
          ],
          "scatterpolargl": [
           {
            "marker": {
             "colorbar": {
              "outlinewidth": 0,
              "ticks": ""
             }
            },
            "type": "scatterpolargl"
           }
          ],
          "scatterternary": [
           {
            "marker": {
             "colorbar": {
              "outlinewidth": 0,
              "ticks": ""
             }
            },
            "type": "scatterternary"
           }
          ],
          "surface": [
           {
            "colorbar": {
             "outlinewidth": 0,
             "ticks": ""
            },
            "colorscale": [
             [
              0,
              "#0d0887"
             ],
             [
              0.1111111111111111,
              "#46039f"
             ],
             [
              0.2222222222222222,
              "#7201a8"
             ],
             [
              0.3333333333333333,
              "#9c179e"
             ],
             [
              0.4444444444444444,
              "#bd3786"
             ],
             [
              0.5555555555555556,
              "#d8576b"
             ],
             [
              0.6666666666666666,
              "#ed7953"
             ],
             [
              0.7777777777777778,
              "#fb9f3a"
             ],
             [
              0.8888888888888888,
              "#fdca26"
             ],
             [
              1,
              "#f0f921"
             ]
            ],
            "type": "surface"
           }
          ],
          "table": [
           {
            "cells": {
             "fill": {
              "color": "#EBF0F8"
             },
             "line": {
              "color": "white"
             }
            },
            "header": {
             "fill": {
              "color": "#C8D4E3"
             },
             "line": {
              "color": "white"
             }
            },
            "type": "table"
           }
          ]
         },
         "layout": {
          "annotationdefaults": {
           "arrowcolor": "#2a3f5f",
           "arrowhead": 0,
           "arrowwidth": 1
          },
          "autotypenumbers": "strict",
          "coloraxis": {
           "colorbar": {
            "outlinewidth": 0,
            "ticks": ""
           }
          },
          "colorscale": {
           "diverging": [
            [
             0,
             "#8e0152"
            ],
            [
             0.1,
             "#c51b7d"
            ],
            [
             0.2,
             "#de77ae"
            ],
            [
             0.3,
             "#f1b6da"
            ],
            [
             0.4,
             "#fde0ef"
            ],
            [
             0.5,
             "#f7f7f7"
            ],
            [
             0.6,
             "#e6f5d0"
            ],
            [
             0.7,
             "#b8e186"
            ],
            [
             0.8,
             "#7fbc41"
            ],
            [
             0.9,
             "#4d9221"
            ],
            [
             1,
             "#276419"
            ]
           ],
           "sequential": [
            [
             0,
             "#0d0887"
            ],
            [
             0.1111111111111111,
             "#46039f"
            ],
            [
             0.2222222222222222,
             "#7201a8"
            ],
            [
             0.3333333333333333,
             "#9c179e"
            ],
            [
             0.4444444444444444,
             "#bd3786"
            ],
            [
             0.5555555555555556,
             "#d8576b"
            ],
            [
             0.6666666666666666,
             "#ed7953"
            ],
            [
             0.7777777777777778,
             "#fb9f3a"
            ],
            [
             0.8888888888888888,
             "#fdca26"
            ],
            [
             1,
             "#f0f921"
            ]
           ],
           "sequentialminus": [
            [
             0,
             "#0d0887"
            ],
            [
             0.1111111111111111,
             "#46039f"
            ],
            [
             0.2222222222222222,
             "#7201a8"
            ],
            [
             0.3333333333333333,
             "#9c179e"
            ],
            [
             0.4444444444444444,
             "#bd3786"
            ],
            [
             0.5555555555555556,
             "#d8576b"
            ],
            [
             0.6666666666666666,
             "#ed7953"
            ],
            [
             0.7777777777777778,
             "#fb9f3a"
            ],
            [
             0.8888888888888888,
             "#fdca26"
            ],
            [
             1,
             "#f0f921"
            ]
           ]
          },
          "colorway": [
           "#636efa",
           "#EF553B",
           "#00cc96",
           "#ab63fa",
           "#FFA15A",
           "#19d3f3",
           "#FF6692",
           "#B6E880",
           "#FF97FF",
           "#FECB52"
          ],
          "font": {
           "color": "#2a3f5f"
          },
          "geo": {
           "bgcolor": "white",
           "lakecolor": "white",
           "landcolor": "#E5ECF6",
           "showlakes": true,
           "showland": true,
           "subunitcolor": "white"
          },
          "hoverlabel": {
           "align": "left"
          },
          "hovermode": "closest",
          "mapbox": {
           "style": "light"
          },
          "paper_bgcolor": "white",
          "plot_bgcolor": "#E5ECF6",
          "polar": {
           "angularaxis": {
            "gridcolor": "white",
            "linecolor": "white",
            "ticks": ""
           },
           "bgcolor": "#E5ECF6",
           "radialaxis": {
            "gridcolor": "white",
            "linecolor": "white",
            "ticks": ""
           }
          },
          "scene": {
           "xaxis": {
            "backgroundcolor": "#E5ECF6",
            "gridcolor": "white",
            "gridwidth": 2,
            "linecolor": "white",
            "showbackground": true,
            "ticks": "",
            "zerolinecolor": "white"
           },
           "yaxis": {
            "backgroundcolor": "#E5ECF6",
            "gridcolor": "white",
            "gridwidth": 2,
            "linecolor": "white",
            "showbackground": true,
            "ticks": "",
            "zerolinecolor": "white"
           },
           "zaxis": {
            "backgroundcolor": "#E5ECF6",
            "gridcolor": "white",
            "gridwidth": 2,
            "linecolor": "white",
            "showbackground": true,
            "ticks": "",
            "zerolinecolor": "white"
           }
          },
          "shapedefaults": {
           "line": {
            "color": "#2a3f5f"
           }
          },
          "ternary": {
           "aaxis": {
            "gridcolor": "white",
            "linecolor": "white",
            "ticks": ""
           },
           "baxis": {
            "gridcolor": "white",
            "linecolor": "white",
            "ticks": ""
           },
           "bgcolor": "#E5ECF6",
           "caxis": {
            "gridcolor": "white",
            "linecolor": "white",
            "ticks": ""
           }
          },
          "title": {
           "x": 0.05
          },
          "xaxis": {
           "automargin": true,
           "gridcolor": "white",
           "linecolor": "white",
           "ticks": "",
           "title": {
            "standoff": 15
           },
           "zerolinecolor": "white",
           "zerolinewidth": 2
          },
          "yaxis": {
           "automargin": true,
           "gridcolor": "white",
           "linecolor": "white",
           "ticks": "",
           "title": {
            "standoff": 15
           },
           "zerolinecolor": "white",
           "zerolinewidth": 2
          }
         }
        },
        "xaxis": {
         "anchor": "y",
         "domain": [
          0,
          1
         ],
         "title": {
          "text": "month"
         }
        },
        "yaxis": {
         "anchor": "x",
         "domain": [
          0,
          1
         ],
         "title": {
          "text": "Pedidos"
         }
        }
       }
      }
     },
     "metadata": {},
     "output_type": "display_data"
    }
   ],
   "source": [
    "fig = px.bar(tabla, x=\"month\", y=\"Pedidos\", color=\"year\", barmode=\"group\")\n",
    "fig.show()\n"
   ]
  },
  {
   "cell_type": "code",
   "execution_count": 7,
   "metadata": {},
   "outputs": [
    {
     "data": {
      "application/vnd.plotly.v1+json": {
       "config": {
        "plotlyServerURL": "https://plot.ly"
       },
       "data": [
        {
         "hovertemplate": "year=1996<br>month=%{x}<br>Pedidos=%{y}<extra></extra>",
         "legendgroup": "1996",
         "line": {
          "color": "#636efa",
          "dash": "solid"
         },
         "marker": {
          "symbol": "circle"
         },
         "mode": "lines",
         "name": "1996",
         "orientation": "v",
         "showlegend": true,
         "type": "scatter",
         "x": [
          7,
          8,
          9,
          10,
          11,
          12
         ],
         "xaxis": "x",
         "y": [
          22,
          25,
          23,
          26,
          25,
          31
         ],
         "yaxis": "y"
        },
        {
         "hovertemplate": "year=1997<br>month=%{x}<br>Pedidos=%{y}<extra></extra>",
         "legendgroup": "1997",
         "line": {
          "color": "#EF553B",
          "dash": "solid"
         },
         "marker": {
          "symbol": "circle"
         },
         "mode": "lines",
         "name": "1997",
         "orientation": "v",
         "showlegend": true,
         "type": "scatter",
         "x": [
          1,
          2,
          3,
          4,
          5,
          6,
          7,
          8,
          9,
          10,
          11,
          12
         ],
         "xaxis": "x",
         "y": [
          33,
          29,
          30,
          31,
          32,
          30,
          33,
          33,
          37,
          38,
          34,
          48
         ],
         "yaxis": "y"
        },
        {
         "hovertemplate": "year=1998<br>month=%{x}<br>Pedidos=%{y}<extra></extra>",
         "legendgroup": "1998",
         "line": {
          "color": "#00cc96",
          "dash": "solid"
         },
         "marker": {
          "symbol": "circle"
         },
         "mode": "lines",
         "name": "1998",
         "orientation": "v",
         "showlegend": true,
         "type": "scatter",
         "x": [
          1,
          2,
          3,
          4,
          5
         ],
         "xaxis": "x",
         "y": [
          55,
          54,
          73,
          74,
          14
         ],
         "yaxis": "y"
        }
       ],
       "layout": {
        "legend": {
         "title": {
          "text": "year"
         },
         "tracegroupgap": 0
        },
        "margin": {
         "t": 60
        },
        "template": {
         "data": {
          "bar": [
           {
            "error_x": {
             "color": "#2a3f5f"
            },
            "error_y": {
             "color": "#2a3f5f"
            },
            "marker": {
             "line": {
              "color": "#E5ECF6",
              "width": 0.5
             },
             "pattern": {
              "fillmode": "overlay",
              "size": 10,
              "solidity": 0.2
             }
            },
            "type": "bar"
           }
          ],
          "barpolar": [
           {
            "marker": {
             "line": {
              "color": "#E5ECF6",
              "width": 0.5
             },
             "pattern": {
              "fillmode": "overlay",
              "size": 10,
              "solidity": 0.2
             }
            },
            "type": "barpolar"
           }
          ],
          "carpet": [
           {
            "aaxis": {
             "endlinecolor": "#2a3f5f",
             "gridcolor": "white",
             "linecolor": "white",
             "minorgridcolor": "white",
             "startlinecolor": "#2a3f5f"
            },
            "baxis": {
             "endlinecolor": "#2a3f5f",
             "gridcolor": "white",
             "linecolor": "white",
             "minorgridcolor": "white",
             "startlinecolor": "#2a3f5f"
            },
            "type": "carpet"
           }
          ],
          "choropleth": [
           {
            "colorbar": {
             "outlinewidth": 0,
             "ticks": ""
            },
            "type": "choropleth"
           }
          ],
          "contour": [
           {
            "colorbar": {
             "outlinewidth": 0,
             "ticks": ""
            },
            "colorscale": [
             [
              0,
              "#0d0887"
             ],
             [
              0.1111111111111111,
              "#46039f"
             ],
             [
              0.2222222222222222,
              "#7201a8"
             ],
             [
              0.3333333333333333,
              "#9c179e"
             ],
             [
              0.4444444444444444,
              "#bd3786"
             ],
             [
              0.5555555555555556,
              "#d8576b"
             ],
             [
              0.6666666666666666,
              "#ed7953"
             ],
             [
              0.7777777777777778,
              "#fb9f3a"
             ],
             [
              0.8888888888888888,
              "#fdca26"
             ],
             [
              1,
              "#f0f921"
             ]
            ],
            "type": "contour"
           }
          ],
          "contourcarpet": [
           {
            "colorbar": {
             "outlinewidth": 0,
             "ticks": ""
            },
            "type": "contourcarpet"
           }
          ],
          "heatmap": [
           {
            "colorbar": {
             "outlinewidth": 0,
             "ticks": ""
            },
            "colorscale": [
             [
              0,
              "#0d0887"
             ],
             [
              0.1111111111111111,
              "#46039f"
             ],
             [
              0.2222222222222222,
              "#7201a8"
             ],
             [
              0.3333333333333333,
              "#9c179e"
             ],
             [
              0.4444444444444444,
              "#bd3786"
             ],
             [
              0.5555555555555556,
              "#d8576b"
             ],
             [
              0.6666666666666666,
              "#ed7953"
             ],
             [
              0.7777777777777778,
              "#fb9f3a"
             ],
             [
              0.8888888888888888,
              "#fdca26"
             ],
             [
              1,
              "#f0f921"
             ]
            ],
            "type": "heatmap"
           }
          ],
          "heatmapgl": [
           {
            "colorbar": {
             "outlinewidth": 0,
             "ticks": ""
            },
            "colorscale": [
             [
              0,
              "#0d0887"
             ],
             [
              0.1111111111111111,
              "#46039f"
             ],
             [
              0.2222222222222222,
              "#7201a8"
             ],
             [
              0.3333333333333333,
              "#9c179e"
             ],
             [
              0.4444444444444444,
              "#bd3786"
             ],
             [
              0.5555555555555556,
              "#d8576b"
             ],
             [
              0.6666666666666666,
              "#ed7953"
             ],
             [
              0.7777777777777778,
              "#fb9f3a"
             ],
             [
              0.8888888888888888,
              "#fdca26"
             ],
             [
              1,
              "#f0f921"
             ]
            ],
            "type": "heatmapgl"
           }
          ],
          "histogram": [
           {
            "marker": {
             "pattern": {
              "fillmode": "overlay",
              "size": 10,
              "solidity": 0.2
             }
            },
            "type": "histogram"
           }
          ],
          "histogram2d": [
           {
            "colorbar": {
             "outlinewidth": 0,
             "ticks": ""
            },
            "colorscale": [
             [
              0,
              "#0d0887"
             ],
             [
              0.1111111111111111,
              "#46039f"
             ],
             [
              0.2222222222222222,
              "#7201a8"
             ],
             [
              0.3333333333333333,
              "#9c179e"
             ],
             [
              0.4444444444444444,
              "#bd3786"
             ],
             [
              0.5555555555555556,
              "#d8576b"
             ],
             [
              0.6666666666666666,
              "#ed7953"
             ],
             [
              0.7777777777777778,
              "#fb9f3a"
             ],
             [
              0.8888888888888888,
              "#fdca26"
             ],
             [
              1,
              "#f0f921"
             ]
            ],
            "type": "histogram2d"
           }
          ],
          "histogram2dcontour": [
           {
            "colorbar": {
             "outlinewidth": 0,
             "ticks": ""
            },
            "colorscale": [
             [
              0,
              "#0d0887"
             ],
             [
              0.1111111111111111,
              "#46039f"
             ],
             [
              0.2222222222222222,
              "#7201a8"
             ],
             [
              0.3333333333333333,
              "#9c179e"
             ],
             [
              0.4444444444444444,
              "#bd3786"
             ],
             [
              0.5555555555555556,
              "#d8576b"
             ],
             [
              0.6666666666666666,
              "#ed7953"
             ],
             [
              0.7777777777777778,
              "#fb9f3a"
             ],
             [
              0.8888888888888888,
              "#fdca26"
             ],
             [
              1,
              "#f0f921"
             ]
            ],
            "type": "histogram2dcontour"
           }
          ],
          "mesh3d": [
           {
            "colorbar": {
             "outlinewidth": 0,
             "ticks": ""
            },
            "type": "mesh3d"
           }
          ],
          "parcoords": [
           {
            "line": {
             "colorbar": {
              "outlinewidth": 0,
              "ticks": ""
             }
            },
            "type": "parcoords"
           }
          ],
          "pie": [
           {
            "automargin": true,
            "type": "pie"
           }
          ],
          "scatter": [
           {
            "fillpattern": {
             "fillmode": "overlay",
             "size": 10,
             "solidity": 0.2
            },
            "type": "scatter"
           }
          ],
          "scatter3d": [
           {
            "line": {
             "colorbar": {
              "outlinewidth": 0,
              "ticks": ""
             }
            },
            "marker": {
             "colorbar": {
              "outlinewidth": 0,
              "ticks": ""
             }
            },
            "type": "scatter3d"
           }
          ],
          "scattercarpet": [
           {
            "marker": {
             "colorbar": {
              "outlinewidth": 0,
              "ticks": ""
             }
            },
            "type": "scattercarpet"
           }
          ],
          "scattergeo": [
           {
            "marker": {
             "colorbar": {
              "outlinewidth": 0,
              "ticks": ""
             }
            },
            "type": "scattergeo"
           }
          ],
          "scattergl": [
           {
            "marker": {
             "colorbar": {
              "outlinewidth": 0,
              "ticks": ""
             }
            },
            "type": "scattergl"
           }
          ],
          "scattermapbox": [
           {
            "marker": {
             "colorbar": {
              "outlinewidth": 0,
              "ticks": ""
             }
            },
            "type": "scattermapbox"
           }
          ],
          "scatterpolar": [
           {
            "marker": {
             "colorbar": {
              "outlinewidth": 0,
              "ticks": ""
             }
            },
            "type": "scatterpolar"
           }
          ],
          "scatterpolargl": [
           {
            "marker": {
             "colorbar": {
              "outlinewidth": 0,
              "ticks": ""
             }
            },
            "type": "scatterpolargl"
           }
          ],
          "scatterternary": [
           {
            "marker": {
             "colorbar": {
              "outlinewidth": 0,
              "ticks": ""
             }
            },
            "type": "scatterternary"
           }
          ],
          "surface": [
           {
            "colorbar": {
             "outlinewidth": 0,
             "ticks": ""
            },
            "colorscale": [
             [
              0,
              "#0d0887"
             ],
             [
              0.1111111111111111,
              "#46039f"
             ],
             [
              0.2222222222222222,
              "#7201a8"
             ],
             [
              0.3333333333333333,
              "#9c179e"
             ],
             [
              0.4444444444444444,
              "#bd3786"
             ],
             [
              0.5555555555555556,
              "#d8576b"
             ],
             [
              0.6666666666666666,
              "#ed7953"
             ],
             [
              0.7777777777777778,
              "#fb9f3a"
             ],
             [
              0.8888888888888888,
              "#fdca26"
             ],
             [
              1,
              "#f0f921"
             ]
            ],
            "type": "surface"
           }
          ],
          "table": [
           {
            "cells": {
             "fill": {
              "color": "#EBF0F8"
             },
             "line": {
              "color": "white"
             }
            },
            "header": {
             "fill": {
              "color": "#C8D4E3"
             },
             "line": {
              "color": "white"
             }
            },
            "type": "table"
           }
          ]
         },
         "layout": {
          "annotationdefaults": {
           "arrowcolor": "#2a3f5f",
           "arrowhead": 0,
           "arrowwidth": 1
          },
          "autotypenumbers": "strict",
          "coloraxis": {
           "colorbar": {
            "outlinewidth": 0,
            "ticks": ""
           }
          },
          "colorscale": {
           "diverging": [
            [
             0,
             "#8e0152"
            ],
            [
             0.1,
             "#c51b7d"
            ],
            [
             0.2,
             "#de77ae"
            ],
            [
             0.3,
             "#f1b6da"
            ],
            [
             0.4,
             "#fde0ef"
            ],
            [
             0.5,
             "#f7f7f7"
            ],
            [
             0.6,
             "#e6f5d0"
            ],
            [
             0.7,
             "#b8e186"
            ],
            [
             0.8,
             "#7fbc41"
            ],
            [
             0.9,
             "#4d9221"
            ],
            [
             1,
             "#276419"
            ]
           ],
           "sequential": [
            [
             0,
             "#0d0887"
            ],
            [
             0.1111111111111111,
             "#46039f"
            ],
            [
             0.2222222222222222,
             "#7201a8"
            ],
            [
             0.3333333333333333,
             "#9c179e"
            ],
            [
             0.4444444444444444,
             "#bd3786"
            ],
            [
             0.5555555555555556,
             "#d8576b"
            ],
            [
             0.6666666666666666,
             "#ed7953"
            ],
            [
             0.7777777777777778,
             "#fb9f3a"
            ],
            [
             0.8888888888888888,
             "#fdca26"
            ],
            [
             1,
             "#f0f921"
            ]
           ],
           "sequentialminus": [
            [
             0,
             "#0d0887"
            ],
            [
             0.1111111111111111,
             "#46039f"
            ],
            [
             0.2222222222222222,
             "#7201a8"
            ],
            [
             0.3333333333333333,
             "#9c179e"
            ],
            [
             0.4444444444444444,
             "#bd3786"
            ],
            [
             0.5555555555555556,
             "#d8576b"
            ],
            [
             0.6666666666666666,
             "#ed7953"
            ],
            [
             0.7777777777777778,
             "#fb9f3a"
            ],
            [
             0.8888888888888888,
             "#fdca26"
            ],
            [
             1,
             "#f0f921"
            ]
           ]
          },
          "colorway": [
           "#636efa",
           "#EF553B",
           "#00cc96",
           "#ab63fa",
           "#FFA15A",
           "#19d3f3",
           "#FF6692",
           "#B6E880",
           "#FF97FF",
           "#FECB52"
          ],
          "font": {
           "color": "#2a3f5f"
          },
          "geo": {
           "bgcolor": "white",
           "lakecolor": "white",
           "landcolor": "#E5ECF6",
           "showlakes": true,
           "showland": true,
           "subunitcolor": "white"
          },
          "hoverlabel": {
           "align": "left"
          },
          "hovermode": "closest",
          "mapbox": {
           "style": "light"
          },
          "paper_bgcolor": "white",
          "plot_bgcolor": "#E5ECF6",
          "polar": {
           "angularaxis": {
            "gridcolor": "white",
            "linecolor": "white",
            "ticks": ""
           },
           "bgcolor": "#E5ECF6",
           "radialaxis": {
            "gridcolor": "white",
            "linecolor": "white",
            "ticks": ""
           }
          },
          "scene": {
           "xaxis": {
            "backgroundcolor": "#E5ECF6",
            "gridcolor": "white",
            "gridwidth": 2,
            "linecolor": "white",
            "showbackground": true,
            "ticks": "",
            "zerolinecolor": "white"
           },
           "yaxis": {
            "backgroundcolor": "#E5ECF6",
            "gridcolor": "white",
            "gridwidth": 2,
            "linecolor": "white",
            "showbackground": true,
            "ticks": "",
            "zerolinecolor": "white"
           },
           "zaxis": {
            "backgroundcolor": "#E5ECF6",
            "gridcolor": "white",
            "gridwidth": 2,
            "linecolor": "white",
            "showbackground": true,
            "ticks": "",
            "zerolinecolor": "white"
           }
          },
          "shapedefaults": {
           "line": {
            "color": "#2a3f5f"
           }
          },
          "ternary": {
           "aaxis": {
            "gridcolor": "white",
            "linecolor": "white",
            "ticks": ""
           },
           "baxis": {
            "gridcolor": "white",
            "linecolor": "white",
            "ticks": ""
           },
           "bgcolor": "#E5ECF6",
           "caxis": {
            "gridcolor": "white",
            "linecolor": "white",
            "ticks": ""
           }
          },
          "title": {
           "x": 0.05
          },
          "xaxis": {
           "automargin": true,
           "gridcolor": "white",
           "linecolor": "white",
           "ticks": "",
           "title": {
            "standoff": 15
           },
           "zerolinecolor": "white",
           "zerolinewidth": 2
          },
          "yaxis": {
           "automargin": true,
           "gridcolor": "white",
           "linecolor": "white",
           "ticks": "",
           "title": {
            "standoff": 15
           },
           "zerolinecolor": "white",
           "zerolinewidth": 2
          }
         }
        },
        "xaxis": {
         "anchor": "y",
         "domain": [
          0,
          1
         ],
         "title": {
          "text": "month"
         }
        },
        "yaxis": {
         "anchor": "x",
         "domain": [
          0,
          1
         ],
         "title": {
          "text": "Pedidos"
         }
        }
       }
      }
     },
     "metadata": {},
     "output_type": "display_data"
    }
   ],
   "source": [
    "fig = px.line(tabla, x=\"month\", y=\"Pedidos\", color=\"year\", line_group=\"year\")\n",
    "fig.show()"
   ]
  },
  {
   "cell_type": "markdown",
   "metadata": {},
   "source": [
    "Investiga cuáles son los países donde tenemos más ventas (País origen de la\n",
    "compañía). No es necesario realizar una query para obtener el DataFrame. A\n",
    "raíz de estos datos genera una columna con el continente a partir del\n",
    "siguiente diccionario:\n",
    "(continentes = {\n",
    "  'Europe': ['Austria', 'Belgium', 'Denmark', 'Finland', 'France',\n",
    "'Germany', 'Ireland', 'Italy', 'Norway', 'Poland', 'Portugal', 'Spain', 'Sweden',\n",
    "'Switzerland', 'UK'],\n",
    "'America': ['Argentina', 'Brazil', 'Canada', 'Mexico', 'USA', 'Venezuela'] })\n",
    "\n",
    "y estudia la distribución de pedidos por continente\n",
    ". Realiza la visualización que creas más conveniente ."
   ]
  },
  {
   "cell_type": "code",
   "execution_count": 28,
   "metadata": {},
   "outputs": [
    {
     "data": {
      "text/html": [
       "<div>\n",
       "<style scoped>\n",
       "    .dataframe tbody tr th:only-of-type {\n",
       "        vertical-align: middle;\n",
       "    }\n",
       "\n",
       "    .dataframe tbody tr th {\n",
       "        vertical-align: top;\n",
       "    }\n",
       "\n",
       "    .dataframe thead th {\n",
       "        text-align: right;\n",
       "    }\n",
       "</style>\n",
       "<table border=\"1\" class=\"dataframe\">\n",
       "  <thead>\n",
       "    <tr style=\"text-align: right;\">\n",
       "      <th></th>\n",
       "      <th>country</th>\n",
       "      <th>pedidos</th>\n",
       "    </tr>\n",
       "  </thead>\n",
       "  <tbody>\n",
       "    <tr>\n",
       "      <th>8</th>\n",
       "      <td>Germany</td>\n",
       "      <td>122</td>\n",
       "    </tr>\n",
       "    <tr>\n",
       "      <th>19</th>\n",
       "      <td>USA</td>\n",
       "      <td>122</td>\n",
       "    </tr>\n",
       "    <tr>\n",
       "      <th>3</th>\n",
       "      <td>Brazil</td>\n",
       "      <td>83</td>\n",
       "    </tr>\n",
       "    <tr>\n",
       "      <th>7</th>\n",
       "      <td>France</td>\n",
       "      <td>77</td>\n",
       "    </tr>\n",
       "    <tr>\n",
       "      <th>18</th>\n",
       "      <td>UK</td>\n",
       "      <td>56</td>\n",
       "    </tr>\n",
       "    <tr>\n",
       "      <th>20</th>\n",
       "      <td>Venezuela</td>\n",
       "      <td>46</td>\n",
       "    </tr>\n",
       "    <tr>\n",
       "      <th>1</th>\n",
       "      <td>Austria</td>\n",
       "      <td>40</td>\n",
       "    </tr>\n",
       "    <tr>\n",
       "      <th>16</th>\n",
       "      <td>Sweden</td>\n",
       "      <td>37</td>\n",
       "    </tr>\n",
       "    <tr>\n",
       "      <th>4</th>\n",
       "      <td>Canada</td>\n",
       "      <td>30</td>\n",
       "    </tr>\n",
       "    <tr>\n",
       "      <th>11</th>\n",
       "      <td>Mexico</td>\n",
       "      <td>28</td>\n",
       "    </tr>\n",
       "    <tr>\n",
       "      <th>10</th>\n",
       "      <td>Italy</td>\n",
       "      <td>28</td>\n",
       "    </tr>\n",
       "    <tr>\n",
       "      <th>15</th>\n",
       "      <td>Spain</td>\n",
       "      <td>23</td>\n",
       "    </tr>\n",
       "    <tr>\n",
       "      <th>6</th>\n",
       "      <td>Finland</td>\n",
       "      <td>22</td>\n",
       "    </tr>\n",
       "    <tr>\n",
       "      <th>9</th>\n",
       "      <td>Ireland</td>\n",
       "      <td>19</td>\n",
       "    </tr>\n",
       "    <tr>\n",
       "      <th>2</th>\n",
       "      <td>Belgium</td>\n",
       "      <td>19</td>\n",
       "    </tr>\n",
       "    <tr>\n",
       "      <th>17</th>\n",
       "      <td>Switzerland</td>\n",
       "      <td>18</td>\n",
       "    </tr>\n",
       "    <tr>\n",
       "      <th>5</th>\n",
       "      <td>Denmark</td>\n",
       "      <td>18</td>\n",
       "    </tr>\n",
       "    <tr>\n",
       "      <th>0</th>\n",
       "      <td>Argentina</td>\n",
       "      <td>16</td>\n",
       "    </tr>\n",
       "    <tr>\n",
       "      <th>14</th>\n",
       "      <td>Portugal</td>\n",
       "      <td>13</td>\n",
       "    </tr>\n",
       "    <tr>\n",
       "      <th>13</th>\n",
       "      <td>Poland</td>\n",
       "      <td>7</td>\n",
       "    </tr>\n",
       "    <tr>\n",
       "      <th>12</th>\n",
       "      <td>Norway</td>\n",
       "      <td>6</td>\n",
       "    </tr>\n",
       "  </tbody>\n",
       "</table>\n",
       "</div>"
      ],
      "text/plain": [
       "        country  pedidos\n",
       "8       Germany      122\n",
       "19          USA      122\n",
       "3        Brazil       83\n",
       "7        France       77\n",
       "18           UK       56\n",
       "20    Venezuela       46\n",
       "1       Austria       40\n",
       "16       Sweden       37\n",
       "4        Canada       30\n",
       "11       Mexico       28\n",
       "10        Italy       28\n",
       "15        Spain       23\n",
       "6       Finland       22\n",
       "9       Ireland       19\n",
       "2       Belgium       19\n",
       "17  Switzerland       18\n",
       "5       Denmark       18\n",
       "0     Argentina       16\n",
       "14     Portugal       13\n",
       "13       Poland        7\n",
       "12       Norway        6"
      ]
     },
     "execution_count": 28,
     "metadata": {},
     "output_type": "execute_result"
    }
   ],
   "source": [
    "#ventas por pais\n",
    "dfventas_pais =tabla1.groupby('country')['order_id'].count().reset_index()#'reset_index()'nos genera un DF\n",
    "dfventas_pais.rename(columns = {'order_id':'pedidos'},inplace=True)\n",
    "dfventas_pais.sort_values('pedidos',ascending= False)"
   ]
  },
  {
   "cell_type": "code",
   "execution_count": 29,
   "metadata": {},
   "outputs": [
    {
     "data": {
      "text/html": [
       "<div>\n",
       "<style scoped>\n",
       "    .dataframe tbody tr th:only-of-type {\n",
       "        vertical-align: middle;\n",
       "    }\n",
       "\n",
       "    .dataframe tbody tr th {\n",
       "        vertical-align: top;\n",
       "    }\n",
       "\n",
       "    .dataframe thead th {\n",
       "        text-align: right;\n",
       "    }\n",
       "</style>\n",
       "<table border=\"1\" class=\"dataframe\">\n",
       "  <thead>\n",
       "    <tr style=\"text-align: right;\">\n",
       "      <th></th>\n",
       "      <th>country</th>\n",
       "      <th>pedidos</th>\n",
       "      <th>continent</th>\n",
       "    </tr>\n",
       "  </thead>\n",
       "  <tbody>\n",
       "    <tr>\n",
       "      <th>0</th>\n",
       "      <td>Argentina</td>\n",
       "      <td>16</td>\n",
       "      <td>America</td>\n",
       "    </tr>\n",
       "    <tr>\n",
       "      <th>1</th>\n",
       "      <td>Austria</td>\n",
       "      <td>40</td>\n",
       "      <td>Europe</td>\n",
       "    </tr>\n",
       "    <tr>\n",
       "      <th>2</th>\n",
       "      <td>Belgium</td>\n",
       "      <td>19</td>\n",
       "      <td>Europe</td>\n",
       "    </tr>\n",
       "    <tr>\n",
       "      <th>3</th>\n",
       "      <td>Brazil</td>\n",
       "      <td>83</td>\n",
       "      <td>America</td>\n",
       "    </tr>\n",
       "    <tr>\n",
       "      <th>4</th>\n",
       "      <td>Canada</td>\n",
       "      <td>30</td>\n",
       "      <td>America</td>\n",
       "    </tr>\n",
       "    <tr>\n",
       "      <th>5</th>\n",
       "      <td>Denmark</td>\n",
       "      <td>18</td>\n",
       "      <td>Europe</td>\n",
       "    </tr>\n",
       "    <tr>\n",
       "      <th>6</th>\n",
       "      <td>Finland</td>\n",
       "      <td>22</td>\n",
       "      <td>Europe</td>\n",
       "    </tr>\n",
       "    <tr>\n",
       "      <th>7</th>\n",
       "      <td>France</td>\n",
       "      <td>77</td>\n",
       "      <td>Europe</td>\n",
       "    </tr>\n",
       "    <tr>\n",
       "      <th>8</th>\n",
       "      <td>Germany</td>\n",
       "      <td>122</td>\n",
       "      <td>Europe</td>\n",
       "    </tr>\n",
       "    <tr>\n",
       "      <th>9</th>\n",
       "      <td>Ireland</td>\n",
       "      <td>19</td>\n",
       "      <td>Europe</td>\n",
       "    </tr>\n",
       "    <tr>\n",
       "      <th>10</th>\n",
       "      <td>Italy</td>\n",
       "      <td>28</td>\n",
       "      <td>Europe</td>\n",
       "    </tr>\n",
       "    <tr>\n",
       "      <th>11</th>\n",
       "      <td>Mexico</td>\n",
       "      <td>28</td>\n",
       "      <td>America</td>\n",
       "    </tr>\n",
       "    <tr>\n",
       "      <th>12</th>\n",
       "      <td>Norway</td>\n",
       "      <td>6</td>\n",
       "      <td>Europe</td>\n",
       "    </tr>\n",
       "    <tr>\n",
       "      <th>13</th>\n",
       "      <td>Poland</td>\n",
       "      <td>7</td>\n",
       "      <td>Europe</td>\n",
       "    </tr>\n",
       "    <tr>\n",
       "      <th>14</th>\n",
       "      <td>Portugal</td>\n",
       "      <td>13</td>\n",
       "      <td>Europe</td>\n",
       "    </tr>\n",
       "    <tr>\n",
       "      <th>15</th>\n",
       "      <td>Spain</td>\n",
       "      <td>23</td>\n",
       "      <td>Europe</td>\n",
       "    </tr>\n",
       "    <tr>\n",
       "      <th>16</th>\n",
       "      <td>Sweden</td>\n",
       "      <td>37</td>\n",
       "      <td>Europe</td>\n",
       "    </tr>\n",
       "    <tr>\n",
       "      <th>17</th>\n",
       "      <td>Switzerland</td>\n",
       "      <td>18</td>\n",
       "      <td>Europe</td>\n",
       "    </tr>\n",
       "    <tr>\n",
       "      <th>18</th>\n",
       "      <td>UK</td>\n",
       "      <td>56</td>\n",
       "      <td>Europe</td>\n",
       "    </tr>\n",
       "    <tr>\n",
       "      <th>19</th>\n",
       "      <td>USA</td>\n",
       "      <td>122</td>\n",
       "      <td>America</td>\n",
       "    </tr>\n",
       "    <tr>\n",
       "      <th>20</th>\n",
       "      <td>Venezuela</td>\n",
       "      <td>46</td>\n",
       "      <td>America</td>\n",
       "    </tr>\n",
       "  </tbody>\n",
       "</table>\n",
       "</div>"
      ],
      "text/plain": [
       "        country  pedidos continent\n",
       "0     Argentina       16   America\n",
       "1       Austria       40    Europe\n",
       "2       Belgium       19    Europe\n",
       "3        Brazil       83   America\n",
       "4        Canada       30   America\n",
       "5       Denmark       18    Europe\n",
       "6       Finland       22    Europe\n",
       "7        France       77    Europe\n",
       "8       Germany      122    Europe\n",
       "9       Ireland       19    Europe\n",
       "10        Italy       28    Europe\n",
       "11       Mexico       28   America\n",
       "12       Norway        6    Europe\n",
       "13       Poland        7    Europe\n",
       "14     Portugal       13    Europe\n",
       "15        Spain       23    Europe\n",
       "16       Sweden       37    Europe\n",
       "17  Switzerland       18    Europe\n",
       "18           UK       56    Europe\n",
       "19          USA      122   America\n",
       "20    Venezuela       46   America"
      ]
     },
     "execution_count": 29,
     "metadata": {},
     "output_type": "execute_result"
    }
   ],
   "source": [
    "#añadir columna continentes segun dicc aportado\n",
    "continentes = {\n",
    "  'Europe': ['Austria', 'Belgium', 'Denmark', 'Finland', 'France',\n",
    "'Germany', 'Ireland', 'Italy', 'Norway', 'Poland', 'Portugal', 'Spain', 'Sweden',\n",
    "'Switzerland', 'UK'],\n",
    "'America': ['Argentina', 'Brazil', 'Canada', 'Mexico', 'USA', 'Venezuela'] }\n",
    "\n",
    "def buscar_continente(pais):\n",
    "  for continente,paises in continentes.items():\n",
    "    if pais in paises:\n",
    "      return continente\n",
    "\n",
    "dfventas_pais['continent'] = dfventas_pais['country'].apply(buscar_continente)\n",
    "dfventas_pais"
   ]
  },
  {
   "cell_type": "code",
   "execution_count": 38,
   "metadata": {},
   "outputs": [
    {
     "data": {
      "application/vnd.plotly.v1+json": {
       "config": {
        "plotlyServerURL": "https://plot.ly"
       },
       "data": [
        {
         "hovertemplate": "continent=America<br>country=%{x}<br>pedidos=%{y}<extra></extra>",
         "legendgroup": "America",
         "line": {
          "color": "#636efa",
          "dash": "solid"
         },
         "marker": {
          "symbol": "circle"
         },
         "mode": "lines",
         "name": "America",
         "orientation": "v",
         "showlegend": true,
         "type": "scatter",
         "x": [
          "Argentina",
          "Brazil",
          "Canada",
          "Mexico",
          "USA",
          "Venezuela"
         ],
         "xaxis": "x",
         "y": [
          16,
          83,
          30,
          28,
          122,
          46
         ],
         "yaxis": "y"
        },
        {
         "hovertemplate": "continent=Europe<br>country=%{x}<br>pedidos=%{y}<extra></extra>",
         "legendgroup": "Europe",
         "line": {
          "color": "#EF553B",
          "dash": "solid"
         },
         "marker": {
          "symbol": "circle"
         },
         "mode": "lines",
         "name": "Europe",
         "orientation": "v",
         "showlegend": true,
         "type": "scatter",
         "x": [
          "Austria",
          "Belgium",
          "Denmark",
          "Finland",
          "France",
          "Germany",
          "Ireland",
          "Italy",
          "Norway",
          "Poland",
          "Portugal",
          "Spain",
          "Sweden",
          "Switzerland",
          "UK"
         ],
         "xaxis": "x",
         "y": [
          40,
          19,
          18,
          22,
          77,
          122,
          19,
          28,
          6,
          7,
          13,
          23,
          37,
          18,
          56
         ],
         "yaxis": "y"
        }
       ],
       "layout": {
        "legend": {
         "title": {
          "text": "continent"
         },
         "tracegroupgap": 0
        },
        "margin": {
         "t": 60
        },
        "template": {
         "data": {
          "bar": [
           {
            "error_x": {
             "color": "#2a3f5f"
            },
            "error_y": {
             "color": "#2a3f5f"
            },
            "marker": {
             "line": {
              "color": "#E5ECF6",
              "width": 0.5
             },
             "pattern": {
              "fillmode": "overlay",
              "size": 10,
              "solidity": 0.2
             }
            },
            "type": "bar"
           }
          ],
          "barpolar": [
           {
            "marker": {
             "line": {
              "color": "#E5ECF6",
              "width": 0.5
             },
             "pattern": {
              "fillmode": "overlay",
              "size": 10,
              "solidity": 0.2
             }
            },
            "type": "barpolar"
           }
          ],
          "carpet": [
           {
            "aaxis": {
             "endlinecolor": "#2a3f5f",
             "gridcolor": "white",
             "linecolor": "white",
             "minorgridcolor": "white",
             "startlinecolor": "#2a3f5f"
            },
            "baxis": {
             "endlinecolor": "#2a3f5f",
             "gridcolor": "white",
             "linecolor": "white",
             "minorgridcolor": "white",
             "startlinecolor": "#2a3f5f"
            },
            "type": "carpet"
           }
          ],
          "choropleth": [
           {
            "colorbar": {
             "outlinewidth": 0,
             "ticks": ""
            },
            "type": "choropleth"
           }
          ],
          "contour": [
           {
            "colorbar": {
             "outlinewidth": 0,
             "ticks": ""
            },
            "colorscale": [
             [
              0,
              "#0d0887"
             ],
             [
              0.1111111111111111,
              "#46039f"
             ],
             [
              0.2222222222222222,
              "#7201a8"
             ],
             [
              0.3333333333333333,
              "#9c179e"
             ],
             [
              0.4444444444444444,
              "#bd3786"
             ],
             [
              0.5555555555555556,
              "#d8576b"
             ],
             [
              0.6666666666666666,
              "#ed7953"
             ],
             [
              0.7777777777777778,
              "#fb9f3a"
             ],
             [
              0.8888888888888888,
              "#fdca26"
             ],
             [
              1,
              "#f0f921"
             ]
            ],
            "type": "contour"
           }
          ],
          "contourcarpet": [
           {
            "colorbar": {
             "outlinewidth": 0,
             "ticks": ""
            },
            "type": "contourcarpet"
           }
          ],
          "heatmap": [
           {
            "colorbar": {
             "outlinewidth": 0,
             "ticks": ""
            },
            "colorscale": [
             [
              0,
              "#0d0887"
             ],
             [
              0.1111111111111111,
              "#46039f"
             ],
             [
              0.2222222222222222,
              "#7201a8"
             ],
             [
              0.3333333333333333,
              "#9c179e"
             ],
             [
              0.4444444444444444,
              "#bd3786"
             ],
             [
              0.5555555555555556,
              "#d8576b"
             ],
             [
              0.6666666666666666,
              "#ed7953"
             ],
             [
              0.7777777777777778,
              "#fb9f3a"
             ],
             [
              0.8888888888888888,
              "#fdca26"
             ],
             [
              1,
              "#f0f921"
             ]
            ],
            "type": "heatmap"
           }
          ],
          "heatmapgl": [
           {
            "colorbar": {
             "outlinewidth": 0,
             "ticks": ""
            },
            "colorscale": [
             [
              0,
              "#0d0887"
             ],
             [
              0.1111111111111111,
              "#46039f"
             ],
             [
              0.2222222222222222,
              "#7201a8"
             ],
             [
              0.3333333333333333,
              "#9c179e"
             ],
             [
              0.4444444444444444,
              "#bd3786"
             ],
             [
              0.5555555555555556,
              "#d8576b"
             ],
             [
              0.6666666666666666,
              "#ed7953"
             ],
             [
              0.7777777777777778,
              "#fb9f3a"
             ],
             [
              0.8888888888888888,
              "#fdca26"
             ],
             [
              1,
              "#f0f921"
             ]
            ],
            "type": "heatmapgl"
           }
          ],
          "histogram": [
           {
            "marker": {
             "pattern": {
              "fillmode": "overlay",
              "size": 10,
              "solidity": 0.2
             }
            },
            "type": "histogram"
           }
          ],
          "histogram2d": [
           {
            "colorbar": {
             "outlinewidth": 0,
             "ticks": ""
            },
            "colorscale": [
             [
              0,
              "#0d0887"
             ],
             [
              0.1111111111111111,
              "#46039f"
             ],
             [
              0.2222222222222222,
              "#7201a8"
             ],
             [
              0.3333333333333333,
              "#9c179e"
             ],
             [
              0.4444444444444444,
              "#bd3786"
             ],
             [
              0.5555555555555556,
              "#d8576b"
             ],
             [
              0.6666666666666666,
              "#ed7953"
             ],
             [
              0.7777777777777778,
              "#fb9f3a"
             ],
             [
              0.8888888888888888,
              "#fdca26"
             ],
             [
              1,
              "#f0f921"
             ]
            ],
            "type": "histogram2d"
           }
          ],
          "histogram2dcontour": [
           {
            "colorbar": {
             "outlinewidth": 0,
             "ticks": ""
            },
            "colorscale": [
             [
              0,
              "#0d0887"
             ],
             [
              0.1111111111111111,
              "#46039f"
             ],
             [
              0.2222222222222222,
              "#7201a8"
             ],
             [
              0.3333333333333333,
              "#9c179e"
             ],
             [
              0.4444444444444444,
              "#bd3786"
             ],
             [
              0.5555555555555556,
              "#d8576b"
             ],
             [
              0.6666666666666666,
              "#ed7953"
             ],
             [
              0.7777777777777778,
              "#fb9f3a"
             ],
             [
              0.8888888888888888,
              "#fdca26"
             ],
             [
              1,
              "#f0f921"
             ]
            ],
            "type": "histogram2dcontour"
           }
          ],
          "mesh3d": [
           {
            "colorbar": {
             "outlinewidth": 0,
             "ticks": ""
            },
            "type": "mesh3d"
           }
          ],
          "parcoords": [
           {
            "line": {
             "colorbar": {
              "outlinewidth": 0,
              "ticks": ""
             }
            },
            "type": "parcoords"
           }
          ],
          "pie": [
           {
            "automargin": true,
            "type": "pie"
           }
          ],
          "scatter": [
           {
            "fillpattern": {
             "fillmode": "overlay",
             "size": 10,
             "solidity": 0.2
            },
            "type": "scatter"
           }
          ],
          "scatter3d": [
           {
            "line": {
             "colorbar": {
              "outlinewidth": 0,
              "ticks": ""
             }
            },
            "marker": {
             "colorbar": {
              "outlinewidth": 0,
              "ticks": ""
             }
            },
            "type": "scatter3d"
           }
          ],
          "scattercarpet": [
           {
            "marker": {
             "colorbar": {
              "outlinewidth": 0,
              "ticks": ""
             }
            },
            "type": "scattercarpet"
           }
          ],
          "scattergeo": [
           {
            "marker": {
             "colorbar": {
              "outlinewidth": 0,
              "ticks": ""
             }
            },
            "type": "scattergeo"
           }
          ],
          "scattergl": [
           {
            "marker": {
             "colorbar": {
              "outlinewidth": 0,
              "ticks": ""
             }
            },
            "type": "scattergl"
           }
          ],
          "scattermapbox": [
           {
            "marker": {
             "colorbar": {
              "outlinewidth": 0,
              "ticks": ""
             }
            },
            "type": "scattermapbox"
           }
          ],
          "scatterpolar": [
           {
            "marker": {
             "colorbar": {
              "outlinewidth": 0,
              "ticks": ""
             }
            },
            "type": "scatterpolar"
           }
          ],
          "scatterpolargl": [
           {
            "marker": {
             "colorbar": {
              "outlinewidth": 0,
              "ticks": ""
             }
            },
            "type": "scatterpolargl"
           }
          ],
          "scatterternary": [
           {
            "marker": {
             "colorbar": {
              "outlinewidth": 0,
              "ticks": ""
             }
            },
            "type": "scatterternary"
           }
          ],
          "surface": [
           {
            "colorbar": {
             "outlinewidth": 0,
             "ticks": ""
            },
            "colorscale": [
             [
              0,
              "#0d0887"
             ],
             [
              0.1111111111111111,
              "#46039f"
             ],
             [
              0.2222222222222222,
              "#7201a8"
             ],
             [
              0.3333333333333333,
              "#9c179e"
             ],
             [
              0.4444444444444444,
              "#bd3786"
             ],
             [
              0.5555555555555556,
              "#d8576b"
             ],
             [
              0.6666666666666666,
              "#ed7953"
             ],
             [
              0.7777777777777778,
              "#fb9f3a"
             ],
             [
              0.8888888888888888,
              "#fdca26"
             ],
             [
              1,
              "#f0f921"
             ]
            ],
            "type": "surface"
           }
          ],
          "table": [
           {
            "cells": {
             "fill": {
              "color": "#EBF0F8"
             },
             "line": {
              "color": "white"
             }
            },
            "header": {
             "fill": {
              "color": "#C8D4E3"
             },
             "line": {
              "color": "white"
             }
            },
            "type": "table"
           }
          ]
         },
         "layout": {
          "annotationdefaults": {
           "arrowcolor": "#2a3f5f",
           "arrowhead": 0,
           "arrowwidth": 1
          },
          "autotypenumbers": "strict",
          "coloraxis": {
           "colorbar": {
            "outlinewidth": 0,
            "ticks": ""
           }
          },
          "colorscale": {
           "diverging": [
            [
             0,
             "#8e0152"
            ],
            [
             0.1,
             "#c51b7d"
            ],
            [
             0.2,
             "#de77ae"
            ],
            [
             0.3,
             "#f1b6da"
            ],
            [
             0.4,
             "#fde0ef"
            ],
            [
             0.5,
             "#f7f7f7"
            ],
            [
             0.6,
             "#e6f5d0"
            ],
            [
             0.7,
             "#b8e186"
            ],
            [
             0.8,
             "#7fbc41"
            ],
            [
             0.9,
             "#4d9221"
            ],
            [
             1,
             "#276419"
            ]
           ],
           "sequential": [
            [
             0,
             "#0d0887"
            ],
            [
             0.1111111111111111,
             "#46039f"
            ],
            [
             0.2222222222222222,
             "#7201a8"
            ],
            [
             0.3333333333333333,
             "#9c179e"
            ],
            [
             0.4444444444444444,
             "#bd3786"
            ],
            [
             0.5555555555555556,
             "#d8576b"
            ],
            [
             0.6666666666666666,
             "#ed7953"
            ],
            [
             0.7777777777777778,
             "#fb9f3a"
            ],
            [
             0.8888888888888888,
             "#fdca26"
            ],
            [
             1,
             "#f0f921"
            ]
           ],
           "sequentialminus": [
            [
             0,
             "#0d0887"
            ],
            [
             0.1111111111111111,
             "#46039f"
            ],
            [
             0.2222222222222222,
             "#7201a8"
            ],
            [
             0.3333333333333333,
             "#9c179e"
            ],
            [
             0.4444444444444444,
             "#bd3786"
            ],
            [
             0.5555555555555556,
             "#d8576b"
            ],
            [
             0.6666666666666666,
             "#ed7953"
            ],
            [
             0.7777777777777778,
             "#fb9f3a"
            ],
            [
             0.8888888888888888,
             "#fdca26"
            ],
            [
             1,
             "#f0f921"
            ]
           ]
          },
          "colorway": [
           "#636efa",
           "#EF553B",
           "#00cc96",
           "#ab63fa",
           "#FFA15A",
           "#19d3f3",
           "#FF6692",
           "#B6E880",
           "#FF97FF",
           "#FECB52"
          ],
          "font": {
           "color": "#2a3f5f"
          },
          "geo": {
           "bgcolor": "white",
           "lakecolor": "white",
           "landcolor": "#E5ECF6",
           "showlakes": true,
           "showland": true,
           "subunitcolor": "white"
          },
          "hoverlabel": {
           "align": "left"
          },
          "hovermode": "closest",
          "mapbox": {
           "style": "light"
          },
          "paper_bgcolor": "white",
          "plot_bgcolor": "#E5ECF6",
          "polar": {
           "angularaxis": {
            "gridcolor": "white",
            "linecolor": "white",
            "ticks": ""
           },
           "bgcolor": "#E5ECF6",
           "radialaxis": {
            "gridcolor": "white",
            "linecolor": "white",
            "ticks": ""
           }
          },
          "scene": {
           "xaxis": {
            "backgroundcolor": "#E5ECF6",
            "gridcolor": "white",
            "gridwidth": 2,
            "linecolor": "white",
            "showbackground": true,
            "ticks": "",
            "zerolinecolor": "white"
           },
           "yaxis": {
            "backgroundcolor": "#E5ECF6",
            "gridcolor": "white",
            "gridwidth": 2,
            "linecolor": "white",
            "showbackground": true,
            "ticks": "",
            "zerolinecolor": "white"
           },
           "zaxis": {
            "backgroundcolor": "#E5ECF6",
            "gridcolor": "white",
            "gridwidth": 2,
            "linecolor": "white",
            "showbackground": true,
            "ticks": "",
            "zerolinecolor": "white"
           }
          },
          "shapedefaults": {
           "line": {
            "color": "#2a3f5f"
           }
          },
          "ternary": {
           "aaxis": {
            "gridcolor": "white",
            "linecolor": "white",
            "ticks": ""
           },
           "baxis": {
            "gridcolor": "white",
            "linecolor": "white",
            "ticks": ""
           },
           "bgcolor": "#E5ECF6",
           "caxis": {
            "gridcolor": "white",
            "linecolor": "white",
            "ticks": ""
           }
          },
          "title": {
           "x": 0.05
          },
          "xaxis": {
           "automargin": true,
           "gridcolor": "white",
           "linecolor": "white",
           "ticks": "",
           "title": {
            "standoff": 15
           },
           "zerolinecolor": "white",
           "zerolinewidth": 2
          },
          "yaxis": {
           "automargin": true,
           "gridcolor": "white",
           "linecolor": "white",
           "ticks": "",
           "title": {
            "standoff": 15
           },
           "zerolinecolor": "white",
           "zerolinewidth": 2
          }
         }
        },
        "xaxis": {
         "anchor": "y",
         "domain": [
          0,
          1
         ],
         "title": {
          "text": "country"
         }
        },
        "yaxis": {
         "anchor": "x",
         "domain": [
          0,
          1
         ],
         "title": {
          "text": "pedidos"
         }
        }
       }
      }
     },
     "metadata": {},
     "output_type": "display_data"
    }
   ],
   "source": [
    "fig = px.line(dfventas_pais, x=\"country\", y=\"pedidos\", color=\"continent\", line_group=\"continent\")\n",
    "fig.show()"
   ]
  },
  {
   "cell_type": "code",
   "execution_count": 55,
   "metadata": {},
   "outputs": [
    {
     "data": {
      "text/plain": [
       "continent\n",
       "America    325\n",
       "Europe     505\n",
       "Name: pedidos, dtype: int64"
      ]
     },
     "metadata": {},
     "output_type": "display_data"
    },
    {
     "data": {
      "application/vnd.plotly.v1+json": {
       "config": {
        "plotlyServerURL": "https://plot.ly"
       },
       "data": [
        {
         "alignmentgroup": "True",
         "hovertemplate": "continent=%{x}<br>pedidos=%{y}<extra></extra>",
         "legendgroup": "",
         "marker": {
          "color": "#636efa",
          "pattern": {
           "shape": ""
          }
         },
         "name": "",
         "offsetgroup": "",
         "orientation": "v",
         "showlegend": false,
         "textposition": "auto",
         "type": "bar",
         "x": [
          "America",
          "Europe"
         ],
         "xaxis": "x",
         "y": [
          325,
          505
         ],
         "yaxis": "y"
        }
       ],
       "layout": {
        "barmode": "relative",
        "legend": {
         "tracegroupgap": 0
        },
        "margin": {
         "t": 60
        },
        "template": {
         "data": {
          "bar": [
           {
            "error_x": {
             "color": "#2a3f5f"
            },
            "error_y": {
             "color": "#2a3f5f"
            },
            "marker": {
             "line": {
              "color": "#E5ECF6",
              "width": 0.5
             },
             "pattern": {
              "fillmode": "overlay",
              "size": 10,
              "solidity": 0.2
             }
            },
            "type": "bar"
           }
          ],
          "barpolar": [
           {
            "marker": {
             "line": {
              "color": "#E5ECF6",
              "width": 0.5
             },
             "pattern": {
              "fillmode": "overlay",
              "size": 10,
              "solidity": 0.2
             }
            },
            "type": "barpolar"
           }
          ],
          "carpet": [
           {
            "aaxis": {
             "endlinecolor": "#2a3f5f",
             "gridcolor": "white",
             "linecolor": "white",
             "minorgridcolor": "white",
             "startlinecolor": "#2a3f5f"
            },
            "baxis": {
             "endlinecolor": "#2a3f5f",
             "gridcolor": "white",
             "linecolor": "white",
             "minorgridcolor": "white",
             "startlinecolor": "#2a3f5f"
            },
            "type": "carpet"
           }
          ],
          "choropleth": [
           {
            "colorbar": {
             "outlinewidth": 0,
             "ticks": ""
            },
            "type": "choropleth"
           }
          ],
          "contour": [
           {
            "colorbar": {
             "outlinewidth": 0,
             "ticks": ""
            },
            "colorscale": [
             [
              0,
              "#0d0887"
             ],
             [
              0.1111111111111111,
              "#46039f"
             ],
             [
              0.2222222222222222,
              "#7201a8"
             ],
             [
              0.3333333333333333,
              "#9c179e"
             ],
             [
              0.4444444444444444,
              "#bd3786"
             ],
             [
              0.5555555555555556,
              "#d8576b"
             ],
             [
              0.6666666666666666,
              "#ed7953"
             ],
             [
              0.7777777777777778,
              "#fb9f3a"
             ],
             [
              0.8888888888888888,
              "#fdca26"
             ],
             [
              1,
              "#f0f921"
             ]
            ],
            "type": "contour"
           }
          ],
          "contourcarpet": [
           {
            "colorbar": {
             "outlinewidth": 0,
             "ticks": ""
            },
            "type": "contourcarpet"
           }
          ],
          "heatmap": [
           {
            "colorbar": {
             "outlinewidth": 0,
             "ticks": ""
            },
            "colorscale": [
             [
              0,
              "#0d0887"
             ],
             [
              0.1111111111111111,
              "#46039f"
             ],
             [
              0.2222222222222222,
              "#7201a8"
             ],
             [
              0.3333333333333333,
              "#9c179e"
             ],
             [
              0.4444444444444444,
              "#bd3786"
             ],
             [
              0.5555555555555556,
              "#d8576b"
             ],
             [
              0.6666666666666666,
              "#ed7953"
             ],
             [
              0.7777777777777778,
              "#fb9f3a"
             ],
             [
              0.8888888888888888,
              "#fdca26"
             ],
             [
              1,
              "#f0f921"
             ]
            ],
            "type": "heatmap"
           }
          ],
          "heatmapgl": [
           {
            "colorbar": {
             "outlinewidth": 0,
             "ticks": ""
            },
            "colorscale": [
             [
              0,
              "#0d0887"
             ],
             [
              0.1111111111111111,
              "#46039f"
             ],
             [
              0.2222222222222222,
              "#7201a8"
             ],
             [
              0.3333333333333333,
              "#9c179e"
             ],
             [
              0.4444444444444444,
              "#bd3786"
             ],
             [
              0.5555555555555556,
              "#d8576b"
             ],
             [
              0.6666666666666666,
              "#ed7953"
             ],
             [
              0.7777777777777778,
              "#fb9f3a"
             ],
             [
              0.8888888888888888,
              "#fdca26"
             ],
             [
              1,
              "#f0f921"
             ]
            ],
            "type": "heatmapgl"
           }
          ],
          "histogram": [
           {
            "marker": {
             "pattern": {
              "fillmode": "overlay",
              "size": 10,
              "solidity": 0.2
             }
            },
            "type": "histogram"
           }
          ],
          "histogram2d": [
           {
            "colorbar": {
             "outlinewidth": 0,
             "ticks": ""
            },
            "colorscale": [
             [
              0,
              "#0d0887"
             ],
             [
              0.1111111111111111,
              "#46039f"
             ],
             [
              0.2222222222222222,
              "#7201a8"
             ],
             [
              0.3333333333333333,
              "#9c179e"
             ],
             [
              0.4444444444444444,
              "#bd3786"
             ],
             [
              0.5555555555555556,
              "#d8576b"
             ],
             [
              0.6666666666666666,
              "#ed7953"
             ],
             [
              0.7777777777777778,
              "#fb9f3a"
             ],
             [
              0.8888888888888888,
              "#fdca26"
             ],
             [
              1,
              "#f0f921"
             ]
            ],
            "type": "histogram2d"
           }
          ],
          "histogram2dcontour": [
           {
            "colorbar": {
             "outlinewidth": 0,
             "ticks": ""
            },
            "colorscale": [
             [
              0,
              "#0d0887"
             ],
             [
              0.1111111111111111,
              "#46039f"
             ],
             [
              0.2222222222222222,
              "#7201a8"
             ],
             [
              0.3333333333333333,
              "#9c179e"
             ],
             [
              0.4444444444444444,
              "#bd3786"
             ],
             [
              0.5555555555555556,
              "#d8576b"
             ],
             [
              0.6666666666666666,
              "#ed7953"
             ],
             [
              0.7777777777777778,
              "#fb9f3a"
             ],
             [
              0.8888888888888888,
              "#fdca26"
             ],
             [
              1,
              "#f0f921"
             ]
            ],
            "type": "histogram2dcontour"
           }
          ],
          "mesh3d": [
           {
            "colorbar": {
             "outlinewidth": 0,
             "ticks": ""
            },
            "type": "mesh3d"
           }
          ],
          "parcoords": [
           {
            "line": {
             "colorbar": {
              "outlinewidth": 0,
              "ticks": ""
             }
            },
            "type": "parcoords"
           }
          ],
          "pie": [
           {
            "automargin": true,
            "type": "pie"
           }
          ],
          "scatter": [
           {
            "fillpattern": {
             "fillmode": "overlay",
             "size": 10,
             "solidity": 0.2
            },
            "type": "scatter"
           }
          ],
          "scatter3d": [
           {
            "line": {
             "colorbar": {
              "outlinewidth": 0,
              "ticks": ""
             }
            },
            "marker": {
             "colorbar": {
              "outlinewidth": 0,
              "ticks": ""
             }
            },
            "type": "scatter3d"
           }
          ],
          "scattercarpet": [
           {
            "marker": {
             "colorbar": {
              "outlinewidth": 0,
              "ticks": ""
             }
            },
            "type": "scattercarpet"
           }
          ],
          "scattergeo": [
           {
            "marker": {
             "colorbar": {
              "outlinewidth": 0,
              "ticks": ""
             }
            },
            "type": "scattergeo"
           }
          ],
          "scattergl": [
           {
            "marker": {
             "colorbar": {
              "outlinewidth": 0,
              "ticks": ""
             }
            },
            "type": "scattergl"
           }
          ],
          "scattermapbox": [
           {
            "marker": {
             "colorbar": {
              "outlinewidth": 0,
              "ticks": ""
             }
            },
            "type": "scattermapbox"
           }
          ],
          "scatterpolar": [
           {
            "marker": {
             "colorbar": {
              "outlinewidth": 0,
              "ticks": ""
             }
            },
            "type": "scatterpolar"
           }
          ],
          "scatterpolargl": [
           {
            "marker": {
             "colorbar": {
              "outlinewidth": 0,
              "ticks": ""
             }
            },
            "type": "scatterpolargl"
           }
          ],
          "scatterternary": [
           {
            "marker": {
             "colorbar": {
              "outlinewidth": 0,
              "ticks": ""
             }
            },
            "type": "scatterternary"
           }
          ],
          "surface": [
           {
            "colorbar": {
             "outlinewidth": 0,
             "ticks": ""
            },
            "colorscale": [
             [
              0,
              "#0d0887"
             ],
             [
              0.1111111111111111,
              "#46039f"
             ],
             [
              0.2222222222222222,
              "#7201a8"
             ],
             [
              0.3333333333333333,
              "#9c179e"
             ],
             [
              0.4444444444444444,
              "#bd3786"
             ],
             [
              0.5555555555555556,
              "#d8576b"
             ],
             [
              0.6666666666666666,
              "#ed7953"
             ],
             [
              0.7777777777777778,
              "#fb9f3a"
             ],
             [
              0.8888888888888888,
              "#fdca26"
             ],
             [
              1,
              "#f0f921"
             ]
            ],
            "type": "surface"
           }
          ],
          "table": [
           {
            "cells": {
             "fill": {
              "color": "#EBF0F8"
             },
             "line": {
              "color": "white"
             }
            },
            "header": {
             "fill": {
              "color": "#C8D4E3"
             },
             "line": {
              "color": "white"
             }
            },
            "type": "table"
           }
          ]
         },
         "layout": {
          "annotationdefaults": {
           "arrowcolor": "#2a3f5f",
           "arrowhead": 0,
           "arrowwidth": 1
          },
          "autotypenumbers": "strict",
          "coloraxis": {
           "colorbar": {
            "outlinewidth": 0,
            "ticks": ""
           }
          },
          "colorscale": {
           "diverging": [
            [
             0,
             "#8e0152"
            ],
            [
             0.1,
             "#c51b7d"
            ],
            [
             0.2,
             "#de77ae"
            ],
            [
             0.3,
             "#f1b6da"
            ],
            [
             0.4,
             "#fde0ef"
            ],
            [
             0.5,
             "#f7f7f7"
            ],
            [
             0.6,
             "#e6f5d0"
            ],
            [
             0.7,
             "#b8e186"
            ],
            [
             0.8,
             "#7fbc41"
            ],
            [
             0.9,
             "#4d9221"
            ],
            [
             1,
             "#276419"
            ]
           ],
           "sequential": [
            [
             0,
             "#0d0887"
            ],
            [
             0.1111111111111111,
             "#46039f"
            ],
            [
             0.2222222222222222,
             "#7201a8"
            ],
            [
             0.3333333333333333,
             "#9c179e"
            ],
            [
             0.4444444444444444,
             "#bd3786"
            ],
            [
             0.5555555555555556,
             "#d8576b"
            ],
            [
             0.6666666666666666,
             "#ed7953"
            ],
            [
             0.7777777777777778,
             "#fb9f3a"
            ],
            [
             0.8888888888888888,
             "#fdca26"
            ],
            [
             1,
             "#f0f921"
            ]
           ],
           "sequentialminus": [
            [
             0,
             "#0d0887"
            ],
            [
             0.1111111111111111,
             "#46039f"
            ],
            [
             0.2222222222222222,
             "#7201a8"
            ],
            [
             0.3333333333333333,
             "#9c179e"
            ],
            [
             0.4444444444444444,
             "#bd3786"
            ],
            [
             0.5555555555555556,
             "#d8576b"
            ],
            [
             0.6666666666666666,
             "#ed7953"
            ],
            [
             0.7777777777777778,
             "#fb9f3a"
            ],
            [
             0.8888888888888888,
             "#fdca26"
            ],
            [
             1,
             "#f0f921"
            ]
           ]
          },
          "colorway": [
           "#636efa",
           "#EF553B",
           "#00cc96",
           "#ab63fa",
           "#FFA15A",
           "#19d3f3",
           "#FF6692",
           "#B6E880",
           "#FF97FF",
           "#FECB52"
          ],
          "font": {
           "color": "#2a3f5f"
          },
          "geo": {
           "bgcolor": "white",
           "lakecolor": "white",
           "landcolor": "#E5ECF6",
           "showlakes": true,
           "showland": true,
           "subunitcolor": "white"
          },
          "hoverlabel": {
           "align": "left"
          },
          "hovermode": "closest",
          "mapbox": {
           "style": "light"
          },
          "paper_bgcolor": "white",
          "plot_bgcolor": "#E5ECF6",
          "polar": {
           "angularaxis": {
            "gridcolor": "white",
            "linecolor": "white",
            "ticks": ""
           },
           "bgcolor": "#E5ECF6",
           "radialaxis": {
            "gridcolor": "white",
            "linecolor": "white",
            "ticks": ""
           }
          },
          "scene": {
           "xaxis": {
            "backgroundcolor": "#E5ECF6",
            "gridcolor": "white",
            "gridwidth": 2,
            "linecolor": "white",
            "showbackground": true,
            "ticks": "",
            "zerolinecolor": "white"
           },
           "yaxis": {
            "backgroundcolor": "#E5ECF6",
            "gridcolor": "white",
            "gridwidth": 2,
            "linecolor": "white",
            "showbackground": true,
            "ticks": "",
            "zerolinecolor": "white"
           },
           "zaxis": {
            "backgroundcolor": "#E5ECF6",
            "gridcolor": "white",
            "gridwidth": 2,
            "linecolor": "white",
            "showbackground": true,
            "ticks": "",
            "zerolinecolor": "white"
           }
          },
          "shapedefaults": {
           "line": {
            "color": "#2a3f5f"
           }
          },
          "ternary": {
           "aaxis": {
            "gridcolor": "white",
            "linecolor": "white",
            "ticks": ""
           },
           "baxis": {
            "gridcolor": "white",
            "linecolor": "white",
            "ticks": ""
           },
           "bgcolor": "#E5ECF6",
           "caxis": {
            "gridcolor": "white",
            "linecolor": "white",
            "ticks": ""
           }
          },
          "title": {
           "x": 0.05
          },
          "xaxis": {
           "automargin": true,
           "gridcolor": "white",
           "linecolor": "white",
           "ticks": "",
           "title": {
            "standoff": 15
           },
           "zerolinecolor": "white",
           "zerolinewidth": 2
          },
          "yaxis": {
           "automargin": true,
           "gridcolor": "white",
           "linecolor": "white",
           "ticks": "",
           "title": {
            "standoff": 15
           },
           "zerolinecolor": "white",
           "zerolinewidth": 2
          }
         }
        },
        "width": 600,
        "xaxis": {
         "anchor": "y",
         "domain": [
          0,
          1
         ],
         "title": {
          "text": "continent"
         }
        },
        "yaxis": {
         "anchor": "x",
         "domain": [
          0,
          1
         ],
         "title": {
          "text": "pedidos"
         }
        }
       }
      }
     },
     "metadata": {},
     "output_type": "display_data"
    }
   ],
   "source": [
    "#agrupacion por continente\n",
    "dfventas_continente=dfventas_pais.groupby('continent')['pedidos'].sum()\n",
    "display(dfventas_continente)\n",
    "#grafico\n",
    "fig = px.bar(dfventas_continente,  y=\"pedidos\",width=600)\n",
    "fig.show()"
   ]
  },
  {
   "cell_type": "markdown",
   "metadata": {},
   "source": [
    "Sabemos que algunos pedidos han llegado con retraso, además hay pedidos\n",
    "que no ha sido registrada su llegada. Investiga si la compañía de transporte\n",
    "está relacionada con ello o no. Realiza un boxplot para ver la diferencia de\n",
    "rango intercuartílico."
   ]
  },
  {
   "cell_type": "code",
   "execution_count": 28,
   "metadata": {},
   "outputs": [
    {
     "name": "stdout",
     "output_type": "stream",
     "text": [
      "Los pedidos con retraso son:\n"
     ]
    },
    {
     "data": {
      "text/html": [
       "<div>\n",
       "<style scoped>\n",
       "    .dataframe tbody tr th:only-of-type {\n",
       "        vertical-align: middle;\n",
       "    }\n",
       "\n",
       "    .dataframe tbody tr th {\n",
       "        vertical-align: top;\n",
       "    }\n",
       "\n",
       "    .dataframe thead th {\n",
       "        text-align: right;\n",
       "    }\n",
       "</style>\n",
       "<table border=\"1\" class=\"dataframe\">\n",
       "  <thead>\n",
       "    <tr style=\"text-align: right;\">\n",
       "      <th></th>\n",
       "      <th>company_name</th>\n",
       "      <th>order_id</th>\n",
       "      <th>required_date</th>\n",
       "      <th>shipped_date</th>\n",
       "      <th>delay_in_days</th>\n",
       "    </tr>\n",
       "  </thead>\n",
       "  <tbody>\n",
       "    <tr>\n",
       "      <th>0</th>\n",
       "      <td>Federal Shipping</td>\n",
       "      <td>10248</td>\n",
       "      <td>1996-08-01</td>\n",
       "      <td>1996-07-16</td>\n",
       "      <td>16</td>\n",
       "    </tr>\n",
       "    <tr>\n",
       "      <th>1</th>\n",
       "      <td>Speedy Express</td>\n",
       "      <td>10249</td>\n",
       "      <td>1996-08-16</td>\n",
       "      <td>1996-07-10</td>\n",
       "      <td>37</td>\n",
       "    </tr>\n",
       "    <tr>\n",
       "      <th>2</th>\n",
       "      <td>United Package</td>\n",
       "      <td>10250</td>\n",
       "      <td>1996-08-05</td>\n",
       "      <td>1996-07-12</td>\n",
       "      <td>24</td>\n",
       "    </tr>\n",
       "    <tr>\n",
       "      <th>3</th>\n",
       "      <td>Speedy Express</td>\n",
       "      <td>10251</td>\n",
       "      <td>1996-08-05</td>\n",
       "      <td>1996-07-15</td>\n",
       "      <td>21</td>\n",
       "    </tr>\n",
       "    <tr>\n",
       "      <th>4</th>\n",
       "      <td>United Package</td>\n",
       "      <td>10252</td>\n",
       "      <td>1996-08-06</td>\n",
       "      <td>1996-07-11</td>\n",
       "      <td>26</td>\n",
       "    </tr>\n",
       "    <tr>\n",
       "      <th>...</th>\n",
       "      <td>...</td>\n",
       "      <td>...</td>\n",
       "      <td>...</td>\n",
       "      <td>...</td>\n",
       "      <td>...</td>\n",
       "    </tr>\n",
       "    <tr>\n",
       "      <th>804</th>\n",
       "      <td>United Package</td>\n",
       "      <td>11063</td>\n",
       "      <td>1998-05-28</td>\n",
       "      <td>1998-05-06</td>\n",
       "      <td>22</td>\n",
       "    </tr>\n",
       "    <tr>\n",
       "      <th>805</th>\n",
       "      <td>Speedy Express</td>\n",
       "      <td>11064</td>\n",
       "      <td>1998-05-29</td>\n",
       "      <td>1998-05-04</td>\n",
       "      <td>25</td>\n",
       "    </tr>\n",
       "    <tr>\n",
       "      <th>806</th>\n",
       "      <td>United Package</td>\n",
       "      <td>11066</td>\n",
       "      <td>1998-05-29</td>\n",
       "      <td>1998-05-04</td>\n",
       "      <td>25</td>\n",
       "    </tr>\n",
       "    <tr>\n",
       "      <th>807</th>\n",
       "      <td>United Package</td>\n",
       "      <td>11067</td>\n",
       "      <td>1998-05-18</td>\n",
       "      <td>1998-05-06</td>\n",
       "      <td>12</td>\n",
       "    </tr>\n",
       "    <tr>\n",
       "      <th>808</th>\n",
       "      <td>United Package</td>\n",
       "      <td>11069</td>\n",
       "      <td>1998-06-01</td>\n",
       "      <td>1998-05-06</td>\n",
       "      <td>26</td>\n",
       "    </tr>\n",
       "  </tbody>\n",
       "</table>\n",
       "<p>809 rows × 5 columns</p>\n",
       "</div>"
      ],
      "text/plain": [
       "         company_name  order_id required_date shipped_date  delay_in_days\n",
       "0    Federal Shipping     10248    1996-08-01   1996-07-16             16\n",
       "1      Speedy Express     10249    1996-08-16   1996-07-10             37\n",
       "2      United Package     10250    1996-08-05   1996-07-12             24\n",
       "3      Speedy Express     10251    1996-08-05   1996-07-15             21\n",
       "4      United Package     10252    1996-08-06   1996-07-11             26\n",
       "..                ...       ...           ...          ...            ...\n",
       "804    United Package     11063    1998-05-28   1998-05-06             22\n",
       "805    Speedy Express     11064    1998-05-29   1998-05-04             25\n",
       "806    United Package     11066    1998-05-29   1998-05-04             25\n",
       "807    United Package     11067    1998-05-18   1998-05-06             12\n",
       "808    United Package     11069    1998-06-01   1998-05-06             26\n",
       "\n",
       "[809 rows x 5 columns]"
      ]
     },
     "metadata": {},
     "output_type": "display_data"
    }
   ],
   "source": [
    "sql_query = '''\n",
    "SELECT s.company_name, \n",
    "       o.order_id, \n",
    "       o.required_date, \n",
    "       o.shipped_date, \n",
    "       (o.required_date - o.shipped_date) AS delay_in_days\n",
    "FROM orders o\n",
    "JOIN shippers s ON o.ship_via = s.shipper_id\n",
    "WHERE o.shipped_date IS NOT NULL;\n",
    "'''\n",
    "cursor = conn.cursor() \n",
    "cursor.execute(sql_query) \n",
    "rows = cursor.fetchall() \n",
    "colnames = [desc[0] for desc in cursor.description] \n",
    "cursor.close()\n",
    "tabla = pd.DataFrame(data = rows, columns = colnames)\n",
    "print(f'Los pedidos con retraso son:')\n",
    "display(tabla)"
   ]
  },
  {
   "cell_type": "code",
   "execution_count": 29,
   "metadata": {},
   "outputs": [
    {
     "data": {
      "application/vnd.plotly.v1+json": {
       "config": {
        "plotlyServerURL": "https://plot.ly"
       },
       "data": [
        {
         "alignmentgroup": "True",
         "hovertemplate": "Días de Retraso=%{x}<br>Compañía de Transporte=%{y}<extra></extra>",
         "legendgroup": "",
         "marker": {
          "color": "#636efa"
         },
         "name": "",
         "notched": false,
         "offsetgroup": "",
         "orientation": "h",
         "showlegend": false,
         "type": "box",
         "x": [
          16,
          37,
          24,
          21,
          26,
          8,
          16,
          25,
          26,
          22,
          22,
          21,
          18,
          17,
          25,
          20,
          -2,
          10,
          37,
          20,
          25,
          5,
          27,
          -1,
          24,
          21,
          18,
          26,
          8,
          24,
          24,
          25,
          -1,
          7,
          22,
          21,
          20,
          22,
          19,
          22,
          17,
          26,
          21,
          20,
          23,
          15,
          22,
          20,
          20,
          36,
          22,
          21,
          19,
          20,
          -1,
          21,
          23,
          2,
          21,
          20,
          22,
          -6,
          21,
          8,
          18,
          18,
          19,
          21,
          17,
          18,
          25,
          19,
          -1,
          20,
          9,
          21,
          26,
          9,
          24,
          25,
          25,
          34,
          16,
          37,
          38,
          21,
          21,
          26,
          26,
          23,
          24,
          21,
          18,
          21,
          9,
          22,
          24,
          21,
          39,
          26,
          20,
          21,
          6,
          19,
          8,
          16,
          22,
          23,
          19,
          15,
          21,
          23,
          18,
          17,
          25,
          20,
          34,
          23,
          10,
          24,
          25,
          21,
          4,
          7,
          23,
          22,
          24,
          25,
          24,
          24,
          19,
          26,
          -7,
          27,
          25,
          26,
          24,
          22,
          7,
          26,
          27,
          24,
          25,
          20,
          20,
          19,
          19,
          20,
          4,
          22,
          18,
          6,
          13,
          19,
          34,
          22,
          23,
          12,
          36,
          5,
          22,
          23,
          23,
          17,
          26,
          26,
          25,
          19,
          17,
          16,
          21,
          18,
          22,
          36,
          19,
          -18,
          24,
          7,
          18,
          -7,
          21,
          33,
          10,
          6,
          7,
          -1,
          18,
          39,
          22,
          21,
          20,
          25,
          10,
          10,
          21,
          26,
          19,
          21,
          23,
          7,
          21,
          19,
          8,
          -7,
          22,
          23,
          24,
          35,
          39,
          22,
          22,
          27,
          25,
          23,
          13,
          26,
          18,
          19,
          21,
          23,
          23,
          24,
          25,
          21,
          21,
          6,
          20,
          7,
          21,
          20,
          6,
          26,
          24,
          23,
          8,
          -4,
          20,
          8,
          21,
          26,
          22,
          16,
          25,
          20,
          18,
          20,
          21,
          20,
          25,
          25,
          24,
          20,
          20,
          21,
          9,
          23,
          21,
          21,
          11,
          21,
          1,
          16,
          18,
          25,
          25,
          36,
          4,
          -16,
          21,
          23,
          4,
          25,
          26,
          25,
          22,
          -1,
          22,
          7,
          18,
          26,
          11,
          26,
          24,
          17,
          25,
          18,
          26,
          20,
          5,
          9,
          27,
          21,
          3,
          18,
          22,
          26,
          19,
          -7,
          24,
          18,
          21,
          11,
          19,
          33,
          21,
          24,
          22,
          26,
          32,
          11,
          22,
          20,
          25,
          25,
          25,
          28,
          22,
          21,
          22,
          23,
          2,
          3,
          26,
          25,
          21,
          27,
          17,
          4,
          7,
          35,
          -3,
          19,
          23,
          22,
          11,
          24,
          24,
          19,
          21,
          21,
          21,
          18,
          21,
          5,
          20,
          -7,
          21,
          24,
          -4,
          21,
          24,
          36,
          23,
          36,
          23,
          7,
          17,
          20,
          19,
          25,
          19,
          22,
          16,
          21,
          24,
          25,
          25,
          21,
          23,
          24,
          35,
          25,
          19,
          22,
          23,
          23,
          16,
          22,
          19,
          32,
          20,
          20,
          22,
          27,
          23,
          25,
          22,
          25,
          21,
          21,
          16,
          21,
          21,
          24,
          14,
          20,
          21,
          21,
          35,
          7,
          30,
          27,
          23,
          18,
          21,
          11,
          19,
          20,
          22,
          17,
          25,
          23,
          -9,
          22,
          19,
          -9,
          19,
          22,
          18,
          21,
          20,
          21,
          26,
          21,
          5,
          27,
          16,
          24,
          21,
          24,
          5,
          21,
          26,
          23,
          22,
          23,
          24,
          10,
          20,
          -2,
          8,
          22,
          27,
          23,
          18,
          10,
          25,
          35,
          36,
          22,
          20,
          24,
          22,
          12,
          34,
          22,
          4,
          -6,
          23,
          7,
          23,
          -6,
          25,
          34,
          18,
          26,
          23,
          8,
          25,
          23,
          26,
          19,
          6,
          26,
          36,
          2,
          36,
          23,
          -18,
          -4,
          21,
          32,
          19,
          20,
          27,
          25,
          23,
          17,
          18,
          21,
          22,
          23,
          16,
          10,
          24,
          24,
          21,
          19,
          26,
          21,
          20,
          -1,
          25,
          19,
          24,
          26,
          26,
          26,
          23,
          10,
          22,
          14,
          19,
          22,
          21,
          23,
          23,
          23,
          24,
          18,
          21,
          24,
          20,
          5,
          19,
          23,
          13,
          14,
          25,
          -23,
          20,
          -1,
          5,
          26,
          23,
          27,
          24,
          22,
          24,
          7,
          0,
          19,
          24,
          19,
          20,
          13,
          19,
          1,
          8,
          17,
          18,
          32,
          18,
          26,
          24,
          21,
          20,
          18,
          23,
          -2,
          20,
          22,
          22,
          22,
          18,
          24,
          19,
          19,
          -1,
          7,
          23,
          19,
          22,
          21,
          20,
          24,
          7,
          23,
          3,
          -11,
          -8,
          18,
          34,
          19,
          23,
          20,
          24,
          22,
          23,
          21,
          24,
          25,
          14,
          19,
          19,
          23,
          23,
          5,
          41,
          -5,
          22,
          21,
          35,
          21,
          10,
          21,
          19,
          20,
          15,
          19,
          23,
          24,
          22,
          10,
          39,
          13,
          21,
          4,
          19,
          34,
          9,
          23,
          19,
          23,
          24,
          25,
          23,
          3,
          25,
          18,
          26,
          26,
          34,
          21,
          19,
          20,
          27,
          22,
          11,
          25,
          21,
          21,
          26,
          26,
          26,
          26,
          26,
          23,
          20,
          22,
          14,
          22,
          16,
          25,
          20,
          20,
          25,
          18,
          8,
          26,
          20,
          16,
          22,
          21,
          8,
          22,
          25,
          25,
          18,
          19,
          19,
          26,
          22,
          36,
          26,
          32,
          -7,
          19,
          21,
          -6,
          15,
          21,
          30,
          1,
          10,
          18,
          25,
          19,
          19,
          11,
          22,
          25,
          16,
          19,
          21,
          20,
          13,
          22,
          21,
          25,
          22,
          24,
          21,
          20,
          34,
          5,
          39,
          25,
          39,
          19,
          19,
          37,
          -6,
          17,
          24,
          21,
          24,
          18,
          9,
          18,
          19,
          21,
          -17,
          19,
          26,
          25,
          5,
          26,
          33,
          13,
          0,
          23,
          21,
          22,
          16,
          18,
          24,
          25,
          6,
          22,
          18,
          26,
          36,
          22,
          26,
          19,
          7,
          24,
          20,
          32,
          0,
          21,
          20,
          20,
          18,
          26,
          15,
          25,
          20,
          23,
          26,
          16,
          24,
          6,
          27,
          23,
          4,
          25,
          21,
          25,
          26,
          21,
          8,
          4,
          23,
          19,
          15,
          24,
          22,
          17,
          18,
          21,
          22,
          22,
          35,
          24,
          26,
          22,
          19,
          22,
          5,
          21,
          20,
          27,
          21,
          22,
          18,
          20,
          24,
          26,
          21,
          11,
          26,
          24,
          22,
          25,
          25,
          12,
          26
         ],
         "x0": " ",
         "xaxis": "x",
         "y": [
          "Federal Shipping",
          "Speedy Express",
          "United Package",
          "Speedy Express",
          "United Package",
          "United Package",
          "United Package",
          "Federal Shipping",
          "United Package",
          "Federal Shipping",
          "Speedy Express",
          "Federal Shipping",
          "Speedy Express",
          "United Package",
          "Federal Shipping",
          "Federal Shipping",
          "Federal Shipping",
          "Speedy Express",
          "Federal Shipping",
          "Speedy Express",
          "Federal Shipping",
          "Speedy Express",
          "Speedy Express",
          "United Package",
          "United Package",
          "Federal Shipping",
          "Speedy Express",
          "Speedy Express",
          "Federal Shipping",
          "Federal Shipping",
          "United Package",
          "United Package",
          "Speedy Express",
          "Speedy Express",
          "Speedy Express",
          "Federal Shipping",
          "Speedy Express",
          "United Package",
          "Federal Shipping",
          "Federal Shipping",
          "Speedy Express",
          "Federal Shipping",
          "Speedy Express",
          "United Package",
          "United Package",
          "Federal Shipping",
          "United Package",
          "United Package",
          "Speedy Express",
          "United Package",
          "United Package",
          "United Package",
          "United Package",
          "United Package",
          "United Package",
          "United Package",
          "United Package",
          "Federal Shipping",
          "Federal Shipping",
          "United Package",
          "Federal Shipping",
          "Speedy Express",
          "United Package",
          "Federal Shipping",
          "United Package",
          "United Package",
          "United Package",
          "United Package",
          "Federal Shipping",
          "Speedy Express",
          "United Package",
          "Federal Shipping",
          "Federal Shipping",
          "United Package",
          "Federal Shipping",
          "Speedy Express",
          "Speedy Express",
          "Federal Shipping",
          "United Package",
          "Speedy Express",
          "Federal Shipping",
          "United Package",
          "Speedy Express",
          "Speedy Express",
          "United Package",
          "Federal Shipping",
          "United Package",
          "United Package",
          "United Package",
          "Federal Shipping",
          "Federal Shipping",
          "United Package",
          "Federal Shipping",
          "Federal Shipping",
          "United Package",
          "Speedy Express",
          "United Package",
          "United Package",
          "Federal Shipping",
          "Federal Shipping",
          "United Package",
          "Speedy Express",
          "United Package",
          "Speedy Express",
          "Federal Shipping",
          "Federal Shipping",
          "Federal Shipping",
          "Speedy Express",
          "United Package",
          "Federal Shipping",
          "Speedy Express",
          "Federal Shipping",
          "Federal Shipping",
          "United Package",
          "Speedy Express",
          "Federal Shipping",
          "Speedy Express",
          "United Package",
          "United Package",
          "Federal Shipping",
          "United Package",
          "United Package",
          "United Package",
          "Speedy Express",
          "United Package",
          "Federal Shipping",
          "Federal Shipping",
          "United Package",
          "United Package",
          "Federal Shipping",
          "Federal Shipping",
          "Speedy Express",
          "Federal Shipping",
          "Federal Shipping",
          "Speedy Express",
          "Federal Shipping",
          "Federal Shipping",
          "United Package",
          "Federal Shipping",
          "United Package",
          "Speedy Express",
          "United Package",
          "Speedy Express",
          "Federal Shipping",
          "Federal Shipping",
          "Federal Shipping",
          "Federal Shipping",
          "Speedy Express",
          "Federal Shipping",
          "Speedy Express",
          "Federal Shipping",
          "Federal Shipping",
          "Federal Shipping",
          "Speedy Express",
          "United Package",
          "Federal Shipping",
          "Speedy Express",
          "Speedy Express",
          "Speedy Express",
          "United Package",
          "Speedy Express",
          "Speedy Express",
          "Federal Shipping",
          "Federal Shipping",
          "United Package",
          "United Package",
          "Federal Shipping",
          "Speedy Express",
          "Federal Shipping",
          "Federal Shipping",
          "Speedy Express",
          "United Package",
          "Speedy Express",
          "Speedy Express",
          "Speedy Express",
          "Federal Shipping",
          "United Package",
          "United Package",
          "Speedy Express",
          "United Package",
          "Speedy Express",
          "United Package",
          "Speedy Express",
          "United Package",
          "United Package",
          "Federal Shipping",
          "United Package",
          "United Package",
          "United Package",
          "Speedy Express",
          "United Package",
          "Federal Shipping",
          "United Package",
          "United Package",
          "United Package",
          "Speedy Express",
          "Federal Shipping",
          "Speedy Express",
          "Speedy Express",
          "United Package",
          "United Package",
          "United Package",
          "United Package",
          "Federal Shipping",
          "Speedy Express",
          "United Package",
          "Federal Shipping",
          "United Package",
          "United Package",
          "Speedy Express",
          "Federal Shipping",
          "United Package",
          "Speedy Express",
          "Federal Shipping",
          "Speedy Express",
          "Federal Shipping",
          "United Package",
          "Federal Shipping",
          "Speedy Express",
          "United Package",
          "Federal Shipping",
          "Speedy Express",
          "United Package",
          "Federal Shipping",
          "Speedy Express",
          "Federal Shipping",
          "United Package",
          "Speedy Express",
          "Federal Shipping",
          "United Package",
          "Federal Shipping",
          "Federal Shipping",
          "United Package",
          "United Package",
          "Federal Shipping",
          "United Package",
          "Federal Shipping",
          "United Package",
          "United Package",
          "United Package",
          "United Package",
          "United Package",
          "United Package",
          "Federal Shipping",
          "Speedy Express",
          "Federal Shipping",
          "United Package",
          "Federal Shipping",
          "United Package",
          "Speedy Express",
          "United Package",
          "United Package",
          "Speedy Express",
          "Federal Shipping",
          "Speedy Express",
          "United Package",
          "Federal Shipping",
          "Federal Shipping",
          "United Package",
          "Speedy Express",
          "United Package",
          "Speedy Express",
          "Federal Shipping",
          "Federal Shipping",
          "United Package",
          "Speedy Express",
          "United Package",
          "Speedy Express",
          "Federal Shipping",
          "Federal Shipping",
          "United Package",
          "Federal Shipping",
          "Speedy Express",
          "United Package",
          "Speedy Express",
          "United Package",
          "United Package",
          "United Package",
          "United Package",
          "Speedy Express",
          "United Package",
          "United Package",
          "United Package",
          "Speedy Express",
          "Federal Shipping",
          "Speedy Express",
          "United Package",
          "Speedy Express",
          "United Package",
          "Speedy Express",
          "Federal Shipping",
          "Federal Shipping",
          "Federal Shipping",
          "Speedy Express",
          "Federal Shipping",
          "United Package",
          "Speedy Express",
          "United Package",
          "Federal Shipping",
          "United Package",
          "United Package",
          "Speedy Express",
          "Federal Shipping",
          "Federal Shipping",
          "Speedy Express",
          "United Package",
          "Federal Shipping",
          "Federal Shipping",
          "Speedy Express",
          "United Package",
          "United Package",
          "Speedy Express",
          "Speedy Express",
          "United Package",
          "Speedy Express",
          "United Package",
          "Federal Shipping",
          "United Package",
          "Speedy Express",
          "Speedy Express",
          "Federal Shipping",
          "Speedy Express",
          "Federal Shipping",
          "Federal Shipping",
          "United Package",
          "Federal Shipping",
          "United Package",
          "Speedy Express",
          "Federal Shipping",
          "United Package",
          "Federal Shipping",
          "United Package",
          "Federal Shipping",
          "Speedy Express",
          "United Package",
          "United Package",
          "Speedy Express",
          "Speedy Express",
          "Speedy Express",
          "Speedy Express",
          "Federal Shipping",
          "United Package",
          "Federal Shipping",
          "Speedy Express",
          "Speedy Express",
          "United Package",
          "United Package",
          "Speedy Express",
          "Speedy Express",
          "Federal Shipping",
          "Federal Shipping",
          "Federal Shipping",
          "Speedy Express",
          "Speedy Express",
          "United Package",
          "United Package",
          "Speedy Express",
          "United Package",
          "Federal Shipping",
          "Speedy Express",
          "United Package",
          "United Package",
          "Speedy Express",
          "United Package",
          "United Package",
          "United Package",
          "Federal Shipping",
          "Federal Shipping",
          "United Package",
          "United Package",
          "Speedy Express",
          "Federal Shipping",
          "Federal Shipping",
          "United Package",
          "Federal Shipping",
          "United Package",
          "United Package",
          "Speedy Express",
          "United Package",
          "Federal Shipping",
          "Federal Shipping",
          "Federal Shipping",
          "United Package",
          "Speedy Express",
          "Speedy Express",
          "Federal Shipping",
          "Federal Shipping",
          "Federal Shipping",
          "Speedy Express",
          "Speedy Express",
          "Speedy Express",
          "Federal Shipping",
          "Speedy Express",
          "United Package",
          "Federal Shipping",
          "Speedy Express",
          "United Package",
          "Speedy Express",
          "Federal Shipping",
          "United Package",
          "United Package",
          "Federal Shipping",
          "Federal Shipping",
          "United Package",
          "United Package",
          "Speedy Express",
          "Speedy Express",
          "United Package",
          "Speedy Express",
          "United Package",
          "Speedy Express",
          "United Package",
          "Speedy Express",
          "Federal Shipping",
          "United Package",
          "United Package",
          "Federal Shipping",
          "United Package",
          "United Package",
          "Speedy Express",
          "United Package",
          "Speedy Express",
          "Speedy Express",
          "Speedy Express",
          "United Package",
          "Speedy Express",
          "United Package",
          "United Package",
          "United Package",
          "Federal Shipping",
          "Federal Shipping",
          "Federal Shipping",
          "Speedy Express",
          "Federal Shipping",
          "United Package",
          "Speedy Express",
          "Speedy Express",
          "United Package",
          "Speedy Express",
          "United Package",
          "United Package",
          "United Package",
          "Speedy Express",
          "United Package",
          "United Package",
          "Federal Shipping",
          "Federal Shipping",
          "Speedy Express",
          "Federal Shipping",
          "Speedy Express",
          "Speedy Express",
          "Federal Shipping",
          "Speedy Express",
          "Federal Shipping",
          "Speedy Express",
          "United Package",
          "Speedy Express",
          "United Package",
          "Federal Shipping",
          "Federal Shipping",
          "United Package",
          "Federal Shipping",
          "Speedy Express",
          "United Package",
          "Speedy Express",
          "Speedy Express",
          "Federal Shipping",
          "Speedy Express",
          "United Package",
          "United Package",
          "Federal Shipping",
          "United Package",
          "United Package",
          "Federal Shipping",
          "Speedy Express",
          "Speedy Express",
          "United Package",
          "Federal Shipping",
          "Speedy Express",
          "Speedy Express",
          "United Package",
          "Federal Shipping",
          "Speedy Express",
          "Speedy Express",
          "Speedy Express",
          "Federal Shipping",
          "Federal Shipping",
          "United Package",
          "United Package",
          "United Package",
          "Speedy Express",
          "Federal Shipping",
          "United Package",
          "Federal Shipping",
          "Federal Shipping",
          "United Package",
          "Speedy Express",
          "Speedy Express",
          "Federal Shipping",
          "Speedy Express",
          "Speedy Express",
          "United Package",
          "Speedy Express",
          "Federal Shipping",
          "Federal Shipping",
          "Speedy Express",
          "Federal Shipping",
          "United Package",
          "United Package",
          "Speedy Express",
          "Federal Shipping",
          "Federal Shipping",
          "Speedy Express",
          "United Package",
          "Speedy Express",
          "Federal Shipping",
          "Federal Shipping",
          "Federal Shipping",
          "Speedy Express",
          "Federal Shipping",
          "United Package",
          "Speedy Express",
          "Federal Shipping",
          "United Package",
          "United Package",
          "Federal Shipping",
          "Speedy Express",
          "Speedy Express",
          "Federal Shipping",
          "United Package",
          "Speedy Express",
          "United Package",
          "Speedy Express",
          "Federal Shipping",
          "Federal Shipping",
          "United Package",
          "Federal Shipping",
          "Federal Shipping",
          "Speedy Express",
          "Speedy Express",
          "United Package",
          "United Package",
          "Speedy Express",
          "United Package",
          "Federal Shipping",
          "Federal Shipping",
          "Speedy Express",
          "United Package",
          "Speedy Express",
          "United Package",
          "Speedy Express",
          "Federal Shipping",
          "Federal Shipping",
          "United Package",
          "United Package",
          "Speedy Express",
          "United Package",
          "Federal Shipping",
          "United Package",
          "Speedy Express",
          "Federal Shipping",
          "Speedy Express",
          "Federal Shipping",
          "Speedy Express",
          "Speedy Express",
          "Speedy Express",
          "Federal Shipping",
          "Federal Shipping",
          "United Package",
          "United Package",
          "Federal Shipping",
          "Federal Shipping",
          "United Package",
          "Speedy Express",
          "Federal Shipping",
          "United Package",
          "Speedy Express",
          "Speedy Express",
          "Speedy Express",
          "United Package",
          "Speedy Express",
          "Speedy Express",
          "United Package",
          "United Package",
          "United Package",
          "United Package",
          "Federal Shipping",
          "Federal Shipping",
          "Speedy Express",
          "Federal Shipping",
          "Federal Shipping",
          "Federal Shipping",
          "United Package",
          "United Package",
          "Federal Shipping",
          "United Package",
          "United Package",
          "Speedy Express",
          "Federal Shipping",
          "Federal Shipping",
          "United Package",
          "United Package",
          "Speedy Express",
          "Speedy Express",
          "Speedy Express",
          "United Package",
          "United Package",
          "Speedy Express",
          "United Package",
          "United Package",
          "Speedy Express",
          "United Package",
          "Federal Shipping",
          "United Package",
          "United Package",
          "United Package",
          "United Package",
          "Speedy Express",
          "Speedy Express",
          "Speedy Express",
          "United Package",
          "Speedy Express",
          "Federal Shipping",
          "United Package",
          "United Package",
          "Speedy Express",
          "United Package",
          "United Package",
          "Federal Shipping",
          "Speedy Express",
          "Speedy Express",
          "Federal Shipping",
          "Speedy Express",
          "Speedy Express",
          "Federal Shipping",
          "Federal Shipping",
          "United Package",
          "Federal Shipping",
          "Speedy Express",
          "Federal Shipping",
          "United Package",
          "Federal Shipping",
          "Speedy Express",
          "United Package",
          "United Package",
          "United Package",
          "Speedy Express",
          "Speedy Express",
          "Federal Shipping",
          "United Package",
          "United Package",
          "Federal Shipping",
          "United Package",
          "Speedy Express",
          "Speedy Express",
          "Federal Shipping",
          "Federal Shipping",
          "United Package",
          "Federal Shipping",
          "Federal Shipping",
          "United Package",
          "United Package",
          "Federal Shipping",
          "Speedy Express",
          "United Package",
          "Speedy Express",
          "Speedy Express",
          "United Package",
          "United Package",
          "United Package",
          "Federal Shipping",
          "United Package",
          "United Package",
          "Speedy Express",
          "Federal Shipping",
          "Federal Shipping",
          "United Package",
          "Speedy Express",
          "Federal Shipping",
          "Speedy Express",
          "Speedy Express",
          "Speedy Express",
          "Federal Shipping",
          "United Package",
          "Speedy Express",
          "Federal Shipping",
          "Federal Shipping",
          "Federal Shipping",
          "United Package",
          "Federal Shipping",
          "United Package",
          "United Package",
          "Federal Shipping",
          "United Package",
          "Federal Shipping",
          "United Package",
          "Federal Shipping",
          "Speedy Express",
          "United Package",
          "United Package",
          "Federal Shipping",
          "Federal Shipping",
          "United Package",
          "United Package",
          "Speedy Express",
          "United Package",
          "Speedy Express",
          "United Package",
          "United Package",
          "Federal Shipping",
          "United Package",
          "United Package",
          "Speedy Express",
          "Speedy Express",
          "United Package",
          "Federal Shipping",
          "United Package",
          "Federal Shipping",
          "Speedy Express",
          "United Package",
          "Federal Shipping",
          "United Package",
          "Speedy Express",
          "United Package",
          "United Package",
          "United Package",
          "Federal Shipping",
          "Federal Shipping",
          "Speedy Express",
          "Federal Shipping",
          "United Package",
          "United Package",
          "Speedy Express",
          "United Package",
          "Speedy Express",
          "United Package",
          "Federal Shipping",
          "Speedy Express",
          "United Package",
          "Speedy Express",
          "United Package",
          "Speedy Express",
          "Federal Shipping",
          "Speedy Express",
          "Federal Shipping",
          "Federal Shipping",
          "Federal Shipping",
          "Federal Shipping",
          "United Package",
          "United Package",
          "United Package",
          "United Package",
          "Federal Shipping",
          "United Package",
          "Speedy Express",
          "Federal Shipping",
          "Speedy Express",
          "Speedy Express",
          "United Package",
          "United Package",
          "Speedy Express",
          "United Package",
          "Speedy Express",
          "Federal Shipping",
          "Speedy Express",
          "Federal Shipping",
          "United Package",
          "United Package",
          "United Package",
          "United Package",
          "United Package",
          "Speedy Express",
          "United Package",
          "United Package",
          "Speedy Express",
          "Federal Shipping",
          "Speedy Express",
          "Speedy Express",
          "Speedy Express",
          "Speedy Express",
          "United Package",
          "United Package",
          "Federal Shipping",
          "Federal Shipping",
          "Speedy Express",
          "United Package",
          "Federal Shipping",
          "Speedy Express",
          "United Package",
          "United Package",
          "Speedy Express",
          "United Package",
          "Speedy Express",
          "United Package",
          "Federal Shipping",
          "Federal Shipping",
          "Speedy Express",
          "United Package",
          "Speedy Express",
          "United Package",
          "United Package",
          "United Package",
          "Federal Shipping",
          "United Package",
          "United Package",
          "Speedy Express",
          "United Package",
          "United Package",
          "United Package"
         ],
         "y0": " ",
         "yaxis": "y"
        }
       ],
       "layout": {
        "boxmode": "group",
        "height": 500,
        "legend": {
         "tracegroupgap": 0
        },
        "template": {
         "data": {
          "bar": [
           {
            "error_x": {
             "color": "#2a3f5f"
            },
            "error_y": {
             "color": "#2a3f5f"
            },
            "marker": {
             "line": {
              "color": "#E5ECF6",
              "width": 0.5
             },
             "pattern": {
              "fillmode": "overlay",
              "size": 10,
              "solidity": 0.2
             }
            },
            "type": "bar"
           }
          ],
          "barpolar": [
           {
            "marker": {
             "line": {
              "color": "#E5ECF6",
              "width": 0.5
             },
             "pattern": {
              "fillmode": "overlay",
              "size": 10,
              "solidity": 0.2
             }
            },
            "type": "barpolar"
           }
          ],
          "carpet": [
           {
            "aaxis": {
             "endlinecolor": "#2a3f5f",
             "gridcolor": "white",
             "linecolor": "white",
             "minorgridcolor": "white",
             "startlinecolor": "#2a3f5f"
            },
            "baxis": {
             "endlinecolor": "#2a3f5f",
             "gridcolor": "white",
             "linecolor": "white",
             "minorgridcolor": "white",
             "startlinecolor": "#2a3f5f"
            },
            "type": "carpet"
           }
          ],
          "choropleth": [
           {
            "colorbar": {
             "outlinewidth": 0,
             "ticks": ""
            },
            "type": "choropleth"
           }
          ],
          "contour": [
           {
            "colorbar": {
             "outlinewidth": 0,
             "ticks": ""
            },
            "colorscale": [
             [
              0,
              "#0d0887"
             ],
             [
              0.1111111111111111,
              "#46039f"
             ],
             [
              0.2222222222222222,
              "#7201a8"
             ],
             [
              0.3333333333333333,
              "#9c179e"
             ],
             [
              0.4444444444444444,
              "#bd3786"
             ],
             [
              0.5555555555555556,
              "#d8576b"
             ],
             [
              0.6666666666666666,
              "#ed7953"
             ],
             [
              0.7777777777777778,
              "#fb9f3a"
             ],
             [
              0.8888888888888888,
              "#fdca26"
             ],
             [
              1,
              "#f0f921"
             ]
            ],
            "type": "contour"
           }
          ],
          "contourcarpet": [
           {
            "colorbar": {
             "outlinewidth": 0,
             "ticks": ""
            },
            "type": "contourcarpet"
           }
          ],
          "heatmap": [
           {
            "colorbar": {
             "outlinewidth": 0,
             "ticks": ""
            },
            "colorscale": [
             [
              0,
              "#0d0887"
             ],
             [
              0.1111111111111111,
              "#46039f"
             ],
             [
              0.2222222222222222,
              "#7201a8"
             ],
             [
              0.3333333333333333,
              "#9c179e"
             ],
             [
              0.4444444444444444,
              "#bd3786"
             ],
             [
              0.5555555555555556,
              "#d8576b"
             ],
             [
              0.6666666666666666,
              "#ed7953"
             ],
             [
              0.7777777777777778,
              "#fb9f3a"
             ],
             [
              0.8888888888888888,
              "#fdca26"
             ],
             [
              1,
              "#f0f921"
             ]
            ],
            "type": "heatmap"
           }
          ],
          "heatmapgl": [
           {
            "colorbar": {
             "outlinewidth": 0,
             "ticks": ""
            },
            "colorscale": [
             [
              0,
              "#0d0887"
             ],
             [
              0.1111111111111111,
              "#46039f"
             ],
             [
              0.2222222222222222,
              "#7201a8"
             ],
             [
              0.3333333333333333,
              "#9c179e"
             ],
             [
              0.4444444444444444,
              "#bd3786"
             ],
             [
              0.5555555555555556,
              "#d8576b"
             ],
             [
              0.6666666666666666,
              "#ed7953"
             ],
             [
              0.7777777777777778,
              "#fb9f3a"
             ],
             [
              0.8888888888888888,
              "#fdca26"
             ],
             [
              1,
              "#f0f921"
             ]
            ],
            "type": "heatmapgl"
           }
          ],
          "histogram": [
           {
            "marker": {
             "pattern": {
              "fillmode": "overlay",
              "size": 10,
              "solidity": 0.2
             }
            },
            "type": "histogram"
           }
          ],
          "histogram2d": [
           {
            "colorbar": {
             "outlinewidth": 0,
             "ticks": ""
            },
            "colorscale": [
             [
              0,
              "#0d0887"
             ],
             [
              0.1111111111111111,
              "#46039f"
             ],
             [
              0.2222222222222222,
              "#7201a8"
             ],
             [
              0.3333333333333333,
              "#9c179e"
             ],
             [
              0.4444444444444444,
              "#bd3786"
             ],
             [
              0.5555555555555556,
              "#d8576b"
             ],
             [
              0.6666666666666666,
              "#ed7953"
             ],
             [
              0.7777777777777778,
              "#fb9f3a"
             ],
             [
              0.8888888888888888,
              "#fdca26"
             ],
             [
              1,
              "#f0f921"
             ]
            ],
            "type": "histogram2d"
           }
          ],
          "histogram2dcontour": [
           {
            "colorbar": {
             "outlinewidth": 0,
             "ticks": ""
            },
            "colorscale": [
             [
              0,
              "#0d0887"
             ],
             [
              0.1111111111111111,
              "#46039f"
             ],
             [
              0.2222222222222222,
              "#7201a8"
             ],
             [
              0.3333333333333333,
              "#9c179e"
             ],
             [
              0.4444444444444444,
              "#bd3786"
             ],
             [
              0.5555555555555556,
              "#d8576b"
             ],
             [
              0.6666666666666666,
              "#ed7953"
             ],
             [
              0.7777777777777778,
              "#fb9f3a"
             ],
             [
              0.8888888888888888,
              "#fdca26"
             ],
             [
              1,
              "#f0f921"
             ]
            ],
            "type": "histogram2dcontour"
           }
          ],
          "mesh3d": [
           {
            "colorbar": {
             "outlinewidth": 0,
             "ticks": ""
            },
            "type": "mesh3d"
           }
          ],
          "parcoords": [
           {
            "line": {
             "colorbar": {
              "outlinewidth": 0,
              "ticks": ""
             }
            },
            "type": "parcoords"
           }
          ],
          "pie": [
           {
            "automargin": true,
            "type": "pie"
           }
          ],
          "scatter": [
           {
            "fillpattern": {
             "fillmode": "overlay",
             "size": 10,
             "solidity": 0.2
            },
            "type": "scatter"
           }
          ],
          "scatter3d": [
           {
            "line": {
             "colorbar": {
              "outlinewidth": 0,
              "ticks": ""
             }
            },
            "marker": {
             "colorbar": {
              "outlinewidth": 0,
              "ticks": ""
             }
            },
            "type": "scatter3d"
           }
          ],
          "scattercarpet": [
           {
            "marker": {
             "colorbar": {
              "outlinewidth": 0,
              "ticks": ""
             }
            },
            "type": "scattercarpet"
           }
          ],
          "scattergeo": [
           {
            "marker": {
             "colorbar": {
              "outlinewidth": 0,
              "ticks": ""
             }
            },
            "type": "scattergeo"
           }
          ],
          "scattergl": [
           {
            "marker": {
             "colorbar": {
              "outlinewidth": 0,
              "ticks": ""
             }
            },
            "type": "scattergl"
           }
          ],
          "scattermapbox": [
           {
            "marker": {
             "colorbar": {
              "outlinewidth": 0,
              "ticks": ""
             }
            },
            "type": "scattermapbox"
           }
          ],
          "scatterpolar": [
           {
            "marker": {
             "colorbar": {
              "outlinewidth": 0,
              "ticks": ""
             }
            },
            "type": "scatterpolar"
           }
          ],
          "scatterpolargl": [
           {
            "marker": {
             "colorbar": {
              "outlinewidth": 0,
              "ticks": ""
             }
            },
            "type": "scatterpolargl"
           }
          ],
          "scatterternary": [
           {
            "marker": {
             "colorbar": {
              "outlinewidth": 0,
              "ticks": ""
             }
            },
            "type": "scatterternary"
           }
          ],
          "surface": [
           {
            "colorbar": {
             "outlinewidth": 0,
             "ticks": ""
            },
            "colorscale": [
             [
              0,
              "#0d0887"
             ],
             [
              0.1111111111111111,
              "#46039f"
             ],
             [
              0.2222222222222222,
              "#7201a8"
             ],
             [
              0.3333333333333333,
              "#9c179e"
             ],
             [
              0.4444444444444444,
              "#bd3786"
             ],
             [
              0.5555555555555556,
              "#d8576b"
             ],
             [
              0.6666666666666666,
              "#ed7953"
             ],
             [
              0.7777777777777778,
              "#fb9f3a"
             ],
             [
              0.8888888888888888,
              "#fdca26"
             ],
             [
              1,
              "#f0f921"
             ]
            ],
            "type": "surface"
           }
          ],
          "table": [
           {
            "cells": {
             "fill": {
              "color": "#EBF0F8"
             },
             "line": {
              "color": "white"
             }
            },
            "header": {
             "fill": {
              "color": "#C8D4E3"
             },
             "line": {
              "color": "white"
             }
            },
            "type": "table"
           }
          ]
         },
         "layout": {
          "annotationdefaults": {
           "arrowcolor": "#2a3f5f",
           "arrowhead": 0,
           "arrowwidth": 1
          },
          "autotypenumbers": "strict",
          "coloraxis": {
           "colorbar": {
            "outlinewidth": 0,
            "ticks": ""
           }
          },
          "colorscale": {
           "diverging": [
            [
             0,
             "#8e0152"
            ],
            [
             0.1,
             "#c51b7d"
            ],
            [
             0.2,
             "#de77ae"
            ],
            [
             0.3,
             "#f1b6da"
            ],
            [
             0.4,
             "#fde0ef"
            ],
            [
             0.5,
             "#f7f7f7"
            ],
            [
             0.6,
             "#e6f5d0"
            ],
            [
             0.7,
             "#b8e186"
            ],
            [
             0.8,
             "#7fbc41"
            ],
            [
             0.9,
             "#4d9221"
            ],
            [
             1,
             "#276419"
            ]
           ],
           "sequential": [
            [
             0,
             "#0d0887"
            ],
            [
             0.1111111111111111,
             "#46039f"
            ],
            [
             0.2222222222222222,
             "#7201a8"
            ],
            [
             0.3333333333333333,
             "#9c179e"
            ],
            [
             0.4444444444444444,
             "#bd3786"
            ],
            [
             0.5555555555555556,
             "#d8576b"
            ],
            [
             0.6666666666666666,
             "#ed7953"
            ],
            [
             0.7777777777777778,
             "#fb9f3a"
            ],
            [
             0.8888888888888888,
             "#fdca26"
            ],
            [
             1,
             "#f0f921"
            ]
           ],
           "sequentialminus": [
            [
             0,
             "#0d0887"
            ],
            [
             0.1111111111111111,
             "#46039f"
            ],
            [
             0.2222222222222222,
             "#7201a8"
            ],
            [
             0.3333333333333333,
             "#9c179e"
            ],
            [
             0.4444444444444444,
             "#bd3786"
            ],
            [
             0.5555555555555556,
             "#d8576b"
            ],
            [
             0.6666666666666666,
             "#ed7953"
            ],
            [
             0.7777777777777778,
             "#fb9f3a"
            ],
            [
             0.8888888888888888,
             "#fdca26"
            ],
            [
             1,
             "#f0f921"
            ]
           ]
          },
          "colorway": [
           "#636efa",
           "#EF553B",
           "#00cc96",
           "#ab63fa",
           "#FFA15A",
           "#19d3f3",
           "#FF6692",
           "#B6E880",
           "#FF97FF",
           "#FECB52"
          ],
          "font": {
           "color": "#2a3f5f"
          },
          "geo": {
           "bgcolor": "white",
           "lakecolor": "white",
           "landcolor": "#E5ECF6",
           "showlakes": true,
           "showland": true,
           "subunitcolor": "white"
          },
          "hoverlabel": {
           "align": "left"
          },
          "hovermode": "closest",
          "mapbox": {
           "style": "light"
          },
          "paper_bgcolor": "white",
          "plot_bgcolor": "#E5ECF6",
          "polar": {
           "angularaxis": {
            "gridcolor": "white",
            "linecolor": "white",
            "ticks": ""
           },
           "bgcolor": "#E5ECF6",
           "radialaxis": {
            "gridcolor": "white",
            "linecolor": "white",
            "ticks": ""
           }
          },
          "scene": {
           "xaxis": {
            "backgroundcolor": "#E5ECF6",
            "gridcolor": "white",
            "gridwidth": 2,
            "linecolor": "white",
            "showbackground": true,
            "ticks": "",
            "zerolinecolor": "white"
           },
           "yaxis": {
            "backgroundcolor": "#E5ECF6",
            "gridcolor": "white",
            "gridwidth": 2,
            "linecolor": "white",
            "showbackground": true,
            "ticks": "",
            "zerolinecolor": "white"
           },
           "zaxis": {
            "backgroundcolor": "#E5ECF6",
            "gridcolor": "white",
            "gridwidth": 2,
            "linecolor": "white",
            "showbackground": true,
            "ticks": "",
            "zerolinecolor": "white"
           }
          },
          "shapedefaults": {
           "line": {
            "color": "#2a3f5f"
           }
          },
          "ternary": {
           "aaxis": {
            "gridcolor": "white",
            "linecolor": "white",
            "ticks": ""
           },
           "baxis": {
            "gridcolor": "white",
            "linecolor": "white",
            "ticks": ""
           },
           "bgcolor": "#E5ECF6",
           "caxis": {
            "gridcolor": "white",
            "linecolor": "white",
            "ticks": ""
           }
          },
          "title": {
           "x": 0.05
          },
          "xaxis": {
           "automargin": true,
           "gridcolor": "white",
           "linecolor": "white",
           "ticks": "",
           "title": {
            "standoff": 15
           },
           "zerolinecolor": "white",
           "zerolinewidth": 2
          },
          "yaxis": {
           "automargin": true,
           "gridcolor": "white",
           "linecolor": "white",
           "ticks": "",
           "title": {
            "standoff": 15
           },
           "zerolinecolor": "white",
           "zerolinewidth": 2
          }
         }
        },
        "title": {
         "text": "Retrasos en la entrega por compañía de transporte"
        },
        "width": 800,
        "xaxis": {
         "anchor": "y",
         "domain": [
          0,
          1
         ],
         "tickangle": -45,
         "title": {
          "text": "Días de Retraso"
         }
        },
        "yaxis": {
         "anchor": "x",
         "domain": [
          0,
          1
         ],
         "title": {
          "text": "Compañía de Transporte"
         }
        }
       }
      }
     },
     "metadata": {},
     "output_type": "display_data"
    }
   ],
   "source": [
    "# Crear el boxplot con Plotly Express\n",
    "fig = px.box(tabla, x='delay_in_days', y='company_name', \n",
    "             title='Retrasos en la entrega por compañía de transporte',\n",
    "             labels={'company_name': 'Compañía de Transporte', 'delay_in_days': 'Días de Retraso'},\n",
    "             width=800, height=500)\n",
    "\n",
    "# Ajustes adicionales de la visualización\n",
    "fig.update_layout(yaxis_title=\"Compañía de Transporte\",\n",
    "                  xaxis_title=\"Días de Retraso\",\n",
    "                  xaxis_tickangle=-45)\n",
    "                  \n",
    "                  \n",
    "\n",
    "# Mostrar la gráfica\n",
    "fig.show()"
   ]
  },
  {
   "cell_type": "code",
   "execution_count": 6,
   "metadata": {},
   "outputs": [
    {
     "name": "stdout",
     "output_type": "stream",
     "text": [
      "Los pedidos sin fecha de entrega son:\n"
     ]
    },
    {
     "data": {
      "text/html": [
       "<div>\n",
       "<style scoped>\n",
       "    .dataframe tbody tr th:only-of-type {\n",
       "        vertical-align: middle;\n",
       "    }\n",
       "\n",
       "    .dataframe tbody tr th {\n",
       "        vertical-align: top;\n",
       "    }\n",
       "\n",
       "    .dataframe thead th {\n",
       "        text-align: right;\n",
       "    }\n",
       "</style>\n",
       "<table border=\"1\" class=\"dataframe\">\n",
       "  <thead>\n",
       "    <tr style=\"text-align: right;\">\n",
       "      <th></th>\n",
       "      <th>company_name</th>\n",
       "      <th>order_id</th>\n",
       "      <th>required_date</th>\n",
       "      <th>shipped_date</th>\n",
       "      <th>delay_in_days</th>\n",
       "    </tr>\n",
       "  </thead>\n",
       "  <tbody>\n",
       "    <tr>\n",
       "      <th>0</th>\n",
       "      <td>Federal Shipping</td>\n",
       "      <td>11008</td>\n",
       "      <td>1998-05-06</td>\n",
       "      <td>None</td>\n",
       "      <td>None</td>\n",
       "    </tr>\n",
       "    <tr>\n",
       "      <th>1</th>\n",
       "      <td>Federal Shipping</td>\n",
       "      <td>11019</td>\n",
       "      <td>1998-05-11</td>\n",
       "      <td>None</td>\n",
       "      <td>None</td>\n",
       "    </tr>\n",
       "    <tr>\n",
       "      <th>2</th>\n",
       "      <td>United Package</td>\n",
       "      <td>11039</td>\n",
       "      <td>1998-05-19</td>\n",
       "      <td>None</td>\n",
       "      <td>None</td>\n",
       "    </tr>\n",
       "    <tr>\n",
       "      <th>3</th>\n",
       "      <td>Federal Shipping</td>\n",
       "      <td>11040</td>\n",
       "      <td>1998-05-20</td>\n",
       "      <td>None</td>\n",
       "      <td>None</td>\n",
       "    </tr>\n",
       "    <tr>\n",
       "      <th>4</th>\n",
       "      <td>United Package</td>\n",
       "      <td>11045</td>\n",
       "      <td>1998-05-21</td>\n",
       "      <td>None</td>\n",
       "      <td>None</td>\n",
       "    </tr>\n",
       "    <tr>\n",
       "      <th>5</th>\n",
       "      <td>Federal Shipping</td>\n",
       "      <td>11051</td>\n",
       "      <td>1998-05-25</td>\n",
       "      <td>None</td>\n",
       "      <td>None</td>\n",
       "    </tr>\n",
       "    <tr>\n",
       "      <th>6</th>\n",
       "      <td>Speedy Express</td>\n",
       "      <td>11054</td>\n",
       "      <td>1998-05-26</td>\n",
       "      <td>None</td>\n",
       "      <td>None</td>\n",
       "    </tr>\n",
       "    <tr>\n",
       "      <th>7</th>\n",
       "      <td>Federal Shipping</td>\n",
       "      <td>11058</td>\n",
       "      <td>1998-05-27</td>\n",
       "      <td>None</td>\n",
       "      <td>None</td>\n",
       "    </tr>\n",
       "    <tr>\n",
       "      <th>8</th>\n",
       "      <td>United Package</td>\n",
       "      <td>11059</td>\n",
       "      <td>1998-06-10</td>\n",
       "      <td>None</td>\n",
       "      <td>None</td>\n",
       "    </tr>\n",
       "    <tr>\n",
       "      <th>9</th>\n",
       "      <td>Federal Shipping</td>\n",
       "      <td>11061</td>\n",
       "      <td>1998-06-11</td>\n",
       "      <td>None</td>\n",
       "      <td>None</td>\n",
       "    </tr>\n",
       "    <tr>\n",
       "      <th>10</th>\n",
       "      <td>United Package</td>\n",
       "      <td>11062</td>\n",
       "      <td>1998-05-28</td>\n",
       "      <td>None</td>\n",
       "      <td>None</td>\n",
       "    </tr>\n",
       "    <tr>\n",
       "      <th>11</th>\n",
       "      <td>Speedy Express</td>\n",
       "      <td>11065</td>\n",
       "      <td>1998-05-29</td>\n",
       "      <td>None</td>\n",
       "      <td>None</td>\n",
       "    </tr>\n",
       "    <tr>\n",
       "      <th>12</th>\n",
       "      <td>United Package</td>\n",
       "      <td>11068</td>\n",
       "      <td>1998-06-01</td>\n",
       "      <td>None</td>\n",
       "      <td>None</td>\n",
       "    </tr>\n",
       "    <tr>\n",
       "      <th>13</th>\n",
       "      <td>Speedy Express</td>\n",
       "      <td>11070</td>\n",
       "      <td>1998-06-02</td>\n",
       "      <td>None</td>\n",
       "      <td>None</td>\n",
       "    </tr>\n",
       "    <tr>\n",
       "      <th>14</th>\n",
       "      <td>Speedy Express</td>\n",
       "      <td>11071</td>\n",
       "      <td>1998-06-02</td>\n",
       "      <td>None</td>\n",
       "      <td>None</td>\n",
       "    </tr>\n",
       "    <tr>\n",
       "      <th>15</th>\n",
       "      <td>United Package</td>\n",
       "      <td>11072</td>\n",
       "      <td>1998-06-02</td>\n",
       "      <td>None</td>\n",
       "      <td>None</td>\n",
       "    </tr>\n",
       "    <tr>\n",
       "      <th>16</th>\n",
       "      <td>United Package</td>\n",
       "      <td>11073</td>\n",
       "      <td>1998-06-02</td>\n",
       "      <td>None</td>\n",
       "      <td>None</td>\n",
       "    </tr>\n",
       "    <tr>\n",
       "      <th>17</th>\n",
       "      <td>United Package</td>\n",
       "      <td>11074</td>\n",
       "      <td>1998-06-03</td>\n",
       "      <td>None</td>\n",
       "      <td>None</td>\n",
       "    </tr>\n",
       "    <tr>\n",
       "      <th>18</th>\n",
       "      <td>United Package</td>\n",
       "      <td>11075</td>\n",
       "      <td>1998-06-03</td>\n",
       "      <td>None</td>\n",
       "      <td>None</td>\n",
       "    </tr>\n",
       "    <tr>\n",
       "      <th>19</th>\n",
       "      <td>United Package</td>\n",
       "      <td>11076</td>\n",
       "      <td>1998-06-03</td>\n",
       "      <td>None</td>\n",
       "      <td>None</td>\n",
       "    </tr>\n",
       "    <tr>\n",
       "      <th>20</th>\n",
       "      <td>United Package</td>\n",
       "      <td>11077</td>\n",
       "      <td>1998-06-03</td>\n",
       "      <td>None</td>\n",
       "      <td>None</td>\n",
       "    </tr>\n",
       "  </tbody>\n",
       "</table>\n",
       "</div>"
      ],
      "text/plain": [
       "        company_name  order_id required_date shipped_date delay_in_days\n",
       "0   Federal Shipping     11008    1998-05-06         None          None\n",
       "1   Federal Shipping     11019    1998-05-11         None          None\n",
       "2     United Package     11039    1998-05-19         None          None\n",
       "3   Federal Shipping     11040    1998-05-20         None          None\n",
       "4     United Package     11045    1998-05-21         None          None\n",
       "5   Federal Shipping     11051    1998-05-25         None          None\n",
       "6     Speedy Express     11054    1998-05-26         None          None\n",
       "7   Federal Shipping     11058    1998-05-27         None          None\n",
       "8     United Package     11059    1998-06-10         None          None\n",
       "9   Federal Shipping     11061    1998-06-11         None          None\n",
       "10    United Package     11062    1998-05-28         None          None\n",
       "11    Speedy Express     11065    1998-05-29         None          None\n",
       "12    United Package     11068    1998-06-01         None          None\n",
       "13    Speedy Express     11070    1998-06-02         None          None\n",
       "14    Speedy Express     11071    1998-06-02         None          None\n",
       "15    United Package     11072    1998-06-02         None          None\n",
       "16    United Package     11073    1998-06-02         None          None\n",
       "17    United Package     11074    1998-06-03         None          None\n",
       "18    United Package     11075    1998-06-03         None          None\n",
       "19    United Package     11076    1998-06-03         None          None\n",
       "20    United Package     11077    1998-06-03         None          None"
      ]
     },
     "metadata": {},
     "output_type": "display_data"
    }
   ],
   "source": [
    "sql_query = '''\n",
    "SELECT s.company_name, \n",
    "       o.order_id, \n",
    "       o.required_date, \n",
    "       o.shipped_date, \n",
    "       (o.required_date - o.shipped_date) AS delay_in_days\n",
    "FROM orders o\n",
    "JOIN shippers s ON o.ship_via = s.shipper_id\n",
    "WHERE o.shipped_date IS NULL;\n",
    "'''\n",
    "cursor = conn.cursor() \n",
    "cursor.execute(sql_query) \n",
    "rows = cursor.fetchall() \n",
    "colnames = [desc[0] for desc in cursor.description] \n",
    "cursor.close()\n",
    "tabla = pd.DataFrame(data = rows, columns = colnames)\n",
    "print(f'Los pedidos sin fecha de entrega son:')\n",
    "display(tabla)"
   ]
  },
  {
   "cell_type": "code",
   "execution_count": 20,
   "metadata": {},
   "outputs": [
    {
     "name": "stdout",
     "output_type": "stream",
     "text": [
      "Los pedidos sin fecha de entrega son:\n"
     ]
    },
    {
     "data": {
      "text/html": [
       "<div>\n",
       "<style scoped>\n",
       "    .dataframe tbody tr th:only-of-type {\n",
       "        vertical-align: middle;\n",
       "    }\n",
       "\n",
       "    .dataframe tbody tr th {\n",
       "        vertical-align: top;\n",
       "    }\n",
       "\n",
       "    .dataframe thead th {\n",
       "        text-align: right;\n",
       "    }\n",
       "</style>\n",
       "<table border=\"1\" class=\"dataframe\">\n",
       "  <thead>\n",
       "    <tr style=\"text-align: right;\">\n",
       "      <th></th>\n",
       "      <th>company_name</th>\n",
       "      <th>pedidos</th>\n",
       "    </tr>\n",
       "  </thead>\n",
       "  <tbody>\n",
       "    <tr>\n",
       "      <th>0</th>\n",
       "      <td>United Package</td>\n",
       "      <td>11</td>\n",
       "    </tr>\n",
       "    <tr>\n",
       "      <th>1</th>\n",
       "      <td>Federal Shipping</td>\n",
       "      <td>6</td>\n",
       "    </tr>\n",
       "    <tr>\n",
       "      <th>2</th>\n",
       "      <td>Speedy Express</td>\n",
       "      <td>4</td>\n",
       "    </tr>\n",
       "  </tbody>\n",
       "</table>\n",
       "</div>"
      ],
      "text/plain": [
       "       company_name  pedidos\n",
       "0    United Package       11\n",
       "1  Federal Shipping        6\n",
       "2    Speedy Express        4"
      ]
     },
     "metadata": {},
     "output_type": "display_data"
    }
   ],
   "source": [
    "sql_query = '''\n",
    "SELECT s.company_name, \n",
    "       COUNT(o.order_id)\n",
    "FROM orders o\n",
    "JOIN shippers s ON o.ship_via = s.shipper_id\n",
    "WHERE o.shipped_date IS NULL\n",
    "GROUP BY s.company_name\n",
    "ORDER BY o.order_id DESC\n",
    "'''\n",
    "cursor = conn.cursor() \n",
    "cursor.execute(sql_query) \n",
    "rows = cursor.fetchall() \n",
    "colnames = [desc[0] for desc in cursor.description] \n",
    "cursor.close()\n",
    "tabla = pd.DataFrame(data = rows, columns = colnames)\n",
    "print(f'Los pedidos sin fecha de entrega son:')\n",
    "display(tabla)"
   ]
  },
  {
   "cell_type": "markdown",
   "metadata": {},
   "source": [
    "Hay bastante diferencia entre el precio pagado en cada pedido. Averigüa la\n",
    "distribución media del precio del pedido por país de procedencia del cliente.\n",
    "Realiza la visualización que creas más conveniente para sacar conclusiones"
   ]
  },
  {
   "cell_type": "code",
   "execution_count": 38,
   "metadata": {},
   "outputs": [
    {
     "name": "stdout",
     "output_type": "stream",
     "text": [
      "El pedido promedio por pais es:\n"
     ]
    },
    {
     "data": {
      "text/html": [
       "<div>\n",
       "<style scoped>\n",
       "    .dataframe tbody tr th:only-of-type {\n",
       "        vertical-align: middle;\n",
       "    }\n",
       "\n",
       "    .dataframe tbody tr th {\n",
       "        vertical-align: top;\n",
       "    }\n",
       "\n",
       "    .dataframe thead th {\n",
       "        text-align: right;\n",
       "    }\n",
       "</style>\n",
       "<table border=\"1\" class=\"dataframe\">\n",
       "  <thead>\n",
       "    <tr style=\"text-align: right;\">\n",
       "      <th></th>\n",
       "      <th>country</th>\n",
       "      <th>promedio</th>\n",
       "    </tr>\n",
       "  </thead>\n",
       "  <tbody>\n",
       "    <tr>\n",
       "      <th>0</th>\n",
       "      <td>Austria</td>\n",
       "      <td>1024.03</td>\n",
       "    </tr>\n",
       "    <tr>\n",
       "      <th>1</th>\n",
       "      <td>Ireland</td>\n",
       "      <td>908.73</td>\n",
       "    </tr>\n",
       "    <tr>\n",
       "      <th>2</th>\n",
       "      <td>Denmark</td>\n",
       "      <td>710.02</td>\n",
       "    </tr>\n",
       "    <tr>\n",
       "      <th>3</th>\n",
       "      <td>Germany</td>\n",
       "      <td>702.09</td>\n",
       "    </tr>\n",
       "    <tr>\n",
       "      <th>4</th>\n",
       "      <td>USA</td>\n",
       "      <td>697.68</td>\n",
       "    </tr>\n",
       "    <tr>\n",
       "      <th>5</th>\n",
       "      <td>Canada</td>\n",
       "      <td>669.28</td>\n",
       "    </tr>\n",
       "    <tr>\n",
       "      <th>6</th>\n",
       "      <td>Switzerland</td>\n",
       "      <td>609.47</td>\n",
       "    </tr>\n",
       "    <tr>\n",
       "      <th>7</th>\n",
       "      <td>Belgium</td>\n",
       "      <td>604.02</td>\n",
       "    </tr>\n",
       "    <tr>\n",
       "      <th>8</th>\n",
       "      <td>Sweden</td>\n",
       "      <td>561.81</td>\n",
       "    </tr>\n",
       "    <tr>\n",
       "      <th>9</th>\n",
       "      <td>Brazil</td>\n",
       "      <td>526.73</td>\n",
       "    </tr>\n",
       "    <tr>\n",
       "      <th>10</th>\n",
       "      <td>Venezuela</td>\n",
       "      <td>481.45</td>\n",
       "    </tr>\n",
       "    <tr>\n",
       "      <th>11</th>\n",
       "      <td>France</td>\n",
       "      <td>442.16</td>\n",
       "    </tr>\n",
       "    <tr>\n",
       "      <th>12</th>\n",
       "      <td>UK</td>\n",
       "      <td>436.82</td>\n",
       "    </tr>\n",
       "    <tr>\n",
       "      <th>13</th>\n",
       "      <td>Portugal</td>\n",
       "      <td>382.41</td>\n",
       "    </tr>\n",
       "    <tr>\n",
       "      <th>14</th>\n",
       "      <td>Norway</td>\n",
       "      <td>358.45</td>\n",
       "    </tr>\n",
       "    <tr>\n",
       "      <th>15</th>\n",
       "      <td>Finland</td>\n",
       "      <td>348.33</td>\n",
       "    </tr>\n",
       "    <tr>\n",
       "      <th>16</th>\n",
       "      <td>Spain</td>\n",
       "      <td>333.02</td>\n",
       "    </tr>\n",
       "    <tr>\n",
       "      <th>17</th>\n",
       "      <td>Mexico</td>\n",
       "      <td>327.53</td>\n",
       "    </tr>\n",
       "    <tr>\n",
       "      <th>18</th>\n",
       "      <td>Italy</td>\n",
       "      <td>297.55</td>\n",
       "    </tr>\n",
       "    <tr>\n",
       "      <th>19</th>\n",
       "      <td>Argentina</td>\n",
       "      <td>238.80</td>\n",
       "    </tr>\n",
       "    <tr>\n",
       "      <th>20</th>\n",
       "      <td>Poland</td>\n",
       "      <td>220.75</td>\n",
       "    </tr>\n",
       "  </tbody>\n",
       "</table>\n",
       "</div>"
      ],
      "text/plain": [
       "        country  promedio\n",
       "0       Austria   1024.03\n",
       "1       Ireland    908.73\n",
       "2       Denmark    710.02\n",
       "3       Germany    702.09\n",
       "4           USA    697.68\n",
       "5        Canada    669.28\n",
       "6   Switzerland    609.47\n",
       "7       Belgium    604.02\n",
       "8        Sweden    561.81\n",
       "9        Brazil    526.73\n",
       "10    Venezuela    481.45\n",
       "11       France    442.16\n",
       "12           UK    436.82\n",
       "13     Portugal    382.41\n",
       "14       Norway    358.45\n",
       "15      Finland    348.33\n",
       "16        Spain    333.02\n",
       "17       Mexico    327.53\n",
       "18        Italy    297.55\n",
       "19    Argentina    238.80\n",
       "20       Poland    220.75"
      ]
     },
     "metadata": {},
     "output_type": "display_data"
    }
   ],
   "source": [
    "sql_query = '''\n",
    "SELECT c.country,\n",
    "\tAVG(od.unit_price * (1-od.discount) * od.quantity) AS promedio\n",
    "FROM customers c\n",
    "JOIN orders o ON o.customer_id = c.customer_id\n",
    "JOIN order_details od ON o.order_id = od.order_id \n",
    "GROUP BY c.country\n",
    "ORDER BY promedio DESC\n",
    "'''\n",
    "cursor = conn.cursor() \n",
    "cursor.execute(sql_query) \n",
    "rows = cursor.fetchall() \n",
    "colnames = [desc[0] for desc in cursor.description] \n",
    "cursor.close()\n",
    "tabla = pd.DataFrame(data = rows, columns = colnames)\n",
    "print(f'El pedido promedio por pais es:')\n",
    "tabla['promedio'] = tabla['promedio'].round(2)\n",
    "display(tabla)"
   ]
  },
  {
   "cell_type": "code",
   "execution_count": 39,
   "metadata": {},
   "outputs": [
    {
     "data": {
      "application/vnd.plotly.v1+json": {
       "config": {
        "plotlyServerURL": "https://plot.ly"
       },
       "data": [
        {
         "alignmentgroup": "True",
         "hovertemplate": "País=%{x}<br>Precio Medio por Pedido=%{text}<extra></extra>",
         "legendgroup": "",
         "marker": {
          "color": "#636efa",
          "pattern": {
           "shape": ""
          }
         },
         "name": "",
         "offsetgroup": "",
         "orientation": "v",
         "showlegend": false,
         "text": [
          1024.03,
          908.73,
          710.02,
          702.09,
          697.68,
          669.28,
          609.47,
          604.02,
          561.81,
          526.73,
          481.45,
          442.16,
          436.82,
          382.41,
          358.45,
          348.33,
          333.02,
          327.53,
          297.55,
          238.8,
          220.75
         ],
         "textposition": "auto",
         "type": "bar",
         "x": [
          "Austria",
          "Ireland",
          "Denmark",
          "Germany",
          "USA",
          "Canada",
          "Switzerland",
          "Belgium",
          "Sweden",
          "Brazil",
          "Venezuela",
          "France",
          "UK",
          "Portugal",
          "Norway",
          "Finland",
          "Spain",
          "Mexico",
          "Italy",
          "Argentina",
          "Poland"
         ],
         "xaxis": "x",
         "y": [
          1024.03,
          908.73,
          710.02,
          702.09,
          697.68,
          669.28,
          609.47,
          604.02,
          561.81,
          526.73,
          481.45,
          442.16,
          436.82,
          382.41,
          358.45,
          348.33,
          333.02,
          327.53,
          297.55,
          238.8,
          220.75
         ],
         "yaxis": "y"
        }
       ],
       "layout": {
        "barmode": "relative",
        "height": 600,
        "legend": {
         "tracegroupgap": 0
        },
        "template": {
         "data": {
          "bar": [
           {
            "error_x": {
             "color": "#2a3f5f"
            },
            "error_y": {
             "color": "#2a3f5f"
            },
            "marker": {
             "line": {
              "color": "#E5ECF6",
              "width": 0.5
             },
             "pattern": {
              "fillmode": "overlay",
              "size": 10,
              "solidity": 0.2
             }
            },
            "type": "bar"
           }
          ],
          "barpolar": [
           {
            "marker": {
             "line": {
              "color": "#E5ECF6",
              "width": 0.5
             },
             "pattern": {
              "fillmode": "overlay",
              "size": 10,
              "solidity": 0.2
             }
            },
            "type": "barpolar"
           }
          ],
          "carpet": [
           {
            "aaxis": {
             "endlinecolor": "#2a3f5f",
             "gridcolor": "white",
             "linecolor": "white",
             "minorgridcolor": "white",
             "startlinecolor": "#2a3f5f"
            },
            "baxis": {
             "endlinecolor": "#2a3f5f",
             "gridcolor": "white",
             "linecolor": "white",
             "minorgridcolor": "white",
             "startlinecolor": "#2a3f5f"
            },
            "type": "carpet"
           }
          ],
          "choropleth": [
           {
            "colorbar": {
             "outlinewidth": 0,
             "ticks": ""
            },
            "type": "choropleth"
           }
          ],
          "contour": [
           {
            "colorbar": {
             "outlinewidth": 0,
             "ticks": ""
            },
            "colorscale": [
             [
              0,
              "#0d0887"
             ],
             [
              0.1111111111111111,
              "#46039f"
             ],
             [
              0.2222222222222222,
              "#7201a8"
             ],
             [
              0.3333333333333333,
              "#9c179e"
             ],
             [
              0.4444444444444444,
              "#bd3786"
             ],
             [
              0.5555555555555556,
              "#d8576b"
             ],
             [
              0.6666666666666666,
              "#ed7953"
             ],
             [
              0.7777777777777778,
              "#fb9f3a"
             ],
             [
              0.8888888888888888,
              "#fdca26"
             ],
             [
              1,
              "#f0f921"
             ]
            ],
            "type": "contour"
           }
          ],
          "contourcarpet": [
           {
            "colorbar": {
             "outlinewidth": 0,
             "ticks": ""
            },
            "type": "contourcarpet"
           }
          ],
          "heatmap": [
           {
            "colorbar": {
             "outlinewidth": 0,
             "ticks": ""
            },
            "colorscale": [
             [
              0,
              "#0d0887"
             ],
             [
              0.1111111111111111,
              "#46039f"
             ],
             [
              0.2222222222222222,
              "#7201a8"
             ],
             [
              0.3333333333333333,
              "#9c179e"
             ],
             [
              0.4444444444444444,
              "#bd3786"
             ],
             [
              0.5555555555555556,
              "#d8576b"
             ],
             [
              0.6666666666666666,
              "#ed7953"
             ],
             [
              0.7777777777777778,
              "#fb9f3a"
             ],
             [
              0.8888888888888888,
              "#fdca26"
             ],
             [
              1,
              "#f0f921"
             ]
            ],
            "type": "heatmap"
           }
          ],
          "heatmapgl": [
           {
            "colorbar": {
             "outlinewidth": 0,
             "ticks": ""
            },
            "colorscale": [
             [
              0,
              "#0d0887"
             ],
             [
              0.1111111111111111,
              "#46039f"
             ],
             [
              0.2222222222222222,
              "#7201a8"
             ],
             [
              0.3333333333333333,
              "#9c179e"
             ],
             [
              0.4444444444444444,
              "#bd3786"
             ],
             [
              0.5555555555555556,
              "#d8576b"
             ],
             [
              0.6666666666666666,
              "#ed7953"
             ],
             [
              0.7777777777777778,
              "#fb9f3a"
             ],
             [
              0.8888888888888888,
              "#fdca26"
             ],
             [
              1,
              "#f0f921"
             ]
            ],
            "type": "heatmapgl"
           }
          ],
          "histogram": [
           {
            "marker": {
             "pattern": {
              "fillmode": "overlay",
              "size": 10,
              "solidity": 0.2
             }
            },
            "type": "histogram"
           }
          ],
          "histogram2d": [
           {
            "colorbar": {
             "outlinewidth": 0,
             "ticks": ""
            },
            "colorscale": [
             [
              0,
              "#0d0887"
             ],
             [
              0.1111111111111111,
              "#46039f"
             ],
             [
              0.2222222222222222,
              "#7201a8"
             ],
             [
              0.3333333333333333,
              "#9c179e"
             ],
             [
              0.4444444444444444,
              "#bd3786"
             ],
             [
              0.5555555555555556,
              "#d8576b"
             ],
             [
              0.6666666666666666,
              "#ed7953"
             ],
             [
              0.7777777777777778,
              "#fb9f3a"
             ],
             [
              0.8888888888888888,
              "#fdca26"
             ],
             [
              1,
              "#f0f921"
             ]
            ],
            "type": "histogram2d"
           }
          ],
          "histogram2dcontour": [
           {
            "colorbar": {
             "outlinewidth": 0,
             "ticks": ""
            },
            "colorscale": [
             [
              0,
              "#0d0887"
             ],
             [
              0.1111111111111111,
              "#46039f"
             ],
             [
              0.2222222222222222,
              "#7201a8"
             ],
             [
              0.3333333333333333,
              "#9c179e"
             ],
             [
              0.4444444444444444,
              "#bd3786"
             ],
             [
              0.5555555555555556,
              "#d8576b"
             ],
             [
              0.6666666666666666,
              "#ed7953"
             ],
             [
              0.7777777777777778,
              "#fb9f3a"
             ],
             [
              0.8888888888888888,
              "#fdca26"
             ],
             [
              1,
              "#f0f921"
             ]
            ],
            "type": "histogram2dcontour"
           }
          ],
          "mesh3d": [
           {
            "colorbar": {
             "outlinewidth": 0,
             "ticks": ""
            },
            "type": "mesh3d"
           }
          ],
          "parcoords": [
           {
            "line": {
             "colorbar": {
              "outlinewidth": 0,
              "ticks": ""
             }
            },
            "type": "parcoords"
           }
          ],
          "pie": [
           {
            "automargin": true,
            "type": "pie"
           }
          ],
          "scatter": [
           {
            "fillpattern": {
             "fillmode": "overlay",
             "size": 10,
             "solidity": 0.2
            },
            "type": "scatter"
           }
          ],
          "scatter3d": [
           {
            "line": {
             "colorbar": {
              "outlinewidth": 0,
              "ticks": ""
             }
            },
            "marker": {
             "colorbar": {
              "outlinewidth": 0,
              "ticks": ""
             }
            },
            "type": "scatter3d"
           }
          ],
          "scattercarpet": [
           {
            "marker": {
             "colorbar": {
              "outlinewidth": 0,
              "ticks": ""
             }
            },
            "type": "scattercarpet"
           }
          ],
          "scattergeo": [
           {
            "marker": {
             "colorbar": {
              "outlinewidth": 0,
              "ticks": ""
             }
            },
            "type": "scattergeo"
           }
          ],
          "scattergl": [
           {
            "marker": {
             "colorbar": {
              "outlinewidth": 0,
              "ticks": ""
             }
            },
            "type": "scattergl"
           }
          ],
          "scattermapbox": [
           {
            "marker": {
             "colorbar": {
              "outlinewidth": 0,
              "ticks": ""
             }
            },
            "type": "scattermapbox"
           }
          ],
          "scatterpolar": [
           {
            "marker": {
             "colorbar": {
              "outlinewidth": 0,
              "ticks": ""
             }
            },
            "type": "scatterpolar"
           }
          ],
          "scatterpolargl": [
           {
            "marker": {
             "colorbar": {
              "outlinewidth": 0,
              "ticks": ""
             }
            },
            "type": "scatterpolargl"
           }
          ],
          "scatterternary": [
           {
            "marker": {
             "colorbar": {
              "outlinewidth": 0,
              "ticks": ""
             }
            },
            "type": "scatterternary"
           }
          ],
          "surface": [
           {
            "colorbar": {
             "outlinewidth": 0,
             "ticks": ""
            },
            "colorscale": [
             [
              0,
              "#0d0887"
             ],
             [
              0.1111111111111111,
              "#46039f"
             ],
             [
              0.2222222222222222,
              "#7201a8"
             ],
             [
              0.3333333333333333,
              "#9c179e"
             ],
             [
              0.4444444444444444,
              "#bd3786"
             ],
             [
              0.5555555555555556,
              "#d8576b"
             ],
             [
              0.6666666666666666,
              "#ed7953"
             ],
             [
              0.7777777777777778,
              "#fb9f3a"
             ],
             [
              0.8888888888888888,
              "#fdca26"
             ],
             [
              1,
              "#f0f921"
             ]
            ],
            "type": "surface"
           }
          ],
          "table": [
           {
            "cells": {
             "fill": {
              "color": "#EBF0F8"
             },
             "line": {
              "color": "white"
             }
            },
            "header": {
             "fill": {
              "color": "#C8D4E3"
             },
             "line": {
              "color": "white"
             }
            },
            "type": "table"
           }
          ]
         },
         "layout": {
          "annotationdefaults": {
           "arrowcolor": "#2a3f5f",
           "arrowhead": 0,
           "arrowwidth": 1
          },
          "autotypenumbers": "strict",
          "coloraxis": {
           "colorbar": {
            "outlinewidth": 0,
            "ticks": ""
           }
          },
          "colorscale": {
           "diverging": [
            [
             0,
             "#8e0152"
            ],
            [
             0.1,
             "#c51b7d"
            ],
            [
             0.2,
             "#de77ae"
            ],
            [
             0.3,
             "#f1b6da"
            ],
            [
             0.4,
             "#fde0ef"
            ],
            [
             0.5,
             "#f7f7f7"
            ],
            [
             0.6,
             "#e6f5d0"
            ],
            [
             0.7,
             "#b8e186"
            ],
            [
             0.8,
             "#7fbc41"
            ],
            [
             0.9,
             "#4d9221"
            ],
            [
             1,
             "#276419"
            ]
           ],
           "sequential": [
            [
             0,
             "#0d0887"
            ],
            [
             0.1111111111111111,
             "#46039f"
            ],
            [
             0.2222222222222222,
             "#7201a8"
            ],
            [
             0.3333333333333333,
             "#9c179e"
            ],
            [
             0.4444444444444444,
             "#bd3786"
            ],
            [
             0.5555555555555556,
             "#d8576b"
            ],
            [
             0.6666666666666666,
             "#ed7953"
            ],
            [
             0.7777777777777778,
             "#fb9f3a"
            ],
            [
             0.8888888888888888,
             "#fdca26"
            ],
            [
             1,
             "#f0f921"
            ]
           ],
           "sequentialminus": [
            [
             0,
             "#0d0887"
            ],
            [
             0.1111111111111111,
             "#46039f"
            ],
            [
             0.2222222222222222,
             "#7201a8"
            ],
            [
             0.3333333333333333,
             "#9c179e"
            ],
            [
             0.4444444444444444,
             "#bd3786"
            ],
            [
             0.5555555555555556,
             "#d8576b"
            ],
            [
             0.6666666666666666,
             "#ed7953"
            ],
            [
             0.7777777777777778,
             "#fb9f3a"
            ],
            [
             0.8888888888888888,
             "#fdca26"
            ],
            [
             1,
             "#f0f921"
            ]
           ]
          },
          "colorway": [
           "#636efa",
           "#EF553B",
           "#00cc96",
           "#ab63fa",
           "#FFA15A",
           "#19d3f3",
           "#FF6692",
           "#B6E880",
           "#FF97FF",
           "#FECB52"
          ],
          "font": {
           "color": "#2a3f5f"
          },
          "geo": {
           "bgcolor": "white",
           "lakecolor": "white",
           "landcolor": "#E5ECF6",
           "showlakes": true,
           "showland": true,
           "subunitcolor": "white"
          },
          "hoverlabel": {
           "align": "left"
          },
          "hovermode": "closest",
          "mapbox": {
           "style": "light"
          },
          "paper_bgcolor": "white",
          "plot_bgcolor": "#E5ECF6",
          "polar": {
           "angularaxis": {
            "gridcolor": "white",
            "linecolor": "white",
            "ticks": ""
           },
           "bgcolor": "#E5ECF6",
           "radialaxis": {
            "gridcolor": "white",
            "linecolor": "white",
            "ticks": ""
           }
          },
          "scene": {
           "xaxis": {
            "backgroundcolor": "#E5ECF6",
            "gridcolor": "white",
            "gridwidth": 2,
            "linecolor": "white",
            "showbackground": true,
            "ticks": "",
            "zerolinecolor": "white"
           },
           "yaxis": {
            "backgroundcolor": "#E5ECF6",
            "gridcolor": "white",
            "gridwidth": 2,
            "linecolor": "white",
            "showbackground": true,
            "ticks": "",
            "zerolinecolor": "white"
           },
           "zaxis": {
            "backgroundcolor": "#E5ECF6",
            "gridcolor": "white",
            "gridwidth": 2,
            "linecolor": "white",
            "showbackground": true,
            "ticks": "",
            "zerolinecolor": "white"
           }
          },
          "shapedefaults": {
           "line": {
            "color": "#2a3f5f"
           }
          },
          "ternary": {
           "aaxis": {
            "gridcolor": "white",
            "linecolor": "white",
            "ticks": ""
           },
           "baxis": {
            "gridcolor": "white",
            "linecolor": "white",
            "ticks": ""
           },
           "bgcolor": "#E5ECF6",
           "caxis": {
            "gridcolor": "white",
            "linecolor": "white",
            "ticks": ""
           }
          },
          "title": {
           "x": 0.05
          },
          "xaxis": {
           "automargin": true,
           "gridcolor": "white",
           "linecolor": "white",
           "ticks": "",
           "title": {
            "standoff": 15
           },
           "zerolinecolor": "white",
           "zerolinewidth": 2
          },
          "yaxis": {
           "automargin": true,
           "gridcolor": "white",
           "linecolor": "white",
           "ticks": "",
           "title": {
            "standoff": 15
           },
           "zerolinecolor": "white",
           "zerolinewidth": 2
          }
         }
        },
        "title": {
         "text": "Distribución Media del Precio de Pedido por País"
        },
        "width": 800,
        "xaxis": {
         "anchor": "y",
         "domain": [
          0,
          1
         ],
         "tickangle": -90,
         "title": {
          "text": "País"
         }
        },
        "yaxis": {
         "anchor": "x",
         "domain": [
          0,
          1
         ],
         "title": {
          "text": "Precio Medio por Pedido"
         }
        }
       }
      }
     },
     "metadata": {},
     "output_type": "display_data"
    }
   ],
   "source": [
    "fig = px.bar(tabla, x='country', y='promedio', \n",
    "             title='Distribución Media del Precio de Pedido por País',\n",
    "             labels={'country': 'País', 'promedio': 'Precio Medio por Pedido'},\n",
    "             text='promedio',  # Mostrar el valor en las barras\n",
    "             width=800, height=600)\n",
    "\n",
    "# Ajustes adicionales de la visualización\n",
    "fig.update_layout(xaxis_title=\"País\",\n",
    "                  yaxis_title=\"Precio Medio por Pedido\",\n",
    "                  xaxis_tickangle=-90)  # Rotar etiquetas del eje X\n",
    "\n",
    "# Mostrar la gráfica\n",
    "fig.show()"
   ]
  },
  {
   "cell_type": "markdown",
   "metadata": {},
   "source": [
    "Investiga si existen clientes que no hayan pedido nunca. ¿Qué porcentaje de\n",
    "clientes no tienen pedidos registrados?"
   ]
  },
  {
   "cell_type": "code",
   "execution_count": 69,
   "metadata": {},
   "outputs": [
    {
     "name": "stdout",
     "output_type": "stream",
     "text": [
      "El total de clientes es: 91\n"
     ]
    }
   ],
   "source": [
    "sql_query = '''\n",
    "SELECT COUNT(c.customer_id) AS total_cltes\n",
    "FROM customers c\n",
    "'''\n",
    "cursor = conn.cursor() \n",
    "cursor.execute(sql_query) \n",
    "rows = cursor.fetchall() \n",
    "colnames = [desc[0] for desc in cursor.description] \n",
    "cursor.close()\n",
    "tabla = pd.DataFrame(data = rows, columns = colnames)\n",
    "print(f'El total de clientes es: {tabla.iloc[0,0]}')\n",
    "total_cltes = tabla.iloc[0,0]\n"
   ]
  },
  {
   "cell_type": "code",
   "execution_count": 71,
   "metadata": {},
   "outputs": [
    {
     "name": "stdout",
     "output_type": "stream",
     "text": [
      "Los clientes sin compras son:\n"
     ]
    },
    {
     "data": {
      "text/html": [
       "<div>\n",
       "<style scoped>\n",
       "    .dataframe tbody tr th:only-of-type {\n",
       "        vertical-align: middle;\n",
       "    }\n",
       "\n",
       "    .dataframe tbody tr th {\n",
       "        vertical-align: top;\n",
       "    }\n",
       "\n",
       "    .dataframe thead th {\n",
       "        text-align: right;\n",
       "    }\n",
       "</style>\n",
       "<table border=\"1\" class=\"dataframe\">\n",
       "  <thead>\n",
       "    <tr style=\"text-align: right;\">\n",
       "      <th></th>\n",
       "      <th>customer_id</th>\n",
       "      <th>company_name</th>\n",
       "    </tr>\n",
       "  </thead>\n",
       "  <tbody>\n",
       "    <tr>\n",
       "      <th>0</th>\n",
       "      <td>PARIS</td>\n",
       "      <td>Paris spécialités</td>\n",
       "    </tr>\n",
       "    <tr>\n",
       "      <th>1</th>\n",
       "      <td>FISSA</td>\n",
       "      <td>FISSA Fabrica Inter. Salchichas S.A.</td>\n",
       "    </tr>\n",
       "  </tbody>\n",
       "</table>\n",
       "</div>"
      ],
      "text/plain": [
       "  customer_id                          company_name\n",
       "0       PARIS                     Paris spécialités\n",
       "1       FISSA  FISSA Fabrica Inter. Salchichas S.A."
      ]
     },
     "metadata": {},
     "output_type": "display_data"
    },
    {
     "name": "stdout",
     "output_type": "stream",
     "text": [
      "El total de clientes sin compra es: 2\n",
      "El porcentaje de clientes sin compra sobre el total de clientes es: 0.02\n"
     ]
    }
   ],
   "source": [
    "sql_query = '''\n",
    "SELECT c.customer_id,\n",
    "\tc.company_name\n",
    "FROM customers c\n",
    "LEFT JOIN orders o ON o.customer_id = c.customer_id\n",
    "WHERE o.order_id IS NULL\n",
    "'''\n",
    "cursor = conn.cursor() \n",
    "cursor.execute(sql_query) \n",
    "rows = cursor.fetchall() \n",
    "colnames = [desc[0] for desc in cursor.description] \n",
    "cursor.close()\n",
    "tabla = pd.DataFrame(data = rows, columns = colnames)\n",
    "print(f'Los clientes sin compras son:')\n",
    "display(tabla)\n",
    "cltes_sin_compra = tabla['customer_id'].count()\n",
    "print(f'El total de clientes sin compra es: {cltes_sin_compra}')\n",
    "porcentaje_cltes_sin_compra = round((cltes_sin_compra / total_cltes),2)\n",
    "print(f'El porcentaje de clientes sin compra sobre el total de clientes es: {porcentaje_cltes_sin_compra}')"
   ]
  },
  {
   "cell_type": "markdown",
   "metadata": {},
   "source": [
    "Estudia los productos más demandados e investiga cuáles corre prisa hacer\n",
    "reestock (Los que quedan 20 o menos y no hay unidades pedidas). Realiza la\n",
    "visualización que creas más conveniente para sacar conclusiones."
   ]
  },
  {
   "cell_type": "code",
   "execution_count": 80,
   "metadata": {},
   "outputs": [
    {
     "data": {
      "text/html": [
       "<div>\n",
       "<style scoped>\n",
       "    .dataframe tbody tr th:only-of-type {\n",
       "        vertical-align: middle;\n",
       "    }\n",
       "\n",
       "    .dataframe tbody tr th {\n",
       "        vertical-align: top;\n",
       "    }\n",
       "\n",
       "    .dataframe thead th {\n",
       "        text-align: right;\n",
       "    }\n",
       "</style>\n",
       "<table border=\"1\" class=\"dataframe\">\n",
       "  <thead>\n",
       "    <tr style=\"text-align: right;\">\n",
       "      <th></th>\n",
       "      <th>product_name</th>\n",
       "      <th>total_sales</th>\n",
       "      <th>units_in_stock</th>\n",
       "      <th>units_on_order</th>\n",
       "    </tr>\n",
       "  </thead>\n",
       "  <tbody>\n",
       "    <tr>\n",
       "      <th>0</th>\n",
       "      <td>Camembert Pierrot</td>\n",
       "      <td>1577</td>\n",
       "      <td>19</td>\n",
       "      <td>0</td>\n",
       "    </tr>\n",
       "    <tr>\n",
       "      <th>1</th>\n",
       "      <td>Guaraná Fantástica</td>\n",
       "      <td>1125</td>\n",
       "      <td>20</td>\n",
       "      <td>0</td>\n",
       "    </tr>\n",
       "    <tr>\n",
       "      <th>2</th>\n",
       "      <td>Tarte au sucre</td>\n",
       "      <td>1083</td>\n",
       "      <td>17</td>\n",
       "      <td>0</td>\n",
       "    </tr>\n",
       "    <tr>\n",
       "      <th>3</th>\n",
       "      <td>Alice Mutton</td>\n",
       "      <td>978</td>\n",
       "      <td>0</td>\n",
       "      <td>0</td>\n",
       "    </tr>\n",
       "    <tr>\n",
       "      <th>4</th>\n",
       "      <td>Manjimup Dried Apples</td>\n",
       "      <td>886</td>\n",
       "      <td>20</td>\n",
       "      <td>0</td>\n",
       "    </tr>\n",
       "    <tr>\n",
       "      <th>5</th>\n",
       "      <td>Steeleye Stout</td>\n",
       "      <td>883</td>\n",
       "      <td>20</td>\n",
       "      <td>0</td>\n",
       "    </tr>\n",
       "    <tr>\n",
       "      <th>6</th>\n",
       "      <td>Mozzarella di Giovanni</td>\n",
       "      <td>806</td>\n",
       "      <td>14</td>\n",
       "      <td>0</td>\n",
       "    </tr>\n",
       "    <tr>\n",
       "      <th>7</th>\n",
       "      <td>Uncle Bob's Organic Dried Pears</td>\n",
       "      <td>763</td>\n",
       "      <td>15</td>\n",
       "      <td>0</td>\n",
       "    </tr>\n",
       "    <tr>\n",
       "      <th>8</th>\n",
       "      <td>Gumbär Gummibärchen</td>\n",
       "      <td>753</td>\n",
       "      <td>15</td>\n",
       "      <td>0</td>\n",
       "    </tr>\n",
       "    <tr>\n",
       "      <th>9</th>\n",
       "      <td>Thüringer Rostbratwurst</td>\n",
       "      <td>746</td>\n",
       "      <td>0</td>\n",
       "      <td>0</td>\n",
       "    </tr>\n",
       "    <tr>\n",
       "      <th>10</th>\n",
       "      <td>Perth Pasties</td>\n",
       "      <td>722</td>\n",
       "      <td>0</td>\n",
       "      <td>0</td>\n",
       "    </tr>\n",
       "    <tr>\n",
       "      <th>11</th>\n",
       "      <td>Côte de Blaye</td>\n",
       "      <td>623</td>\n",
       "      <td>17</td>\n",
       "      <td>0</td>\n",
       "    </tr>\n",
       "    <tr>\n",
       "      <th>12</th>\n",
       "      <td>Nord-Ost Matjeshering</td>\n",
       "      <td>612</td>\n",
       "      <td>10</td>\n",
       "      <td>0</td>\n",
       "    </tr>\n",
       "    <tr>\n",
       "      <th>13</th>\n",
       "      <td>Northwoods Cranberry Sauce</td>\n",
       "      <td>372</td>\n",
       "      <td>6</td>\n",
       "      <td>0</td>\n",
       "    </tr>\n",
       "    <tr>\n",
       "      <th>14</th>\n",
       "      <td>Chef Anton's Gumbo Mix</td>\n",
       "      <td>298</td>\n",
       "      <td>0</td>\n",
       "      <td>0</td>\n",
       "    </tr>\n",
       "  </tbody>\n",
       "</table>\n",
       "</div>"
      ],
      "text/plain": [
       "                       product_name  total_sales  units_in_stock  \\\n",
       "0                 Camembert Pierrot         1577              19   \n",
       "1                Guaraná Fantástica         1125              20   \n",
       "2                    Tarte au sucre         1083              17   \n",
       "3                      Alice Mutton          978               0   \n",
       "4             Manjimup Dried Apples          886              20   \n",
       "5                    Steeleye Stout          883              20   \n",
       "6            Mozzarella di Giovanni          806              14   \n",
       "7   Uncle Bob's Organic Dried Pears          763              15   \n",
       "8               Gumbär Gummibärchen          753              15   \n",
       "9           Thüringer Rostbratwurst          746               0   \n",
       "10                    Perth Pasties          722               0   \n",
       "11                    Côte de Blaye          623              17   \n",
       "12            Nord-Ost Matjeshering          612              10   \n",
       "13       Northwoods Cranberry Sauce          372               6   \n",
       "14           Chef Anton's Gumbo Mix          298               0   \n",
       "\n",
       "    units_on_order  \n",
       "0                0  \n",
       "1                0  \n",
       "2                0  \n",
       "3                0  \n",
       "4                0  \n",
       "5                0  \n",
       "6                0  \n",
       "7                0  \n",
       "8                0  \n",
       "9                0  \n",
       "10               0  \n",
       "11               0  \n",
       "12               0  \n",
       "13               0  \n",
       "14               0  "
      ]
     },
     "metadata": {},
     "output_type": "display_data"
    }
   ],
   "source": [
    "sql_query = '''\n",
    "SELECT p.product_name,\n",
    "\tSUM(od.quantity) AS total_sales,\n",
    "\tp.units_in_stock,\n",
    "\tp.units_on_order\n",
    "FROM products p\n",
    "JOIN order_details od ON p.product_id = od.product_id\n",
    "WHERE p.units_in_stock <= 20\n",
    "  AND p.units_on_order = 0\n",
    "GROUP BY p.product_name, p.units_in_stock, p.units_on_order\n",
    "ORDER BY total_sales DESC\n",
    "'''\n",
    "cursor = conn.cursor() \n",
    "cursor.execute(sql_query) \n",
    "rows = cursor.fetchall() \n",
    "colnames = [desc[0] for desc in cursor.description] \n",
    "cursor.close()\n",
    "tabla = pd.DataFrame(data = rows, columns = colnames)\n",
    "display(tabla)"
   ]
  },
  {
   "cell_type": "code",
   "execution_count": 81,
   "metadata": {},
   "outputs": [
    {
     "data": {
      "application/vnd.plotly.v1+json": {
       "config": {
        "plotlyServerURL": "https://plot.ly"
       },
       "data": [
        {
         "alignmentgroup": "True",
         "hovertemplate": "Cantidad Total Vendida=%{text}<br>Producto=%{y}<extra></extra>",
         "legendgroup": "",
         "marker": {
          "color": "#636efa",
          "pattern": {
           "shape": ""
          }
         },
         "name": "",
         "offsetgroup": "",
         "orientation": "h",
         "showlegend": false,
         "text": [
          1577,
          1125,
          1083,
          978,
          886,
          883,
          806,
          763,
          753,
          746,
          722,
          623,
          612,
          372,
          298
         ],
         "textposition": "auto",
         "type": "bar",
         "x": [
          1577,
          1125,
          1083,
          978,
          886,
          883,
          806,
          763,
          753,
          746,
          722,
          623,
          612,
          372,
          298
         ],
         "xaxis": "x",
         "y": [
          "Camembert Pierrot",
          "Guaraná Fantástica",
          "Tarte au sucre",
          "Alice Mutton",
          "Manjimup Dried Apples",
          "Steeleye Stout",
          "Mozzarella di Giovanni",
          "Uncle Bob's Organic Dried Pears",
          "Gumbär Gummibärchen",
          "Thüringer Rostbratwurst",
          "Perth Pasties",
          "Côte de Blaye",
          "Nord-Ost Matjeshering",
          "Northwoods Cranberry Sauce",
          "Chef Anton's Gumbo Mix"
         ],
         "yaxis": "y"
        }
       ],
       "layout": {
        "barmode": "relative",
        "height": 600,
        "legend": {
         "tracegroupgap": 0
        },
        "template": {
         "data": {
          "bar": [
           {
            "error_x": {
             "color": "#2a3f5f"
            },
            "error_y": {
             "color": "#2a3f5f"
            },
            "marker": {
             "line": {
              "color": "#E5ECF6",
              "width": 0.5
             },
             "pattern": {
              "fillmode": "overlay",
              "size": 10,
              "solidity": 0.2
             }
            },
            "type": "bar"
           }
          ],
          "barpolar": [
           {
            "marker": {
             "line": {
              "color": "#E5ECF6",
              "width": 0.5
             },
             "pattern": {
              "fillmode": "overlay",
              "size": 10,
              "solidity": 0.2
             }
            },
            "type": "barpolar"
           }
          ],
          "carpet": [
           {
            "aaxis": {
             "endlinecolor": "#2a3f5f",
             "gridcolor": "white",
             "linecolor": "white",
             "minorgridcolor": "white",
             "startlinecolor": "#2a3f5f"
            },
            "baxis": {
             "endlinecolor": "#2a3f5f",
             "gridcolor": "white",
             "linecolor": "white",
             "minorgridcolor": "white",
             "startlinecolor": "#2a3f5f"
            },
            "type": "carpet"
           }
          ],
          "choropleth": [
           {
            "colorbar": {
             "outlinewidth": 0,
             "ticks": ""
            },
            "type": "choropleth"
           }
          ],
          "contour": [
           {
            "colorbar": {
             "outlinewidth": 0,
             "ticks": ""
            },
            "colorscale": [
             [
              0,
              "#0d0887"
             ],
             [
              0.1111111111111111,
              "#46039f"
             ],
             [
              0.2222222222222222,
              "#7201a8"
             ],
             [
              0.3333333333333333,
              "#9c179e"
             ],
             [
              0.4444444444444444,
              "#bd3786"
             ],
             [
              0.5555555555555556,
              "#d8576b"
             ],
             [
              0.6666666666666666,
              "#ed7953"
             ],
             [
              0.7777777777777778,
              "#fb9f3a"
             ],
             [
              0.8888888888888888,
              "#fdca26"
             ],
             [
              1,
              "#f0f921"
             ]
            ],
            "type": "contour"
           }
          ],
          "contourcarpet": [
           {
            "colorbar": {
             "outlinewidth": 0,
             "ticks": ""
            },
            "type": "contourcarpet"
           }
          ],
          "heatmap": [
           {
            "colorbar": {
             "outlinewidth": 0,
             "ticks": ""
            },
            "colorscale": [
             [
              0,
              "#0d0887"
             ],
             [
              0.1111111111111111,
              "#46039f"
             ],
             [
              0.2222222222222222,
              "#7201a8"
             ],
             [
              0.3333333333333333,
              "#9c179e"
             ],
             [
              0.4444444444444444,
              "#bd3786"
             ],
             [
              0.5555555555555556,
              "#d8576b"
             ],
             [
              0.6666666666666666,
              "#ed7953"
             ],
             [
              0.7777777777777778,
              "#fb9f3a"
             ],
             [
              0.8888888888888888,
              "#fdca26"
             ],
             [
              1,
              "#f0f921"
             ]
            ],
            "type": "heatmap"
           }
          ],
          "heatmapgl": [
           {
            "colorbar": {
             "outlinewidth": 0,
             "ticks": ""
            },
            "colorscale": [
             [
              0,
              "#0d0887"
             ],
             [
              0.1111111111111111,
              "#46039f"
             ],
             [
              0.2222222222222222,
              "#7201a8"
             ],
             [
              0.3333333333333333,
              "#9c179e"
             ],
             [
              0.4444444444444444,
              "#bd3786"
             ],
             [
              0.5555555555555556,
              "#d8576b"
             ],
             [
              0.6666666666666666,
              "#ed7953"
             ],
             [
              0.7777777777777778,
              "#fb9f3a"
             ],
             [
              0.8888888888888888,
              "#fdca26"
             ],
             [
              1,
              "#f0f921"
             ]
            ],
            "type": "heatmapgl"
           }
          ],
          "histogram": [
           {
            "marker": {
             "pattern": {
              "fillmode": "overlay",
              "size": 10,
              "solidity": 0.2
             }
            },
            "type": "histogram"
           }
          ],
          "histogram2d": [
           {
            "colorbar": {
             "outlinewidth": 0,
             "ticks": ""
            },
            "colorscale": [
             [
              0,
              "#0d0887"
             ],
             [
              0.1111111111111111,
              "#46039f"
             ],
             [
              0.2222222222222222,
              "#7201a8"
             ],
             [
              0.3333333333333333,
              "#9c179e"
             ],
             [
              0.4444444444444444,
              "#bd3786"
             ],
             [
              0.5555555555555556,
              "#d8576b"
             ],
             [
              0.6666666666666666,
              "#ed7953"
             ],
             [
              0.7777777777777778,
              "#fb9f3a"
             ],
             [
              0.8888888888888888,
              "#fdca26"
             ],
             [
              1,
              "#f0f921"
             ]
            ],
            "type": "histogram2d"
           }
          ],
          "histogram2dcontour": [
           {
            "colorbar": {
             "outlinewidth": 0,
             "ticks": ""
            },
            "colorscale": [
             [
              0,
              "#0d0887"
             ],
             [
              0.1111111111111111,
              "#46039f"
             ],
             [
              0.2222222222222222,
              "#7201a8"
             ],
             [
              0.3333333333333333,
              "#9c179e"
             ],
             [
              0.4444444444444444,
              "#bd3786"
             ],
             [
              0.5555555555555556,
              "#d8576b"
             ],
             [
              0.6666666666666666,
              "#ed7953"
             ],
             [
              0.7777777777777778,
              "#fb9f3a"
             ],
             [
              0.8888888888888888,
              "#fdca26"
             ],
             [
              1,
              "#f0f921"
             ]
            ],
            "type": "histogram2dcontour"
           }
          ],
          "mesh3d": [
           {
            "colorbar": {
             "outlinewidth": 0,
             "ticks": ""
            },
            "type": "mesh3d"
           }
          ],
          "parcoords": [
           {
            "line": {
             "colorbar": {
              "outlinewidth": 0,
              "ticks": ""
             }
            },
            "type": "parcoords"
           }
          ],
          "pie": [
           {
            "automargin": true,
            "type": "pie"
           }
          ],
          "scatter": [
           {
            "fillpattern": {
             "fillmode": "overlay",
             "size": 10,
             "solidity": 0.2
            },
            "type": "scatter"
           }
          ],
          "scatter3d": [
           {
            "line": {
             "colorbar": {
              "outlinewidth": 0,
              "ticks": ""
             }
            },
            "marker": {
             "colorbar": {
              "outlinewidth": 0,
              "ticks": ""
             }
            },
            "type": "scatter3d"
           }
          ],
          "scattercarpet": [
           {
            "marker": {
             "colorbar": {
              "outlinewidth": 0,
              "ticks": ""
             }
            },
            "type": "scattercarpet"
           }
          ],
          "scattergeo": [
           {
            "marker": {
             "colorbar": {
              "outlinewidth": 0,
              "ticks": ""
             }
            },
            "type": "scattergeo"
           }
          ],
          "scattergl": [
           {
            "marker": {
             "colorbar": {
              "outlinewidth": 0,
              "ticks": ""
             }
            },
            "type": "scattergl"
           }
          ],
          "scattermapbox": [
           {
            "marker": {
             "colorbar": {
              "outlinewidth": 0,
              "ticks": ""
             }
            },
            "type": "scattermapbox"
           }
          ],
          "scatterpolar": [
           {
            "marker": {
             "colorbar": {
              "outlinewidth": 0,
              "ticks": ""
             }
            },
            "type": "scatterpolar"
           }
          ],
          "scatterpolargl": [
           {
            "marker": {
             "colorbar": {
              "outlinewidth": 0,
              "ticks": ""
             }
            },
            "type": "scatterpolargl"
           }
          ],
          "scatterternary": [
           {
            "marker": {
             "colorbar": {
              "outlinewidth": 0,
              "ticks": ""
             }
            },
            "type": "scatterternary"
           }
          ],
          "surface": [
           {
            "colorbar": {
             "outlinewidth": 0,
             "ticks": ""
            },
            "colorscale": [
             [
              0,
              "#0d0887"
             ],
             [
              0.1111111111111111,
              "#46039f"
             ],
             [
              0.2222222222222222,
              "#7201a8"
             ],
             [
              0.3333333333333333,
              "#9c179e"
             ],
             [
              0.4444444444444444,
              "#bd3786"
             ],
             [
              0.5555555555555556,
              "#d8576b"
             ],
             [
              0.6666666666666666,
              "#ed7953"
             ],
             [
              0.7777777777777778,
              "#fb9f3a"
             ],
             [
              0.8888888888888888,
              "#fdca26"
             ],
             [
              1,
              "#f0f921"
             ]
            ],
            "type": "surface"
           }
          ],
          "table": [
           {
            "cells": {
             "fill": {
              "color": "#EBF0F8"
             },
             "line": {
              "color": "white"
             }
            },
            "header": {
             "fill": {
              "color": "#C8D4E3"
             },
             "line": {
              "color": "white"
             }
            },
            "type": "table"
           }
          ]
         },
         "layout": {
          "annotationdefaults": {
           "arrowcolor": "#2a3f5f",
           "arrowhead": 0,
           "arrowwidth": 1
          },
          "autotypenumbers": "strict",
          "coloraxis": {
           "colorbar": {
            "outlinewidth": 0,
            "ticks": ""
           }
          },
          "colorscale": {
           "diverging": [
            [
             0,
             "#8e0152"
            ],
            [
             0.1,
             "#c51b7d"
            ],
            [
             0.2,
             "#de77ae"
            ],
            [
             0.3,
             "#f1b6da"
            ],
            [
             0.4,
             "#fde0ef"
            ],
            [
             0.5,
             "#f7f7f7"
            ],
            [
             0.6,
             "#e6f5d0"
            ],
            [
             0.7,
             "#b8e186"
            ],
            [
             0.8,
             "#7fbc41"
            ],
            [
             0.9,
             "#4d9221"
            ],
            [
             1,
             "#276419"
            ]
           ],
           "sequential": [
            [
             0,
             "#0d0887"
            ],
            [
             0.1111111111111111,
             "#46039f"
            ],
            [
             0.2222222222222222,
             "#7201a8"
            ],
            [
             0.3333333333333333,
             "#9c179e"
            ],
            [
             0.4444444444444444,
             "#bd3786"
            ],
            [
             0.5555555555555556,
             "#d8576b"
            ],
            [
             0.6666666666666666,
             "#ed7953"
            ],
            [
             0.7777777777777778,
             "#fb9f3a"
            ],
            [
             0.8888888888888888,
             "#fdca26"
            ],
            [
             1,
             "#f0f921"
            ]
           ],
           "sequentialminus": [
            [
             0,
             "#0d0887"
            ],
            [
             0.1111111111111111,
             "#46039f"
            ],
            [
             0.2222222222222222,
             "#7201a8"
            ],
            [
             0.3333333333333333,
             "#9c179e"
            ],
            [
             0.4444444444444444,
             "#bd3786"
            ],
            [
             0.5555555555555556,
             "#d8576b"
            ],
            [
             0.6666666666666666,
             "#ed7953"
            ],
            [
             0.7777777777777778,
             "#fb9f3a"
            ],
            [
             0.8888888888888888,
             "#fdca26"
            ],
            [
             1,
             "#f0f921"
            ]
           ]
          },
          "colorway": [
           "#636efa",
           "#EF553B",
           "#00cc96",
           "#ab63fa",
           "#FFA15A",
           "#19d3f3",
           "#FF6692",
           "#B6E880",
           "#FF97FF",
           "#FECB52"
          ],
          "font": {
           "color": "#2a3f5f"
          },
          "geo": {
           "bgcolor": "white",
           "lakecolor": "white",
           "landcolor": "#E5ECF6",
           "showlakes": true,
           "showland": true,
           "subunitcolor": "white"
          },
          "hoverlabel": {
           "align": "left"
          },
          "hovermode": "closest",
          "mapbox": {
           "style": "light"
          },
          "paper_bgcolor": "white",
          "plot_bgcolor": "#E5ECF6",
          "polar": {
           "angularaxis": {
            "gridcolor": "white",
            "linecolor": "white",
            "ticks": ""
           },
           "bgcolor": "#E5ECF6",
           "radialaxis": {
            "gridcolor": "white",
            "linecolor": "white",
            "ticks": ""
           }
          },
          "scene": {
           "xaxis": {
            "backgroundcolor": "#E5ECF6",
            "gridcolor": "white",
            "gridwidth": 2,
            "linecolor": "white",
            "showbackground": true,
            "ticks": "",
            "zerolinecolor": "white"
           },
           "yaxis": {
            "backgroundcolor": "#E5ECF6",
            "gridcolor": "white",
            "gridwidth": 2,
            "linecolor": "white",
            "showbackground": true,
            "ticks": "",
            "zerolinecolor": "white"
           },
           "zaxis": {
            "backgroundcolor": "#E5ECF6",
            "gridcolor": "white",
            "gridwidth": 2,
            "linecolor": "white",
            "showbackground": true,
            "ticks": "",
            "zerolinecolor": "white"
           }
          },
          "shapedefaults": {
           "line": {
            "color": "#2a3f5f"
           }
          },
          "ternary": {
           "aaxis": {
            "gridcolor": "white",
            "linecolor": "white",
            "ticks": ""
           },
           "baxis": {
            "gridcolor": "white",
            "linecolor": "white",
            "ticks": ""
           },
           "bgcolor": "#E5ECF6",
           "caxis": {
            "gridcolor": "white",
            "linecolor": "white",
            "ticks": ""
           }
          },
          "title": {
           "x": 0.05
          },
          "xaxis": {
           "automargin": true,
           "gridcolor": "white",
           "linecolor": "white",
           "ticks": "",
           "title": {
            "standoff": 15
           },
           "zerolinecolor": "white",
           "zerolinewidth": 2
          },
          "yaxis": {
           "automargin": true,
           "gridcolor": "white",
           "linecolor": "white",
           "ticks": "",
           "title": {
            "standoff": 15
           },
           "zerolinecolor": "white",
           "zerolinewidth": 2
          }
         }
        },
        "title": {
         "text": "Productos Más Demandados con Bajo Stock y Sin Unidades Pedidas"
        },
        "width": 900,
        "xaxis": {
         "anchor": "y",
         "domain": [
          0,
          1
         ],
         "title": {
          "text": "Cantidad Total Vendida"
         }
        },
        "yaxis": {
         "anchor": "x",
         "categoryorder": "total ascending",
         "domain": [
          0,
          1
         ],
         "title": {
          "text": "Producto"
         }
        }
       }
      }
     },
     "metadata": {},
     "output_type": "display_data"
    }
   ],
   "source": [
    "fig = px.bar(tabla, x='total_sales', y='product_name',\n",
    "             title='Productos Más Demandados con Bajo Stock y Sin Unidades Pedidas',\n",
    "             labels={'total_sales': 'Cantidad Total Vendida', 'product_name': 'Producto'},\n",
    "             text='total_sales',  # Mostrar el valor en las barras\n",
    "             orientation='h',  # Gráfico horizontal\n",
    "             width=900, height=600)\n",
    "\n",
    "# Ajustes adicionales de la visualización\n",
    "fig.update_layout(xaxis_title=\"Cantidad Total Vendida\",\n",
    "                  yaxis_title=\"Producto\",\n",
    "                  yaxis={'categoryorder':'total ascending'})  # Ordenar productos de mayor a menor demanda\n",
    "\n",
    "# Mostrar la gráfica\n",
    "fig.show()"
   ]
  },
  {
   "cell_type": "markdown",
   "metadata": {},
   "source": [
    "Ejercicio 4.\n",
    " \n",
    "Queries Avanzadas\n",
    "\n",
    "Nuestro jefe acaba de venir y nos ha hecho una serie de peticiones sobre la base \n",
    "de datos que tenemos que poder contestar.\n",
    "\n",
    "Quiere saber cuándo fue la última vez que se pidió un producto de cada \n",
    "catgoría."
   ]
  },
  {
   "cell_type": "code",
   "execution_count": 3,
   "metadata": {},
   "outputs": [
    {
     "data": {
      "text/html": [
       "<div>\n",
       "<style scoped>\n",
       "    .dataframe tbody tr th:only-of-type {\n",
       "        vertical-align: middle;\n",
       "    }\n",
       "\n",
       "    .dataframe tbody tr th {\n",
       "        vertical-align: top;\n",
       "    }\n",
       "\n",
       "    .dataframe thead th {\n",
       "        text-align: right;\n",
       "    }\n",
       "</style>\n",
       "<table border=\"1\" class=\"dataframe\">\n",
       "  <thead>\n",
       "    <tr style=\"text-align: right;\">\n",
       "      <th></th>\n",
       "      <th>category_name</th>\n",
       "      <th>max</th>\n",
       "    </tr>\n",
       "  </thead>\n",
       "  <tbody>\n",
       "    <tr>\n",
       "      <th>0</th>\n",
       "      <td>Beverages</td>\n",
       "      <td>1998-05-06</td>\n",
       "    </tr>\n",
       "    <tr>\n",
       "      <th>1</th>\n",
       "      <td>Condiments</td>\n",
       "      <td>1998-05-06</td>\n",
       "    </tr>\n",
       "    <tr>\n",
       "      <th>2</th>\n",
       "      <td>Confections</td>\n",
       "      <td>1998-05-06</td>\n",
       "    </tr>\n",
       "    <tr>\n",
       "      <th>3</th>\n",
       "      <td>Dairy Products</td>\n",
       "      <td>1998-05-06</td>\n",
       "    </tr>\n",
       "    <tr>\n",
       "      <th>4</th>\n",
       "      <td>Grains/Cereals</td>\n",
       "      <td>1998-05-06</td>\n",
       "    </tr>\n",
       "    <tr>\n",
       "      <th>5</th>\n",
       "      <td>Meat/Poultry</td>\n",
       "      <td>1998-05-06</td>\n",
       "    </tr>\n",
       "    <tr>\n",
       "      <th>6</th>\n",
       "      <td>Produce</td>\n",
       "      <td>1998-05-06</td>\n",
       "    </tr>\n",
       "    <tr>\n",
       "      <th>7</th>\n",
       "      <td>Seafood</td>\n",
       "      <td>1998-05-06</td>\n",
       "    </tr>\n",
       "  </tbody>\n",
       "</table>\n",
       "</div>"
      ],
      "text/plain": [
       "    category_name         max\n",
       "0       Beverages  1998-05-06\n",
       "1      Condiments  1998-05-06\n",
       "2     Confections  1998-05-06\n",
       "3  Dairy Products  1998-05-06\n",
       "4  Grains/Cereals  1998-05-06\n",
       "5    Meat/Poultry  1998-05-06\n",
       "6         Produce  1998-05-06\n",
       "7         Seafood  1998-05-06"
      ]
     },
     "metadata": {},
     "output_type": "display_data"
    }
   ],
   "source": [
    "sql_query = '''\n",
    "SELECT c.category_name,\n",
    "\tMAX(o.order_date)\n",
    "FROM categories c\n",
    "LEFT JOIN products p ON c.category_id = p.category_id\n",
    "LEFT JOIN order_details od ON p.product_id = od.product_id\n",
    "LEFT JOIN orders o ON od.order_id = o.order_id\n",
    "GROUP BY category_name\n",
    "ORDER BY category_name\n",
    "'''\n",
    "cursor = conn.cursor() \n",
    "cursor.execute(sql_query) \n",
    "rows = cursor.fetchall() \n",
    "colnames = [desc[0] for desc in cursor.description] \n",
    "cursor.close()\n",
    "tabla = pd.DataFrame(data = rows, columns = colnames)\n",
    "display(tabla)"
   ]
  },
  {
   "cell_type": "markdown",
   "metadata": {},
   "source": [
    "Necesita saber si existe algún producto que nunca se haya vendido por su \n",
    "precio original."
   ]
  },
  {
   "cell_type": "code",
   "execution_count": 4,
   "metadata": {},
   "outputs": [
    {
     "data": {
      "text/html": [
       "<div>\n",
       "<style scoped>\n",
       "    .dataframe tbody tr th:only-of-type {\n",
       "        vertical-align: middle;\n",
       "    }\n",
       "\n",
       "    .dataframe tbody tr th {\n",
       "        vertical-align: top;\n",
       "    }\n",
       "\n",
       "    .dataframe thead th {\n",
       "        text-align: right;\n",
       "    }\n",
       "</style>\n",
       "<table border=\"1\" class=\"dataframe\">\n",
       "  <thead>\n",
       "    <tr style=\"text-align: right;\">\n",
       "      <th></th>\n",
       "      <th>product_name</th>\n",
       "      <th>condicion</th>\n",
       "    </tr>\n",
       "  </thead>\n",
       "  <tbody>\n",
       "    <tr>\n",
       "      <th>0</th>\n",
       "      <td>Genen Shouyu</td>\n",
       "      <td>True</td>\n",
       "    </tr>\n",
       "    <tr>\n",
       "      <th>1</th>\n",
       "      <td>Röd Kaviar</td>\n",
       "      <td>False</td>\n",
       "    </tr>\n",
       "    <tr>\n",
       "      <th>2</th>\n",
       "      <td>Gorgonzola Telino</td>\n",
       "      <td>False</td>\n",
       "    </tr>\n",
       "    <tr>\n",
       "      <th>3</th>\n",
       "      <td>Gustaf's Knäckebröd</td>\n",
       "      <td>False</td>\n",
       "    </tr>\n",
       "    <tr>\n",
       "      <th>4</th>\n",
       "      <td>Sir Rodney's Marmalade</td>\n",
       "      <td>False</td>\n",
       "    </tr>\n",
       "    <tr>\n",
       "      <th>...</th>\n",
       "      <td>...</td>\n",
       "      <td>...</td>\n",
       "    </tr>\n",
       "    <tr>\n",
       "      <th>72</th>\n",
       "      <td>Queso Manchego La Pastora</td>\n",
       "      <td>False</td>\n",
       "    </tr>\n",
       "    <tr>\n",
       "      <th>73</th>\n",
       "      <td>Pavlova</td>\n",
       "      <td>False</td>\n",
       "    </tr>\n",
       "    <tr>\n",
       "      <th>74</th>\n",
       "      <td>Chartreuse verte</td>\n",
       "      <td>False</td>\n",
       "    </tr>\n",
       "    <tr>\n",
       "      <th>75</th>\n",
       "      <td>Grandma's Boysenberry Spread</td>\n",
       "      <td>False</td>\n",
       "    </tr>\n",
       "    <tr>\n",
       "      <th>76</th>\n",
       "      <td>Manjimup Dried Apples</td>\n",
       "      <td>False</td>\n",
       "    </tr>\n",
       "  </tbody>\n",
       "</table>\n",
       "<p>77 rows × 2 columns</p>\n",
       "</div>"
      ],
      "text/plain": [
       "                    product_name  condicion\n",
       "0                   Genen Shouyu       True\n",
       "1                     Röd Kaviar      False\n",
       "2              Gorgonzola Telino      False\n",
       "3            Gustaf's Knäckebröd      False\n",
       "4         Sir Rodney's Marmalade      False\n",
       "..                           ...        ...\n",
       "72     Queso Manchego La Pastora      False\n",
       "73                       Pavlova      False\n",
       "74              Chartreuse verte      False\n",
       "75  Grandma's Boysenberry Spread      False\n",
       "76         Manjimup Dried Apples      False\n",
       "\n",
       "[77 rows x 2 columns]"
      ]
     },
     "metadata": {},
     "output_type": "display_data"
    }
   ],
   "source": [
    "sql_query = '''\n",
    "SELECT p.product_name,\n",
    "\tp.unit_price != MAX(od.unit_price *(1-od.discount)) AS condicion\n",
    "FROM products p\n",
    "LEFT JOIN order_details od \n",
    "\tON p.product_id = od.product_id\n",
    "\n",
    "GROUP BY product_name, p.unit_price\n",
    "ORDER BY condicion DESC\n",
    "'''\n",
    "cursor = conn.cursor() \n",
    "cursor.execute(sql_query) \n",
    "rows = cursor.fetchall() \n",
    "colnames = [desc[0] for desc in cursor.description] \n",
    "cursor.close()\n",
    "tabla = pd.DataFrame(data = rows, columns = colnames)\n",
    "display(tabla)"
   ]
  },
  {
   "cell_type": "markdown",
   "metadata": {},
   "source": [
    "\n",
    "Quiere tener toda la información necesaria para poder identificar un tipo de \n",
    "producto. En concreto, tienen especial interés por los productos con categoría \n",
    "\"Confections\". Devuelve el ID del producto, el nombre del producto y su ID de \n",
    "categoría.\n"
   ]
  },
  {
   "cell_type": "code",
   "execution_count": 6,
   "metadata": {},
   "outputs": [
    {
     "data": {
      "text/html": [
       "<div>\n",
       "<style scoped>\n",
       "    .dataframe tbody tr th:only-of-type {\n",
       "        vertical-align: middle;\n",
       "    }\n",
       "\n",
       "    .dataframe tbody tr th {\n",
       "        vertical-align: top;\n",
       "    }\n",
       "\n",
       "    .dataframe thead th {\n",
       "        text-align: right;\n",
       "    }\n",
       "</style>\n",
       "<table border=\"1\" class=\"dataframe\">\n",
       "  <thead>\n",
       "    <tr style=\"text-align: right;\">\n",
       "      <th></th>\n",
       "      <th>product_id</th>\n",
       "      <th>product_name</th>\n",
       "      <th>category_id</th>\n",
       "    </tr>\n",
       "  </thead>\n",
       "  <tbody>\n",
       "    <tr>\n",
       "      <th>0</th>\n",
       "      <td>16</td>\n",
       "      <td>Pavlova</td>\n",
       "      <td>3</td>\n",
       "    </tr>\n",
       "    <tr>\n",
       "      <th>1</th>\n",
       "      <td>19</td>\n",
       "      <td>Teatime Chocolate Biscuits</td>\n",
       "      <td>3</td>\n",
       "    </tr>\n",
       "    <tr>\n",
       "      <th>2</th>\n",
       "      <td>20</td>\n",
       "      <td>Sir Rodney's Marmalade</td>\n",
       "      <td>3</td>\n",
       "    </tr>\n",
       "    <tr>\n",
       "      <th>3</th>\n",
       "      <td>21</td>\n",
       "      <td>Sir Rodney's Scones</td>\n",
       "      <td>3</td>\n",
       "    </tr>\n",
       "    <tr>\n",
       "      <th>4</th>\n",
       "      <td>25</td>\n",
       "      <td>NuNuCa Nuß-Nougat-Creme</td>\n",
       "      <td>3</td>\n",
       "    </tr>\n",
       "    <tr>\n",
       "      <th>5</th>\n",
       "      <td>26</td>\n",
       "      <td>Gumbär Gummibärchen</td>\n",
       "      <td>3</td>\n",
       "    </tr>\n",
       "    <tr>\n",
       "      <th>6</th>\n",
       "      <td>27</td>\n",
       "      <td>Schoggi Schokolade</td>\n",
       "      <td>3</td>\n",
       "    </tr>\n",
       "    <tr>\n",
       "      <th>7</th>\n",
       "      <td>47</td>\n",
       "      <td>Zaanse koeken</td>\n",
       "      <td>3</td>\n",
       "    </tr>\n",
       "    <tr>\n",
       "      <th>8</th>\n",
       "      <td>48</td>\n",
       "      <td>Chocolade</td>\n",
       "      <td>3</td>\n",
       "    </tr>\n",
       "    <tr>\n",
       "      <th>9</th>\n",
       "      <td>49</td>\n",
       "      <td>Maxilaku</td>\n",
       "      <td>3</td>\n",
       "    </tr>\n",
       "    <tr>\n",
       "      <th>10</th>\n",
       "      <td>50</td>\n",
       "      <td>Valkoinen suklaa</td>\n",
       "      <td>3</td>\n",
       "    </tr>\n",
       "    <tr>\n",
       "      <th>11</th>\n",
       "      <td>62</td>\n",
       "      <td>Tarte au sucre</td>\n",
       "      <td>3</td>\n",
       "    </tr>\n",
       "    <tr>\n",
       "      <th>12</th>\n",
       "      <td>68</td>\n",
       "      <td>Scottish Longbreads</td>\n",
       "      <td>3</td>\n",
       "    </tr>\n",
       "  </tbody>\n",
       "</table>\n",
       "</div>"
      ],
      "text/plain": [
       "    product_id                product_name  category_id\n",
       "0           16                     Pavlova            3\n",
       "1           19  Teatime Chocolate Biscuits            3\n",
       "2           20      Sir Rodney's Marmalade            3\n",
       "3           21         Sir Rodney's Scones            3\n",
       "4           25     NuNuCa Nuß-Nougat-Creme            3\n",
       "5           26         Gumbär Gummibärchen            3\n",
       "6           27          Schoggi Schokolade            3\n",
       "7           47               Zaanse koeken            3\n",
       "8           48                   Chocolade            3\n",
       "9           49                    Maxilaku            3\n",
       "10          50            Valkoinen suklaa            3\n",
       "11          62              Tarte au sucre            3\n",
       "12          68         Scottish Longbreads            3"
      ]
     },
     "metadata": {},
     "output_type": "display_data"
    }
   ],
   "source": [
    "sql_query = '''\n",
    "SELECT p.product_id,\n",
    "\tp.product_name,\n",
    "\tp.category_id\n",
    "FROM products p\n",
    "WHERE p.category_id = (\n",
    "\tSELECT c.category_id\n",
    "\tFROM categories c\n",
    "\tWHERE category_name = 'Confections'\n",
    ")\n",
    "'''\n",
    "cursor = conn.cursor() \n",
    "cursor.execute(sql_query) \n",
    "rows = cursor.fetchall() \n",
    "colnames = [desc[0] for desc in cursor.description] \n",
    "cursor.close()\n",
    "tabla = pd.DataFrame(data = rows, columns = colnames)\n",
    "display(tabla)"
   ]
  },
  {
   "cell_type": "markdown",
   "metadata": {},
   "source": [
    "\n",
    "Quiere saber si existe algún proveedor del que pueda prescindir ya que todos \n",
    "los productos que tiene se encuentran descontinuados.\n"
   ]
  },
  {
   "cell_type": "code",
   "execution_count": 8,
   "metadata": {},
   "outputs": [
    {
     "data": {
      "text/html": [
       "<div>\n",
       "<style scoped>\n",
       "    .dataframe tbody tr th:only-of-type {\n",
       "        vertical-align: middle;\n",
       "    }\n",
       "\n",
       "    .dataframe tbody tr th {\n",
       "        vertical-align: top;\n",
       "    }\n",
       "\n",
       "    .dataframe thead th {\n",
       "        text-align: right;\n",
       "    }\n",
       "</style>\n",
       "<table border=\"1\" class=\"dataframe\">\n",
       "  <thead>\n",
       "    <tr style=\"text-align: right;\">\n",
       "      <th></th>\n",
       "      <th>company_name</th>\n",
       "      <th>condicion</th>\n",
       "    </tr>\n",
       "  </thead>\n",
       "  <tbody>\n",
       "    <tr>\n",
       "      <th>0</th>\n",
       "      <td>Refrescos Americanas LTDA</td>\n",
       "      <td>True</td>\n",
       "    </tr>\n",
       "    <tr>\n",
       "      <th>1</th>\n",
       "      <td>New Orleans Cajun Delights</td>\n",
       "      <td>False</td>\n",
       "    </tr>\n",
       "    <tr>\n",
       "      <th>2</th>\n",
       "      <td>Escargots Nouveaux</td>\n",
       "      <td>False</td>\n",
       "    </tr>\n",
       "    <tr>\n",
       "      <th>3</th>\n",
       "      <td>New England Seafood Cannery</td>\n",
       "      <td>False</td>\n",
       "    </tr>\n",
       "    <tr>\n",
       "      <th>4</th>\n",
       "      <td>Grandma Kelly's Homestead</td>\n",
       "      <td>False</td>\n",
       "    </tr>\n",
       "    <tr>\n",
       "      <th>5</th>\n",
       "      <td>Pavlova, Ltd.</td>\n",
       "      <td>False</td>\n",
       "    </tr>\n",
       "    <tr>\n",
       "      <th>6</th>\n",
       "      <td>Gai pâturage</td>\n",
       "      <td>False</td>\n",
       "    </tr>\n",
       "    <tr>\n",
       "      <th>7</th>\n",
       "      <td>Svensk Sjöföda AB</td>\n",
       "      <td>False</td>\n",
       "    </tr>\n",
       "    <tr>\n",
       "      <th>8</th>\n",
       "      <td>Leka Trading</td>\n",
       "      <td>False</td>\n",
       "    </tr>\n",
       "    <tr>\n",
       "      <th>9</th>\n",
       "      <td>Forêts d'érables</td>\n",
       "      <td>False</td>\n",
       "    </tr>\n",
       "    <tr>\n",
       "      <th>10</th>\n",
       "      <td>Mayumi's</td>\n",
       "      <td>False</td>\n",
       "    </tr>\n",
       "    <tr>\n",
       "      <th>11</th>\n",
       "      <td>Norske Meierier</td>\n",
       "      <td>False</td>\n",
       "    </tr>\n",
       "    <tr>\n",
       "      <th>12</th>\n",
       "      <td>Zaanse Snoepfabriek</td>\n",
       "      <td>False</td>\n",
       "    </tr>\n",
       "    <tr>\n",
       "      <th>13</th>\n",
       "      <td>Bigfoot Breweries</td>\n",
       "      <td>False</td>\n",
       "    </tr>\n",
       "    <tr>\n",
       "      <th>14</th>\n",
       "      <td>Cooperativa de Quesos 'Las Cabras'</td>\n",
       "      <td>False</td>\n",
       "    </tr>\n",
       "    <tr>\n",
       "      <th>15</th>\n",
       "      <td>Exotic Liquids</td>\n",
       "      <td>False</td>\n",
       "    </tr>\n",
       "    <tr>\n",
       "      <th>16</th>\n",
       "      <td>PB Knäckebröd AB</td>\n",
       "      <td>False</td>\n",
       "    </tr>\n",
       "    <tr>\n",
       "      <th>17</th>\n",
       "      <td>Lyngbysild</td>\n",
       "      <td>False</td>\n",
       "    </tr>\n",
       "    <tr>\n",
       "      <th>18</th>\n",
       "      <td>Plutzer Lebensmittelgroßmärkte AG</td>\n",
       "      <td>False</td>\n",
       "    </tr>\n",
       "    <tr>\n",
       "      <th>19</th>\n",
       "      <td>G'day, Mate</td>\n",
       "      <td>False</td>\n",
       "    </tr>\n",
       "    <tr>\n",
       "      <th>20</th>\n",
       "      <td>Formaggi Fortini s.r.l.</td>\n",
       "      <td>False</td>\n",
       "    </tr>\n",
       "    <tr>\n",
       "      <th>21</th>\n",
       "      <td>Specialty Biscuits, Ltd.</td>\n",
       "      <td>False</td>\n",
       "    </tr>\n",
       "    <tr>\n",
       "      <th>22</th>\n",
       "      <td>Nord-Ost-Fisch Handelsgesellschaft mbH</td>\n",
       "      <td>False</td>\n",
       "    </tr>\n",
       "    <tr>\n",
       "      <th>23</th>\n",
       "      <td>Pasta Buttini s.r.l.</td>\n",
       "      <td>False</td>\n",
       "    </tr>\n",
       "    <tr>\n",
       "      <th>24</th>\n",
       "      <td>Ma Maison</td>\n",
       "      <td>False</td>\n",
       "    </tr>\n",
       "    <tr>\n",
       "      <th>25</th>\n",
       "      <td>Tokyo Traders</td>\n",
       "      <td>False</td>\n",
       "    </tr>\n",
       "    <tr>\n",
       "      <th>26</th>\n",
       "      <td>Aux joyeux ecclésiastiques</td>\n",
       "      <td>False</td>\n",
       "    </tr>\n",
       "    <tr>\n",
       "      <th>27</th>\n",
       "      <td>Heli Süßwaren GmbH &amp; Co. KG</td>\n",
       "      <td>False</td>\n",
       "    </tr>\n",
       "    <tr>\n",
       "      <th>28</th>\n",
       "      <td>Karkki Oy</td>\n",
       "      <td>False</td>\n",
       "    </tr>\n",
       "  </tbody>\n",
       "</table>\n",
       "</div>"
      ],
      "text/plain": [
       "                              company_name  condicion\n",
       "0                Refrescos Americanas LTDA       True\n",
       "1               New Orleans Cajun Delights      False\n",
       "2                       Escargots Nouveaux      False\n",
       "3              New England Seafood Cannery      False\n",
       "4                Grandma Kelly's Homestead      False\n",
       "5                            Pavlova, Ltd.      False\n",
       "6                             Gai pâturage      False\n",
       "7                        Svensk Sjöföda AB      False\n",
       "8                             Leka Trading      False\n",
       "9                         Forêts d'érables      False\n",
       "10                                Mayumi's      False\n",
       "11                         Norske Meierier      False\n",
       "12                     Zaanse Snoepfabriek      False\n",
       "13                       Bigfoot Breweries      False\n",
       "14      Cooperativa de Quesos 'Las Cabras'      False\n",
       "15                          Exotic Liquids      False\n",
       "16                        PB Knäckebröd AB      False\n",
       "17                              Lyngbysild      False\n",
       "18       Plutzer Lebensmittelgroßmärkte AG      False\n",
       "19                             G'day, Mate      False\n",
       "20                 Formaggi Fortini s.r.l.      False\n",
       "21                Specialty Biscuits, Ltd.      False\n",
       "22  Nord-Ost-Fisch Handelsgesellschaft mbH      False\n",
       "23                    Pasta Buttini s.r.l.      False\n",
       "24                               Ma Maison      False\n",
       "25                           Tokyo Traders      False\n",
       "26              Aux joyeux ecclésiastiques      False\n",
       "27             Heli Süßwaren GmbH & Co. KG      False\n",
       "28                               Karkki Oy      False"
      ]
     },
     "metadata": {},
     "output_type": "display_data"
    }
   ],
   "source": [
    "sql_query = '''\n",
    "SELECT s.company_name,\n",
    "\tCOUNT(p.product_name) = SUM(p.discontinued) AS condicion\n",
    "FROM suppliers s\n",
    "LEFT JOIN products p ON p.supplier_id = s.supplier_id\n",
    "GROUP BY company_name\n",
    "ORDER BY condicion DESC\n",
    "'''\n",
    "cursor = conn.cursor() \n",
    "cursor.execute(sql_query) \n",
    "rows = cursor.fetchall() \n",
    "colnames = [desc[0] for desc in cursor.description] \n",
    "cursor.close()\n",
    "tabla = pd.DataFrame(data = rows, columns = colnames)\n",
    "display(tabla)"
   ]
  },
  {
   "cell_type": "markdown",
   "metadata": {},
   "source": [
    "\n",
    "Extraer los clientes que compraron mas de 30 articulos \"Chai\" en un único \n",
    "pedido\n"
   ]
  },
  {
   "cell_type": "code",
   "execution_count": 9,
   "metadata": {},
   "outputs": [
    {
     "data": {
      "text/html": [
       "<div>\n",
       "<style scoped>\n",
       "    .dataframe tbody tr th:only-of-type {\n",
       "        vertical-align: middle;\n",
       "    }\n",
       "\n",
       "    .dataframe tbody tr th {\n",
       "        vertical-align: top;\n",
       "    }\n",
       "\n",
       "    .dataframe thead th {\n",
       "        text-align: right;\n",
       "    }\n",
       "</style>\n",
       "<table border=\"1\" class=\"dataframe\">\n",
       "  <thead>\n",
       "    <tr style=\"text-align: right;\">\n",
       "      <th></th>\n",
       "      <th>order_id</th>\n",
       "      <th>quantity</th>\n",
       "      <th>company_name</th>\n",
       "    </tr>\n",
       "  </thead>\n",
       "  <tbody>\n",
       "    <tr>\n",
       "      <th>0</th>\n",
       "      <td>10285</td>\n",
       "      <td>45</td>\n",
       "      <td>QUICK-Stop</td>\n",
       "    </tr>\n",
       "    <tr>\n",
       "      <th>1</th>\n",
       "      <td>10522</td>\n",
       "      <td>40</td>\n",
       "      <td>Lehmanns Marktstand</td>\n",
       "    </tr>\n",
       "    <tr>\n",
       "      <th>2</th>\n",
       "      <td>10689</td>\n",
       "      <td>35</td>\n",
       "      <td>Berglunds snabbköp</td>\n",
       "    </tr>\n",
       "    <tr>\n",
       "      <th>3</th>\n",
       "      <td>10729</td>\n",
       "      <td>50</td>\n",
       "      <td>LINO-Delicateses</td>\n",
       "    </tr>\n",
       "    <tr>\n",
       "      <th>4</th>\n",
       "      <td>10847</td>\n",
       "      <td>80</td>\n",
       "      <td>Save-a-lot Markets</td>\n",
       "    </tr>\n",
       "    <tr>\n",
       "      <th>5</th>\n",
       "      <td>10869</td>\n",
       "      <td>40</td>\n",
       "      <td>Seven Seas Imports</td>\n",
       "    </tr>\n",
       "    <tr>\n",
       "      <th>6</th>\n",
       "      <td>10918</td>\n",
       "      <td>60</td>\n",
       "      <td>Bottom-Dollar Markets</td>\n",
       "    </tr>\n",
       "    <tr>\n",
       "      <th>7</th>\n",
       "      <td>11031</td>\n",
       "      <td>45</td>\n",
       "      <td>Save-a-lot Markets</td>\n",
       "    </tr>\n",
       "    <tr>\n",
       "      <th>8</th>\n",
       "      <td>11070</td>\n",
       "      <td>40</td>\n",
       "      <td>Lehmanns Marktstand</td>\n",
       "    </tr>\n",
       "  </tbody>\n",
       "</table>\n",
       "</div>"
      ],
      "text/plain": [
       "   order_id  quantity           company_name\n",
       "0     10285        45             QUICK-Stop\n",
       "1     10522        40    Lehmanns Marktstand\n",
       "2     10689        35     Berglunds snabbköp\n",
       "3     10729        50       LINO-Delicateses\n",
       "4     10847        80     Save-a-lot Markets\n",
       "5     10869        40     Seven Seas Imports\n",
       "6     10918        60  Bottom-Dollar Markets\n",
       "7     11031        45     Save-a-lot Markets\n",
       "8     11070        40    Lehmanns Marktstand"
      ]
     },
     "metadata": {},
     "output_type": "display_data"
    }
   ],
   "source": [
    "sql_query = '''\n",
    "SELECT od.order_id,\n",
    "\tod.quantity,\n",
    "\tc.company_name\n",
    "FROM order_details od\n",
    "JOIN orders o ON od.order_id = o.order_id \n",
    "JOIN customers c ON c.customer_id = o.customer_id\n",
    "WHERE product_id= 1 AND quantity > 30\n",
    "'''\n",
    "cursor = conn.cursor() \n",
    "cursor.execute(sql_query) \n",
    "rows = cursor.fetchall() \n",
    "colnames = [desc[0] for desc in cursor.description] \n",
    "cursor.close()\n",
    "tabla = pd.DataFrame(data = rows, columns = colnames)\n",
    "display(tabla)"
   ]
  },
  {
   "cell_type": "markdown",
   "metadata": {},
   "source": [
    "\n",
    "Indica los clientes cuya suma total de carga en los pedidos sea mayor de 1000\n"
   ]
  },
  {
   "cell_type": "code",
   "execution_count": 10,
   "metadata": {},
   "outputs": [
    {
     "data": {
      "text/html": [
       "<div>\n",
       "<style scoped>\n",
       "    .dataframe tbody tr th:only-of-type {\n",
       "        vertical-align: middle;\n",
       "    }\n",
       "\n",
       "    .dataframe tbody tr th {\n",
       "        vertical-align: top;\n",
       "    }\n",
       "\n",
       "    .dataframe thead th {\n",
       "        text-align: right;\n",
       "    }\n",
       "</style>\n",
       "<table border=\"1\" class=\"dataframe\">\n",
       "  <thead>\n",
       "    <tr style=\"text-align: right;\">\n",
       "      <th></th>\n",
       "      <th>order_id</th>\n",
       "      <th>freight</th>\n",
       "      <th>company_name</th>\n",
       "    </tr>\n",
       "  </thead>\n",
       "  <tbody>\n",
       "    <tr>\n",
       "      <th>0</th>\n",
       "      <td>10540</td>\n",
       "      <td>1007.64</td>\n",
       "      <td>QUICK-Stop</td>\n",
       "    </tr>\n",
       "  </tbody>\n",
       "</table>\n",
       "</div>"
      ],
      "text/plain": [
       "   order_id  freight company_name\n",
       "0     10540  1007.64   QUICK-Stop"
      ]
     },
     "metadata": {},
     "output_type": "display_data"
    }
   ],
   "source": [
    "sql_query = '''\n",
    "SELECT o.order_id,\n",
    "\to.freight,\n",
    "\tc.company_name\n",
    "FROM orders o\n",
    "JOIN customers c ON c.customer_id = o.customer_id\n",
    "WHERE freight > 1000\n",
    "\n",
    "'''\n",
    "cursor = conn.cursor() \n",
    "cursor.execute(sql_query) \n",
    "rows = cursor.fetchall() \n",
    "colnames = [desc[0] for desc in cursor.description] \n",
    "cursor.close()\n",
    "tabla = pd.DataFrame(data = rows, columns = colnames)\n",
    "display(tabla)"
   ]
  },
  {
   "cell_type": "markdown",
   "metadata": {},
   "source": [
    "Desde recursos humanos nos piden seleccionar los nombres de las ciudades \n",
    "con 5 o más empleadas de cara a estudiar la apertura de nuevas oficinas"
   ]
  },
  {
   "cell_type": "code",
   "execution_count": 5,
   "metadata": {},
   "outputs": [
    {
     "data": {
      "text/html": [
       "<div>\n",
       "<style scoped>\n",
       "    .dataframe tbody tr th:only-of-type {\n",
       "        vertical-align: middle;\n",
       "    }\n",
       "\n",
       "    .dataframe tbody tr th {\n",
       "        vertical-align: top;\n",
       "    }\n",
       "\n",
       "    .dataframe thead th {\n",
       "        text-align: right;\n",
       "    }\n",
       "</style>\n",
       "<table border=\"1\" class=\"dataframe\">\n",
       "  <thead>\n",
       "    <tr style=\"text-align: right;\">\n",
       "      <th></th>\n",
       "      <th>territory_description</th>\n",
       "      <th>count</th>\n",
       "    </tr>\n",
       "  </thead>\n",
       "  <tbody>\n",
       "    <tr>\n",
       "      <th>0</th>\n",
       "      <td>Neward</td>\n",
       "      <td>1</td>\n",
       "    </tr>\n",
       "    <tr>\n",
       "      <th>1</th>\n",
       "      <td>Santa Cruz</td>\n",
       "      <td>1</td>\n",
       "    </tr>\n",
       "    <tr>\n",
       "      <th>2</th>\n",
       "      <td>Columbia</td>\n",
       "      <td>0</td>\n",
       "    </tr>\n",
       "    <tr>\n",
       "      <th>3</th>\n",
       "      <td>New York</td>\n",
       "      <td>2</td>\n",
       "    </tr>\n",
       "    <tr>\n",
       "      <th>4</th>\n",
       "      <td>Westboro</td>\n",
       "      <td>1</td>\n",
       "    </tr>\n",
       "    <tr>\n",
       "      <th>5</th>\n",
       "      <td>Philadelphia</td>\n",
       "      <td>1</td>\n",
       "    </tr>\n",
       "    <tr>\n",
       "      <th>6</th>\n",
       "      <td>Phoenix</td>\n",
       "      <td>1</td>\n",
       "    </tr>\n",
       "    <tr>\n",
       "      <th>7</th>\n",
       "      <td>San Francisco</td>\n",
       "      <td>1</td>\n",
       "    </tr>\n",
       "    <tr>\n",
       "      <th>8</th>\n",
       "      <td>Dallas</td>\n",
       "      <td>0</td>\n",
       "    </tr>\n",
       "    <tr>\n",
       "      <th>9</th>\n",
       "      <td>Roseville</td>\n",
       "      <td>1</td>\n",
       "    </tr>\n",
       "    <tr>\n",
       "      <th>10</th>\n",
       "      <td>Southfield</td>\n",
       "      <td>1</td>\n",
       "    </tr>\n",
       "    <tr>\n",
       "      <th>11</th>\n",
       "      <td>Austin</td>\n",
       "      <td>0</td>\n",
       "    </tr>\n",
       "    <tr>\n",
       "      <th>12</th>\n",
       "      <td>Rockville</td>\n",
       "      <td>1</td>\n",
       "    </tr>\n",
       "    <tr>\n",
       "      <th>13</th>\n",
       "      <td>Morristown</td>\n",
       "      <td>1</td>\n",
       "    </tr>\n",
       "    <tr>\n",
       "      <th>14</th>\n",
       "      <td>Orlando</td>\n",
       "      <td>1</td>\n",
       "    </tr>\n",
       "    <tr>\n",
       "      <th>15</th>\n",
       "      <td>Portsmouth</td>\n",
       "      <td>1</td>\n",
       "    </tr>\n",
       "    <tr>\n",
       "      <th>16</th>\n",
       "      <td>Georgetow</td>\n",
       "      <td>1</td>\n",
       "    </tr>\n",
       "    <tr>\n",
       "      <th>17</th>\n",
       "      <td>Santa Clara</td>\n",
       "      <td>1</td>\n",
       "    </tr>\n",
       "    <tr>\n",
       "      <th>18</th>\n",
       "      <td>Chicago</td>\n",
       "      <td>1</td>\n",
       "    </tr>\n",
       "    <tr>\n",
       "      <th>19</th>\n",
       "      <td>Cary</td>\n",
       "      <td>1</td>\n",
       "    </tr>\n",
       "    <tr>\n",
       "      <th>20</th>\n",
       "      <td>Bentonville</td>\n",
       "      <td>0</td>\n",
       "    </tr>\n",
       "    <tr>\n",
       "      <th>21</th>\n",
       "      <td>Fairport</td>\n",
       "      <td>1</td>\n",
       "    </tr>\n",
       "    <tr>\n",
       "      <th>22</th>\n",
       "      <td>Colorado Springs</td>\n",
       "      <td>1</td>\n",
       "    </tr>\n",
       "    <tr>\n",
       "      <th>23</th>\n",
       "      <td>Denver</td>\n",
       "      <td>1</td>\n",
       "    </tr>\n",
       "    <tr>\n",
       "      <th>24</th>\n",
       "      <td>Hoffman Estates</td>\n",
       "      <td>1</td>\n",
       "    </tr>\n",
       "    <tr>\n",
       "      <th>25</th>\n",
       "      <td>Edison</td>\n",
       "      <td>1</td>\n",
       "    </tr>\n",
       "    <tr>\n",
       "      <th>26</th>\n",
       "      <td>Beachwood</td>\n",
       "      <td>1</td>\n",
       "    </tr>\n",
       "    <tr>\n",
       "      <th>27</th>\n",
       "      <td>Bedford</td>\n",
       "      <td>1</td>\n",
       "    </tr>\n",
       "    <tr>\n",
       "      <th>28</th>\n",
       "      <td>Campbell</td>\n",
       "      <td>1</td>\n",
       "    </tr>\n",
       "    <tr>\n",
       "      <th>29</th>\n",
       "      <td>Menlo Park</td>\n",
       "      <td>1</td>\n",
       "    </tr>\n",
       "    <tr>\n",
       "      <th>30</th>\n",
       "      <td>Providence</td>\n",
       "      <td>1</td>\n",
       "    </tr>\n",
       "    <tr>\n",
       "      <th>31</th>\n",
       "      <td>Minneapolis</td>\n",
       "      <td>1</td>\n",
       "    </tr>\n",
       "    <tr>\n",
       "      <th>32</th>\n",
       "      <td>Findlay</td>\n",
       "      <td>1</td>\n",
       "    </tr>\n",
       "    <tr>\n",
       "      <th>33</th>\n",
       "      <td>Louisville</td>\n",
       "      <td>1</td>\n",
       "    </tr>\n",
       "    <tr>\n",
       "      <th>34</th>\n",
       "      <td>Savannah</td>\n",
       "      <td>1</td>\n",
       "    </tr>\n",
       "    <tr>\n",
       "      <th>35</th>\n",
       "      <td>Tampa</td>\n",
       "      <td>1</td>\n",
       "    </tr>\n",
       "    <tr>\n",
       "      <th>36</th>\n",
       "      <td>Seattle</td>\n",
       "      <td>1</td>\n",
       "    </tr>\n",
       "    <tr>\n",
       "      <th>37</th>\n",
       "      <td>Racine</td>\n",
       "      <td>1</td>\n",
       "    </tr>\n",
       "    <tr>\n",
       "      <th>38</th>\n",
       "      <td>Atlanta</td>\n",
       "      <td>1</td>\n",
       "    </tr>\n",
       "    <tr>\n",
       "      <th>39</th>\n",
       "      <td>Redmond</td>\n",
       "      <td>1</td>\n",
       "    </tr>\n",
       "    <tr>\n",
       "      <th>40</th>\n",
       "      <td>Mellvile</td>\n",
       "      <td>1</td>\n",
       "    </tr>\n",
       "    <tr>\n",
       "      <th>41</th>\n",
       "      <td>Hollis</td>\n",
       "      <td>1</td>\n",
       "    </tr>\n",
       "    <tr>\n",
       "      <th>42</th>\n",
       "      <td>Boston</td>\n",
       "      <td>1</td>\n",
       "    </tr>\n",
       "    <tr>\n",
       "      <th>43</th>\n",
       "      <td>Braintree</td>\n",
       "      <td>1</td>\n",
       "    </tr>\n",
       "    <tr>\n",
       "      <th>44</th>\n",
       "      <td>Bloomfield Hills</td>\n",
       "      <td>1</td>\n",
       "    </tr>\n",
       "    <tr>\n",
       "      <th>45</th>\n",
       "      <td>Scottsdale</td>\n",
       "      <td>1</td>\n",
       "    </tr>\n",
       "    <tr>\n",
       "      <th>46</th>\n",
       "      <td>Bellevue</td>\n",
       "      <td>1</td>\n",
       "    </tr>\n",
       "    <tr>\n",
       "      <th>47</th>\n",
       "      <td>Troy</td>\n",
       "      <td>1</td>\n",
       "    </tr>\n",
       "    <tr>\n",
       "      <th>48</th>\n",
       "      <td>Santa Monica</td>\n",
       "      <td>1</td>\n",
       "    </tr>\n",
       "    <tr>\n",
       "      <th>49</th>\n",
       "      <td>Greensboro</td>\n",
       "      <td>1</td>\n",
       "    </tr>\n",
       "    <tr>\n",
       "      <th>50</th>\n",
       "      <td>Wilton</td>\n",
       "      <td>1</td>\n",
       "    </tr>\n",
       "    <tr>\n",
       "      <th>51</th>\n",
       "      <td>Cambridge</td>\n",
       "      <td>1</td>\n",
       "    </tr>\n",
       "  </tbody>\n",
       "</table>\n",
       "</div>"
      ],
      "text/plain": [
       "   territory_description  count\n",
       "0                 Neward      1\n",
       "1             Santa Cruz      1\n",
       "2               Columbia      0\n",
       "3               New York      2\n",
       "4               Westboro      1\n",
       "5           Philadelphia      1\n",
       "6                Phoenix      1\n",
       "7          San Francisco      1\n",
       "8                 Dallas      0\n",
       "9              Roseville      1\n",
       "10            Southfield      1\n",
       "11                Austin      0\n",
       "12             Rockville      1\n",
       "13            Morristown      1\n",
       "14               Orlando      1\n",
       "15            Portsmouth      1\n",
       "16             Georgetow      1\n",
       "17           Santa Clara      1\n",
       "18               Chicago      1\n",
       "19                  Cary      1\n",
       "20           Bentonville      0\n",
       "21              Fairport      1\n",
       "22      Colorado Springs      1\n",
       "23                Denver      1\n",
       "24       Hoffman Estates      1\n",
       "25                Edison      1\n",
       "26             Beachwood      1\n",
       "27               Bedford      1\n",
       "28              Campbell      1\n",
       "29            Menlo Park      1\n",
       "30            Providence      1\n",
       "31           Minneapolis      1\n",
       "32               Findlay      1\n",
       "33            Louisville      1\n",
       "34              Savannah      1\n",
       "35                 Tampa      1\n",
       "36               Seattle      1\n",
       "37                Racine      1\n",
       "38               Atlanta      1\n",
       "39               Redmond      1\n",
       "40              Mellvile      1\n",
       "41                Hollis      1\n",
       "42                Boston      1\n",
       "43             Braintree      1\n",
       "44      Bloomfield Hills      1\n",
       "45            Scottsdale      1\n",
       "46              Bellevue      1\n",
       "47                  Troy      1\n",
       "48          Santa Monica      1\n",
       "49            Greensboro      1\n",
       "50                Wilton      1\n",
       "51             Cambridge      1"
      ]
     },
     "metadata": {},
     "output_type": "display_data"
    }
   ],
   "source": [
    "sql_query = '''\n",
    "SELECT t.territory_description,\n",
    "COUNT (e.employee_id)\n",
    "FROM territories t\n",
    "LEFT JOIN employee_territories et ON t.territory_id = et.territory_id \n",
    "LEFT JOIN employees e ON e.employee_id = et.employee_id\n",
    "GROUP BY territory_description\n",
    "'''\n",
    "cursor = conn.cursor() \n",
    "cursor.execute(sql_query) \n",
    "rows = cursor.fetchall() \n",
    "colnames = [desc[0] for desc in cursor.description] \n",
    "cursor.close()\n",
    "tabla = pd.DataFrame(data = rows, columns = colnames)\n",
    "display(tabla)"
   ]
  },
  {
   "cell_type": "markdown",
   "metadata": {},
   "source": [
    "final\n"
   ]
  }
 ],
 "metadata": {
  "kernelspec": {
   "display_name": "Python 3",
   "language": "python",
   "name": "python3"
  },
  "language_info": {
   "codemirror_mode": {
    "name": "ipython",
    "version": 3
   },
   "file_extension": ".py",
   "mimetype": "text/x-python",
   "name": "python",
   "nbconvert_exporter": "python",
   "pygments_lexer": "ipython3",
   "version": "3.12.2"
  }
 },
 "nbformat": 4,
 "nbformat_minor": 2
}
